{
 "cells": [
  {
   "cell_type": "markdown",
   "id": "c096f9e0",
   "metadata": {},
   "source": [
    "### Importing the necessary dependencies:"
   ]
  },
  {
   "cell_type": "code",
   "execution_count": 1,
   "id": "04e937ca",
   "metadata": {},
   "outputs": [],
   "source": [
    "import pandas as pd\n",
    "import numpy as np"
   ]
  },
  {
   "cell_type": "code",
   "execution_count": 48,
   "id": "64b69531",
   "metadata": {},
   "outputs": [],
   "source": [
    "from sklearn.utils import resample\n",
    "from sklearn.preprocessing import StandardScaler\n",
    "from sklearn import metrics\n",
    "from sklearn.ensemble import RandomForestClassifier\n",
    "from sklearn.tree import DecisionTreeClassifier\n",
    "from sklearn.linear_model import LogisticRegression\n",
    "from sklearn.svm import SVC\n",
    "from sklearn.metrics import classification_report"
   ]
  },
  {
   "cell_type": "code",
   "execution_count": 3,
   "id": "353a473a",
   "metadata": {},
   "outputs": [],
   "source": [
    "phonation_train=pd.read_csv('/home/vboxuser/VoiceFiles/Voice4PD-MSA-Tool-global_V2/PhonationData/phonationfeaturesst_seg_dev.csv')\n",
    "phonation_test=pd.read_csv('/home/vboxuser/VoiceFiles/Voice4PD-MSA-Tool-global_V2/PhonationData/phonationfeaturesst_seg_test.csv')"
   ]
  },
  {
   "cell_type": "markdown",
   "id": "d796cf9e",
   "metadata": {},
   "source": [
    "### Preprocessing training data:"
   ]
  },
  {
   "cell_type": "code",
   "execution_count": 4,
   "id": "303d34b2",
   "metadata": {},
   "outputs": [
    {
     "data": {
      "text/html": [
       "<div>\n",
       "<style scoped>\n",
       "    .dataframe tbody tr th:only-of-type {\n",
       "        vertical-align: middle;\n",
       "    }\n",
       "\n",
       "    .dataframe tbody tr th {\n",
       "        vertical-align: top;\n",
       "    }\n",
       "\n",
       "    .dataframe thead th {\n",
       "        text-align: right;\n",
       "    }\n",
       "</style>\n",
       "<table border=\"1\" class=\"dataframe\">\n",
       "  <thead>\n",
       "    <tr style=\"text-align: right;\">\n",
       "      <th></th>\n",
       "      <th>subject</th>\n",
       "      <th>avg DF0</th>\n",
       "      <th>avg DDF0</th>\n",
       "      <th>avg Jitter</th>\n",
       "      <th>avg Shimmer</th>\n",
       "      <th>avg apq</th>\n",
       "      <th>avg ppq</th>\n",
       "      <th>avg logE</th>\n",
       "      <th>std DF0</th>\n",
       "      <th>std DDF0</th>\n",
       "      <th>...</th>\n",
       "      <th>skewness ppq</th>\n",
       "      <th>skewness logE</th>\n",
       "      <th>kurtosis DF0</th>\n",
       "      <th>kurtosis DDF0</th>\n",
       "      <th>kurtosis Jitter</th>\n",
       "      <th>kurtosis Shimmer</th>\n",
       "      <th>kurtosis apq</th>\n",
       "      <th>kurtosis ppq</th>\n",
       "      <th>kurtosis logE</th>\n",
       "      <th>Group</th>\n",
       "    </tr>\n",
       "  </thead>\n",
       "  <tbody>\n",
       "    <tr>\n",
       "      <th>0</th>\n",
       "      <td>300_P_0.wav</td>\n",
       "      <td>-0.495307</td>\n",
       "      <td>-0.018538</td>\n",
       "      <td>2.687291</td>\n",
       "      <td>4.952022</td>\n",
       "      <td>27.039422</td>\n",
       "      <td>3.304526</td>\n",
       "      <td>-20.051778</td>\n",
       "      <td>14.054193</td>\n",
       "      <td>19.669178</td>\n",
       "      <td>...</td>\n",
       "      <td>2.155216</td>\n",
       "      <td>-0.245601</td>\n",
       "      <td>14.129969</td>\n",
       "      <td>8.746996</td>\n",
       "      <td>16.117512</td>\n",
       "      <td>15.020170</td>\n",
       "      <td>11.444343</td>\n",
       "      <td>4.176683</td>\n",
       "      <td>-0.450599</td>\n",
       "      <td>HC</td>\n",
       "    </tr>\n",
       "    <tr>\n",
       "      <th>1</th>\n",
       "      <td>300_P_1.wav</td>\n",
       "      <td>-0.254046</td>\n",
       "      <td>0.010848</td>\n",
       "      <td>1.919633</td>\n",
       "      <td>5.594996</td>\n",
       "      <td>13.878449</td>\n",
       "      <td>1.908758</td>\n",
       "      <td>-14.256003</td>\n",
       "      <td>8.237100</td>\n",
       "      <td>13.521247</td>\n",
       "      <td>...</td>\n",
       "      <td>4.650630</td>\n",
       "      <td>-0.443161</td>\n",
       "      <td>46.655725</td>\n",
       "      <td>30.354837</td>\n",
       "      <td>51.932924</td>\n",
       "      <td>5.046667</td>\n",
       "      <td>0.646848</td>\n",
       "      <td>23.505090</td>\n",
       "      <td>-0.487237</td>\n",
       "      <td>HC</td>\n",
       "    </tr>\n",
       "    <tr>\n",
       "      <th>2</th>\n",
       "      <td>300_P_10.wav</td>\n",
       "      <td>-0.206516</td>\n",
       "      <td>-0.012714</td>\n",
       "      <td>2.282983</td>\n",
       "      <td>5.228452</td>\n",
       "      <td>14.449815</td>\n",
       "      <td>2.291457</td>\n",
       "      <td>-14.765719</td>\n",
       "      <td>11.486531</td>\n",
       "      <td>16.360935</td>\n",
       "      <td>...</td>\n",
       "      <td>3.467606</td>\n",
       "      <td>-0.876630</td>\n",
       "      <td>31.587241</td>\n",
       "      <td>17.874929</td>\n",
       "      <td>35.549297</td>\n",
       "      <td>8.486273</td>\n",
       "      <td>2.705997</td>\n",
       "      <td>12.780650</td>\n",
       "      <td>1.440022</td>\n",
       "      <td>HC</td>\n",
       "    </tr>\n",
       "  </tbody>\n",
       "</table>\n",
       "<p>3 rows × 30 columns</p>\n",
       "</div>"
      ],
      "text/plain": [
       "        subject   avg DF0  avg DDF0  avg Jitter  avg Shimmer    avg apq  \\\n",
       "0   300_P_0.wav -0.495307 -0.018538    2.687291     4.952022  27.039422   \n",
       "1   300_P_1.wav -0.254046  0.010848    1.919633     5.594996  13.878449   \n",
       "2  300_P_10.wav -0.206516 -0.012714    2.282983     5.228452  14.449815   \n",
       "\n",
       "    avg ppq   avg logE    std DF0   std DDF0  ...  skewness ppq  \\\n",
       "0  3.304526 -20.051778  14.054193  19.669178  ...      2.155216   \n",
       "1  1.908758 -14.256003   8.237100  13.521247  ...      4.650630   \n",
       "2  2.291457 -14.765719  11.486531  16.360935  ...      3.467606   \n",
       "\n",
       "   skewness logE  kurtosis DF0  kurtosis DDF0  kurtosis Jitter  \\\n",
       "0      -0.245601     14.129969       8.746996        16.117512   \n",
       "1      -0.443161     46.655725      30.354837        51.932924   \n",
       "2      -0.876630     31.587241      17.874929        35.549297   \n",
       "\n",
       "   kurtosis Shimmer  kurtosis apq  kurtosis ppq  kurtosis logE  Group  \n",
       "0         15.020170     11.444343      4.176683      -0.450599     HC  \n",
       "1          5.046667      0.646848     23.505090      -0.487237     HC  \n",
       "2          8.486273      2.705997     12.780650       1.440022     HC  \n",
       "\n",
       "[3 rows x 30 columns]"
      ]
     },
     "execution_count": 4,
     "metadata": {},
     "output_type": "execute_result"
    }
   ],
   "source": [
    "phonation_train.head(3)"
   ]
  },
  {
   "cell_type": "code",
   "execution_count": 5,
   "id": "4b310094",
   "metadata": {},
   "outputs": [
    {
     "data": {
      "text/plain": [
       "subject             0\n",
       "avg DF0             0\n",
       "avg DDF0            0\n",
       "avg Jitter          0\n",
       "avg Shimmer         0\n",
       "avg apq             0\n",
       "avg ppq             0\n",
       "avg logE            0\n",
       "std DF0             0\n",
       "std DDF0            0\n",
       "std Jitter          0\n",
       "std Shimmer         0\n",
       "std apq             0\n",
       "std ppq             0\n",
       "std logE            0\n",
       "skewness DF0        0\n",
       "skewness DDF0       0\n",
       "skewness Jitter     0\n",
       "skewness Shimmer    0\n",
       "skewness apq        0\n",
       "skewness ppq        0\n",
       "skewness logE       0\n",
       "kurtosis DF0        0\n",
       "kurtosis DDF0       0\n",
       "kurtosis Jitter     0\n",
       "kurtosis Shimmer    0\n",
       "kurtosis apq        0\n",
       "kurtosis ppq        0\n",
       "kurtosis logE       0\n",
       "Group               0\n",
       "dtype: int64"
      ]
     },
     "execution_count": 5,
     "metadata": {},
     "output_type": "execute_result"
    }
   ],
   "source": [
    "phonation_train.isnull().sum()"
   ]
  },
  {
   "cell_type": "markdown",
   "id": "54ff98bd",
   "metadata": {},
   "source": [
    "__note: 30 columns: 28 features(X), 1 target label(Y) and several null values__"
   ]
  },
  {
   "cell_type": "markdown",
   "id": "8903c9a6",
   "metadata": {},
   "source": [
    "#### 1. Checking if the classes have a balanced amount of samples:"
   ]
  },
  {
   "cell_type": "code",
   "execution_count": 6,
   "id": "19253089",
   "metadata": {},
   "outputs": [],
   "source": [
    "#replace string values to 0s & 1s in target column\n",
    "phonation_train.replace({'Group':{\"HC\":0,\"DP\":1}},inplace=True)"
   ]
  },
  {
   "cell_type": "code",
   "execution_count": 7,
   "id": "b1d14e5e",
   "metadata": {},
   "outputs": [
    {
     "name": "stdout",
     "output_type": "stream",
     "text": [
      "Group\n",
      "0    3878\n",
      "1    1145\n",
      "Name: Group, dtype: int64\n"
     ]
    }
   ],
   "source": [
    "val_count=phonation_train.groupby(['Group'])['Group'].count()\n",
    "print(val_count)"
   ]
  },
  {
   "cell_type": "code",
   "execution_count": 19,
   "id": "1575292c",
   "metadata": {},
   "outputs": [],
   "source": [
    "df1=phonation_train[phonation_train['Group']==1]\n",
    "df2=phonation_train[phonation_train['Group']!=1]\n",
    "df_upsampled=resample(df1,random_state=42,n_samples=3878,replace=True)\n",
    "ph_train_upsampled=pd.concat([df_upsampled,df2])\n",
    "#ph_train_upsampled.reset_index(inplace=True)"
   ]
  },
  {
   "cell_type": "code",
   "execution_count": 20,
   "id": "6ef7588d",
   "metadata": {},
   "outputs": [],
   "source": [
    "val_count=df_train_upsampled.groupby(['Group'])['Group'].count()\n",
    "print(val_count)"
   ]
  },
  {
   "cell_type": "markdown",
   "id": "29bba6c5",
   "metadata": {},
   "source": [
    "#### 2. Replacing null values with 0:"
   ]
  },
  {
   "cell_type": "code",
   "execution_count": 21,
   "id": "48a5d967",
   "metadata": {},
   "outputs": [],
   "source": [
    "ph_train_upsampled=ph_train_upsampled.fillna(0)"
   ]
  },
  {
   "cell_type": "code",
   "execution_count": 22,
   "id": "ee382879",
   "metadata": {},
   "outputs": [
    {
     "data": {
      "text/plain": [
       "subject             0\n",
       "avg DF0             0\n",
       "avg DDF0            0\n",
       "avg Jitter          0\n",
       "avg Shimmer         0\n",
       "avg apq             0\n",
       "avg ppq             0\n",
       "avg logE            0\n",
       "std DF0             0\n",
       "std DDF0            0\n",
       "std Jitter          0\n",
       "std Shimmer         0\n",
       "std apq             0\n",
       "std ppq             0\n",
       "std logE            0\n",
       "skewness DF0        0\n",
       "skewness DDF0       0\n",
       "skewness Jitter     0\n",
       "skewness Shimmer    0\n",
       "skewness apq        0\n",
       "skewness ppq        0\n",
       "skewness logE       0\n",
       "kurtosis DF0        0\n",
       "kurtosis DDF0       0\n",
       "kurtosis Jitter     0\n",
       "kurtosis Shimmer    0\n",
       "kurtosis apq        0\n",
       "kurtosis ppq        0\n",
       "kurtosis logE       0\n",
       "Group               0\n",
       "dtype: int64"
      ]
     },
     "execution_count": 22,
     "metadata": {},
     "output_type": "execute_result"
    }
   ],
   "source": [
    "ph_train_upsampled.isnull().sum()"
   ]
  },
  {
   "cell_type": "markdown",
   "id": "45f8ca78",
   "metadata": {},
   "source": [
    "#### 3. Obtaining X & Y values:"
   ]
  },
  {
   "cell_type": "code",
   "execution_count": 23,
   "id": "5a73f7b4",
   "metadata": {},
   "outputs": [],
   "source": [
    "X=ph_train_upsampled.drop(['subject','Group'],axis=1)\n",
    "Y=ph_train_upsampled['Group']"
   ]
  },
  {
   "cell_type": "code",
   "execution_count": 24,
   "id": "a70d6f13",
   "metadata": {},
   "outputs": [
    {
     "data": {
      "text/html": [
       "<div>\n",
       "<style scoped>\n",
       "    .dataframe tbody tr th:only-of-type {\n",
       "        vertical-align: middle;\n",
       "    }\n",
       "\n",
       "    .dataframe tbody tr th {\n",
       "        vertical-align: top;\n",
       "    }\n",
       "\n",
       "    .dataframe thead th {\n",
       "        text-align: right;\n",
       "    }\n",
       "</style>\n",
       "<table border=\"1\" class=\"dataframe\">\n",
       "  <thead>\n",
       "    <tr style=\"text-align: right;\">\n",
       "      <th></th>\n",
       "      <th>avg DF0</th>\n",
       "      <th>avg DDF0</th>\n",
       "      <th>avg Jitter</th>\n",
       "      <th>avg Shimmer</th>\n",
       "      <th>avg apq</th>\n",
       "      <th>avg ppq</th>\n",
       "      <th>avg logE</th>\n",
       "      <th>std DF0</th>\n",
       "      <th>std DDF0</th>\n",
       "      <th>std Jitter</th>\n",
       "      <th>...</th>\n",
       "      <th>skewness apq</th>\n",
       "      <th>skewness ppq</th>\n",
       "      <th>skewness logE</th>\n",
       "      <th>kurtosis DF0</th>\n",
       "      <th>kurtosis DDF0</th>\n",
       "      <th>kurtosis Jitter</th>\n",
       "      <th>kurtosis Shimmer</th>\n",
       "      <th>kurtosis apq</th>\n",
       "      <th>kurtosis ppq</th>\n",
       "      <th>kurtosis logE</th>\n",
       "    </tr>\n",
       "  </thead>\n",
       "  <tbody>\n",
       "    <tr>\n",
       "      <th>4956</th>\n",
       "      <td>-0.111660</td>\n",
       "      <td>0.005250</td>\n",
       "      <td>2.326836</td>\n",
       "      <td>5.872792</td>\n",
       "      <td>21.540270</td>\n",
       "      <td>1.929178</td>\n",
       "      <td>-18.341934</td>\n",
       "      <td>6.058761</td>\n",
       "      <td>10.340854</td>\n",
       "      <td>3.561550</td>\n",
       "      <td>...</td>\n",
       "      <td>1.211855</td>\n",
       "      <td>3.742778</td>\n",
       "      <td>-0.632790</td>\n",
       "      <td>11.918919</td>\n",
       "      <td>11.981419</td>\n",
       "      <td>15.427097</td>\n",
       "      <td>13.306120</td>\n",
       "      <td>0.809769</td>\n",
       "      <td>19.064513</td>\n",
       "      <td>1.159773</td>\n",
       "    </tr>\n",
       "    <tr>\n",
       "      <th>3968</th>\n",
       "      <td>-0.222149</td>\n",
       "      <td>-0.136021</td>\n",
       "      <td>2.958609</td>\n",
       "      <td>5.534993</td>\n",
       "      <td>11.900861</td>\n",
       "      <td>2.611513</td>\n",
       "      <td>-13.805911</td>\n",
       "      <td>7.130600</td>\n",
       "      <td>11.784362</td>\n",
       "      <td>4.404986</td>\n",
       "      <td>...</td>\n",
       "      <td>1.045674</td>\n",
       "      <td>2.243362</td>\n",
       "      <td>-0.282039</td>\n",
       "      <td>9.626871</td>\n",
       "      <td>6.169113</td>\n",
       "      <td>12.377013</td>\n",
       "      <td>2.119209</td>\n",
       "      <td>1.666034</td>\n",
       "      <td>4.892607</td>\n",
       "      <td>-0.523174</td>\n",
       "    </tr>\n",
       "    <tr>\n",
       "      <th>4960</th>\n",
       "      <td>0.252192</td>\n",
       "      <td>0.407643</td>\n",
       "      <td>3.778666</td>\n",
       "      <td>8.677302</td>\n",
       "      <td>27.157241</td>\n",
       "      <td>3.414364</td>\n",
       "      <td>-19.036916</td>\n",
       "      <td>11.439147</td>\n",
       "      <td>17.846804</td>\n",
       "      <td>6.022909</td>\n",
       "      <td>...</td>\n",
       "      <td>0.695219</td>\n",
       "      <td>2.183229</td>\n",
       "      <td>-1.152767</td>\n",
       "      <td>8.633508</td>\n",
       "      <td>5.670970</td>\n",
       "      <td>9.994917</td>\n",
       "      <td>7.450253</td>\n",
       "      <td>-0.069727</td>\n",
       "      <td>5.533544</td>\n",
       "      <td>1.888555</td>\n",
       "    </tr>\n",
       "    <tr>\n",
       "      <th>4925</th>\n",
       "      <td>-0.080527</td>\n",
       "      <td>0.075943</td>\n",
       "      <td>1.824670</td>\n",
       "      <td>4.949506</td>\n",
       "      <td>23.670618</td>\n",
       "      <td>1.701228</td>\n",
       "      <td>-19.398267</td>\n",
       "      <td>8.832737</td>\n",
       "      <td>13.629499</td>\n",
       "      <td>3.648306</td>\n",
       "      <td>...</td>\n",
       "      <td>0.963565</td>\n",
       "      <td>3.889824</td>\n",
       "      <td>-0.312516</td>\n",
       "      <td>19.857256</td>\n",
       "      <td>26.081720</td>\n",
       "      <td>22.513896</td>\n",
       "      <td>33.381209</td>\n",
       "      <td>-0.102749</td>\n",
       "      <td>18.962717</td>\n",
       "      <td>0.263788</td>\n",
       "    </tr>\n",
       "    <tr>\n",
       "      <th>4874</th>\n",
       "      <td>-0.321296</td>\n",
       "      <td>0.283470</td>\n",
       "      <td>4.335770</td>\n",
       "      <td>6.731144</td>\n",
       "      <td>25.003917</td>\n",
       "      <td>5.129785</td>\n",
       "      <td>-19.417525</td>\n",
       "      <td>12.739962</td>\n",
       "      <td>19.905674</td>\n",
       "      <td>5.811292</td>\n",
       "      <td>...</td>\n",
       "      <td>0.690406</td>\n",
       "      <td>1.916771</td>\n",
       "      <td>-0.287712</td>\n",
       "      <td>4.917964</td>\n",
       "      <td>2.370454</td>\n",
       "      <td>5.752403</td>\n",
       "      <td>11.224744</td>\n",
       "      <td>-0.321945</td>\n",
       "      <td>3.985814</td>\n",
       "      <td>-0.285122</td>\n",
       "    </tr>\n",
       "  </tbody>\n",
       "</table>\n",
       "<p>5 rows × 28 columns</p>\n",
       "</div>"
      ],
      "text/plain": [
       "       avg DF0  avg DDF0  avg Jitter  avg Shimmer    avg apq   avg ppq  \\\n",
       "4956 -0.111660  0.005250    2.326836     5.872792  21.540270  1.929178   \n",
       "3968 -0.222149 -0.136021    2.958609     5.534993  11.900861  2.611513   \n",
       "4960  0.252192  0.407643    3.778666     8.677302  27.157241  3.414364   \n",
       "4925 -0.080527  0.075943    1.824670     4.949506  23.670618  1.701228   \n",
       "4874 -0.321296  0.283470    4.335770     6.731144  25.003917  5.129785   \n",
       "\n",
       "       avg logE    std DF0   std DDF0  std Jitter  ...  skewness apq  \\\n",
       "4956 -18.341934   6.058761  10.340854    3.561550  ...      1.211855   \n",
       "3968 -13.805911   7.130600  11.784362    4.404986  ...      1.045674   \n",
       "4960 -19.036916  11.439147  17.846804    6.022909  ...      0.695219   \n",
       "4925 -19.398267   8.832737  13.629499    3.648306  ...      0.963565   \n",
       "4874 -19.417525  12.739962  19.905674    5.811292  ...      0.690406   \n",
       "\n",
       "      skewness ppq  skewness logE  kurtosis DF0  kurtosis DDF0  \\\n",
       "4956      3.742778      -0.632790     11.918919      11.981419   \n",
       "3968      2.243362      -0.282039      9.626871       6.169113   \n",
       "4960      2.183229      -1.152767      8.633508       5.670970   \n",
       "4925      3.889824      -0.312516     19.857256      26.081720   \n",
       "4874      1.916771      -0.287712      4.917964       2.370454   \n",
       "\n",
       "      kurtosis Jitter  kurtosis Shimmer  kurtosis apq  kurtosis ppq  \\\n",
       "4956        15.427097         13.306120      0.809769     19.064513   \n",
       "3968        12.377013          2.119209      1.666034      4.892607   \n",
       "4960         9.994917          7.450253     -0.069727      5.533544   \n",
       "4925        22.513896         33.381209     -0.102749     18.962717   \n",
       "4874         5.752403         11.224744     -0.321945      3.985814   \n",
       "\n",
       "      kurtosis logE  \n",
       "4956       1.159773  \n",
       "3968      -0.523174  \n",
       "4960       1.888555  \n",
       "4925       0.263788  \n",
       "4874      -0.285122  \n",
       "\n",
       "[5 rows x 28 columns]"
      ]
     },
     "execution_count": 24,
     "metadata": {},
     "output_type": "execute_result"
    }
   ],
   "source": [
    "X.head()"
   ]
  },
  {
   "cell_type": "markdown",
   "id": "cea6da69",
   "metadata": {},
   "source": [
    "#### 4. Normalizing the data:"
   ]
  },
  {
   "cell_type": "code",
   "execution_count": 25,
   "id": "c8b942d2",
   "metadata": {},
   "outputs": [
    {
     "name": "stdout",
     "output_type": "stream",
     "text": [
      "avg DF0             -0.065589\n",
      "avg DDF0             0.028665\n",
      "avg Jitter           3.419442\n",
      "avg Shimmer          6.645988\n",
      "avg apq             23.518466\n",
      "avg ppq              4.010365\n",
      "avg logE           -19.321221\n",
      "std DF0             14.672440\n",
      "std DDF0            22.091502\n",
      "std Jitter           5.846198\n",
      "std Shimmer          9.969139\n",
      "std apq             19.377855\n",
      "std ppq              5.670800\n",
      "std logE             5.309125\n",
      "skewness DF0         0.951879\n",
      "skewness DDF0       -0.529713\n",
      "skewness Jitter      3.885890\n",
      "skewness Shimmer     3.020590\n",
      "skewness apq         1.145057\n",
      "skewness ppq         2.789369\n",
      "skewness logE       -0.590715\n",
      "kurtosis DF0        16.457732\n",
      "kurtosis DDF0       11.546321\n",
      "kurtosis Jitter     19.718585\n",
      "kurtosis Shimmer    12.845937\n",
      "kurtosis apq         1.164540\n",
      "kurtosis ppq        10.118044\n",
      "kurtosis logE        0.609432\n",
      "dtype: float64\n",
      "avg DF0              0.688741\n",
      "avg DDF0             0.274921\n",
      "avg Jitter           1.095417\n",
      "avg Shimmer          1.811838\n",
      "avg apq              5.583733\n",
      "avg ppq              1.731871\n",
      "avg logE             3.633107\n",
      "std DF0              7.259254\n",
      "std DDF0            10.805947\n",
      "std Jitter           1.855889\n",
      "std Shimmer          2.284094\n",
      "std apq              3.930887\n",
      "std ppq              2.320209\n",
      "std logE             1.647852\n",
      "skewness DF0         1.862582\n",
      "skewness DDF0        0.898903\n",
      "skewness Jitter      1.334055\n",
      "skewness Shimmer     1.078445\n",
      "skewness apq         0.455045\n",
      "skewness ppq         0.925939\n",
      "skewness logE        0.566665\n",
      "kurtosis DF0        12.760506\n",
      "kurtosis DDF0        8.009550\n",
      "kurtosis Jitter     14.925045\n",
      "kurtosis Shimmer    10.632123\n",
      "kurtosis apq         2.184351\n",
      "kurtosis ppq         8.135308\n",
      "kurtosis logE        1.362244\n",
      "dtype: float64\n"
     ]
    },
    {
     "name": "stderr",
     "output_type": "stream",
     "text": [
      "/usr/local/lib/python3.10/dist-packages/numpy/core/fromnumeric.py:3430: FutureWarning: In a future version, DataFrame.mean(axis=None) will return a scalar mean over the entire DataFrame. To retain the old behavior, use 'frame.mean(axis=0)' or just 'frame.mean()'\n",
      "  return mean(axis=axis, dtype=dtype, out=out, **kwargs)\n"
     ]
    }
   ],
   "source": [
    "#checking if normalized data has a mean~0 & standard deviation~1:\n",
    "print(np.mean(X))\n",
    "print(np.std(X))"
   ]
  },
  {
   "cell_type": "code",
   "execution_count": 26,
   "id": "8f42356a",
   "metadata": {},
   "outputs": [],
   "source": [
    "import Normalization as n"
   ]
  },
  {
   "cell_type": "code",
   "execution_count": 27,
   "id": "8d2e739f",
   "metadata": {},
   "outputs": [],
   "source": [
    "X=n.normalize_train(X)"
   ]
  },
  {
   "cell_type": "code",
   "execution_count": 28,
   "id": "16ff2804",
   "metadata": {},
   "outputs": [
    {
     "name": "stdout",
     "output_type": "stream",
     "text": [
      "4.423551254087414e-17\n",
      "1.0\n"
     ]
    }
   ],
   "source": [
    "print(np.mean(X))\n",
    "print(np.std(X))"
   ]
  },
  {
   "cell_type": "markdown",
   "id": "2390bf1d",
   "metadata": {},
   "source": [
    "### Preprocessing test data:"
   ]
  },
  {
   "cell_type": "code",
   "execution_count": 29,
   "id": "a5cb9245",
   "metadata": {},
   "outputs": [
    {
     "data": {
      "text/html": [
       "<div>\n",
       "<style scoped>\n",
       "    .dataframe tbody tr th:only-of-type {\n",
       "        vertical-align: middle;\n",
       "    }\n",
       "\n",
       "    .dataframe tbody tr th {\n",
       "        vertical-align: top;\n",
       "    }\n",
       "\n",
       "    .dataframe thead th {\n",
       "        text-align: right;\n",
       "    }\n",
       "</style>\n",
       "<table border=\"1\" class=\"dataframe\">\n",
       "  <thead>\n",
       "    <tr style=\"text-align: right;\">\n",
       "      <th></th>\n",
       "      <th>avg DF0</th>\n",
       "      <th>avg DDF0</th>\n",
       "      <th>avg Jitter</th>\n",
       "      <th>avg Shimmer</th>\n",
       "      <th>avg apq</th>\n",
       "      <th>avg ppq</th>\n",
       "      <th>avg logE</th>\n",
       "      <th>std DF0</th>\n",
       "      <th>std DDF0</th>\n",
       "      <th>std Jitter</th>\n",
       "      <th>...</th>\n",
       "      <th>skewness logE</th>\n",
       "      <th>kurtosis DF0</th>\n",
       "      <th>kurtosis DDF0</th>\n",
       "      <th>kurtosis Jitter</th>\n",
       "      <th>kurtosis Shimmer</th>\n",
       "      <th>kurtosis apq</th>\n",
       "      <th>kurtosis ppq</th>\n",
       "      <th>kurtosis logE</th>\n",
       "      <th>subject</th>\n",
       "      <th>Group</th>\n",
       "    </tr>\n",
       "  </thead>\n",
       "  <tbody>\n",
       "    <tr>\n",
       "      <th>0</th>\n",
       "      <td>0.421146</td>\n",
       "      <td>0.466543</td>\n",
       "      <td>3.781845</td>\n",
       "      <td>2.811340</td>\n",
       "      <td>32.014137</td>\n",
       "      <td>4.243302</td>\n",
       "      <td>-32.910260</td>\n",
       "      <td>23.644859</td>\n",
       "      <td>36.213226</td>\n",
       "      <td>6.301639</td>\n",
       "      <td>...</td>\n",
       "      <td>2.074247</td>\n",
       "      <td>11.639968</td>\n",
       "      <td>5.727505</td>\n",
       "      <td>13.465153</td>\n",
       "      <td>81.371779</td>\n",
       "      <td>1.615873</td>\n",
       "      <td>7.411221</td>\n",
       "      <td>5.178200</td>\n",
       "      <td>600_AUDIO_0.wav</td>\n",
       "      <td>HC</td>\n",
       "    </tr>\n",
       "    <tr>\n",
       "      <th>1</th>\n",
       "      <td>-0.295914</td>\n",
       "      <td>-0.070914</td>\n",
       "      <td>3.556872</td>\n",
       "      <td>9.873032</td>\n",
       "      <td>34.103483</td>\n",
       "      <td>3.412565</td>\n",
       "      <td>-23.211518</td>\n",
       "      <td>20.554073</td>\n",
       "      <td>34.445091</td>\n",
       "      <td>5.938187</td>\n",
       "      <td>...</td>\n",
       "      <td>-0.489125</td>\n",
       "      <td>7.323497</td>\n",
       "      <td>7.344666</td>\n",
       "      <td>7.209379</td>\n",
       "      <td>6.521312</td>\n",
       "      <td>1.999579</td>\n",
       "      <td>6.841124</td>\n",
       "      <td>-1.376479</td>\n",
       "      <td>600_AUDIO_1.wav</td>\n",
       "      <td>HC</td>\n",
       "    </tr>\n",
       "    <tr>\n",
       "      <th>2</th>\n",
       "      <td>0.077364</td>\n",
       "      <td>-0.158950</td>\n",
       "      <td>2.760178</td>\n",
       "      <td>8.429926</td>\n",
       "      <td>26.421805</td>\n",
       "      <td>2.978939</td>\n",
       "      <td>-16.507007</td>\n",
       "      <td>19.201384</td>\n",
       "      <td>30.923086</td>\n",
       "      <td>5.087722</td>\n",
       "      <td>...</td>\n",
       "      <td>-1.094971</td>\n",
       "      <td>23.785974</td>\n",
       "      <td>14.588881</td>\n",
       "      <td>29.979352</td>\n",
       "      <td>7.169587</td>\n",
       "      <td>0.116569</td>\n",
       "      <td>16.922538</td>\n",
       "      <td>1.234175</td>\n",
       "      <td>600_AUDIO_10.wav</td>\n",
       "      <td>HC</td>\n",
       "    </tr>\n",
       "  </tbody>\n",
       "</table>\n",
       "<p>3 rows × 30 columns</p>\n",
       "</div>"
      ],
      "text/plain": [
       "    avg DF0  avg DDF0  avg Jitter  avg Shimmer    avg apq   avg ppq  \\\n",
       "0  0.421146  0.466543    3.781845     2.811340  32.014137  4.243302   \n",
       "1 -0.295914 -0.070914    3.556872     9.873032  34.103483  3.412565   \n",
       "2  0.077364 -0.158950    2.760178     8.429926  26.421805  2.978939   \n",
       "\n",
       "    avg logE    std DF0   std DDF0  std Jitter  ...  skewness logE  \\\n",
       "0 -32.910260  23.644859  36.213226    6.301639  ...       2.074247   \n",
       "1 -23.211518  20.554073  34.445091    5.938187  ...      -0.489125   \n",
       "2 -16.507007  19.201384  30.923086    5.087722  ...      -1.094971   \n",
       "\n",
       "   kurtosis DF0  kurtosis DDF0  kurtosis Jitter  kurtosis Shimmer  \\\n",
       "0     11.639968       5.727505        13.465153         81.371779   \n",
       "1      7.323497       7.344666         7.209379          6.521312   \n",
       "2     23.785974      14.588881        29.979352          7.169587   \n",
       "\n",
       "   kurtosis apq  kurtosis ppq  kurtosis logE           subject  Group  \n",
       "0      1.615873      7.411221       5.178200   600_AUDIO_0.wav     HC  \n",
       "1      1.999579      6.841124      -1.376479   600_AUDIO_1.wav     HC  \n",
       "2      0.116569     16.922538       1.234175  600_AUDIO_10.wav     HC  \n",
       "\n",
       "[3 rows x 30 columns]"
      ]
     },
     "execution_count": 29,
     "metadata": {},
     "output_type": "execute_result"
    }
   ],
   "source": [
    "phonation_test.head(3)"
   ]
  },
  {
   "cell_type": "code",
   "execution_count": 30,
   "id": "82a6ec52",
   "metadata": {},
   "outputs": [
    {
     "data": {
      "text/plain": [
       "avg DF0             48\n",
       "avg DDF0            48\n",
       "avg Jitter          47\n",
       "avg Shimmer         47\n",
       "avg apq             47\n",
       "avg ppq             51\n",
       "avg logE            47\n",
       "std DF0             48\n",
       "std DDF0            48\n",
       "std Jitter          47\n",
       "std Shimmer         47\n",
       "std apq             47\n",
       "std ppq             51\n",
       "std logE            47\n",
       "skewness DF0        48\n",
       "skewness DDF0       48\n",
       "skewness Jitter     47\n",
       "skewness Shimmer    47\n",
       "skewness apq        47\n",
       "skewness ppq        51\n",
       "skewness logE       47\n",
       "kurtosis DF0        48\n",
       "kurtosis DDF0       48\n",
       "kurtosis Jitter     47\n",
       "kurtosis Shimmer    47\n",
       "kurtosis apq        47\n",
       "kurtosis ppq        51\n",
       "kurtosis logE       47\n",
       "subject              0\n",
       "Group                0\n",
       "dtype: int64"
      ]
     },
     "execution_count": 30,
     "metadata": {},
     "output_type": "execute_result"
    }
   ],
   "source": [
    "phonation_test.isnull().sum()"
   ]
  },
  {
   "cell_type": "code",
   "execution_count": 31,
   "id": "567cb067",
   "metadata": {},
   "outputs": [],
   "source": [
    "ph_test=phonation_test.fillna(0)"
   ]
  },
  {
   "cell_type": "code",
   "execution_count": 32,
   "id": "d009958b",
   "metadata": {},
   "outputs": [
    {
     "data": {
      "text/plain": [
       "avg DF0             0\n",
       "avg DDF0            0\n",
       "avg Jitter          0\n",
       "avg Shimmer         0\n",
       "avg apq             0\n",
       "avg ppq             0\n",
       "avg logE            0\n",
       "std DF0             0\n",
       "std DDF0            0\n",
       "std Jitter          0\n",
       "std Shimmer         0\n",
       "std apq             0\n",
       "std ppq             0\n",
       "std logE            0\n",
       "skewness DF0        0\n",
       "skewness DDF0       0\n",
       "skewness Jitter     0\n",
       "skewness Shimmer    0\n",
       "skewness apq        0\n",
       "skewness ppq        0\n",
       "skewness logE       0\n",
       "kurtosis DF0        0\n",
       "kurtosis DDF0       0\n",
       "kurtosis Jitter     0\n",
       "kurtosis Shimmer    0\n",
       "kurtosis apq        0\n",
       "kurtosis ppq        0\n",
       "kurtosis logE       0\n",
       "subject             0\n",
       "Group               0\n",
       "dtype: int64"
      ]
     },
     "execution_count": 32,
     "metadata": {},
     "output_type": "execute_result"
    }
   ],
   "source": [
    "ph_test.isnull().sum()"
   ]
  },
  {
   "cell_type": "code",
   "execution_count": 33,
   "id": "c172316e",
   "metadata": {},
   "outputs": [],
   "source": [
    "#obtaining X & Y for test data:\n",
    "ph_test.replace({'Group':{\"HC\":0,\"DP\":1}},inplace=True)\n",
    "X_test=ph_test.drop(['subject','Group'],axis=1)\n",
    "Y_test=ph_test['Group']"
   ]
  },
  {
   "cell_type": "code",
   "execution_count": 34,
   "id": "84ce11fc",
   "metadata": {},
   "outputs": [],
   "source": [
    "X_test=n.normalize_test(X_test)"
   ]
  },
  {
   "cell_type": "code",
   "execution_count": 35,
   "id": "e07be099",
   "metadata": {},
   "outputs": [
    {
     "name": "stdout",
     "output_type": "stream",
     "text": [
      "-0.01142183812548805\n",
      "1.0270006509073621\n"
     ]
    }
   ],
   "source": [
    "print(np.mean(X_test))\n",
    "print(np.std(X_test))"
   ]
  },
  {
   "cell_type": "markdown",
   "id": "ce88a8d5",
   "metadata": {},
   "source": [
    "### Finding Best Model:"
   ]
  },
  {
   "cell_type": "code",
   "execution_count": 49,
   "id": "b8ee0d7a",
   "metadata": {},
   "outputs": [],
   "source": [
    "class classification_models:\n",
    "    #Random Forest Classifier:\n",
    "    def RF_model(self,X,Y,X1,Y1):\n",
    "        self.X=X\n",
    "        self.Y=Y\n",
    "        self.X1=X1\n",
    "        self.Y1=Y1\n",
    "        RF_model=RandomForestClassifier(n_estimators=100,class_weight='balanced')\n",
    "        RF_model.fit(X,Y)\n",
    "        Y_predict_RF=RF_model.predict(X1)\n",
    "        acc= metrics.accuracy_score(Y1,Y_predict_RF)\n",
    "        #return acc\n",
    "        P= metrics.precision_score(Y1,Y_predict_RF)\n",
    "        R= metrics.recall_score(Y1,Y_predict_RF)\n",
    "        #if acc>0.5:\n",
    "        #return [acc,P,R]\n",
    "        print(\"The RF model accuracy is given as : \",metrics.accuracy_score(Y1,Y_predict_RF))\n",
    "        print(classification_report(Y1,Y_predict_RF))\n",
    "        \n",
    "    #Decision Tree Classifier:\n",
    "    def DF_model(self,X,Y,X1,Y1):\n",
    "        self.X=X\n",
    "        self.Y=Y\n",
    "        self.X1=X1\n",
    "        self.Y1=Y1\n",
    "        DF_model=DecisionTreeClassifier(max_depth=7,random_state=42,class_weight='balanced')\n",
    "        DF_model.fit(X,Y)\n",
    "        Y_predict_DF=DF_model.predict(X1)\n",
    "        print(\"The DF model accuracy is given as : \",metrics.accuracy_score(Y1,Y_predict_DF))\n",
    "        print(classification_report(Y1,Y_predict_DF))\n",
    "        \n",
    "    #Logistic Regression Classifier:\n",
    "    def LR_model(self,X,Y,X1,Y1):\n",
    "        self.X=X       \n",
    "        self.Y=Y\n",
    "        self.X1=X1\n",
    "        self.Y1=Y1\n",
    "        LR_model=LogisticRegression(class_weight='balanced')\n",
    "        LR_model.fit(X,Y)\n",
    "        Y_predict_LR=LR_model.predict(X1)\n",
    "        print(\"The LR_model accuracy is given as : \",metrics.accuracy_score(Y1,Y_predict_LR))\n",
    "        print(classification_report(Y1,Y_predict_LR))\n",
    "\n",
    "    #Support Vector Machine:\n",
    "    def SVM_model(self,X,Y,C,g,X1,Y1):\n",
    "        self.X=X\n",
    "        self.Y=Y\n",
    "        self.C=C\n",
    "        self.g=g\n",
    "        self.X1=X1\n",
    "        self.Y1=Y1\n",
    "        SVM_model = SVC(kernel='rbf',C=C, gamma=g, class_weight='balanced')\n",
    "        SVM_model.fit(X,Y)\n",
    "        Y_predict_SVM=SVM_model.predict(X1)\n",
    "        print(\"The SVM_accuracy is given as : \",metrics.accuracy_score(Y1,Y_predict_SVM))\n",
    "        print(classification_report(Y1,Y_predict_SVM))"
   ]
  },
  {
   "cell_type": "code",
   "execution_count": 45,
   "id": "e61bad33",
   "metadata": {},
   "outputs": [],
   "source": [
    "obj=classification_models()"
   ]
  },
  {
   "cell_type": "markdown",
   "id": "f9f35d37",
   "metadata": {},
   "source": [
    "#### 1. Random Forest Classifier:"
   ]
  },
  {
   "cell_type": "code",
   "execution_count": 51,
   "id": "57e58be2",
   "metadata": {},
   "outputs": [
    {
     "data": {
      "text/plain": [
       "[0.7093886462882096, 0.3851851851851852, 0.08195429472025216]"
      ]
     },
     "execution_count": 51,
     "metadata": {},
     "output_type": "execute_result"
    }
   ],
   "source": [
    "obj.RF_model(X,Y,X_test,Y_test)"
   ]
  },
  {
   "cell_type": "markdown",
   "id": "8b5cbf6e",
   "metadata": {},
   "source": [
    "#### 2. Decision Tree Classifier:"
   ]
  },
  {
   "cell_type": "code",
   "execution_count": 50,
   "id": "c43b4340",
   "metadata": {},
   "outputs": [
    {
     "name": "stdout",
     "output_type": "stream",
     "text": [
      "The DF model accuracy is given as :  0.5312227074235808\n",
      "              precision    recall  f1-score   support\n",
      "\n",
      "           0       0.71      0.60      0.65      3311\n",
      "           1       0.25      0.36      0.30      1269\n",
      "\n",
      "    accuracy                           0.53      4580\n",
      "   macro avg       0.48      0.48      0.47      4580\n",
      "weighted avg       0.58      0.53      0.55      4580\n",
      "\n"
     ]
    }
   ],
   "source": [
    "obj.DF_model(X,Y,X_test,Y_test)"
   ]
  },
  {
   "cell_type": "markdown",
   "id": "a351a387",
   "metadata": {},
   "source": [
    "#### 3. Logistic Regression Model:"
   ]
  },
  {
   "cell_type": "code",
   "execution_count": 52,
   "id": "ee4d1855",
   "metadata": {},
   "outputs": [
    {
     "name": "stdout",
     "output_type": "stream",
     "text": [
      "The LR_model accuracy is given as :  0.5408296943231441\n",
      "              precision    recall  f1-score   support\n",
      "\n",
      "           0       0.75      0.55      0.63      3311\n",
      "           1       0.31      0.52      0.39      1269\n",
      "\n",
      "    accuracy                           0.54      4580\n",
      "   macro avg       0.53      0.53      0.51      4580\n",
      "weighted avg       0.63      0.54      0.56      4580\n",
      "\n"
     ]
    },
    {
     "name": "stderr",
     "output_type": "stream",
     "text": [
      "/usr/local/lib/python3.10/dist-packages/sklearn/linear_model/_logistic.py:458: ConvergenceWarning: lbfgs failed to converge (status=1):\n",
      "STOP: TOTAL NO. of ITERATIONS REACHED LIMIT.\n",
      "\n",
      "Increase the number of iterations (max_iter) or scale the data as shown in:\n",
      "    https://scikit-learn.org/stable/modules/preprocessing.html\n",
      "Please also refer to the documentation for alternative solver options:\n",
      "    https://scikit-learn.org/stable/modules/linear_model.html#logistic-regression\n",
      "  n_iter_i = _check_optimize_result(\n"
     ]
    }
   ],
   "source": [
    "obj.LR_model(X,Y,X_test,Y_test)"
   ]
  },
  {
   "cell_type": "markdown",
   "id": "42b4f419",
   "metadata": {},
   "source": [
    "#### 4. Support Vector Machine:"
   ]
  },
  {
   "cell_type": "code",
   "execution_count": null,
   "id": "7a9c602e",
   "metadata": {},
   "outputs": [],
   "source": [
    "#import grid_search as g"
   ]
  },
  {
   "cell_type": "code",
   "execution_count": null,
   "id": "d0970dc4",
   "metadata": {},
   "outputs": [],
   "source": [
    "#parameters=g.best_param(X,Y)"
   ]
  },
  {
   "cell_type": "code",
   "execution_count": 53,
   "id": "8fafc9a7",
   "metadata": {},
   "outputs": [
    {
     "name": "stdout",
     "output_type": "stream",
     "text": [
      "The SVM_accuracy is given as :  0.6462882096069869\n",
      "              precision    recall  f1-score   support\n",
      "\n",
      "           0       0.74      0.80      0.77      3311\n",
      "           1       0.32      0.25      0.29      1269\n",
      "\n",
      "    accuracy                           0.65      4580\n",
      "   macro avg       0.53      0.53      0.53      4580\n",
      "weighted avg       0.62      0.65      0.63      4580\n",
      "\n"
     ]
    }
   ],
   "source": [
    "obj.SVM_model(X,Y,10,0.1,X_test,Y_test)"
   ]
  },
  {
   "cell_type": "markdown",
   "id": "7c04e7b3",
   "metadata": {},
   "source": [
    "### Extracting Feature Importance:"
   ]
  },
  {
   "cell_type": "code",
   "execution_count": 54,
   "id": "39cab00c",
   "metadata": {},
   "outputs": [],
   "source": [
    "from sklearn.inspection import permutation_importance\n",
    "from matplotlib import pyplot as plt"
   ]
  },
  {
   "cell_type": "code",
   "execution_count": 55,
   "id": "549470a0",
   "metadata": {},
   "outputs": [
    {
     "data": {
      "text/html": [
       "<style>#sk-container-id-1 {color: black;background-color: white;}#sk-container-id-1 pre{padding: 0;}#sk-container-id-1 div.sk-toggleable {background-color: white;}#sk-container-id-1 label.sk-toggleable__label {cursor: pointer;display: block;width: 100%;margin-bottom: 0;padding: 0.3em;box-sizing: border-box;text-align: center;}#sk-container-id-1 label.sk-toggleable__label-arrow:before {content: \"▸\";float: left;margin-right: 0.25em;color: #696969;}#sk-container-id-1 label.sk-toggleable__label-arrow:hover:before {color: black;}#sk-container-id-1 div.sk-estimator:hover label.sk-toggleable__label-arrow:before {color: black;}#sk-container-id-1 div.sk-toggleable__content {max-height: 0;max-width: 0;overflow: hidden;text-align: left;background-color: #f0f8ff;}#sk-container-id-1 div.sk-toggleable__content pre {margin: 0.2em;color: black;border-radius: 0.25em;background-color: #f0f8ff;}#sk-container-id-1 input.sk-toggleable__control:checked~div.sk-toggleable__content {max-height: 200px;max-width: 100%;overflow: auto;}#sk-container-id-1 input.sk-toggleable__control:checked~label.sk-toggleable__label-arrow:before {content: \"▾\";}#sk-container-id-1 div.sk-estimator input.sk-toggleable__control:checked~label.sk-toggleable__label {background-color: #d4ebff;}#sk-container-id-1 div.sk-label input.sk-toggleable__control:checked~label.sk-toggleable__label {background-color: #d4ebff;}#sk-container-id-1 input.sk-hidden--visually {border: 0;clip: rect(1px 1px 1px 1px);clip: rect(1px, 1px, 1px, 1px);height: 1px;margin: -1px;overflow: hidden;padding: 0;position: absolute;width: 1px;}#sk-container-id-1 div.sk-estimator {font-family: monospace;background-color: #f0f8ff;border: 1px dotted black;border-radius: 0.25em;box-sizing: border-box;margin-bottom: 0.5em;}#sk-container-id-1 div.sk-estimator:hover {background-color: #d4ebff;}#sk-container-id-1 div.sk-parallel-item::after {content: \"\";width: 100%;border-bottom: 1px solid gray;flex-grow: 1;}#sk-container-id-1 div.sk-label:hover label.sk-toggleable__label {background-color: #d4ebff;}#sk-container-id-1 div.sk-serial::before {content: \"\";position: absolute;border-left: 1px solid gray;box-sizing: border-box;top: 0;bottom: 0;left: 50%;z-index: 0;}#sk-container-id-1 div.sk-serial {display: flex;flex-direction: column;align-items: center;background-color: white;padding-right: 0.2em;padding-left: 0.2em;position: relative;}#sk-container-id-1 div.sk-item {position: relative;z-index: 1;}#sk-container-id-1 div.sk-parallel {display: flex;align-items: stretch;justify-content: center;background-color: white;position: relative;}#sk-container-id-1 div.sk-item::before, #sk-container-id-1 div.sk-parallel-item::before {content: \"\";position: absolute;border-left: 1px solid gray;box-sizing: border-box;top: 0;bottom: 0;left: 50%;z-index: -1;}#sk-container-id-1 div.sk-parallel-item {display: flex;flex-direction: column;z-index: 1;position: relative;background-color: white;}#sk-container-id-1 div.sk-parallel-item:first-child::after {align-self: flex-end;width: 50%;}#sk-container-id-1 div.sk-parallel-item:last-child::after {align-self: flex-start;width: 50%;}#sk-container-id-1 div.sk-parallel-item:only-child::after {width: 0;}#sk-container-id-1 div.sk-dashed-wrapped {border: 1px dashed gray;margin: 0 0.4em 0.5em 0.4em;box-sizing: border-box;padding-bottom: 0.4em;background-color: white;}#sk-container-id-1 div.sk-label label {font-family: monospace;font-weight: bold;display: inline-block;line-height: 1.2em;}#sk-container-id-1 div.sk-label-container {text-align: center;}#sk-container-id-1 div.sk-container {/* jupyter's `normalize.less` sets `[hidden] { display: none; }` but bootstrap.min.css set `[hidden] { display: none !important; }` so we also need the `!important` here to be able to override the default hidden behavior on the sphinx rendered scikit-learn.org. See: https://github.com/scikit-learn/scikit-learn/issues/21755 */display: inline-block !important;position: relative;}#sk-container-id-1 div.sk-text-repr-fallback {display: none;}</style><div id=\"sk-container-id-1\" class=\"sk-top-container\"><div class=\"sk-text-repr-fallback\"><pre>SVC(C=10, class_weight=&#x27;balanced&#x27;, gamma=0.1)</pre><b>In a Jupyter environment, please rerun this cell to show the HTML representation or trust the notebook. <br />On GitHub, the HTML representation is unable to render, please try loading this page with nbviewer.org.</b></div><div class=\"sk-container\" hidden><div class=\"sk-item\"><div class=\"sk-estimator sk-toggleable\"><input class=\"sk-toggleable__control sk-hidden--visually\" id=\"sk-estimator-id-1\" type=\"checkbox\" checked><label for=\"sk-estimator-id-1\" class=\"sk-toggleable__label sk-toggleable__label-arrow\">SVC</label><div class=\"sk-toggleable__content\"><pre>SVC(C=10, class_weight=&#x27;balanced&#x27;, gamma=0.1)</pre></div></div></div></div></div>"
      ],
      "text/plain": [
       "SVC(C=10, class_weight='balanced', gamma=0.1)"
      ]
     },
     "execution_count": 55,
     "metadata": {},
     "output_type": "execute_result"
    }
   ],
   "source": [
    "SVM_model = SVC(kernel='rbf',C=10, gamma=0.1, class_weight='balanced')\n",
    "SVM_model.fit(X,Y)"
   ]
  },
  {
   "cell_type": "code",
   "execution_count": 56,
   "id": "90500b1c",
   "metadata": {},
   "outputs": [],
   "source": [
    "r=ph_train_upsampled.drop(['subject','Group'],axis=1)\n",
    "feature_names=r.columns.tolist()\n",
    "features=np.array(feature_names)"
   ]
  },
  {
   "cell_type": "code",
   "execution_count": 58,
   "id": "aa8a8a2b",
   "metadata": {},
   "outputs": [
    {
     "data": {
      "text/plain": [
       "Text(0.5, 0, 'Feature Importance for all Features')"
      ]
     },
     "execution_count": 58,
     "metadata": {},
     "output_type": "execute_result"
    },
    {
     "data": {
      "image/png": "[encoded data removed]",
      "text/plain": [
       "<Figure size 640x480 with 1 Axes>"
      ]
     },
     "metadata": {},
     "output_type": "display_data"
    }
   ],
   "source": [
    "feat_imp_all=permutation_importance(SVM_model,X_test,Y_test)\n",
    "sorted_importance_all=feat_imp_all.importances_mean.argsort()\n",
    "f=features[sorted_importance_all]\n",
    "v=feat_imp_all.importances_mean[sorted_importance_all]\n",
    "plt.barh(f,v)\n",
    "plt.xlabel(\"Feature Importance for all Features\")"
   ]
  },
  {
   "cell_type": "code",
   "execution_count": 59,
   "id": "e0481c1b",
   "metadata": {},
   "outputs": [],
   "source": [
    "def feat_imp_all():\n",
    "    i=0\n",
    "    x=[]\n",
    "    for i in range (0,28):\n",
    "        if v[i] <-0.005 or v[i]>0.005:\n",
    "            x.append(f[i])\n",
    "    return x"
   ]
  },
  {
   "cell_type": "code",
   "execution_count": 60,
   "id": "f21321b0",
   "metadata": {},
   "outputs": [
    {
     "name": "stdout",
     "output_type": "stream",
     "text": [
      "<class 'list'>\n"
     ]
    }
   ],
   "source": [
    "imp_features_all=feat_imp_all()\n",
    "print(type(imp_features_all))"
   ]
  },
  {
   "cell_type": "code",
   "execution_count": 61,
   "id": "b320514c",
   "metadata": {},
   "outputs": [
    {
     "name": "stdout",
     "output_type": "stream",
     "text": [
      "no.of important features=  11\n",
      "                 \n",
      "*****************\n",
      "['avg DF0', 'std ppq', 'std apq', 'avg Shimmer', 'skewness Jitter', 'std Jitter', 'kurtosis Shimmer', 'avg ppq', 'avg apq', 'skewness logE', 'std DDF0']\n"
     ]
    }
   ],
   "source": [
    "print(\"no.of important features= \",len(imp_features_all))\n",
    "print('                 ')\n",
    "print('*****************')\n",
    "print(imp_features_all)"
   ]
  },
  {
   "cell_type": "code",
   "execution_count": null,
   "id": "ae030e73",
   "metadata": {},
   "outputs": [],
   "source": []
  }
 ],
 "metadata": {
  "kernelspec": {
   "display_name": "Python 3 (ipykernel)",
   "language": "python",
   "name": "python3"
  },
  "language_info": {
   "codemirror_mode": {
    "name": "ipython",
    "version": 3
   },
   "file_extension": ".py",
   "mimetype": "text/x-python",
   "name": "python",
   "nbconvert_exporter": "python",
   "pygments_lexer": "ipython3",
   "version": "3.10.6"
  }
 },
 "nbformat": 4,
 "nbformat_minor": 5
}
