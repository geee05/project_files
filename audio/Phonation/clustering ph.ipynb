{
 "cells": [
  {
   "cell_type": "code",
   "execution_count": 65,
   "id": "20f5aa53",
   "metadata": {},
   "outputs": [],
   "source": [
    "import pandas as pd\n",
    "import numpy as np\n",
    "import matplotlib.pyplot as plt\n",
    "import seaborn as sns\n",
    "from sklearn.decomposition import PCA"
   ]
  },
  {
   "cell_type": "code",
   "execution_count": 66,
   "id": "5d64c2fe",
   "metadata": {},
   "outputs": [],
   "source": [
    "#statistical analysis on features:\n",
    "df=pd.read_csv('/home/vboxuser/VoiceFiles/Voice4PD-MSA-Tool-global_V2/PhonationData/stat_ph/phonationfeaturesst_seg_train_stat.csv')\n",
    "#train and test data:\n",
    "df_train=pd.read_csv('/home/vboxuser/VoiceFiles/Voice4PD-MSA-Tool-global_V2/PhonationData/phonationfeaturesst_seg_dev.csv')\n",
    "df_test=pd.read_csv('/home/vboxuser/VoiceFiles/Voice4PD-MSA-Tool-global_V2/PhonationData/phonationfeaturesst_seg_test.csv')"
   ]
  },
  {
   "cell_type": "code",
   "execution_count": 67,
   "id": "53c89420",
   "metadata": {},
   "outputs": [],
   "source": [
    "req_features=df[(df['p_HC_DP']<0.05) | (abs(df['p_HC_DP.1'])>0.4)]\n",
    "feature_list=req_features['Unnamed: 0'].tolist()"
   ]
  },
  {
   "cell_type": "code",
   "execution_count": 68,
   "id": "10d34463",
   "metadata": {},
   "outputs": [],
   "source": [
    "df_train.replace({'Group':{\"HC\":0,\"DP\":1}},inplace=True)"
   ]
  },
  {
   "cell_type": "code",
   "execution_count": 69,
   "id": "df918e5e",
   "metadata": {},
   "outputs": [],
   "source": [
    "X_train=df_train[df_train.columns.intersection(feature_list)]"
   ]
  },
  {
   "cell_type": "code",
   "execution_count": 70,
   "id": "7c4408d9",
   "metadata": {},
   "outputs": [],
   "source": [
    "pca=PCA(n_components=4)"
   ]
  },
  {
   "cell_type": "code",
   "execution_count": 71,
   "id": "20f35203",
   "metadata": {},
   "outputs": [],
   "source": [
    "x_trainpca=pca.fit_transform(X_train)\n",
    "pca_df=pd.DataFrame(x_trainpca,columns=[\"PCA1\",\"PCA2\",\"PCA3\",\"PCA4\"])"
   ]
  },
  {
   "cell_type": "code",
   "execution_count": 72,
   "id": "c8378c71",
   "metadata": {},
   "outputs": [
    {
     "data": {
      "text/html": [
       "<div>\n",
       "<style scoped>\n",
       "    .dataframe tbody tr th:only-of-type {\n",
       "        vertical-align: middle;\n",
       "    }\n",
       "\n",
       "    .dataframe tbody tr th {\n",
       "        vertical-align: top;\n",
       "    }\n",
       "\n",
       "    .dataframe thead th {\n",
       "        text-align: right;\n",
       "    }\n",
       "</style>\n",
       "<table border=\"1\" class=\"dataframe\">\n",
       "  <thead>\n",
       "    <tr style=\"text-align: right;\">\n",
       "      <th></th>\n",
       "      <th>PCA1</th>\n",
       "      <th>PCA2</th>\n",
       "      <th>PCA3</th>\n",
       "      <th>PCA4</th>\n",
       "    </tr>\n",
       "  </thead>\n",
       "  <tbody>\n",
       "    <tr>\n",
       "      <th>0</th>\n",
       "      <td>-5.478125</td>\n",
       "      <td>-2.408424</td>\n",
       "      <td>2.642498</td>\n",
       "      <td>-1.576816</td>\n",
       "    </tr>\n",
       "    <tr>\n",
       "      <th>1</th>\n",
       "      <td>45.322642</td>\n",
       "      <td>-16.672962</td>\n",
       "      <td>-11.126468</td>\n",
       "      <td>1.932616</td>\n",
       "    </tr>\n",
       "    <tr>\n",
       "      <th>2</th>\n",
       "      <td>21.099247</td>\n",
       "      <td>-9.535600</td>\n",
       "      <td>-5.933788</td>\n",
       "      <td>-1.982242</td>\n",
       "    </tr>\n",
       "    <tr>\n",
       "      <th>3</th>\n",
       "      <td>9.557194</td>\n",
       "      <td>-10.806014</td>\n",
       "      <td>0.916838</td>\n",
       "      <td>-4.359575</td>\n",
       "    </tr>\n",
       "    <tr>\n",
       "      <th>4</th>\n",
       "      <td>17.115950</td>\n",
       "      <td>-6.414704</td>\n",
       "      <td>-2.525311</td>\n",
       "      <td>-1.620321</td>\n",
       "    </tr>\n",
       "  </tbody>\n",
       "</table>\n",
       "</div>"
      ],
      "text/plain": [
       "        PCA1       PCA2       PCA3      PCA4\n",
       "0  -5.478125  -2.408424   2.642498 -1.576816\n",
       "1  45.322642 -16.672962 -11.126468  1.932616\n",
       "2  21.099247  -9.535600  -5.933788 -1.982242\n",
       "3   9.557194 -10.806014   0.916838 -4.359575\n",
       "4  17.115950  -6.414704  -2.525311 -1.620321"
      ]
     },
     "execution_count": 72,
     "metadata": {},
     "output_type": "execute_result"
    }
   ],
   "source": [
    "pca_df.head()"
   ]
  },
  {
   "cell_type": "code",
   "execution_count": 73,
   "id": "5c3aa4c6",
   "metadata": {},
   "outputs": [],
   "source": [
    "Y_train=df_train['Group']"
   ]
  },
  {
   "cell_type": "code",
   "execution_count": 74,
   "id": "6b6e9eea",
   "metadata": {},
   "outputs": [
    {
     "name": "stdout",
     "output_type": "stream",
     "text": [
      "(5023, 4)\n",
      "(5023,)\n"
     ]
    }
   ],
   "source": [
    "print(pca_df.shape)\n",
    "print(Y_train.shape)"
   ]
  },
  {
   "cell_type": "code",
   "execution_count": 75,
   "id": "5e3406f5",
   "metadata": {},
   "outputs": [
    {
     "data": {
      "text/html": [
       "<style>#sk-container-id-2 {color: black;background-color: white;}#sk-container-id-2 pre{padding: 0;}#sk-container-id-2 div.sk-toggleable {background-color: white;}#sk-container-id-2 label.sk-toggleable__label {cursor: pointer;display: block;width: 100%;margin-bottom: 0;padding: 0.3em;box-sizing: border-box;text-align: center;}#sk-container-id-2 label.sk-toggleable__label-arrow:before {content: \"▸\";float: left;margin-right: 0.25em;color: #696969;}#sk-container-id-2 label.sk-toggleable__label-arrow:hover:before {color: black;}#sk-container-id-2 div.sk-estimator:hover label.sk-toggleable__label-arrow:before {color: black;}#sk-container-id-2 div.sk-toggleable__content {max-height: 0;max-width: 0;overflow: hidden;text-align: left;background-color: #f0f8ff;}#sk-container-id-2 div.sk-toggleable__content pre {margin: 0.2em;color: black;border-radius: 0.25em;background-color: #f0f8ff;}#sk-container-id-2 input.sk-toggleable__control:checked~div.sk-toggleable__content {max-height: 200px;max-width: 100%;overflow: auto;}#sk-container-id-2 input.sk-toggleable__control:checked~label.sk-toggleable__label-arrow:before {content: \"▾\";}#sk-container-id-2 div.sk-estimator input.sk-toggleable__control:checked~label.sk-toggleable__label {background-color: #d4ebff;}#sk-container-id-2 div.sk-label input.sk-toggleable__control:checked~label.sk-toggleable__label {background-color: #d4ebff;}#sk-container-id-2 input.sk-hidden--visually {border: 0;clip: rect(1px 1px 1px 1px);clip: rect(1px, 1px, 1px, 1px);height: 1px;margin: -1px;overflow: hidden;padding: 0;position: absolute;width: 1px;}#sk-container-id-2 div.sk-estimator {font-family: monospace;background-color: #f0f8ff;border: 1px dotted black;border-radius: 0.25em;box-sizing: border-box;margin-bottom: 0.5em;}#sk-container-id-2 div.sk-estimator:hover {background-color: #d4ebff;}#sk-container-id-2 div.sk-parallel-item::after {content: \"\";width: 100%;border-bottom: 1px solid gray;flex-grow: 1;}#sk-container-id-2 div.sk-label:hover label.sk-toggleable__label {background-color: #d4ebff;}#sk-container-id-2 div.sk-serial::before {content: \"\";position: absolute;border-left: 1px solid gray;box-sizing: border-box;top: 0;bottom: 0;left: 50%;z-index: 0;}#sk-container-id-2 div.sk-serial {display: flex;flex-direction: column;align-items: center;background-color: white;padding-right: 0.2em;padding-left: 0.2em;position: relative;}#sk-container-id-2 div.sk-item {position: relative;z-index: 1;}#sk-container-id-2 div.sk-parallel {display: flex;align-items: stretch;justify-content: center;background-color: white;position: relative;}#sk-container-id-2 div.sk-item::before, #sk-container-id-2 div.sk-parallel-item::before {content: \"\";position: absolute;border-left: 1px solid gray;box-sizing: border-box;top: 0;bottom: 0;left: 50%;z-index: -1;}#sk-container-id-2 div.sk-parallel-item {display: flex;flex-direction: column;z-index: 1;position: relative;background-color: white;}#sk-container-id-2 div.sk-parallel-item:first-child::after {align-self: flex-end;width: 50%;}#sk-container-id-2 div.sk-parallel-item:last-child::after {align-self: flex-start;width: 50%;}#sk-container-id-2 div.sk-parallel-item:only-child::after {width: 0;}#sk-container-id-2 div.sk-dashed-wrapped {border: 1px dashed gray;margin: 0 0.4em 0.5em 0.4em;box-sizing: border-box;padding-bottom: 0.4em;background-color: white;}#sk-container-id-2 div.sk-label label {font-family: monospace;font-weight: bold;display: inline-block;line-height: 1.2em;}#sk-container-id-2 div.sk-label-container {text-align: center;}#sk-container-id-2 div.sk-container {/* jupyter's `normalize.less` sets `[hidden] { display: none; }` but bootstrap.min.css set `[hidden] { display: none !important; }` so we also need the `!important` here to be able to override the default hidden behavior on the sphinx rendered scikit-learn.org. See: https://github.com/scikit-learn/scikit-learn/issues/21755 */display: inline-block !important;position: relative;}#sk-container-id-2 div.sk-text-repr-fallback {display: none;}</style><div id=\"sk-container-id-2\" class=\"sk-top-container\"><div class=\"sk-text-repr-fallback\"><pre>StandardScaler()</pre><b>In a Jupyter environment, please rerun this cell to show the HTML representation or trust the notebook. <br />On GitHub, the HTML representation is unable to render, please try loading this page with nbviewer.org.</b></div><div class=\"sk-container\" hidden><div class=\"sk-item\"><div class=\"sk-estimator sk-toggleable\"><input class=\"sk-toggleable__control sk-hidden--visually\" id=\"sk-estimator-id-2\" type=\"checkbox\" checked><label for=\"sk-estimator-id-2\" class=\"sk-toggleable__label sk-toggleable__label-arrow\">StandardScaler</label><div class=\"sk-toggleable__content\"><pre>StandardScaler()</pre></div></div></div></div></div>"
      ],
      "text/plain": [
       "StandardScaler()"
      ]
     },
     "execution_count": 75,
     "metadata": {},
     "output_type": "execute_result"
    }
   ],
   "source": [
    "from sklearn.preprocessing import StandardScaler\n",
    "std_Scaler=StandardScaler()\n",
    "std_Scaler"
   ]
  },
  {
   "cell_type": "code",
   "execution_count": 76,
   "id": "10ec7bfa",
   "metadata": {},
   "outputs": [],
   "source": [
    "X=std_Scaler.fit_transform(pca_df)"
   ]
  },
  {
   "cell_type": "code",
   "execution_count": 77,
   "id": "da09b7c2",
   "metadata": {},
   "outputs": [],
   "source": [
    "Y=Y_train"
   ]
  },
  {
   "cell_type": "code",
   "execution_count": 78,
   "id": "b304c1dd",
   "metadata": {},
   "outputs": [],
   "source": [
    "from sklearn.cluster import KMeans"
   ]
  },
  {
   "cell_type": "code",
   "execution_count": 79,
   "id": "aed2fbc0",
   "metadata": {},
   "outputs": [
    {
     "name": "stdout",
     "output_type": "stream",
     "text": [
      "Initialization complete\n",
      "Iteration 0, inertia 26657.328288946297.\n",
      "Iteration 1, inertia 17182.650709997142.\n",
      "Iteration 2, inertia 17062.15193014039.\n",
      "Iteration 3, inertia 16984.37037463285.\n",
      "Iteration 4, inertia 16925.03873801647.\n",
      "Iteration 5, inertia 16884.656125352543.\n",
      "Iteration 6, inertia 16850.763113969922.\n",
      "Iteration 7, inertia 16824.88281195169.\n",
      "Iteration 8, inertia 16799.51463657745.\n",
      "Iteration 9, inertia 16776.06638139578.\n",
      "Iteration 10, inertia 16751.055571593275.\n",
      "Iteration 11, inertia 16733.28700664791.\n",
      "Iteration 12, inertia 16723.205976102203.\n",
      "Iteration 13, inertia 16714.338195851782.\n",
      "Iteration 14, inertia 16698.57543911261.\n",
      "Iteration 15, inertia 16688.41555445559.\n",
      "Iteration 16, inertia 16679.224112415286.\n",
      "Iteration 17, inertia 16674.482969432866.\n",
      "Iteration 18, inertia 16670.38815517391.\n",
      "Iteration 19, inertia 16665.162282810117.\n",
      "Iteration 20, inertia 16660.724357109968.\n",
      "Iteration 21, inertia 16657.20975935938.\n",
      "Iteration 22, inertia 16654.87705624984.\n",
      "Iteration 23, inertia 16650.816215915896.\n",
      "Iteration 24, inertia 16648.633442871873.\n",
      "Iteration 25, inertia 16646.933226149125.\n",
      "Iteration 26, inertia 16645.25137149252.\n",
      "Iteration 27, inertia 16644.028687952166.\n",
      "Iteration 28, inertia 16642.551614996675.\n",
      "Iteration 29, inertia 16638.425184438962.\n",
      "Iteration 30, inertia 16624.224442278814.\n",
      "Iteration 31, inertia 16603.380119882728.\n",
      "Iteration 32, inertia 16574.05710376335.\n",
      "Iteration 33, inertia 16544.854518309778.\n",
      "Iteration 34, inertia 16523.467993806244.\n",
      "Iteration 35, inertia 16512.764574524856.\n",
      "Iteration 36, inertia 16507.34041428093.\n",
      "Iteration 37, inertia 16505.8475545589.\n",
      "Converged at iteration 37: center shift 9.067432642911844e-05 within tolerance 0.00010000000000000036.\n",
      "Initialization complete\n",
      "Iteration 0, inertia 23184.07916369675.\n",
      "Iteration 1, inertia 16903.639861963366.\n",
      "Iteration 2, inertia 16755.350912554735.\n",
      "Iteration 3, inertia 16694.684955585362.\n",
      "Iteration 4, inertia 16670.584440306025.\n",
      "Iteration 5, inertia 16659.984505541437.\n",
      "Iteration 6, inertia 16655.33943057377.\n",
      "Iteration 7, inertia 16652.725905228996.\n",
      "Iteration 8, inertia 16651.513339372366.\n",
      "Iteration 9, inertia 16650.80761387202.\n",
      "Iteration 10, inertia 16649.830617442574.\n",
      "Iteration 11, inertia 16648.341464007397.\n",
      "Iteration 12, inertia 16647.217252408496.\n",
      "Iteration 13, inertia 16646.75008061964.\n",
      "Converged at iteration 13: center shift 7.534888601864098e-05 within tolerance 0.00010000000000000036.\n",
      "Initialization complete\n",
      "Iteration 0, inertia 31671.458442633822.\n",
      "Iteration 1, inertia 17047.29732950879.\n",
      "Iteration 2, inertia 16765.41698322677.\n",
      "Iteration 3, inertia 16656.917931484913.\n",
      "Iteration 4, inertia 16601.426202919185.\n",
      "Iteration 5, inertia 16561.601171562335.\n",
      "Iteration 6, inertia 16534.50896142858.\n",
      "Iteration 7, inertia 16519.69175588066.\n",
      "Iteration 8, inertia 16514.080796629067.\n",
      "Iteration 9, inertia 16510.487449596818.\n",
      "Iteration 10, inertia 16507.837481832335.\n",
      "Iteration 11, inertia 16506.819887045738.\n",
      "Iteration 12, inertia 16506.09681019236.\n",
      "Converged at iteration 12: center shift 6.843097069303979e-05 within tolerance 0.00010000000000000036.\n",
      "Initialization complete\n",
      "Iteration 0, inertia 22182.67194035773.\n",
      "Iteration 1, inertia 16943.58237016547.\n",
      "Iteration 2, inertia 16932.974464401377.\n",
      "Iteration 3, inertia 16922.116314462783.\n",
      "Iteration 4, inertia 16912.482269337022.\n",
      "Iteration 5, inertia 16900.696617752183.\n",
      "Iteration 6, inertia 16878.66674035782.\n",
      "Iteration 7, inertia 16857.645288773456.\n",
      "Iteration 8, inertia 16843.60275999827.\n",
      "Iteration 9, inertia 16835.910208982245.\n",
      "Iteration 10, inertia 16832.171827515875.\n",
      "Iteration 11, inertia 16829.47652642552.\n",
      "Iteration 12, inertia 16828.657360263915.\n",
      "Iteration 13, inertia 16827.909025229026.\n",
      "Iteration 14, inertia 16827.578940321.\n",
      "Iteration 15, inertia 16827.378751279983.\n",
      "Converged at iteration 15: center shift 1.2457859840263813e-05 within tolerance 0.00010000000000000036.\n",
      "Initialization complete\n",
      "Iteration 0, inertia 23745.76164630979.\n",
      "Iteration 1, inertia 17194.10310880194.\n",
      "Iteration 2, inertia 17058.992343736896.\n",
      "Iteration 3, inertia 16999.12927496565.\n",
      "Iteration 4, inertia 16971.47765590657.\n",
      "Iteration 5, inertia 16961.134180922207.\n",
      "Iteration 6, inertia 16956.774042936948.\n",
      "Iteration 7, inertia 16954.040962094074.\n",
      "Iteration 8, inertia 16950.09862938925.\n",
      "Iteration 9, inertia 16947.90915819297.\n",
      "Iteration 10, inertia 16946.37469244431.\n",
      "Iteration 11, inertia 16945.337116843715.\n",
      "Iteration 12, inertia 16944.640336409502.\n",
      "Iteration 13, inertia 16944.2005382254.\n",
      "Converged at iteration 13: center shift 4.771408935292504e-05 within tolerance 0.00010000000000000036.\n",
      "Initialization complete\n",
      "Iteration 0, inertia 21668.713228625984.\n",
      "Iteration 1, inertia 16879.04879948461.\n",
      "Iteration 2, inertia 16773.301266831822.\n",
      "Iteration 3, inertia 16733.291984920845.\n",
      "Iteration 4, inertia 16714.126588405146.\n",
      "Iteration 5, inertia 16699.2563959405.\n",
      "Iteration 6, inertia 16681.427478966187.\n",
      "Iteration 7, inertia 16670.827366749665.\n",
      "Iteration 8, inertia 16666.45050695164.\n",
      "Iteration 9, inertia 16660.989117510268.\n",
      "Iteration 10, inertia 16656.715297584728.\n",
      "Iteration 11, inertia 16652.31150455105.\n",
      "Iteration 12, inertia 16650.491489035234.\n",
      "Iteration 13, inertia 16649.254506490302.\n",
      "Iteration 14, inertia 16648.597680506715.\n",
      "Converged at iteration 14: center shift 9.220636526125332e-05 within tolerance 0.00010000000000000036.\n",
      "Initialization complete\n",
      "Iteration 0, inertia 23523.342420547044.\n",
      "Iteration 1, inertia 17240.045396389345.\n",
      "Iteration 2, inertia 17109.294254988672.\n",
      "Iteration 3, inertia 17059.05182549161.\n",
      "Iteration 4, inertia 17040.020613887427.\n",
      "Iteration 5, inertia 17029.880042652712.\n",
      "Iteration 6, inertia 17021.72521448047.\n",
      "Iteration 7, inertia 17016.244097917985.\n",
      "Iteration 8, inertia 17014.134245141664.\n",
      "Iteration 9, inertia 17013.537588450145.\n",
      "Iteration 10, inertia 17013.197208322596.\n",
      "Converged at iteration 10: center shift 9.691908099427295e-05 within tolerance 0.00010000000000000036.\n",
      "Initialization complete\n",
      "Iteration 0, inertia 20607.98129425547.\n",
      "Iteration 1, inertia 16942.915487199163.\n",
      "Iteration 2, inertia 16916.24263951217.\n",
      "Iteration 3, inertia 16906.06834524514.\n",
      "Iteration 4, inertia 16901.130554823823.\n",
      "Iteration 5, inertia 16895.38688924572.\n",
      "Iteration 6, inertia 16885.8145556709.\n",
      "Iteration 7, inertia 16878.87391026084.\n",
      "Iteration 8, inertia 16874.590143415575.\n",
      "Iteration 9, inertia 16871.253930223105.\n",
      "Iteration 10, inertia 16869.207625555835.\n",
      "Iteration 11, inertia 16866.291188917206.\n",
      "Iteration 12, inertia 16863.582963630728.\n",
      "Iteration 13, inertia 16859.2647533823.\n",
      "Iteration 14, inertia 16856.976513433903.\n",
      "Iteration 15, inertia 16856.625040542724.\n",
      "Iteration 16, inertia 16856.298590439754.\n",
      "Converged at iteration 16: center shift 8.62797980445096e-05 within tolerance 0.00010000000000000036.\n",
      "Initialization complete\n",
      "Iteration 0, inertia 20745.333967427086.\n",
      "Iteration 1, inertia 17071.62622679862.\n",
      "Iteration 2, inertia 17037.145272675705.\n",
      "Iteration 3, inertia 17003.30685349965.\n",
      "Iteration 4, inertia 16968.234974831616.\n",
      "Iteration 5, inertia 16939.6658950578.\n",
      "Iteration 6, inertia 16918.842659867958.\n",
      "Iteration 7, inertia 16906.514594387754.\n",
      "Iteration 8, inertia 16898.95550654418.\n",
      "Iteration 9, inertia 16891.913598813884.\n",
      "Iteration 10, inertia 16885.668233400844.\n",
      "Iteration 11, inertia 16881.887251021948.\n",
      "Iteration 12, inertia 16878.973785921473.\n",
      "Iteration 13, inertia 16876.91302606221.\n",
      "Iteration 14, inertia 16875.938705258184.\n",
      "Iteration 15, inertia 16875.17588549868.\n",
      "Iteration 16, inertia 16874.775224527304.\n",
      "Converged at iteration 16: center shift 5.65354113262962e-05 within tolerance 0.00010000000000000036.\n",
      "Initialization complete\n",
      "Iteration 0, inertia 19309.28751874563.\n",
      "Iteration 1, inertia 17427.01155587629.\n",
      "Iteration 2, inertia 17082.35857390888.\n",
      "Iteration 3, inertia 16937.394764746798.\n",
      "Iteration 4, inertia 16847.704881712383.\n",
      "Iteration 5, inertia 16756.970868608878.\n",
      "Iteration 6, inertia 16694.0127823298.\n",
      "Iteration 7, inertia 16650.13780671914.\n",
      "Iteration 8, inertia 16629.410493330135.\n",
      "Iteration 9, inertia 16604.813549823513.\n",
      "Iteration 10, inertia 16582.97166191685.\n",
      "Iteration 11, inertia 16558.41865462395.\n",
      "Iteration 12, inertia 16542.823701903933.\n",
      "Iteration 13, inertia 16530.8371946581.\n",
      "Iteration 14, inertia 16517.759261602518.\n",
      "Iteration 15, inertia 16508.854600317343.\n",
      "Iteration 16, inertia 16507.23321161016.\n",
      "Iteration 17, inertia 16506.258085666916.\n",
      "Converged at iteration 17: center shift 9.20450247893753e-05 within tolerance 0.00010000000000000036.\n"
     ]
    }
   ],
   "source": [
    "km1 = KMeans(algorithm='lloyd', copy_x=True, init='k-means++', max_iter=300,\n",
    "       n_clusters=2, n_init=10, random_state=66, tol=0.0001, verbose=2)\n",
    "\n",
    "y=km1.fit_predict(X)"
   ]
  },
  {
   "cell_type": "code",
   "execution_count": 80,
   "id": "c975dc65",
   "metadata": {},
   "outputs": [
    {
     "data": {
      "text/plain": [
       "5023"
      ]
     },
     "execution_count": 80,
     "metadata": {},
     "output_type": "execute_result"
    }
   ],
   "source": [
    "len(y)"
   ]
  },
  {
   "cell_type": "code",
   "execution_count": 81,
   "id": "0d09c0f0",
   "metadata": {},
   "outputs": [],
   "source": [
    "df_train['clusters']=y"
   ]
  },
  {
   "cell_type": "code",
   "execution_count": 82,
   "id": "ecd68d80",
   "metadata": {},
   "outputs": [],
   "source": [
    "cluster=df_train[['subject','Group','clusters']]"
   ]
  },
  {
   "cell_type": "code",
   "execution_count": 83,
   "id": "eb83b30c",
   "metadata": {},
   "outputs": [
    {
     "data": {
      "text/html": [
       "<div>\n",
       "<style scoped>\n",
       "    .dataframe tbody tr th:only-of-type {\n",
       "        vertical-align: middle;\n",
       "    }\n",
       "\n",
       "    .dataframe tbody tr th {\n",
       "        vertical-align: top;\n",
       "    }\n",
       "\n",
       "    .dataframe thead th {\n",
       "        text-align: right;\n",
       "    }\n",
       "</style>\n",
       "<table border=\"1\" class=\"dataframe\">\n",
       "  <thead>\n",
       "    <tr style=\"text-align: right;\">\n",
       "      <th></th>\n",
       "      <th>subject</th>\n",
       "      <th>Group</th>\n",
       "      <th>clusters</th>\n",
       "    </tr>\n",
       "  </thead>\n",
       "  <tbody>\n",
       "    <tr>\n",
       "      <th>0</th>\n",
       "      <td>300_P_0.wav</td>\n",
       "      <td>0</td>\n",
       "      <td>0</td>\n",
       "    </tr>\n",
       "    <tr>\n",
       "      <th>1</th>\n",
       "      <td>300_P_1.wav</td>\n",
       "      <td>0</td>\n",
       "      <td>0</td>\n",
       "    </tr>\n",
       "    <tr>\n",
       "      <th>2</th>\n",
       "      <td>300_P_10.wav</td>\n",
       "      <td>0</td>\n",
       "      <td>0</td>\n",
       "    </tr>\n",
       "    <tr>\n",
       "      <th>3</th>\n",
       "      <td>300_P_11.wav</td>\n",
       "      <td>0</td>\n",
       "      <td>0</td>\n",
       "    </tr>\n",
       "    <tr>\n",
       "      <th>4</th>\n",
       "      <td>300_P_12.wav</td>\n",
       "      <td>0</td>\n",
       "      <td>0</td>\n",
       "    </tr>\n",
       "    <tr>\n",
       "      <th>...</th>\n",
       "      <td>...</td>\n",
       "      <td>...</td>\n",
       "      <td>...</td>\n",
       "    </tr>\n",
       "    <tr>\n",
       "      <th>5018</th>\n",
       "      <td>713_P_5.wav</td>\n",
       "      <td>0</td>\n",
       "      <td>1</td>\n",
       "    </tr>\n",
       "    <tr>\n",
       "      <th>5019</th>\n",
       "      <td>713_P_6.wav</td>\n",
       "      <td>0</td>\n",
       "      <td>1</td>\n",
       "    </tr>\n",
       "    <tr>\n",
       "      <th>5020</th>\n",
       "      <td>713_P_7.wav</td>\n",
       "      <td>0</td>\n",
       "      <td>1</td>\n",
       "    </tr>\n",
       "    <tr>\n",
       "      <th>5021</th>\n",
       "      <td>713_P_8.wav</td>\n",
       "      <td>0</td>\n",
       "      <td>0</td>\n",
       "    </tr>\n",
       "    <tr>\n",
       "      <th>5022</th>\n",
       "      <td>713_P_9.wav</td>\n",
       "      <td>0</td>\n",
       "      <td>0</td>\n",
       "    </tr>\n",
       "  </tbody>\n",
       "</table>\n",
       "<p>5023 rows × 3 columns</p>\n",
       "</div>"
      ],
      "text/plain": [
       "           subject  Group  clusters\n",
       "0      300_P_0.wav      0         0\n",
       "1      300_P_1.wav      0         0\n",
       "2     300_P_10.wav      0         0\n",
       "3     300_P_11.wav      0         0\n",
       "4     300_P_12.wav      0         0\n",
       "...            ...    ...       ...\n",
       "5018   713_P_5.wav      0         1\n",
       "5019   713_P_6.wav      0         1\n",
       "5020   713_P_7.wav      0         1\n",
       "5021   713_P_8.wav      0         0\n",
       "5022   713_P_9.wav      0         0\n",
       "\n",
       "[5023 rows x 3 columns]"
      ]
     },
     "execution_count": 83,
     "metadata": {},
     "output_type": "execute_result"
    }
   ],
   "source": [
    "cluster"
   ]
  },
  {
   "cell_type": "code",
   "execution_count": 84,
   "id": "f033ccfe",
   "metadata": {},
   "outputs": [
    {
     "data": {
      "text/plain": [
       "0.5273740792355166"
      ]
     },
     "execution_count": 84,
     "metadata": {},
     "output_type": "execute_result"
    }
   ],
   "source": [
    "from sklearn import metrics\n",
    "metrics.accuracy_score(Y,y)"
   ]
  },
  {
   "cell_type": "code",
   "execution_count": 85,
   "id": "36533632",
   "metadata": {},
   "outputs": [
    {
     "name": "stdout",
     "output_type": "stream",
     "text": [
      "              precision    recall  f1-score   support\n",
      "\n",
      "           0       0.76      0.57      0.65      3878\n",
      "           1       0.21      0.38      0.27      1145\n",
      "\n",
      "    accuracy                           0.53      5023\n",
      "   macro avg       0.48      0.47      0.46      5023\n",
      "weighted avg       0.63      0.53      0.56      5023\n",
      "\n"
     ]
    }
   ],
   "source": [
    "from sklearn.metrics import classification_report\n",
    "print(classification_report(Y,y))"
   ]
  },
  {
   "cell_type": "code",
   "execution_count": 86,
   "id": "637408a7",
   "metadata": {
    "scrolled": true
   },
   "outputs": [
    {
     "data": {
      "image/png": "[encoded data removed]",
      "text/plain": [
       "<Figure size 640x480 with 1 Axes>"
      ]
     },
     "metadata": {},
     "output_type": "display_data"
    }
   ],
   "source": [
    "sns.scatterplot(x=\"PCA1\",y=\"PCA2\",hue=y,palette=['green','red'],data=pca_df)\n",
    "plt.title(\"K-means Clustering for for 2 Classes\")\n",
    "plt.show()"
   ]
  },
  {
   "cell_type": "code",
   "execution_count": 87,
   "id": "894241ff",
   "metadata": {},
   "outputs": [
    {
     "data": {
      "image/png": "[encoded data removed]",
      "text/plain": [
       "<Figure size 640x480 with 1 Axes>"
      ]
     },
     "metadata": {},
     "output_type": "display_data"
    }
   ],
   "source": [
    "sns.scatterplot(x=\"PCA1\",y=\"PCA2\",hue=Y,palette=['green','red'],data=pca_df)\n",
    "plt.title(\"K-means Clustering for for 2 Classes\")\n",
    "plt.show()"
   ]
  },
  {
   "cell_type": "code",
   "execution_count": 88,
   "id": "4088929b",
   "metadata": {},
   "outputs": [],
   "source": [
    "#cluster.to_csv('/home/vboxuser/VoiceFiles/kmeans.csv')"
   ]
  },
  {
   "cell_type": "code",
   "execution_count": 89,
   "id": "7f2b4923",
   "metadata": {},
   "outputs": [],
   "source": [
    "selection=cluster[cluster['Group']==cluster['clusters']]"
   ]
  },
  {
   "cell_type": "code",
   "execution_count": 90,
   "id": "cd8d7716",
   "metadata": {},
   "outputs": [
    {
     "data": {
      "text/plain": [
       "Group\n",
       "0    2218\n",
       "1     431\n",
       "Name: Group, dtype: int64"
      ]
     },
     "execution_count": 90,
     "metadata": {},
     "output_type": "execute_result"
    }
   ],
   "source": [
    "selection.groupby(['Group'])['Group'].count()"
   ]
  },
  {
   "cell_type": "markdown",
   "id": "d3fc810b",
   "metadata": {},
   "source": [
    "2649  correctly classified data points"
   ]
  },
  {
   "cell_type": "code",
   "execution_count": 91,
   "id": "e66dfc2a",
   "metadata": {},
   "outputs": [
    {
     "data": {
      "text/html": [
       "<div>\n",
       "<style scoped>\n",
       "    .dataframe tbody tr th:only-of-type {\n",
       "        vertical-align: middle;\n",
       "    }\n",
       "\n",
       "    .dataframe tbody tr th {\n",
       "        vertical-align: top;\n",
       "    }\n",
       "\n",
       "    .dataframe thead th {\n",
       "        text-align: right;\n",
       "    }\n",
       "</style>\n",
       "<table border=\"1\" class=\"dataframe\">\n",
       "  <thead>\n",
       "    <tr style=\"text-align: right;\">\n",
       "      <th></th>\n",
       "      <th>subject</th>\n",
       "      <th>Group</th>\n",
       "      <th>clusters</th>\n",
       "    </tr>\n",
       "  </thead>\n",
       "  <tbody>\n",
       "    <tr>\n",
       "      <th>0</th>\n",
       "      <td>300_P_0.wav</td>\n",
       "      <td>0</td>\n",
       "      <td>0</td>\n",
       "    </tr>\n",
       "    <tr>\n",
       "      <th>1</th>\n",
       "      <td>300_P_1.wav</td>\n",
       "      <td>0</td>\n",
       "      <td>0</td>\n",
       "    </tr>\n",
       "    <tr>\n",
       "      <th>2</th>\n",
       "      <td>300_P_10.wav</td>\n",
       "      <td>0</td>\n",
       "      <td>0</td>\n",
       "    </tr>\n",
       "    <tr>\n",
       "      <th>3</th>\n",
       "      <td>300_P_11.wav</td>\n",
       "      <td>0</td>\n",
       "      <td>0</td>\n",
       "    </tr>\n",
       "    <tr>\n",
       "      <th>4</th>\n",
       "      <td>300_P_12.wav</td>\n",
       "      <td>0</td>\n",
       "      <td>0</td>\n",
       "    </tr>\n",
       "    <tr>\n",
       "      <th>...</th>\n",
       "      <td>...</td>\n",
       "      <td>...</td>\n",
       "      <td>...</td>\n",
       "    </tr>\n",
       "    <tr>\n",
       "      <th>5008</th>\n",
       "      <td>713_P_39.wav</td>\n",
       "      <td>0</td>\n",
       "      <td>0</td>\n",
       "    </tr>\n",
       "    <tr>\n",
       "      <th>5010</th>\n",
       "      <td>713_P_40.wav</td>\n",
       "      <td>0</td>\n",
       "      <td>0</td>\n",
       "    </tr>\n",
       "    <tr>\n",
       "      <th>5016</th>\n",
       "      <td>713_P_46.wav</td>\n",
       "      <td>0</td>\n",
       "      <td>0</td>\n",
       "    </tr>\n",
       "    <tr>\n",
       "      <th>5021</th>\n",
       "      <td>713_P_8.wav</td>\n",
       "      <td>0</td>\n",
       "      <td>0</td>\n",
       "    </tr>\n",
       "    <tr>\n",
       "      <th>5022</th>\n",
       "      <td>713_P_9.wav</td>\n",
       "      <td>0</td>\n",
       "      <td>0</td>\n",
       "    </tr>\n",
       "  </tbody>\n",
       "</table>\n",
       "<p>2649 rows × 3 columns</p>\n",
       "</div>"
      ],
      "text/plain": [
       "           subject  Group  clusters\n",
       "0      300_P_0.wav      0         0\n",
       "1      300_P_1.wav      0         0\n",
       "2     300_P_10.wav      0         0\n",
       "3     300_P_11.wav      0         0\n",
       "4     300_P_12.wav      0         0\n",
       "...            ...    ...       ...\n",
       "5008  713_P_39.wav      0         0\n",
       "5010  713_P_40.wav      0         0\n",
       "5016  713_P_46.wav      0         0\n",
       "5021   713_P_8.wav      0         0\n",
       "5022   713_P_9.wav      0         0\n",
       "\n",
       "[2649 rows x 3 columns]"
      ]
     },
     "execution_count": 91,
     "metadata": {},
     "output_type": "execute_result"
    }
   ],
   "source": [
    "selection"
   ]
  },
  {
   "cell_type": "code",
   "execution_count": 92,
   "id": "179d4436",
   "metadata": {},
   "outputs": [],
   "source": [
    "new_df=df_train[df_train.index.isin(selection.index)]"
   ]
  },
  {
   "cell_type": "code",
   "execution_count": 93,
   "id": "f72ca0ca",
   "metadata": {},
   "outputs": [
    {
     "data": {
      "text/plain": [
       "(2649, 31)"
      ]
     },
     "execution_count": 93,
     "metadata": {},
     "output_type": "execute_result"
    }
   ],
   "source": [
    "new_df.shape"
   ]
  },
  {
   "cell_type": "code",
   "execution_count": 94,
   "id": "e8714076",
   "metadata": {},
   "outputs": [
    {
     "data": {
      "text/plain": [
       "Group\n",
       "0    2218\n",
       "1     431\n",
       "Name: Group, dtype: int64"
      ]
     },
     "execution_count": 94,
     "metadata": {},
     "output_type": "execute_result"
    }
   ],
   "source": [
    "new_df.groupby(['Group'])['Group'].count()"
   ]
  },
  {
   "cell_type": "code",
   "execution_count": 95,
   "id": "86fb5279",
   "metadata": {},
   "outputs": [],
   "source": [
    "X_train=new_df[new_df.columns.intersection(feature_list)]\n",
    "Y_train=new_df['Group']"
   ]
  },
  {
   "cell_type": "code",
   "execution_count": 96,
   "id": "b7e2e0df",
   "metadata": {},
   "outputs": [
    {
     "data": {
      "text/plain": [
       "(2649, 16)"
      ]
     },
     "execution_count": 96,
     "metadata": {},
     "output_type": "execute_result"
    }
   ],
   "source": [
    "X_train.shape"
   ]
  },
  {
   "cell_type": "code",
   "execution_count": 97,
   "id": "fbe46b70",
   "metadata": {},
   "outputs": [
    {
     "data": {
      "text/plain": [
       "(2649,)"
      ]
     },
     "execution_count": 97,
     "metadata": {},
     "output_type": "execute_result"
    }
   ],
   "source": [
    "Y_train.shape"
   ]
  },
  {
   "cell_type": "code",
   "execution_count": 98,
   "id": "fc9b258c",
   "metadata": {},
   "outputs": [],
   "source": [
    "! pip install imblearn --quiet\n",
    "\n",
    "from imblearn.over_sampling import SMOTE\n",
    "\n",
    "sm = SMOTE(sampling_strategy='minority', random_state=42)\n",
    "\n",
    "X_train_resampled, Y_train_resampled = sm.fit_resample(X_train,Y_train)\n",
    "df_train_upsampled = pd.concat([pd.DataFrame(Y_train_resampled), pd.DataFrame(X_train_resampled)], axis=1)"
   ]
  },
  {
   "cell_type": "markdown",
   "id": "132b2c15",
   "metadata": {},
   "source": [
    "from sklearn.utils import resample\n",
    "\n",
    "df_1=new_df[new_df['Group']==1]\n",
    "df_other=new_df[new_df['Group']!=1]\n",
    "df_upsampled=resample(df_1,random_state=42,n_samples=2228,replace=True)\n",
    "df_train_upsampled=pd.concat([df_upsampled,df_other])"
   ]
  },
  {
   "cell_type": "code",
   "execution_count": 99,
   "id": "d3a7c3ca",
   "metadata": {},
   "outputs": [
    {
     "data": {
      "text/plain": [
       "Group\n",
       "0    2218\n",
       "1    2218\n",
       "Name: Group, dtype: int64"
      ]
     },
     "execution_count": 99,
     "metadata": {},
     "output_type": "execute_result"
    }
   ],
   "source": [
    "df_train_upsampled.groupby(['Group'])['Group'].count()"
   ]
  },
  {
   "cell_type": "code",
   "execution_count": 100,
   "id": "f4f0d474",
   "metadata": {},
   "outputs": [
    {
     "data": {
      "text/html": [
       "<div>\n",
       "<style scoped>\n",
       "    .dataframe tbody tr th:only-of-type {\n",
       "        vertical-align: middle;\n",
       "    }\n",
       "\n",
       "    .dataframe tbody tr th {\n",
       "        vertical-align: top;\n",
       "    }\n",
       "\n",
       "    .dataframe thead th {\n",
       "        text-align: right;\n",
       "    }\n",
       "</style>\n",
       "<table border=\"1\" class=\"dataframe\">\n",
       "  <thead>\n",
       "    <tr style=\"text-align: right;\">\n",
       "      <th></th>\n",
       "      <th>Group</th>\n",
       "      <th>avg ppq</th>\n",
       "      <th>std DF0</th>\n",
       "      <th>std DDF0</th>\n",
       "      <th>std Jitter</th>\n",
       "      <th>std ppq</th>\n",
       "      <th>std logE</th>\n",
       "      <th>skewness DF0</th>\n",
       "      <th>skewness DDF0</th>\n",
       "      <th>skewness Jitter</th>\n",
       "      <th>skewness Shimmer</th>\n",
       "      <th>skewness apq</th>\n",
       "      <th>kurtosis DF0</th>\n",
       "      <th>kurtosis DDF0</th>\n",
       "      <th>kurtosis Jitter</th>\n",
       "      <th>kurtosis Shimmer</th>\n",
       "      <th>kurtosis logE</th>\n",
       "    </tr>\n",
       "  </thead>\n",
       "  <tbody>\n",
       "    <tr>\n",
       "      <th>0</th>\n",
       "      <td>0</td>\n",
       "      <td>3.304526</td>\n",
       "      <td>14.054193</td>\n",
       "      <td>19.669178</td>\n",
       "      <td>4.727189</td>\n",
       "      <td>4.656089</td>\n",
       "      <td>5.357163</td>\n",
       "      <td>1.831292</td>\n",
       "      <td>-0.356258</td>\n",
       "      <td>3.726725</td>\n",
       "      <td>3.563109</td>\n",
       "      <td>2.696940</td>\n",
       "      <td>14.129969</td>\n",
       "      <td>8.746996</td>\n",
       "      <td>16.117512</td>\n",
       "      <td>15.020170</td>\n",
       "      <td>-0.450599</td>\n",
       "    </tr>\n",
       "    <tr>\n",
       "      <th>1</th>\n",
       "      <td>0</td>\n",
       "      <td>1.908758</td>\n",
       "      <td>8.237100</td>\n",
       "      <td>13.521247</td>\n",
       "      <td>4.786674</td>\n",
       "      <td>4.212096</td>\n",
       "      <td>3.455829</td>\n",
       "      <td>4.052650</td>\n",
       "      <td>-0.769876</td>\n",
       "      <td>6.655218</td>\n",
       "      <td>2.104708</td>\n",
       "      <td>1.080713</td>\n",
       "      <td>46.655725</td>\n",
       "      <td>30.354837</td>\n",
       "      <td>51.932924</td>\n",
       "      <td>5.046667</td>\n",
       "      <td>-0.487237</td>\n",
       "    </tr>\n",
       "    <tr>\n",
       "      <th>2</th>\n",
       "      <td>0</td>\n",
       "      <td>2.291457</td>\n",
       "      <td>11.486531</td>\n",
       "      <td>16.360935</td>\n",
       "      <td>5.077145</td>\n",
       "      <td>4.586097</td>\n",
       "      <td>3.469334</td>\n",
       "      <td>4.674117</td>\n",
       "      <td>-0.459939</td>\n",
       "      <td>5.581281</td>\n",
       "      <td>2.650319</td>\n",
       "      <td>1.631476</td>\n",
       "      <td>31.587241</td>\n",
       "      <td>17.874929</td>\n",
       "      <td>35.549297</td>\n",
       "      <td>8.486273</td>\n",
       "      <td>1.440022</td>\n",
       "    </tr>\n",
       "    <tr>\n",
       "      <th>3</th>\n",
       "      <td>0</td>\n",
       "      <td>2.408202</td>\n",
       "      <td>10.560434</td>\n",
       "      <td>14.010489</td>\n",
       "      <td>3.955414</td>\n",
       "      <td>3.713727</td>\n",
       "      <td>4.814435</td>\n",
       "      <td>2.821922</td>\n",
       "      <td>-0.300459</td>\n",
       "      <td>4.797805</td>\n",
       "      <td>3.194715</td>\n",
       "      <td>1.154234</td>\n",
       "      <td>23.995068</td>\n",
       "      <td>12.011855</td>\n",
       "      <td>28.412905</td>\n",
       "      <td>14.547425</td>\n",
       "      <td>0.434183</td>\n",
       "    </tr>\n",
       "    <tr>\n",
       "      <th>4</th>\n",
       "      <td>0</td>\n",
       "      <td>2.731858</td>\n",
       "      <td>12.669660</td>\n",
       "      <td>18.539904</td>\n",
       "      <td>5.446981</td>\n",
       "      <td>5.000735</td>\n",
       "      <td>6.311549</td>\n",
       "      <td>2.728927</td>\n",
       "      <td>0.425365</td>\n",
       "      <td>5.122478</td>\n",
       "      <td>3.309690</td>\n",
       "      <td>2.135642</td>\n",
       "      <td>29.220998</td>\n",
       "      <td>16.726301</td>\n",
       "      <td>31.792951</td>\n",
       "      <td>11.423945</td>\n",
       "      <td>-0.448466</td>\n",
       "    </tr>\n",
       "    <tr>\n",
       "      <th>...</th>\n",
       "      <td>...</td>\n",
       "      <td>...</td>\n",
       "      <td>...</td>\n",
       "      <td>...</td>\n",
       "      <td>...</td>\n",
       "      <td>...</td>\n",
       "      <td>...</td>\n",
       "      <td>...</td>\n",
       "      <td>...</td>\n",
       "      <td>...</td>\n",
       "      <td>...</td>\n",
       "      <td>...</td>\n",
       "      <td>...</td>\n",
       "      <td>...</td>\n",
       "      <td>...</td>\n",
       "      <td>...</td>\n",
       "      <td>...</td>\n",
       "    </tr>\n",
       "    <tr>\n",
       "      <th>4431</th>\n",
       "      <td>1</td>\n",
       "      <td>5.002662</td>\n",
       "      <td>20.917079</td>\n",
       "      <td>30.865998</td>\n",
       "      <td>8.314404</td>\n",
       "      <td>7.713349</td>\n",
       "      <td>5.715236</td>\n",
       "      <td>0.287717</td>\n",
       "      <td>-0.284378</td>\n",
       "      <td>3.628302</td>\n",
       "      <td>2.830284</td>\n",
       "      <td>1.016814</td>\n",
       "      <td>13.166922</td>\n",
       "      <td>5.256371</td>\n",
       "      <td>13.301318</td>\n",
       "      <td>10.734899</td>\n",
       "      <td>1.022927</td>\n",
       "    </tr>\n",
       "    <tr>\n",
       "      <th>4432</th>\n",
       "      <td>1</td>\n",
       "      <td>7.297984</td>\n",
       "      <td>26.299642</td>\n",
       "      <td>39.141018</td>\n",
       "      <td>7.752396</td>\n",
       "      <td>9.506050</td>\n",
       "      <td>8.187902</td>\n",
       "      <td>0.963446</td>\n",
       "      <td>-0.324869</td>\n",
       "      <td>2.989287</td>\n",
       "      <td>5.257427</td>\n",
       "      <td>0.833110</td>\n",
       "      <td>8.720606</td>\n",
       "      <td>4.468094</td>\n",
       "      <td>9.107896</td>\n",
       "      <td>36.089430</td>\n",
       "      <td>-0.650536</td>\n",
       "    </tr>\n",
       "    <tr>\n",
       "      <th>4433</th>\n",
       "      <td>1</td>\n",
       "      <td>7.680558</td>\n",
       "      <td>21.175793</td>\n",
       "      <td>30.935609</td>\n",
       "      <td>5.627851</td>\n",
       "      <td>9.221257</td>\n",
       "      <td>8.964974</td>\n",
       "      <td>3.029162</td>\n",
       "      <td>-0.241439</td>\n",
       "      <td>4.195868</td>\n",
       "      <td>2.584190</td>\n",
       "      <td>0.598895</td>\n",
       "      <td>14.745040</td>\n",
       "      <td>6.612588</td>\n",
       "      <td>20.881206</td>\n",
       "      <td>6.972177</td>\n",
       "      <td>-0.879232</td>\n",
       "    </tr>\n",
       "    <tr>\n",
       "      <th>4434</th>\n",
       "      <td>1</td>\n",
       "      <td>5.012485</td>\n",
       "      <td>20.460727</td>\n",
       "      <td>32.428133</td>\n",
       "      <td>7.479473</td>\n",
       "      <td>9.379910</td>\n",
       "      <td>4.923933</td>\n",
       "      <td>1.461031</td>\n",
       "      <td>0.503773</td>\n",
       "      <td>3.314229</td>\n",
       "      <td>5.407458</td>\n",
       "      <td>1.578120</td>\n",
       "      <td>11.184416</td>\n",
       "      <td>10.031410</td>\n",
       "      <td>11.561009</td>\n",
       "      <td>40.732923</td>\n",
       "      <td>1.883801</td>\n",
       "    </tr>\n",
       "    <tr>\n",
       "      <th>4435</th>\n",
       "      <td>1</td>\n",
       "      <td>3.949037</td>\n",
       "      <td>15.865109</td>\n",
       "      <td>22.767328</td>\n",
       "      <td>5.445317</td>\n",
       "      <td>6.707868</td>\n",
       "      <td>6.071300</td>\n",
       "      <td>0.316577</td>\n",
       "      <td>0.053555</td>\n",
       "      <td>4.516447</td>\n",
       "      <td>1.269395</td>\n",
       "      <td>0.930130</td>\n",
       "      <td>18.428805</td>\n",
       "      <td>9.333130</td>\n",
       "      <td>23.679174</td>\n",
       "      <td>1.209406</td>\n",
       "      <td>0.331553</td>\n",
       "    </tr>\n",
       "  </tbody>\n",
       "</table>\n",
       "<p>4436 rows × 17 columns</p>\n",
       "</div>"
      ],
      "text/plain": [
       "      Group   avg ppq    std DF0   std DDF0  std Jitter   std ppq  std logE  \\\n",
       "0         0  3.304526  14.054193  19.669178    4.727189  4.656089  5.357163   \n",
       "1         0  1.908758   8.237100  13.521247    4.786674  4.212096  3.455829   \n",
       "2         0  2.291457  11.486531  16.360935    5.077145  4.586097  3.469334   \n",
       "3         0  2.408202  10.560434  14.010489    3.955414  3.713727  4.814435   \n",
       "4         0  2.731858  12.669660  18.539904    5.446981  5.000735  6.311549   \n",
       "...     ...       ...        ...        ...         ...       ...       ...   \n",
       "4431      1  5.002662  20.917079  30.865998    8.314404  7.713349  5.715236   \n",
       "4432      1  7.297984  26.299642  39.141018    7.752396  9.506050  8.187902   \n",
       "4433      1  7.680558  21.175793  30.935609    5.627851  9.221257  8.964974   \n",
       "4434      1  5.012485  20.460727  32.428133    7.479473  9.379910  4.923933   \n",
       "4435      1  3.949037  15.865109  22.767328    5.445317  6.707868  6.071300   \n",
       "\n",
       "      skewness DF0  skewness DDF0  skewness Jitter  skewness Shimmer  \\\n",
       "0         1.831292      -0.356258         3.726725          3.563109   \n",
       "1         4.052650      -0.769876         6.655218          2.104708   \n",
       "2         4.674117      -0.459939         5.581281          2.650319   \n",
       "3         2.821922      -0.300459         4.797805          3.194715   \n",
       "4         2.728927       0.425365         5.122478          3.309690   \n",
       "...            ...            ...              ...               ...   \n",
       "4431      0.287717      -0.284378         3.628302          2.830284   \n",
       "4432      0.963446      -0.324869         2.989287          5.257427   \n",
       "4433      3.029162      -0.241439         4.195868          2.584190   \n",
       "4434      1.461031       0.503773         3.314229          5.407458   \n",
       "4435      0.316577       0.053555         4.516447          1.269395   \n",
       "\n",
       "      skewness apq  kurtosis DF0  kurtosis DDF0  kurtosis Jitter  \\\n",
       "0         2.696940     14.129969       8.746996        16.117512   \n",
       "1         1.080713     46.655725      30.354837        51.932924   \n",
       "2         1.631476     31.587241      17.874929        35.549297   \n",
       "3         1.154234     23.995068      12.011855        28.412905   \n",
       "4         2.135642     29.220998      16.726301        31.792951   \n",
       "...            ...           ...            ...              ...   \n",
       "4431      1.016814     13.166922       5.256371        13.301318   \n",
       "4432      0.833110      8.720606       4.468094         9.107896   \n",
       "4433      0.598895     14.745040       6.612588        20.881206   \n",
       "4434      1.578120     11.184416      10.031410        11.561009   \n",
       "4435      0.930130     18.428805       9.333130        23.679174   \n",
       "\n",
       "      kurtosis Shimmer  kurtosis logE  \n",
       "0            15.020170      -0.450599  \n",
       "1             5.046667      -0.487237  \n",
       "2             8.486273       1.440022  \n",
       "3            14.547425       0.434183  \n",
       "4            11.423945      -0.448466  \n",
       "...                ...            ...  \n",
       "4431         10.734899       1.022927  \n",
       "4432         36.089430      -0.650536  \n",
       "4433          6.972177      -0.879232  \n",
       "4434         40.732923       1.883801  \n",
       "4435          1.209406       0.331553  \n",
       "\n",
       "[4436 rows x 17 columns]"
      ]
     },
     "execution_count": 100,
     "metadata": {},
     "output_type": "execute_result"
    }
   ],
   "source": [
    "df_train_upsampled"
   ]
  },
  {
   "cell_type": "code",
   "execution_count": 101,
   "id": "cbff6951",
   "metadata": {},
   "outputs": [],
   "source": [
    "X_train_resampled=df_train_upsampled.drop(['Group'],axis=1)\n",
    "Y_train_resampled=df_train_upsampled['Group']"
   ]
  },
  {
   "cell_type": "code",
   "execution_count": 102,
   "id": "95eaaec5",
   "metadata": {},
   "outputs": [
    {
     "data": {
      "text/plain": [
       "(4436, 16)"
      ]
     },
     "execution_count": 102,
     "metadata": {},
     "output_type": "execute_result"
    }
   ],
   "source": [
    "X_train_resampled.shape"
   ]
  },
  {
   "cell_type": "code",
   "execution_count": 103,
   "id": "171f23c8",
   "metadata": {},
   "outputs": [],
   "source": [
    "import Normalization as n\n",
    "X=n.normalize_train(X_train_resampled)"
   ]
  },
  {
   "cell_type": "code",
   "execution_count": 104,
   "id": "03b96419",
   "metadata": {},
   "outputs": [],
   "source": [
    "Y=Y_train_resampled"
   ]
  },
  {
   "cell_type": "code",
   "execution_count": 105,
   "id": "43800463",
   "metadata": {},
   "outputs": [],
   "source": [
    "df_test=df_test.fillna(0)"
   ]
  },
  {
   "cell_type": "code",
   "execution_count": 106,
   "id": "eae04045",
   "metadata": {},
   "outputs": [],
   "source": [
    "#X_test=df_test[df_test.columns.intersection(feature_list)]\n",
    "#df_test[df_test.index.isin(selection.index)]\n",
    "df_test.replace({'Group':{\"HC\":0,\"DP\":1}},inplace=True)\n",
    "#Y_test=df_test['Group']"
   ]
  },
  {
   "cell_type": "code",
   "execution_count": 107,
   "id": "1c5abe86",
   "metadata": {},
   "outputs": [],
   "source": [
    "import itertools\n",
    "subject = df_test['subject']\n",
    "# empty list\n",
    "result = []\n",
    "\n",
    "iterator = itertools.groupby(subject, lambda string: string.split('_')[0])\n",
    "\n",
    "for element, group in iterator:\n",
    "   \n",
    "   result.append(list(group))"
   ]
  },
  {
   "cell_type": "code",
   "execution_count": 108,
   "id": "6d917258",
   "metadata": {},
   "outputs": [
    {
     "data": {
      "text/plain": [
       "56"
      ]
     },
     "execution_count": 108,
     "metadata": {},
     "output_type": "execute_result"
    }
   ],
   "source": [
    "len(result)"
   ]
  },
  {
   "cell_type": "code",
   "execution_count": 109,
   "id": "56c0843c",
   "metadata": {},
   "outputs": [],
   "source": [
    "from sklearn.svm import SVC"
   ]
  },
  {
   "cell_type": "code",
   "execution_count": 110,
   "id": "a9e69903",
   "metadata": {},
   "outputs": [],
   "source": [
    "X_test=df_test[df_test.columns.intersection(feature_list)]\n",
    "X_test=n.normalize_test(X_test)\n",
    "Y_test=df_test['Group']"
   ]
  },
  {
   "cell_type": "code",
   "execution_count": 111,
   "id": "3b081c33",
   "metadata": {},
   "outputs": [
    {
     "data": {
      "text/plain": [
       "(4580,)"
      ]
     },
     "execution_count": 111,
     "metadata": {},
     "output_type": "execute_result"
    }
   ],
   "source": [
    "Y_test.shape"
   ]
  },
  {
   "cell_type": "code",
   "execution_count": 112,
   "id": "ccd87d4f",
   "metadata": {},
   "outputs": [],
   "source": [
    "SVM_model = SVC(kernel='rbf',C=1,gamma=0.1, class_weight='balanced')\n",
    "SVM_model.fit(X,Y)\n",
    "Y_predict_SVM=SVM_model.predict(X_test)\n",
    "acc= metrics.accuracy_score(Y_test,Y_predict_SVM)"
   ]
  },
  {
   "cell_type": "code",
   "execution_count": 113,
   "id": "77176c84",
   "metadata": {},
   "outputs": [
    {
     "data": {
      "text/plain": [
       "0.5932314410480349"
      ]
     },
     "execution_count": 113,
     "metadata": {},
     "output_type": "execute_result"
    }
   ],
   "source": [
    "acc"
   ]
  },
  {
   "cell_type": "code",
   "execution_count": 114,
   "id": "1822c952",
   "metadata": {},
   "outputs": [],
   "source": [
    "param_grid= {'C':[0.1,1],\n",
    "             'gamma':[1,0.1,0.01],\n",
    "             'kernel':['rbf']\n",
    "            }"
   ]
  },
  {
   "cell_type": "code",
   "execution_count": 115,
   "id": "9db4b0ab",
   "metadata": {},
   "outputs": [
    {
     "name": "stdout",
     "output_type": "stream",
     "text": [
      "Fitting 5 folds for each of 6 candidates, totalling 30 fits\n",
      "[CV 1/5] END ........C=0.1, gamma=1, kernel=rbf;, score=0.849 total time=   1.9s\n",
      "[CV 2/5] END ........C=0.1, gamma=1, kernel=rbf;, score=0.962 total time=   1.9s\n",
      "[CV 3/5] END ........C=0.1, gamma=1, kernel=rbf;, score=0.955 total time=   1.8s\n",
      "[CV 4/5] END ........C=0.1, gamma=1, kernel=rbf;, score=0.981 total time=   1.9s\n",
      "[CV 5/5] END ........C=0.1, gamma=1, kernel=rbf;, score=0.955 total time=   2.0s\n",
      "[CV 1/5] END ......C=0.1, gamma=0.1, kernel=rbf;, score=0.962 total time=   0.6s\n",
      "[CV 2/5] END ......C=0.1, gamma=0.1, kernel=rbf;, score=0.966 total time=   0.6s\n",
      "[CV 3/5] END ......C=0.1, gamma=0.1, kernel=rbf;, score=0.945 total time=   0.6s\n",
      "[CV 4/5] END ......C=0.1, gamma=0.1, kernel=rbf;, score=0.958 total time=   0.7s\n",
      "[CV 5/5] END ......C=0.1, gamma=0.1, kernel=rbf;, score=0.955 total time=   0.6s\n",
      "[CV 1/5] END .....C=0.1, gamma=0.01, kernel=rbf;, score=0.954 total time=   0.7s\n",
      "[CV 2/5] END .....C=0.1, gamma=0.01, kernel=rbf;, score=0.968 total time=   0.7s\n",
      "[CV 3/5] END .....C=0.1, gamma=0.01, kernel=rbf;, score=0.941 total time=   0.6s\n",
      "[CV 4/5] END .....C=0.1, gamma=0.01, kernel=rbf;, score=0.959 total time=   0.9s\n",
      "[CV 5/5] END .....C=0.1, gamma=0.01, kernel=rbf;, score=0.971 total time=   1.2s\n",
      "[CV 1/5] END ..........C=1, gamma=1, kernel=rbf;, score=0.962 total time=   2.6s\n",
      "[CV 2/5] END ..........C=1, gamma=1, kernel=rbf;, score=0.988 total time=   2.6s\n",
      "[CV 3/5] END ..........C=1, gamma=1, kernel=rbf;, score=0.975 total time=   2.1s\n",
      "[CV 4/5] END ..........C=1, gamma=1, kernel=rbf;, score=0.991 total time=   2.1s\n",
      "[CV 5/5] END ..........C=1, gamma=1, kernel=rbf;, score=0.985 total time=   2.2s\n",
      "[CV 1/5] END ........C=1, gamma=0.1, kernel=rbf;, score=0.982 total time=   0.4s\n",
      "[CV 2/5] END ........C=1, gamma=0.1, kernel=rbf;, score=0.988 total time=   0.4s\n",
      "[CV 3/5] END ........C=1, gamma=0.1, kernel=rbf;, score=0.977 total time=   0.3s\n",
      "[CV 4/5] END ........C=1, gamma=0.1, kernel=rbf;, score=0.984 total time=   0.4s\n",
      "[CV 5/5] END ........C=1, gamma=0.1, kernel=rbf;, score=0.994 total time=   0.4s\n",
      "[CV 1/5] END .......C=1, gamma=0.01, kernel=rbf;, score=0.975 total time=   0.4s\n",
      "[CV 2/5] END .......C=1, gamma=0.01, kernel=rbf;, score=0.986 total time=   0.4s\n",
      "[CV 3/5] END .......C=1, gamma=0.01, kernel=rbf;, score=0.961 total time=   0.3s\n",
      "[CV 4/5] END .......C=1, gamma=0.01, kernel=rbf;, score=0.974 total time=   0.4s\n",
      "[CV 5/5] END .......C=1, gamma=0.01, kernel=rbf;, score=0.994 total time=   0.4s\n",
      "{'C': 1, 'gamma': 0.1, 'kernel': 'rbf'}\n"
     ]
    }
   ],
   "source": [
    "from sklearn.model_selection import GridSearchCV\n",
    "grid1= GridSearchCV(SVC(),param_grid=param_grid,refit=True,verbose=3)\n",
    "grid1.fit(X,Y)\n",
    "print(grid1.best_params_)"
   ]
  },
  {
   "cell_type": "code",
   "execution_count": 116,
   "id": "b0b8b6ba",
   "metadata": {},
   "outputs": [
    {
     "name": "stdout",
     "output_type": "stream",
     "text": [
      "              precision    recall  f1-score   support\n",
      "\n",
      "           0       0.76      0.64      0.70      3311\n",
      "           1       0.33      0.47      0.39      1269\n",
      "\n",
      "    accuracy                           0.59      4580\n",
      "   macro avg       0.55      0.55      0.54      4580\n",
      "weighted avg       0.64      0.59      0.61      4580\n",
      "\n"
     ]
    }
   ],
   "source": [
    "from sklearn.metrics import confusion_matrix,classification_report\n",
    "print(classification_report(Y_test,Y_predict_SVM))"
   ]
  },
  {
   "cell_type": "code",
   "execution_count": 117,
   "id": "13f098ca",
   "metadata": {},
   "outputs": [],
   "source": [
    "from statistics import mode"
   ]
  },
  {
   "cell_type": "code",
   "execution_count": 127,
   "id": "d147967c",
   "metadata": {},
   "outputs": [
    {
     "name": "stdout",
     "output_type": "stream",
     "text": [
      "              precision    recall  f1-score   support\n",
      "\n",
      "           0       0.73      0.62      0.67        39\n",
      "           1       0.35      0.47      0.40        17\n",
      "\n",
      "    accuracy                           0.57        56\n",
      "   macro avg       0.54      0.54      0.53        56\n",
      "weighted avg       0.61      0.57      0.59        56\n",
      "\n",
      "0.5714285714285714\n",
      "[[24 15]\n",
      " [ 9  8]]\n"
     ]
    }
   ],
   "source": [
    "true_per=[] #true percentage\n",
    "out_per=[] #predicted percentage\n",
    "true_output=[]\n",
    "pred_output=[]\n",
    "true_count=[] #true count\n",
    "count=[] #predicted count\n",
    "\n",
    "for i in range (0,len(result)):\n",
    "    test=df_test[df_test['subject'].isin(result[i])] \n",
    "    X_test=test[test.columns.intersection(feature_list)]\n",
    "    X_test=n.normalize_test(X_test)\n",
    "    Y_test=test['Group']\n",
    "\n",
    "    Y_predict=SVM_model.predict(X_test)\n",
    "    \n",
    "    per_pred_dp=np.sum(Y_predict==1)/Y_predict.shape[0]*100\n",
    "    count_pred_dp=np.sum(Y_predict==1)\n",
    "    count.append(count_pred_dp)\n",
    "    \n",
    "    \n",
    "    if per_pred_dp>50:\n",
    "        y_=1\n",
    "    else:\n",
    "        y_=0\n",
    "    \n",
    "    y=mode(Y_test)\n",
    "    per=np.sum(Y_test==1)/Y_test.shape[0]*100\n",
    "    count_true_dp=np.sum(Y_test==1)\n",
    "    true_count.append(count_true_dp)\n",
    "    \n",
    "    \n",
    "    true_per.append(per)\n",
    "    out_per.append(per_pred_dp)\n",
    "    true_output.append(y)\n",
    "    pred_output.append(y_)\n",
    "    \n",
    "print(classification_report(true_output,pred_output))\n",
    "print(metrics.accuracy_score(true_output,pred_output))\n",
    "    \n",
    "print(confusion_matrix(true_output,pred_output))    "
   ]
  },
  {
   "cell_type": "code",
   "execution_count": 119,
   "id": "41246ebf",
   "metadata": {},
   "outputs": [
    {
     "data": {
      "text/plain": [
       "(39, 3)"
      ]
     },
     "execution_count": 119,
     "metadata": {},
     "output_type": "execute_result"
    }
   ],
   "source": [
    "df_pred=pd.DataFrame({'percentage of depression':out_per,'label':pred_output,'true_label':true_output})\n",
    "\n",
    "df_pred_hc=df_pred.loc[df_pred['true_label']==0]\n",
    "df_pred_hc.sort_values(by=['percentage of depression'],ascending=False)\n",
    "\n",
    "df_pred_hc.shape"
   ]
  },
  {
   "cell_type": "code",
   "execution_count": 120,
   "id": "af8ac46f",
   "metadata": {},
   "outputs": [
    {
     "data": {
      "text/plain": [
       "<AxesSubplot: xlabel='percentage of depression', ylabel='true_label'>"
      ]
     },
     "execution_count": 120,
     "metadata": {},
     "output_type": "execute_result"
    },
    {
     "data": {
      "image/png": "[encoded data removed]",
      "text/plain": [
       "<Figure size 640x480 with 1 Axes>"
      ]
     },
     "metadata": {},
     "output_type": "display_data"
    }
   ],
   "source": [
    "import seaborn as sns\n",
    "\n",
    "sns.scatterplot(x='percentage of depression',y='true_label',data=df_pred,s=60,hue='true_label',palette=['green','red'])"
   ]
  },
  {
   "cell_type": "markdown",
   "id": "c4d2ba6f",
   "metadata": {},
   "source": [
    "-------------------- REFERENCE --------------------"
   ]
  },
  {
   "cell_type": "code",
   "execution_count": 121,
   "id": "e64f0942",
   "metadata": {},
   "outputs": [
    {
     "data": {
      "text/plain": [
       "72"
      ]
     },
     "execution_count": 121,
     "metadata": {},
     "output_type": "execute_result"
    }
   ],
   "source": [
    "len(result[24])"
   ]
  },
  {
   "cell_type": "code",
   "execution_count": 122,
   "id": "aaefda9b",
   "metadata": {},
   "outputs": [],
   "source": [
    "test=df_test[df_test['subject'].isin(result[24])] \n",
    "X_test=test[test.columns.intersection(feature_list)]\n",
    "X_test=n.normalize_test(X_test)\n",
    "Y_test=test['Group']\n",
    "Y_predict_SVM=SVM_model.predict(X_test)"
   ]
  },
  {
   "cell_type": "code",
   "execution_count": 123,
   "id": "270811c1",
   "metadata": {},
   "outputs": [
    {
     "data": {
      "text/plain": [
       "(72, 16)"
      ]
     },
     "execution_count": 123,
     "metadata": {},
     "output_type": "execute_result"
    }
   ],
   "source": [
    "X_test.shape"
   ]
  },
  {
   "cell_type": "code",
   "execution_count": 124,
   "id": "77bf539c",
   "metadata": {},
   "outputs": [
    {
     "data": {
      "text/plain": [
       "array([1, 1, 1, 0, 0, 1, 0, 0, 0, 0, 1, 1, 1, 0, 0, 0, 0, 0, 0, 0, 0, 1,\n",
       "       0, 0, 1, 0, 0, 0, 0, 0, 0, 0, 0, 0, 0, 0, 0, 0, 1, 0, 0, 0, 0, 0,\n",
       "       0, 0, 0, 1, 0, 0, 0, 0, 0, 1, 0, 0, 0, 0, 0, 0, 0, 0, 1, 0, 0, 0,\n",
       "       1, 0, 1, 1, 0, 0])"
      ]
     },
     "execution_count": 124,
     "metadata": {},
     "output_type": "execute_result"
    }
   ],
   "source": [
    "(Y_predict_SVM)"
   ]
  },
  {
   "cell_type": "code",
   "execution_count": 125,
   "id": "22d71b45",
   "metadata": {},
   "outputs": [
    {
     "data": {
      "text/plain": [
       "array([1, 1, 1, 1, 1, 1, 1, 1, 1, 1, 1, 1, 1, 1, 1, 1, 1, 1, 1, 1, 1, 1,\n",
       "       1, 1, 1, 1, 1, 1, 1, 1, 1, 1, 1, 1, 1, 1, 1, 1, 1, 1, 1, 1, 1, 1,\n",
       "       1, 1, 1, 1, 1, 1, 1, 1, 1, 1, 1, 1, 1, 1, 1, 1, 1, 1, 1, 1, 1, 1,\n",
       "       1, 1, 1, 1, 1, 1])"
      ]
     },
     "execution_count": 125,
     "metadata": {},
     "output_type": "execute_result"
    }
   ],
   "source": [
    "np.array(Y_test)"
   ]
  }
 ],
 "metadata": {
  "kernelspec": {
   "display_name": "Python 3 (ipykernel)",
   "language": "python",
   "name": "python3"
  },
  "language_info": {
   "codemirror_mode": {
    "name": "ipython",
    "version": 3
   },
   "file_extension": ".py",
   "mimetype": "text/x-python",
   "name": "python",
   "nbconvert_exporter": "python",
   "pygments_lexer": "ipython3",
   "version": "3.10.6"
  }
 },
 "nbformat": 4,
 "nbformat_minor": 5
}
