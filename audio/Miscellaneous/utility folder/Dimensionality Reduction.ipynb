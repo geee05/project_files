{
 "cells": [
  {
   "cell_type": "code",
   "execution_count": 3,
   "id": "587bf2b3",
   "metadata": {},
   "outputs": [],
   "source": [
    "import pandas as  pd \n",
    "import numpy as np\n",
    "from sklearn.utils import resample"
   ]
  },
  {
   "cell_type": "code",
   "execution_count": 4,
   "id": "f44461b7",
   "metadata": {},
   "outputs": [],
   "source": [
    "#statistical analysis on features:\n",
    "df=pd.read_csv('/home/vboxuser/VoiceFiles/ImageFolderopensmile_daic_dev_stat.csv')\n",
    "#train and test data:\n",
    "df_train=pd.read_csv('/home/vboxuser/Downloads/VoiceFiles/opensmile_daic_train.csv')"
   ]
  },
  {
   "cell_type": "code",
   "execution_count": 5,
   "id": "a90d2461",
   "metadata": {},
   "outputs": [],
   "source": [
    "req_features=df[(df['p_HC_DP']<0.05) & (abs(df['p_HC_DP.1'])>0.4)]\n",
    "feature_list=req_features['Unnamed: 0'].tolist()"
   ]
  },
  {
   "cell_type": "code",
   "execution_count": 6,
   "id": "0429c167",
   "metadata": {},
   "outputs": [],
   "source": [
    "df_train.replace({'class':{\"HC\":0,\"DP\":1}},inplace=True)\n",
    "X_train=df_train[df_train.columns.intersection(feature_list)]\n",
    "Y_train=df_train['class']"
   ]
  },
  {
   "cell_type": "code",
   "execution_count": 7,
   "id": "221489aa",
   "metadata": {},
   "outputs": [],
   "source": [
    "df_1=df_train[df_train['class']==1]\n",
    "df_other=df_train[df_train['class']!=1]\n",
    "df_upsampled=resample(df_1,random_state=42,n_samples=126,replace=True)\n",
    "df_train_upsampled=pd.concat([df_upsampled,df_other])\n",
    "df_train_upsampled.reset_index(inplace=True)"
   ]
  },
  {
   "cell_type": "code",
   "execution_count": 8,
   "id": "ba417aed",
   "metadata": {},
   "outputs": [],
   "source": [
    "X_train_resampled=df_train_upsampled[df_train_upsampled.columns.intersection(feature_list)]\n",
    "Y_train_resampled=df_train_upsampled['class']"
   ]
  },
  {
   "cell_type": "code",
   "execution_count": 9,
   "id": "b2e44c45",
   "metadata": {},
   "outputs": [],
   "source": [
    "import Normalization as n"
   ]
  },
  {
   "cell_type": "code",
   "execution_count": 10,
   "id": "790f820f",
   "metadata": {},
   "outputs": [],
   "source": [
    "X=n.normalize_train(X_train_resampled)\n",
    "Y=Y_train_resampled"
   ]
  },
  {
   "cell_type": "code",
   "execution_count": 12,
   "id": "badf290e",
   "metadata": {},
   "outputs": [],
   "source": [
    "from sklearn.decomposition import PCA\n",
    "from sklearn.manifold import TSNE\n",
    "import time\n",
    "from sklearn.discriminant_analysis import LinearDiscriminantAnalysis as LDA"
   ]
  },
  {
   "cell_type": "code",
   "execution_count": 14,
   "id": "96108e4d",
   "metadata": {},
   "outputs": [],
   "source": [
    "class dim_red_models:\n",
    "    def PCA(self,train,test):\n",
    "        self.train=train\n",
    "        self.test=test\n",
    "        pca=PCA(n_components=4)\n",
    "        x_trainpca=pca.fit_transform(train)\n",
    "        x_testpca=pca.transform(test) \n",
    "        return x_trainpca,x_testpca\n",
    "        \n",
    "    def tsne(self,train):\n",
    "        self.train=train\n",
    "        time_start=time.time()\n",
    "        tsne=TSNE(n_components=2,verbose=1,perplexity=40,n_iter=300)\n",
    "        xtrain_tsne=tsne.fit_transform(train)\n",
    "        return xtrain_tsne\n",
    "        \n",
    "    def lda(self,train,test,Y):   \n",
    "        self.train=train\n",
    "        self.test=test\n",
    "        self.Y=Y\n",
    "        lda=LDA(n_components=1)\n",
    "        xtrain_lda=lda.fit_transform(train,Y)\n",
    "        x_testlda=lda.transform(test)\n",
    "        return xtrain_lda,x_testlda"
   ]
  }
 ],
 "metadata": {
  "kernelspec": {
   "display_name": "Python 3 (ipykernel)",
   "language": "python",
   "name": "python3"
  },
  "language_info": {
   "codemirror_mode": {
    "name": "ipython",
    "version": 3
   },
   "file_extension": ".py",
   "mimetype": "text/x-python",
   "name": "python",
   "nbconvert_exporter": "python",
   "pygments_lexer": "ipython3",
   "version": "3.10.6"
  }
 },
 "nbformat": 4,
 "nbformat_minor": 5
}
