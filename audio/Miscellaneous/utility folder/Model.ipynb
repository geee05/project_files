{
 "cells": [
  {
   "cell_type": "code",
   "execution_count": 2,
   "id": "ff54644c",
   "metadata": {},
   "outputs": [],
   "source": [
    "import pandas as pd\n",
    "import numpy as np\n",
    "from sklearn import metrics\n",
    "from sklearn.utils import resample\n",
    "from sklearn.ensemble import RandomForestClassifier\n",
    "from sklearn.tree import DecisionTreeClassifier\n",
    "from sklearn.linear_model import LogisticRegression\n",
    "from sklearn.svm import SVC\n",
    "#from sklearn import metrics  "
   ]
  },
  {
   "cell_type": "code",
   "execution_count": 18,
   "id": "133801d8",
   "metadata": {},
   "outputs": [],
   "source": [
    "class classification_models:\n",
    "    #Random Forest Classifier:\n",
    "    def RF_model(self,X,Y,X1,Y1):\n",
    "        self.X=X\n",
    "        self.Y=Y\n",
    "        self.X1=X1\n",
    "        self.Y1=Y1\n",
    "        RF_model=RandomForestClassifier(n_estimators=100,class_weight='balanced')\n",
    "        RF_model.fit(X,Y)\n",
    "        Y_predict_RF=RF_model.predict(X1)\n",
    "        acc= metrics.accuracy_score(Y1,Y_predict_RF)\n",
    "        #return acc\n",
    "        P= metrics.precision_score(Y1,Y_predict_RF)\n",
    "        R= metrics.recall_score(Y1,Y_predict_RF)\n",
    "        #if acc>0.5:\n",
    "        return [acc,P,R]\n",
    "        \n",
    "\n",
    "    \n",
    "    #Decision Tree Classifier:\n",
    "    def DF_model(self,X,Y,X1,Y1):\n",
    "        self.X=X\n",
    "        self.Y=Y\n",
    "        self.X1=X1\n",
    "        self.Y1=Y1\n",
    "        DF_model=DecisionTreeClassifier(max_depth=7,random_state=42,class_weight='balanced')\n",
    "        DF_model.fit(X,Y)\n",
    "        Y_predict_DF=DF_model.predict(X1)\n",
    "        print(\"The DF model accuracy is given as : \",metrics.accuracy_score(Y1,Y_predict_DF))\n",
    "        print(classification_report(Y1,Y_predict_DF))\n",
    "        \n",
    "    #Logistic Regression Classifier:\n",
    "    def LR_model(self,X,Y,X1,Y1):\n",
    "        self.X=X       \n",
    "        self.Y=Y\n",
    "        self.X1=X1\n",
    "        self.Y1=Y1\n",
    "        LR_model=LogisticRegression(class_weight='balanced')\n",
    "        LR_model.fit(X,Y)\n",
    "        Y_predict_LR=LR_model.predict(X1)\n",
    "        print(\"The LR_model accuracy is given as : \",metrics.accuracy_score(Y1,Y_predict_LR))\n",
    "        print(classification_report(Y1,Y_predict_LR))\n",
    "\n",
    "    #Support Vector Machine:\n",
    "    def SVM_model(self,X,Y,C,g,X1,Y1):\n",
    "        self.X=X\n",
    "        self.Y=Y\n",
    "        self.C=C\n",
    "        self.g=g\n",
    "        self.X1=X1\n",
    "        self.Y1=Y1\n",
    "        SVM_model = SVC(kernel='rbf',C=C, gamma=g, class_weight='balanced')\n",
    "        SVM_model.fit(X,Y)\n",
    "        Y_predict_SVM=SVM_model.predict(X1)\n",
    "        print(\"The SVM_accuracy is given as : \",metrics.accuracy_score(Y1,Y_predict_SVM))\n",
    "        print(classification_report(Y1,Y_predict_SVM))"
   ]
  },
  {
   "cell_type": "code",
   "execution_count": null,
   "id": "fcc24a9f",
   "metadata": {},
   "outputs": [],
   "source": []
  }
 ],
 "metadata": {
  "kernelspec": {
   "display_name": "Python 3 (ipykernel)",
   "language": "python",
   "name": "python3"
  },
  "language_info": {
   "codemirror_mode": {
    "name": "ipython",
    "version": 3
   },
   "file_extension": ".py",
   "mimetype": "text/x-python",
   "name": "python",
   "nbconvert_exporter": "python",
   "pygments_lexer": "ipython3",
   "version": "3.10.6"
  }
 },
 "nbformat": 4,
 "nbformat_minor": 5
}
