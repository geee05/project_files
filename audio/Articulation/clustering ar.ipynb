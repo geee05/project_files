{
 "cells": [
  {
   "cell_type": "markdown",
   "metadata": {},
   "source": [
    "### Importing the necessary dependencies:"
   ]
  },
  {
   "cell_type": "code",
   "execution_count": 148,
   "metadata": {
    "scrolled": true
   },
   "outputs": [],
   "source": [
    "import pandas as pd\n",
    "import numpy as np"
   ]
  },
  {
   "cell_type": "code",
   "execution_count": 149,
   "metadata": {
    "scrolled": true
   },
   "outputs": [],
   "source": [
    "from sklearn.utils import resample\n",
    "from sklearn import metrics\n",
    "from sklearn.ensemble import RandomForestClassifier\n",
    "from sklearn.tree import DecisionTreeClassifier\n",
    "from sklearn.linear_model import LogisticRegression\n",
    "from sklearn.svm import SVC\n",
    "from sklearn.preprocessing import StandardScaler\n",
    "from sklearn.metrics import confusion_matrix,classification_report,roc_auc_score\n",
    "import statistics\n",
    "from statistics import mode"
   ]
  },
  {
   "cell_type": "markdown",
   "metadata": {},
   "source": [
    "### Importing the data files:"
   ]
  },
  {
   "cell_type": "markdown",
   "metadata": {
    "scrolled": true
   },
   "source": [
    "#statistical analysis on features:\n",
    "df=pd.read_csv('/home/vboxuser/VoiceFiles/Voice4PD-MSA-Tool-global_V2/PhonationData/stat_ph/phonationfeaturesst_seg_train_stat.csv')\n",
    "#train and test data:\n",
    "df_train=pd.read_csv('/home/vboxuser/VoiceFiles/Voice4PD-MSA-Tool-global_V2/PhonationData/phonationfeaturesst_seg_dev.csv')\n",
    "df_test=pd.read_csv('/home/vboxuser/VoiceFiles/Voice4PD-MSA-Tool-global_V2/PhonationData/phonationfeaturesst_seg_test.csv')"
   ]
  },
  {
   "cell_type": "code",
   "execution_count": 155,
   "metadata": {},
   "outputs": [],
   "source": [
    "df=pd.read_csv('/home/vboxuser/VoiceFiles/Voice4PD-MSA-Tool-global_V2/ArticulationData/stat_ar/Articulationfeaturesst_train_stat.csv')\n",
    "\n",
    "df_train=pd.read_csv('/home/vboxuser/VoiceFiles/Voice4PD-MSA-Tool-global_V2/ArticulationData/articulationfeaturesst_seg_dev.csv')\n",
    "df_test=pd.read_csv('/home/vboxuser/VoiceFiles/Voice4PD-MSA-Tool-global_V2/ArticulationData/articulationfeaturesst_seg_test.csv')"
   ]
  },
  {
   "cell_type": "markdown",
   "metadata": {},
   "source": [
    "## Building a model with feature selection:"
   ]
  },
  {
   "cell_type": "markdown",
   "metadata": {},
   "source": [
    "### Preprocessing the data:"
   ]
  },
  {
   "cell_type": "markdown",
   "metadata": {},
   "source": [
    "#### 1. Extract the features that are a good discriminant:"
   ]
  },
  {
   "cell_type": "code",
   "execution_count": 156,
   "metadata": {
    "scrolled": true
   },
   "outputs": [
    {
     "data": {
      "text/html": [
       "<div>\n",
       "<style scoped>\n",
       "    .dataframe tbody tr th:only-of-type {\n",
       "        vertical-align: middle;\n",
       "    }\n",
       "\n",
       "    .dataframe tbody tr th {\n",
       "        vertical-align: top;\n",
       "    }\n",
       "\n",
       "    .dataframe thead th {\n",
       "        text-align: right;\n",
       "    }\n",
       "</style>\n",
       "<table border=\"1\" class=\"dataframe\">\n",
       "  <thead>\n",
       "    <tr style=\"text-align: right;\">\n",
       "      <th></th>\n",
       "      <th>feature</th>\n",
       "      <th>p_HC_DP</th>\n",
       "      <th>p_HC_DP.1</th>\n",
       "    </tr>\n",
       "  </thead>\n",
       "  <tbody>\n",
       "    <tr>\n",
       "      <th>0</th>\n",
       "      <td>avg BBEon_1</td>\n",
       "      <td>0.023689</td>\n",
       "      <td>-0.440402</td>\n",
       "    </tr>\n",
       "    <tr>\n",
       "      <th>1</th>\n",
       "      <td>avg BBEon_2</td>\n",
       "      <td>0.068999</td>\n",
       "      <td>-0.355201</td>\n",
       "    </tr>\n",
       "    <tr>\n",
       "      <th>2</th>\n",
       "      <td>avg BBEon_3</td>\n",
       "      <td>0.027615</td>\n",
       "      <td>-0.381407</td>\n",
       "    </tr>\n",
       "    <tr>\n",
       "      <th>3</th>\n",
       "      <td>avg BBEon_4</td>\n",
       "      <td>0.006813</td>\n",
       "      <td>-0.469835</td>\n",
       "    </tr>\n",
       "    <tr>\n",
       "      <th>4</th>\n",
       "      <td>avg BBEon_5</td>\n",
       "      <td>0.002928</td>\n",
       "      <td>-0.504544</td>\n",
       "    </tr>\n",
       "  </tbody>\n",
       "</table>\n",
       "</div>"
      ],
      "text/plain": [
       "       feature   p_HC_DP  p_HC_DP.1\n",
       "0  avg BBEon_1  0.023689  -0.440402\n",
       "1  avg BBEon_2  0.068999  -0.355201\n",
       "2  avg BBEon_3  0.027615  -0.381407\n",
       "3  avg BBEon_4  0.006813  -0.469835\n",
       "4  avg BBEon_5  0.002928  -0.504544"
      ]
     },
     "execution_count": 156,
     "metadata": {},
     "output_type": "execute_result"
    }
   ],
   "source": [
    "df.head()"
   ]
  },
  {
   "cell_type": "code",
   "execution_count": 157,
   "metadata": {},
   "outputs": [
    {
     "data": {
      "text/html": [
       "<div>\n",
       "<style scoped>\n",
       "    .dataframe tbody tr th:only-of-type {\n",
       "        vertical-align: middle;\n",
       "    }\n",
       "\n",
       "    .dataframe tbody tr th {\n",
       "        vertical-align: top;\n",
       "    }\n",
       "\n",
       "    .dataframe thead th {\n",
       "        text-align: right;\n",
       "    }\n",
       "</style>\n",
       "<table border=\"1\" class=\"dataframe\">\n",
       "  <thead>\n",
       "    <tr style=\"text-align: right;\">\n",
       "      <th></th>\n",
       "      <th>subject</th>\n",
       "      <th>avg BBEon_1</th>\n",
       "      <th>avg BBEon_2</th>\n",
       "      <th>avg BBEon_3</th>\n",
       "      <th>avg BBEon_4</th>\n",
       "      <th>avg BBEon_5</th>\n",
       "      <th>avg BBEon_6</th>\n",
       "      <th>avg BBEon_7</th>\n",
       "      <th>avg BBEon_8</th>\n",
       "      <th>avg BBEon_9</th>\n",
       "      <th>...</th>\n",
       "      <th>kurtosis DDMFCCoff_10</th>\n",
       "      <th>kurtosis DDMFCCoff_11</th>\n",
       "      <th>kurtosis DDMFCCoff_12</th>\n",
       "      <th>kurtosis F1</th>\n",
       "      <th>kurtosis DF1</th>\n",
       "      <th>kurtosis DDF1</th>\n",
       "      <th>kurtosis F2</th>\n",
       "      <th>kurtosis DF2</th>\n",
       "      <th>kurtosis DDF2</th>\n",
       "      <th>Group</th>\n",
       "    </tr>\n",
       "  </thead>\n",
       "  <tbody>\n",
       "    <tr>\n",
       "      <th>0</th>\n",
       "      <td>300_P_0.wav</td>\n",
       "      <td>-1.236051</td>\n",
       "      <td>-1.141281</td>\n",
       "      <td>-1.401868</td>\n",
       "      <td>-2.007595</td>\n",
       "      <td>-2.151657</td>\n",
       "      <td>-2.313118</td>\n",
       "      <td>-2.741410</td>\n",
       "      <td>-3.021620</td>\n",
       "      <td>-3.317513</td>\n",
       "      <td>...</td>\n",
       "      <td>0.204765</td>\n",
       "      <td>-0.634935</td>\n",
       "      <td>-1.341562</td>\n",
       "      <td>1.619932</td>\n",
       "      <td>3.838965</td>\n",
       "      <td>3.611199</td>\n",
       "      <td>-0.823670</td>\n",
       "      <td>6.217124</td>\n",
       "      <td>4.769782</td>\n",
       "      <td>HC</td>\n",
       "    </tr>\n",
       "    <tr>\n",
       "      <th>1</th>\n",
       "      <td>300_P_1.wav</td>\n",
       "      <td>-0.094454</td>\n",
       "      <td>-0.378113</td>\n",
       "      <td>-0.758611</td>\n",
       "      <td>-1.256991</td>\n",
       "      <td>-1.342239</td>\n",
       "      <td>-1.376264</td>\n",
       "      <td>-1.561052</td>\n",
       "      <td>-1.530774</td>\n",
       "      <td>-2.029228</td>\n",
       "      <td>...</td>\n",
       "      <td>0.373218</td>\n",
       "      <td>-0.684170</td>\n",
       "      <td>-0.839666</td>\n",
       "      <td>1.249121</td>\n",
       "      <td>3.385462</td>\n",
       "      <td>3.629113</td>\n",
       "      <td>0.910676</td>\n",
       "      <td>5.565311</td>\n",
       "      <td>4.313787</td>\n",
       "      <td>HC</td>\n",
       "    </tr>\n",
       "    <tr>\n",
       "      <th>2</th>\n",
       "      <td>300_P_10.wav</td>\n",
       "      <td>-0.279615</td>\n",
       "      <td>-0.118771</td>\n",
       "      <td>-0.317394</td>\n",
       "      <td>-1.148637</td>\n",
       "      <td>-1.395024</td>\n",
       "      <td>-1.330388</td>\n",
       "      <td>-1.775505</td>\n",
       "      <td>-1.994570</td>\n",
       "      <td>-2.286245</td>\n",
       "      <td>...</td>\n",
       "      <td>1.121168</td>\n",
       "      <td>0.033208</td>\n",
       "      <td>-0.894862</td>\n",
       "      <td>1.845131</td>\n",
       "      <td>2.680086</td>\n",
       "      <td>2.076892</td>\n",
       "      <td>0.134500</td>\n",
       "      <td>4.527984</td>\n",
       "      <td>1.688521</td>\n",
       "      <td>HC</td>\n",
       "    </tr>\n",
       "    <tr>\n",
       "      <th>3</th>\n",
       "      <td>300_P_11.wav</td>\n",
       "      <td>-0.869392</td>\n",
       "      <td>-0.815159</td>\n",
       "      <td>-1.399940</td>\n",
       "      <td>-1.789387</td>\n",
       "      <td>-2.052317</td>\n",
       "      <td>-2.407308</td>\n",
       "      <td>-2.764290</td>\n",
       "      <td>-2.708282</td>\n",
       "      <td>-3.032211</td>\n",
       "      <td>...</td>\n",
       "      <td>-0.073108</td>\n",
       "      <td>0.283412</td>\n",
       "      <td>-0.546401</td>\n",
       "      <td>3.407841</td>\n",
       "      <td>7.563080</td>\n",
       "      <td>7.010788</td>\n",
       "      <td>-0.012514</td>\n",
       "      <td>3.180005</td>\n",
       "      <td>2.825297</td>\n",
       "      <td>HC</td>\n",
       "    </tr>\n",
       "    <tr>\n",
       "      <th>4</th>\n",
       "      <td>300_P_12.wav</td>\n",
       "      <td>-1.470171</td>\n",
       "      <td>-1.281990</td>\n",
       "      <td>-2.004765</td>\n",
       "      <td>-2.429003</td>\n",
       "      <td>-2.444694</td>\n",
       "      <td>-2.423398</td>\n",
       "      <td>-2.645003</td>\n",
       "      <td>-2.804510</td>\n",
       "      <td>-2.778626</td>\n",
       "      <td>...</td>\n",
       "      <td>-0.147155</td>\n",
       "      <td>-0.511000</td>\n",
       "      <td>-0.003748</td>\n",
       "      <td>-0.127163</td>\n",
       "      <td>2.066544</td>\n",
       "      <td>2.093169</td>\n",
       "      <td>-0.439147</td>\n",
       "      <td>1.710982</td>\n",
       "      <td>0.734801</td>\n",
       "      <td>HC</td>\n",
       "    </tr>\n",
       "    <tr>\n",
       "      <th>...</th>\n",
       "      <td>...</td>\n",
       "      <td>...</td>\n",
       "      <td>...</td>\n",
       "      <td>...</td>\n",
       "      <td>...</td>\n",
       "      <td>...</td>\n",
       "      <td>...</td>\n",
       "      <td>...</td>\n",
       "      <td>...</td>\n",
       "      <td>...</td>\n",
       "      <td>...</td>\n",
       "      <td>...</td>\n",
       "      <td>...</td>\n",
       "      <td>...</td>\n",
       "      <td>...</td>\n",
       "      <td>...</td>\n",
       "      <td>...</td>\n",
       "      <td>...</td>\n",
       "      <td>...</td>\n",
       "      <td>...</td>\n",
       "      <td>...</td>\n",
       "    </tr>\n",
       "    <tr>\n",
       "      <th>5018</th>\n",
       "      <td>713_P_5.wav</td>\n",
       "      <td>-1.697040</td>\n",
       "      <td>-1.774542</td>\n",
       "      <td>-2.269848</td>\n",
       "      <td>-2.538483</td>\n",
       "      <td>-2.710381</td>\n",
       "      <td>-3.237338</td>\n",
       "      <td>-3.664977</td>\n",
       "      <td>-4.016116</td>\n",
       "      <td>-4.044144</td>\n",
       "      <td>...</td>\n",
       "      <td>0.180870</td>\n",
       "      <td>-0.019783</td>\n",
       "      <td>3.985714</td>\n",
       "      <td>4.483945</td>\n",
       "      <td>11.661424</td>\n",
       "      <td>12.707809</td>\n",
       "      <td>0.331794</td>\n",
       "      <td>5.410056</td>\n",
       "      <td>4.091611</td>\n",
       "      <td>HC</td>\n",
       "    </tr>\n",
       "    <tr>\n",
       "      <th>5019</th>\n",
       "      <td>713_P_6.wav</td>\n",
       "      <td>-1.774050</td>\n",
       "      <td>-1.965119</td>\n",
       "      <td>-2.507317</td>\n",
       "      <td>-2.482628</td>\n",
       "      <td>-2.527717</td>\n",
       "      <td>-2.910955</td>\n",
       "      <td>-3.254227</td>\n",
       "      <td>-3.722705</td>\n",
       "      <td>-4.044041</td>\n",
       "      <td>...</td>\n",
       "      <td>3.151396</td>\n",
       "      <td>2.717255</td>\n",
       "      <td>4.476775</td>\n",
       "      <td>3.098299</td>\n",
       "      <td>4.200562</td>\n",
       "      <td>3.905340</td>\n",
       "      <td>0.199770</td>\n",
       "      <td>3.828449</td>\n",
       "      <td>2.729184</td>\n",
       "      <td>HC</td>\n",
       "    </tr>\n",
       "    <tr>\n",
       "      <th>5020</th>\n",
       "      <td>713_P_7.wav</td>\n",
       "      <td>-1.679538</td>\n",
       "      <td>-2.044537</td>\n",
       "      <td>-2.523164</td>\n",
       "      <td>-2.826860</td>\n",
       "      <td>-2.692031</td>\n",
       "      <td>-2.838001</td>\n",
       "      <td>-3.564375</td>\n",
       "      <td>-3.916020</td>\n",
       "      <td>-3.884838</td>\n",
       "      <td>...</td>\n",
       "      <td>0.422919</td>\n",
       "      <td>4.375059</td>\n",
       "      <td>-0.159177</td>\n",
       "      <td>0.101693</td>\n",
       "      <td>4.136868</td>\n",
       "      <td>3.815546</td>\n",
       "      <td>-0.588536</td>\n",
       "      <td>2.317244</td>\n",
       "      <td>1.740533</td>\n",
       "      <td>HC</td>\n",
       "    </tr>\n",
       "    <tr>\n",
       "      <th>5021</th>\n",
       "      <td>713_P_8.wav</td>\n",
       "      <td>-1.671376</td>\n",
       "      <td>-1.618963</td>\n",
       "      <td>-1.956912</td>\n",
       "      <td>-2.288242</td>\n",
       "      <td>-2.232473</td>\n",
       "      <td>-2.530588</td>\n",
       "      <td>-3.096826</td>\n",
       "      <td>-3.475840</td>\n",
       "      <td>-3.892578</td>\n",
       "      <td>...</td>\n",
       "      <td>-0.822151</td>\n",
       "      <td>0.881160</td>\n",
       "      <td>0.680996</td>\n",
       "      <td>4.045269</td>\n",
       "      <td>7.084508</td>\n",
       "      <td>5.797237</td>\n",
       "      <td>1.364558</td>\n",
       "      <td>15.205907</td>\n",
       "      <td>10.914103</td>\n",
       "      <td>HC</td>\n",
       "    </tr>\n",
       "    <tr>\n",
       "      <th>5022</th>\n",
       "      <td>713_P_9.wav</td>\n",
       "      <td>-1.232878</td>\n",
       "      <td>-1.463749</td>\n",
       "      <td>-2.041410</td>\n",
       "      <td>-2.206560</td>\n",
       "      <td>-1.997842</td>\n",
       "      <td>-2.018425</td>\n",
       "      <td>-2.445002</td>\n",
       "      <td>-3.061898</td>\n",
       "      <td>-3.686754</td>\n",
       "      <td>...</td>\n",
       "      <td>1.063685</td>\n",
       "      <td>-0.258745</td>\n",
       "      <td>-0.784760</td>\n",
       "      <td>6.609640</td>\n",
       "      <td>7.660837</td>\n",
       "      <td>7.824018</td>\n",
       "      <td>1.395881</td>\n",
       "      <td>11.527150</td>\n",
       "      <td>7.895673</td>\n",
       "      <td>HC</td>\n",
       "    </tr>\n",
       "  </tbody>\n",
       "</table>\n",
       "<p>5023 rows × 490 columns</p>\n",
       "</div>"
      ],
      "text/plain": [
       "           subject  avg BBEon_1  avg BBEon_2  avg BBEon_3  avg BBEon_4  \\\n",
       "0      300_P_0.wav    -1.236051    -1.141281    -1.401868    -2.007595   \n",
       "1      300_P_1.wav    -0.094454    -0.378113    -0.758611    -1.256991   \n",
       "2     300_P_10.wav    -0.279615    -0.118771    -0.317394    -1.148637   \n",
       "3     300_P_11.wav    -0.869392    -0.815159    -1.399940    -1.789387   \n",
       "4     300_P_12.wav    -1.470171    -1.281990    -2.004765    -2.429003   \n",
       "...            ...          ...          ...          ...          ...   \n",
       "5018   713_P_5.wav    -1.697040    -1.774542    -2.269848    -2.538483   \n",
       "5019   713_P_6.wav    -1.774050    -1.965119    -2.507317    -2.482628   \n",
       "5020   713_P_7.wav    -1.679538    -2.044537    -2.523164    -2.826860   \n",
       "5021   713_P_8.wav    -1.671376    -1.618963    -1.956912    -2.288242   \n",
       "5022   713_P_9.wav    -1.232878    -1.463749    -2.041410    -2.206560   \n",
       "\n",
       "      avg BBEon_5  avg BBEon_6  avg BBEon_7  avg BBEon_8  avg BBEon_9  ...  \\\n",
       "0       -2.151657    -2.313118    -2.741410    -3.021620    -3.317513  ...   \n",
       "1       -1.342239    -1.376264    -1.561052    -1.530774    -2.029228  ...   \n",
       "2       -1.395024    -1.330388    -1.775505    -1.994570    -2.286245  ...   \n",
       "3       -2.052317    -2.407308    -2.764290    -2.708282    -3.032211  ...   \n",
       "4       -2.444694    -2.423398    -2.645003    -2.804510    -2.778626  ...   \n",
       "...           ...          ...          ...          ...          ...  ...   \n",
       "5018    -2.710381    -3.237338    -3.664977    -4.016116    -4.044144  ...   \n",
       "5019    -2.527717    -2.910955    -3.254227    -3.722705    -4.044041  ...   \n",
       "5020    -2.692031    -2.838001    -3.564375    -3.916020    -3.884838  ...   \n",
       "5021    -2.232473    -2.530588    -3.096826    -3.475840    -3.892578  ...   \n",
       "5022    -1.997842    -2.018425    -2.445002    -3.061898    -3.686754  ...   \n",
       "\n",
       "      kurtosis DDMFCCoff_10  kurtosis DDMFCCoff_11  kurtosis DDMFCCoff_12  \\\n",
       "0                  0.204765              -0.634935              -1.341562   \n",
       "1                  0.373218              -0.684170              -0.839666   \n",
       "2                  1.121168               0.033208              -0.894862   \n",
       "3                 -0.073108               0.283412              -0.546401   \n",
       "4                 -0.147155              -0.511000              -0.003748   \n",
       "...                     ...                    ...                    ...   \n",
       "5018               0.180870              -0.019783               3.985714   \n",
       "5019               3.151396               2.717255               4.476775   \n",
       "5020               0.422919               4.375059              -0.159177   \n",
       "5021              -0.822151               0.881160               0.680996   \n",
       "5022               1.063685              -0.258745              -0.784760   \n",
       "\n",
       "      kurtosis F1  kurtosis DF1  kurtosis DDF1  kurtosis F2  kurtosis DF2  \\\n",
       "0        1.619932      3.838965       3.611199    -0.823670      6.217124   \n",
       "1        1.249121      3.385462       3.629113     0.910676      5.565311   \n",
       "2        1.845131      2.680086       2.076892     0.134500      4.527984   \n",
       "3        3.407841      7.563080       7.010788    -0.012514      3.180005   \n",
       "4       -0.127163      2.066544       2.093169    -0.439147      1.710982   \n",
       "...           ...           ...            ...          ...           ...   \n",
       "5018     4.483945     11.661424      12.707809     0.331794      5.410056   \n",
       "5019     3.098299      4.200562       3.905340     0.199770      3.828449   \n",
       "5020     0.101693      4.136868       3.815546    -0.588536      2.317244   \n",
       "5021     4.045269      7.084508       5.797237     1.364558     15.205907   \n",
       "5022     6.609640      7.660837       7.824018     1.395881     11.527150   \n",
       "\n",
       "      kurtosis DDF2  Group  \n",
       "0          4.769782     HC  \n",
       "1          4.313787     HC  \n",
       "2          1.688521     HC  \n",
       "3          2.825297     HC  \n",
       "4          0.734801     HC  \n",
       "...             ...    ...  \n",
       "5018       4.091611     HC  \n",
       "5019       2.729184     HC  \n",
       "5020       1.740533     HC  \n",
       "5021      10.914103     HC  \n",
       "5022       7.895673     HC  \n",
       "\n",
       "[5023 rows x 490 columns]"
      ]
     },
     "execution_count": 157,
     "metadata": {},
     "output_type": "execute_result"
    }
   ],
   "source": [
    "df_train"
   ]
  },
  {
   "cell_type": "code",
   "execution_count": 158,
   "metadata": {
    "scrolled": true
   },
   "outputs": [],
   "source": [
    "#from the {ImageFolder..} file obtained earlier from feature_analysis we take those values that have p_val<0.05 and effect_size>|0.4|\n",
    "req_features=df[(df['p_HC_DP']<0.05) & (abs(df['p_HC_DP.1'])>0.4)]"
   ]
  },
  {
   "cell_type": "markdown",
   "metadata": {},
   "source": [
    "#### 2. Obtain the selected good features as a list:"
   ]
  },
  {
   "cell_type": "code",
   "execution_count": 159,
   "metadata": {
    "scrolled": true
   },
   "outputs": [
    {
     "name": "stdout",
     "output_type": "stream",
     "text": [
      "139\n"
     ]
    }
   ],
   "source": [
    "feature_list=req_features['feature'].tolist()\n",
    "print(len(feature_list))"
   ]
  },
  {
   "cell_type": "markdown",
   "metadata": {},
   "source": [
    "#### 3. Obtaining X_train & Y_train:"
   ]
  },
  {
   "cell_type": "code",
   "execution_count": 160,
   "metadata": {},
   "outputs": [],
   "source": [
    "df_train=df_train.fillna(0)"
   ]
  },
  {
   "cell_type": "code",
   "execution_count": 161,
   "metadata": {
    "scrolled": true
   },
   "outputs": [
    {
     "data": {
      "text/html": [
       "<div>\n",
       "<style scoped>\n",
       "    .dataframe tbody tr th:only-of-type {\n",
       "        vertical-align: middle;\n",
       "    }\n",
       "\n",
       "    .dataframe tbody tr th {\n",
       "        vertical-align: top;\n",
       "    }\n",
       "\n",
       "    .dataframe thead th {\n",
       "        text-align: right;\n",
       "    }\n",
       "</style>\n",
       "<table border=\"1\" class=\"dataframe\">\n",
       "  <thead>\n",
       "    <tr style=\"text-align: right;\">\n",
       "      <th></th>\n",
       "      <th>avg BBEon_1</th>\n",
       "      <th>avg BBEon_4</th>\n",
       "      <th>avg BBEon_5</th>\n",
       "      <th>avg BBEon_6</th>\n",
       "      <th>avg BBEon_7</th>\n",
       "      <th>avg BBEon_8</th>\n",
       "      <th>avg BBEon_9</th>\n",
       "      <th>avg BBEon_10</th>\n",
       "      <th>avg BBEon_11</th>\n",
       "      <th>avg BBEon_12</th>\n",
       "      <th>...</th>\n",
       "      <th>skewness DDMFCCon_5</th>\n",
       "      <th>skewness DDMFCCon_10</th>\n",
       "      <th>skewness BBEoff_6</th>\n",
       "      <th>skewness BBEoff_22</th>\n",
       "      <th>skewness MFCCoff_5</th>\n",
       "      <th>skewness DMFCCoff_12</th>\n",
       "      <th>skewness DDMFCCoff_5</th>\n",
       "      <th>kurtosis BBEon_22</th>\n",
       "      <th>kurtosis BBEoff_2</th>\n",
       "      <th>kurtosis BBEoff_22</th>\n",
       "    </tr>\n",
       "  </thead>\n",
       "  <tbody>\n",
       "    <tr>\n",
       "      <th>0</th>\n",
       "      <td>-1.236051</td>\n",
       "      <td>-2.007595</td>\n",
       "      <td>-2.151657</td>\n",
       "      <td>-2.313118</td>\n",
       "      <td>-2.741410</td>\n",
       "      <td>-3.021620</td>\n",
       "      <td>-3.317513</td>\n",
       "      <td>-3.573329</td>\n",
       "      <td>-3.479685</td>\n",
       "      <td>-3.259063</td>\n",
       "      <td>...</td>\n",
       "      <td>-0.390031</td>\n",
       "      <td>-0.641420</td>\n",
       "      <td>-0.331088</td>\n",
       "      <td>-0.006502</td>\n",
       "      <td>0.004985</td>\n",
       "      <td>-0.081187</td>\n",
       "      <td>-0.487728</td>\n",
       "      <td>-0.815727</td>\n",
       "      <td>-0.681074</td>\n",
       "      <td>-1.390721</td>\n",
       "    </tr>\n",
       "    <tr>\n",
       "      <th>1</th>\n",
       "      <td>-0.094454</td>\n",
       "      <td>-1.256991</td>\n",
       "      <td>-1.342239</td>\n",
       "      <td>-1.376264</td>\n",
       "      <td>-1.561052</td>\n",
       "      <td>-1.530774</td>\n",
       "      <td>-2.029228</td>\n",
       "      <td>-2.030290</td>\n",
       "      <td>-1.702845</td>\n",
       "      <td>-1.903537</td>\n",
       "      <td>...</td>\n",
       "      <td>0.168796</td>\n",
       "      <td>0.464600</td>\n",
       "      <td>0.736957</td>\n",
       "      <td>0.949908</td>\n",
       "      <td>0.260764</td>\n",
       "      <td>0.355529</td>\n",
       "      <td>-0.104616</td>\n",
       "      <td>0.807542</td>\n",
       "      <td>-1.264207</td>\n",
       "      <td>-0.079672</td>\n",
       "    </tr>\n",
       "    <tr>\n",
       "      <th>2</th>\n",
       "      <td>-0.279615</td>\n",
       "      <td>-1.148637</td>\n",
       "      <td>-1.395024</td>\n",
       "      <td>-1.330388</td>\n",
       "      <td>-1.775505</td>\n",
       "      <td>-1.994570</td>\n",
       "      <td>-2.286245</td>\n",
       "      <td>-2.571636</td>\n",
       "      <td>-2.583259</td>\n",
       "      <td>-2.723721</td>\n",
       "      <td>...</td>\n",
       "      <td>0.790789</td>\n",
       "      <td>-0.613135</td>\n",
       "      <td>-0.710361</td>\n",
       "      <td>0.895773</td>\n",
       "      <td>-0.589876</td>\n",
       "      <td>-0.673822</td>\n",
       "      <td>-0.129467</td>\n",
       "      <td>-0.923050</td>\n",
       "      <td>-0.515471</td>\n",
       "      <td>1.220242</td>\n",
       "    </tr>\n",
       "    <tr>\n",
       "      <th>3</th>\n",
       "      <td>-0.869392</td>\n",
       "      <td>-1.789387</td>\n",
       "      <td>-2.052317</td>\n",
       "      <td>-2.407308</td>\n",
       "      <td>-2.764290</td>\n",
       "      <td>-2.708282</td>\n",
       "      <td>-3.032211</td>\n",
       "      <td>-3.328638</td>\n",
       "      <td>-3.416836</td>\n",
       "      <td>-3.325427</td>\n",
       "      <td>...</td>\n",
       "      <td>0.524319</td>\n",
       "      <td>0.313464</td>\n",
       "      <td>0.810267</td>\n",
       "      <td>-0.092846</td>\n",
       "      <td>-1.419273</td>\n",
       "      <td>0.196726</td>\n",
       "      <td>0.469045</td>\n",
       "      <td>0.434434</td>\n",
       "      <td>-1.092410</td>\n",
       "      <td>-1.136694</td>\n",
       "    </tr>\n",
       "    <tr>\n",
       "      <th>4</th>\n",
       "      <td>-1.470171</td>\n",
       "      <td>-2.429003</td>\n",
       "      <td>-2.444694</td>\n",
       "      <td>-2.423398</td>\n",
       "      <td>-2.645003</td>\n",
       "      <td>-2.804510</td>\n",
       "      <td>-2.778626</td>\n",
       "      <td>-3.112789</td>\n",
       "      <td>-3.369516</td>\n",
       "      <td>-3.530014</td>\n",
       "      <td>...</td>\n",
       "      <td>-1.154369</td>\n",
       "      <td>-0.171489</td>\n",
       "      <td>-0.430283</td>\n",
       "      <td>-0.602846</td>\n",
       "      <td>0.765616</td>\n",
       "      <td>1.338386</td>\n",
       "      <td>-0.414994</td>\n",
       "      <td>-1.350462</td>\n",
       "      <td>-0.921273</td>\n",
       "      <td>-0.813865</td>\n",
       "    </tr>\n",
       "  </tbody>\n",
       "</table>\n",
       "<p>5 rows × 139 columns</p>\n",
       "</div>"
      ],
      "text/plain": [
       "   avg BBEon_1  avg BBEon_4  avg BBEon_5  avg BBEon_6  avg BBEon_7  \\\n",
       "0    -1.236051    -2.007595    -2.151657    -2.313118    -2.741410   \n",
       "1    -0.094454    -1.256991    -1.342239    -1.376264    -1.561052   \n",
       "2    -0.279615    -1.148637    -1.395024    -1.330388    -1.775505   \n",
       "3    -0.869392    -1.789387    -2.052317    -2.407308    -2.764290   \n",
       "4    -1.470171    -2.429003    -2.444694    -2.423398    -2.645003   \n",
       "\n",
       "   avg BBEon_8  avg BBEon_9  avg BBEon_10  avg BBEon_11  avg BBEon_12  ...  \\\n",
       "0    -3.021620    -3.317513     -3.573329     -3.479685     -3.259063  ...   \n",
       "1    -1.530774    -2.029228     -2.030290     -1.702845     -1.903537  ...   \n",
       "2    -1.994570    -2.286245     -2.571636     -2.583259     -2.723721  ...   \n",
       "3    -2.708282    -3.032211     -3.328638     -3.416836     -3.325427  ...   \n",
       "4    -2.804510    -2.778626     -3.112789     -3.369516     -3.530014  ...   \n",
       "\n",
       "   skewness DDMFCCon_5  skewness DDMFCCon_10  skewness BBEoff_6  \\\n",
       "0            -0.390031             -0.641420          -0.331088   \n",
       "1             0.168796              0.464600           0.736957   \n",
       "2             0.790789             -0.613135          -0.710361   \n",
       "3             0.524319              0.313464           0.810267   \n",
       "4            -1.154369             -0.171489          -0.430283   \n",
       "\n",
       "   skewness BBEoff_22  skewness MFCCoff_5  skewness DMFCCoff_12  \\\n",
       "0           -0.006502            0.004985             -0.081187   \n",
       "1            0.949908            0.260764              0.355529   \n",
       "2            0.895773           -0.589876             -0.673822   \n",
       "3           -0.092846           -1.419273              0.196726   \n",
       "4           -0.602846            0.765616              1.338386   \n",
       "\n",
       "   skewness DDMFCCoff_5  kurtosis BBEon_22  kurtosis BBEoff_2  \\\n",
       "0             -0.487728          -0.815727          -0.681074   \n",
       "1             -0.104616           0.807542          -1.264207   \n",
       "2             -0.129467          -0.923050          -0.515471   \n",
       "3              0.469045           0.434434          -1.092410   \n",
       "4             -0.414994          -1.350462          -0.921273   \n",
       "\n",
       "   kurtosis BBEoff_22  \n",
       "0           -1.390721  \n",
       "1           -0.079672  \n",
       "2            1.220242  \n",
       "3           -1.136694  \n",
       "4           -0.813865  \n",
       "\n",
       "[5 rows x 139 columns]"
      ]
     },
     "execution_count": 161,
     "metadata": {},
     "output_type": "execute_result"
    }
   ],
   "source": [
    "X_train=df_train[df_train.columns.intersection(feature_list)]\n",
    "X_train.head()"
   ]
  },
  {
   "cell_type": "code",
   "execution_count": 162,
   "metadata": {},
   "outputs": [
    {
     "data": {
      "text/plain": [
       "avg BBEon_1             0\n",
       "avg BBEon_4             0\n",
       "avg BBEon_5             0\n",
       "avg BBEon_6             0\n",
       "avg BBEon_7             0\n",
       "                       ..\n",
       "skewness DMFCCoff_12    0\n",
       "skewness DDMFCCoff_5    0\n",
       "kurtosis BBEon_22       0\n",
       "kurtosis BBEoff_2       0\n",
       "kurtosis BBEoff_22      0\n",
       "Length: 139, dtype: int64"
      ]
     },
     "execution_count": 162,
     "metadata": {},
     "output_type": "execute_result"
    }
   ],
   "source": [
    "X_train.isnull().sum()"
   ]
  },
  {
   "cell_type": "code",
   "execution_count": 163,
   "metadata": {},
   "outputs": [
    {
     "data": {
      "text/plain": [
       "(5023, 139)"
      ]
     },
     "execution_count": 163,
     "metadata": {},
     "output_type": "execute_result"
    }
   ],
   "source": [
    "X_train.shape"
   ]
  },
  {
   "cell_type": "code",
   "execution_count": 164,
   "metadata": {
    "scrolled": true
   },
   "outputs": [],
   "source": [
    "#replace string values to 0s & 1s in target column\n",
    "df_train.replace({'Group':{\"HC\":0,\"DP\":1}},inplace=True)"
   ]
  },
  {
   "cell_type": "code",
   "execution_count": 165,
   "metadata": {
    "scrolled": true
   },
   "outputs": [
    {
     "data": {
      "text/plain": [
       "0    0\n",
       "1    0\n",
       "2    0\n",
       "3    0\n",
       "4    0\n",
       "Name: Group, dtype: int64"
      ]
     },
     "execution_count": 165,
     "metadata": {},
     "output_type": "execute_result"
    }
   ],
   "source": [
    "Y_train=df_train['Group']\n",
    "Y_train.head()"
   ]
  },
  {
   "cell_type": "markdown",
   "metadata": {},
   "source": [
    "#### 4. Resampling the data: "
   ]
  },
  {
   "cell_type": "code",
   "execution_count": 166,
   "metadata": {
    "scrolled": true
   },
   "outputs": [
    {
     "name": "stdout",
     "output_type": "stream",
     "text": [
      "Group\n",
      "0    3878\n",
      "1    1145\n",
      "Name: Group, dtype: int64\n"
     ]
    }
   ],
   "source": [
    "#we notice an imbalance in the data classes (close to a ratio of 1/3)\n",
    "val_count=df_train.groupby(['Group'])['Group'].count()\n",
    "print(val_count)"
   ]
  },
  {
   "cell_type": "markdown",
   "metadata": {},
   "source": [
    "##### 4.1. Upsampling the data"
   ]
  },
  {
   "cell_type": "markdown",
   "metadata": {
    "scrolled": true
   },
   "source": [
    "#hence we resample the data to obtain equal number of data points for each of the two classes:\n",
    "df_1=df_train[df_train['Group']==1]\n",
    "df_other=df_train[df_train['Group']!=1]\n",
    "df_upsampled=resample(df_1,random_state=42,n_samples=3878,replace=True)\n",
    "df_train_upsampled=pd.concat([df_upsampled,df_other])\n",
    "#df_train_upsampled.reset_index(inplace=True)\n",
    "#we upsample the minority class to the number of data points available for majority class"
   ]
  },
  {
   "cell_type": "code",
   "execution_count": 167,
   "metadata": {
    "scrolled": true
   },
   "outputs": [],
   "source": [
    "#df_train_upsampled=df_train_upsampled.fillna(0)"
   ]
  },
  {
   "cell_type": "code",
   "execution_count": 168,
   "metadata": {
    "scrolled": true
   },
   "outputs": [],
   "source": [
    "#X_train_resampled=df_train_upsampled[df_train_upsampled.columns.intersection(feature_list)]\n",
    "#Y_train_resampled=df_train_upsampled['Group']"
   ]
  },
  {
   "cell_type": "code",
   "execution_count": 169,
   "metadata": {
    "scrolled": true
   },
   "outputs": [],
   "source": [
    "#X_train_resampled.head()"
   ]
  },
  {
   "cell_type": "code",
   "execution_count": 170,
   "metadata": {},
   "outputs": [],
   "source": [
    "#X_train_resampled.isnull().sum()"
   ]
  },
  {
   "cell_type": "code",
   "execution_count": 171,
   "metadata": {},
   "outputs": [],
   "source": [
    "! pip install imblearn --quiet"
   ]
  },
  {
   "cell_type": "code",
   "execution_count": 172,
   "metadata": {},
   "outputs": [],
   "source": [
    "from imblearn.over_sampling import SMOTE\n",
    "\n",
    "sm = SMOTE(sampling_strategy='minority', random_state=42)\n",
    "\n",
    "X_train_resampled, Y_train_resampled = sm.fit_resample(X_train,Y_train)\n",
    "df_train_upsampled = pd.concat([pd.DataFrame(Y_train_resampled), pd.DataFrame(X_train_resampled)], axis=1)"
   ]
  },
  {
   "cell_type": "code",
   "execution_count": 173,
   "metadata": {},
   "outputs": [],
   "source": [
    "#val_count=c.groupby(['Group'])['Group'].count()\n",
    "#print(val_count)"
   ]
  },
  {
   "cell_type": "markdown",
   "metadata": {},
   "source": [
    "##### 4.2. Normalizing the data"
   ]
  },
  {
   "cell_type": "code",
   "execution_count": 174,
   "metadata": {},
   "outputs": [],
   "source": [
    "import Normalization as n"
   ]
  },
  {
   "cell_type": "code",
   "execution_count": 175,
   "metadata": {},
   "outputs": [],
   "source": [
    "X=n.normalize_train(X_train_resampled)"
   ]
  },
  {
   "cell_type": "code",
   "execution_count": 176,
   "metadata": {
    "scrolled": true
   },
   "outputs": [],
   "source": [
    "Y=Y_train_resampled"
   ]
  },
  {
   "cell_type": "code",
   "execution_count": 177,
   "metadata": {
    "scrolled": true
   },
   "outputs": [
    {
     "name": "stdout",
     "output_type": "stream",
     "text": [
      "-5.755079538011133e-17\n",
      "1.0\n"
     ]
    }
   ],
   "source": [
    "#checking if normalized data has a mean~0 & standard deviation~1:\n",
    "print(np.mean(X))\n",
    "print(np.std(X))"
   ]
  },
  {
   "cell_type": "code",
   "execution_count": 178,
   "metadata": {},
   "outputs": [
    {
     "data": {
      "text/plain": [
       "0    3878\n",
       "1    3878\n",
       "Name: Group, dtype: int64"
      ]
     },
     "execution_count": 178,
     "metadata": {},
     "output_type": "execute_result"
    }
   ],
   "source": [
    "df_train_upsampled['Group'].value_counts()"
   ]
  },
  {
   "cell_type": "markdown",
   "metadata": {},
   "source": [
    "### Building the model:"
   ]
  },
  {
   "cell_type": "markdown",
   "metadata": {},
   "source": [
    "#### 1.1  test data:"
   ]
  },
  {
   "cell_type": "markdown",
   "metadata": {},
   "source": [
    "#### 1. Random Forest Classifier:"
   ]
  },
  {
   "cell_type": "code",
   "execution_count": 179,
   "metadata": {
    "scrolled": true
   },
   "outputs": [],
   "source": [
    "#RF_model=RandomForestClassifier(class_weight='balanced')"
   ]
  },
  {
   "cell_type": "code",
   "execution_count": 180,
   "metadata": {
    "scrolled": true
   },
   "outputs": [],
   "source": [
    "#for resampled data:\n",
    "#RF_model.fit(X,Y)"
   ]
  },
  {
   "cell_type": "code",
   "execution_count": 181,
   "metadata": {
    "scrolled": true
   },
   "outputs": [],
   "source": [
    "df_test=df_test.fillna(0)"
   ]
  },
  {
   "cell_type": "code",
   "execution_count": 182,
   "metadata": {
    "scrolled": true
   },
   "outputs": [],
   "source": [
    "#obtaining X & Y for test data:\n",
    "df_test.replace({'Group':{\"HC\":0,\"DP\":1}},inplace=True)"
   ]
  },
  {
   "cell_type": "code",
   "execution_count": 183,
   "metadata": {},
   "outputs": [],
   "source": [
    "X_test=df_test[df_test.columns.intersection(feature_list)] \n",
    "X_test=n.normalize_test(X_test) \n",
    "Y_test=df_test['Group'] "
   ]
  },
  {
   "cell_type": "code",
   "execution_count": 184,
   "metadata": {},
   "outputs": [
    {
     "data": {
      "text/plain": [
       "139"
      ]
     },
     "execution_count": 184,
     "metadata": {},
     "output_type": "execute_result"
    }
   ],
   "source": [
    "len(feature_list)"
   ]
  },
  {
   "cell_type": "markdown",
   "metadata": {},
   "source": [
    "import itertools\n",
    "subject = df_test['subject']\n",
    "# empty list\n",
    "result = []\n",
    "\n",
    "iterator = itertools.groupby(subject, lambda string: string.split('_')[0])\n",
    "\n",
    "for element, group in iterator:\n",
    "   \n",
    "   result.append(list(group))\n"
   ]
  },
  {
   "cell_type": "markdown",
   "metadata": {},
   "source": [
    "__FOR SINGLE SPEAKER:__"
   ]
  },
  {
   "cell_type": "markdown",
   "metadata": {},
   "source": [
    "from collections import Counter"
   ]
  },
  {
   "cell_type": "markdown",
   "metadata": {},
   "source": [
    "test=df_test[df_test['subject'].isin(result[2])] \n",
    "X_test=test[test.columns.intersection(feature_list)]\n",
    "X_test=n.normalize_test(X_test)\n",
    "Y_test=test['Group']\n",
    "Y_predict_RF=RF_model.predict(X_test)\n",
    "\n",
    "op=Y_predict_RF"
   ]
  },
  {
   "cell_type": "markdown",
   "metadata": {},
   "source": [
    "p=np.sum(Y_test==1)#/Y_predict_RF.shape[0]*100"
   ]
  },
  {
   "cell_type": "markdown",
   "metadata": {},
   "source": [
    "p"
   ]
  },
  {
   "cell_type": "markdown",
   "metadata": {},
   "source": [
    "Y_test.value_counts()"
   ]
  },
  {
   "cell_type": "markdown",
   "metadata": {},
   "source": [
    "true_per=[]\n",
    "out_per=[]\n",
    "true_output=[]\n",
    "pred_output=[]\n",
    "count=[]\n",
    "true_count=[]\n",
    "\n",
    "\n",
    "for i in range (0,len(result)):\n",
    "    test=df_test[df_test['subject'].isin(result[i])] \n",
    "    X_test=test[test.columns.intersection(feature_list)]\n",
    "    X_test=n.normalize_test(X_test)\n",
    "    Y_test=test['Group']\n",
    "\n",
    "    Y_predict_RF=RF_model.predict(X_test)\n",
    "    \n",
    "    per_pred_dp=np.sum(Y_predict_RF==1)/Y_predict_RF.shape[0]*100\n",
    "    count_pred_dp=np.sum(Y_predict_RF==1)\n",
    "    count.append(count_pred_dp)\n",
    "    \n",
    "    if per_pred_dp>9:\n",
    "        y_=1\n",
    "    else:\n",
    "        y_=0\n",
    "    \n",
    "    y=mode(Y_test)\n",
    "    per=np.sum(Y_test==1)/Y_test.shape[0]*100\n",
    "    count_true_dp=np.sum(Y_test==1)\n",
    "    true_count.append(count_true_dp)\n",
    "    \n",
    "    \n",
    "    true_per.append(per)\n",
    "    out_per.append(per_pred_dp)\n",
    "    true_output.append(y)\n",
    "    pred_output.append(y_)\n",
    "    \n",
    "print(classification_report(true_output,pred_output))\n",
    "print(metrics.accuracy_score(true_output,pred_output))\n",
    "    \n",
    "print(confusion_matrix(true_output,pred_output))    "
   ]
  },
  {
   "cell_type": "markdown",
   "metadata": {},
   "source": [
    "check=pd.DataFrame({'person_id':result,'count of depression':count,'true_count':true_count,'predicted label':pred_output,'true_label':true_output})"
   ]
  },
  {
   "cell_type": "markdown",
   "metadata": {},
   "source": [
    "check.to_csv('/home/vboxuser/VoiceFiles/count_train_predicted.csv')"
   ]
  },
  {
   "cell_type": "markdown",
   "metadata": {},
   "source": [
    "check"
   ]
  },
  {
   "cell_type": "markdown",
   "metadata": {},
   "source": [
    "df_pred=pd.DataFrame({'person_id':result,'count of depression':count, 'percentage of depression':out_per,'label':pred_output,'true_label':true_output})"
   ]
  },
  {
   "cell_type": "markdown",
   "metadata": {},
   "source": [
    "df_pred.tail() "
   ]
  },
  {
   "cell_type": "markdown",
   "metadata": {},
   "source": [
    "df_pred.to_csv('/home/vboxuser/VoiceFiles/count_predicted.csv')"
   ]
  },
  {
   "cell_type": "markdown",
   "metadata": {},
   "source": [
    "import seaborn as sns\n",
    "\n",
    "sns.scatterplot(x='percentage of depression',y='true_label',data=df_pred,s=60,hue='true_label',palette=['green','red'])"
   ]
  },
  {
   "cell_type": "markdown",
   "metadata": {},
   "source": [
    "dp=[]\n",
    "for i in range (0,len(out_per)):\n",
    "    if out_per[i]>9:\n",
    "        dp.append(out_per[i])"
   ]
  },
  {
   "cell_type": "markdown",
   "metadata": {},
   "source": [
    "len(dp) #includes true negative + false negative"
   ]
  },
  {
   "cell_type": "markdown",
   "metadata": {},
   "source": [
    "df_pred.sort_values(by=['label'])"
   ]
  },
  {
   "cell_type": "markdown",
   "metadata": {},
   "source": [
    "##################################################################"
   ]
  },
  {
   "cell_type": "markdown",
   "metadata": {
    "scrolled": true
   },
   "source": [
    "SVM_model = SVC(kernel='rbf',C=10, gamma=1, class_weight='balanced')\n",
    "\n",
    "SVM_model.fit(X,Y)"
   ]
  },
  {
   "cell_type": "markdown",
   "metadata": {},
   "source": [
    "true_per=[]\n",
    "out_per=[]\n",
    "true_output=[]\n",
    "pred_output=[]\n",
    "\n",
    "for i in range (0,len(result)):\n",
    "    test=df_test[df_test['subject'].isin(result[i])] \n",
    "    X_test=test[test.columns.intersection(feature_list)]\n",
    "    X_test=n.normalize_test(X_test)\n",
    "    Y_test=test['Group']\n",
    "\n",
    "    Y_predict_SVM=SVM_model.predict(X_test)\n",
    "    \n",
    "    per_pred=np.sum(Y_predict_SVM==1)/Y_predict_SVM.shape[0]*100\n",
    "    if per_pred>6:\n",
    "        y_=1\n",
    "    else:\n",
    "        y_=0\n",
    "    \n",
    "    y=mode(Y_test)\n",
    "    per=np.sum(Y_test==1)/Y_test.shape[0]*100\n",
    "\n",
    "    true_per.append(per)\n",
    "    out_per.append(per_pred)\n",
    "    true_output.append(y)\n",
    "    pred_output.append(y_)\n",
    "\n",
    "print(classification_report(true_output,pred_output))\n",
    "print(metrics.accuracy_score(true_output,pred_output))\n",
    "    \n",
    "    "
   ]
  },
  {
   "cell_type": "markdown",
   "metadata": {},
   "source": [
    "df_pred_SVM=pd.DataFrame({'percentage of depression':true_per,'label':pred_output,'true_label':true_output})"
   ]
  },
  {
   "cell_type": "markdown",
   "metadata": {},
   "source": [
    "import seaborn as sns\n",
    "\n",
    "sns.scatterplot(x='percentage of depression',y='true_label',data=df_pred_SVM,s=60,hue='true_label',palette=['green','red'])"
   ]
  },
  {
   "cell_type": "markdown",
   "metadata": {},
   "source": [
    "#### 1.2 Obtaining a Classification Report:"
   ]
  },
  {
   "cell_type": "markdown",
   "metadata": {
    "scrolled": true
   },
   "source": [
    "#from sklearn.metrics import classification_report"
   ]
  },
  {
   "cell_type": "markdown",
   "metadata": {
    "scrolled": true
   },
   "source": [
    "#print(classification_report(Y_test,Y_predict_RF))"
   ]
  },
  {
   "cell_type": "markdown",
   "metadata": {},
   "source": [
    "#### 2. Decision Tree Classifier:"
   ]
  },
  {
   "cell_type": "markdown",
   "metadata": {
    "scrolled": true
   },
   "source": [
    "#DF_model=DecisionTreeClassifier(max_depth=7,random_state=42,class_weight='balanced')"
   ]
  },
  {
   "cell_type": "markdown",
   "metadata": {
    "scrolled": true
   },
   "source": [
    "#DF_model.fit(X,Y)"
   ]
  },
  {
   "cell_type": "markdown",
   "metadata": {},
   "source": [
    "#### 2.1 Predicting the output on test data:"
   ]
  },
  {
   "cell_type": "markdown",
   "metadata": {
    "scrolled": true
   },
   "source": [
    "#predicting on test data:\n",
    "#Y_predict_DF=DF_model.predict(X_test)"
   ]
  },
  {
   "cell_type": "markdown",
   "metadata": {
    "scrolled": true
   },
   "source": [
    "#viewing accuracy score:\n",
    "#print(\"The DF_model accuracy is given as : \",metrics.accuracy_score(Y_test,Y_predict_DF))"
   ]
  },
  {
   "cell_type": "markdown",
   "metadata": {},
   "source": [
    "#### 2.2 Obtaining a Classification Report:"
   ]
  },
  {
   "cell_type": "markdown",
   "metadata": {
    "scrolled": true
   },
   "source": [
    "#print(classification_report(Y_test,Y_predict_DF))"
   ]
  },
  {
   "cell_type": "markdown",
   "metadata": {},
   "source": [
    "#### 3. Logistic Regression Model:"
   ]
  },
  {
   "cell_type": "markdown",
   "metadata": {
    "scrolled": true
   },
   "source": [
    "#LR_model=LogisticRegression(class_weight='balanced')"
   ]
  },
  {
   "cell_type": "markdown",
   "metadata": {
    "scrolled": true
   },
   "source": [
    "#LR_model.fit(X,Y)"
   ]
  },
  {
   "cell_type": "markdown",
   "metadata": {},
   "source": [
    "#### 3.1 Predicting the output on test data:"
   ]
  },
  {
   "cell_type": "markdown",
   "metadata": {
    "scrolled": true
   },
   "source": [
    "#predicting on test data:\n",
    "#Y_predict_LR=LR_model.predict(X_test)"
   ]
  },
  {
   "cell_type": "markdown",
   "metadata": {},
   "source": [
    "#### 3.2 Obtaining a Classification Report:"
   ]
  },
  {
   "cell_type": "markdown",
   "metadata": {
    "scrolled": true
   },
   "source": [
    "#viewing accuracy score:\n",
    "#print(\"The LR_model accuracy is given as : \",metrics.accuracy_score(Y_test,Y_predict_LR))"
   ]
  },
  {
   "cell_type": "markdown",
   "metadata": {
    "scrolled": true
   },
   "source": [
    "#print(classification_report(Y_test,Y_predict_LR))"
   ]
  },
  {
   "cell_type": "markdown",
   "metadata": {},
   "source": [
    "#### 4. Support Vector Machine Model:"
   ]
  },
  {
   "cell_type": "markdown",
   "metadata": {
    "scrolled": true
   },
   "source": [
    "#SVM_model.fit(X,Y)"
   ]
  },
  {
   "cell_type": "markdown",
   "metadata": {},
   "source": [
    "#### 4.1 Predicting the output on test data:"
   ]
  },
  {
   "cell_type": "markdown",
   "metadata": {
    "scrolled": true
   },
   "source": [
    "#predicting on test data:\n",
    "#Y_predict_SVM=SVM_model.predict(X_test)"
   ]
  },
  {
   "cell_type": "markdown",
   "metadata": {
    "scrolled": true
   },
   "source": [
    "#viewing accuracy score:\n",
    "#print(\"The SVM_accuracy is given as : \",metrics.accuracy_score(Y_test,Y_predict_SVM))"
   ]
  },
  {
   "cell_type": "markdown",
   "metadata": {},
   "source": [
    "#### 4.2 Obtaining a Classification Report:"
   ]
  },
  {
   "cell_type": "markdown",
   "metadata": {
    "scrolled": true
   },
   "source": [
    "#print(classification_report(Y_test,Y_predict_SVM))"
   ]
  },
  {
   "cell_type": "markdown",
   "metadata": {},
   "source": [
    "<font color=red>**C=10 & gamma=1 with resampled gives the best results**</font>"
   ]
  },
  {
   "cell_type": "markdown",
   "metadata": {},
   "source": [
    "### Feature Combination:"
   ]
  },
  {
   "cell_type": "markdown",
   "metadata": {},
   "source": [
    "#### PCA (on selected features):"
   ]
  },
  {
   "cell_type": "markdown",
   "metadata": {
    "scrolled": true
   },
   "source": [
    "from sklearn.decomposition import PCA"
   ]
  },
  {
   "cell_type": "markdown",
   "metadata": {
    "scrolled": true
   },
   "source": [
    "pca=PCA(n_components=10)"
   ]
  },
  {
   "cell_type": "markdown",
   "metadata": {
    "scrolled": true
   },
   "source": [
    "x_trainpca=pca.fit_transform(X)\n",
    "x_testpca=pca.transform(X_test)"
   ]
  },
  {
   "cell_type": "markdown",
   "metadata": {
    "scrolled": true
   },
   "source": [
    "##convert principal components for each sample from numpy array to df:\n",
    "pca_df=pd.DataFrame(x_trainpca,columns=[\"PCA1\",\"PCA2\",\"PCA3\",\"PCA4\",\"PCA5\",\"PCA6\",\"PCA7\",\"PCA8\",\"PCA9\",\"PCA10\"])\n",
    "#pca_df[\"y\"]=Y\n",
    "pca_df.tail()"
   ]
  },
  {
   "cell_type": "markdown",
   "metadata": {
    "scrolled": true
   },
   "source": [
    "#evr provides the amount of info or variance each principal component holds after projecting the data to a lower dimensional space:\n",
    "print(\"evr is {}\".format(pca.explained_variance_ratio_))"
   ]
  },
  {
   "cell_type": "markdown",
   "metadata": {},
   "source": [
    "__inference__: \n",
    "* principal component 1 holds 52.9%\n",
    "* principal component 2 holds 24.3%\n",
    "* principal component 3 holds 9.91%\n",
    "* principal component 4 holds 5.33% "
   ]
  },
  {
   "cell_type": "markdown",
   "metadata": {},
   "source": [
    "adding them all up we get over 92.4%(>90). Hence  we decide to take 4 components."
   ]
  },
  {
   "cell_type": "markdown",
   "metadata": {},
   "source": [
    "class classification_models:\n",
    "#Random Forest Classifier:\n",
    "    def RF_model(self,X,Y,X1,Y1):\n",
    "        self.X=X\n",
    "        self.Y=Y\n",
    "        self.X1=X1\n",
    "        self.Y1=Y1\n",
    "        RF_model=RandomForestClassifier(n_estimators=100,class_weight='balanced',random_state=4222)\n",
    "        RF_model.fit(X,Y)\n",
    "        Y_predict_RF=RF_model.predict(X1)\n",
    "        acc= metrics.accuracy_score(Y1,Y_predict_RF)\n",
    "        \n",
    "        tn,fp,fn,tp=confusion_matrix(Y1,Y_predict_RF).ravel()\n",
    "        P=tp/(tp+fp)\n",
    "        R=tp/(tp+fn)\n",
    "    #if acc>0.68:\n",
    "        return acc,P,R"
   ]
  },
  {
   "cell_type": "markdown",
   "metadata": {},
   "source": [
    "import itertools\n",
    "flist=[]\n",
    "for l in range(len(feature_list)):\n",
    "    for subset in itertools.combinations(feature_list, l):\n",
    "        flist.append(subset)"
   ]
  },
  {
   "cell_type": "markdown",
   "metadata": {},
   "source": [
    "len(flist)"
   ]
  },
  {
   "cell_type": "markdown",
   "metadata": {},
   "source": [
    "obj=classification_models()\n",
    "a,p,r=obj.RF_model(X,Y,X_test,Y_test)"
   ]
  },
  {
   "cell_type": "markdown",
   "metadata": {},
   "source": [
    "print(a,p,r)"
   ]
  },
  {
   "cell_type": "markdown",
   "metadata": {
    "scrolled": true
   },
   "source": [
    "i=0\n",
    "score=[]\n",
    "result=[]\n",
    "\n",
    "for i in range(86000,len(flist)):\n",
    "        \n",
    "    \n",
    "    Xf_train_resampled=df_train_upsampled[df_train_upsampled.columns.intersection(flist[i])]\n",
    "    Xf=n.normalize_train(Xf_train_resampled)\n",
    "    Xf_test=df_test[df_test.columns.intersection(flist[i])]\n",
    "    Xf_test=n.normalize_test(Xf_test)\n",
    "    obj=classification_models()\n",
    "    a,p,r=obj.RF_model(Xf,Y,Xf_test,Y_test)\n",
    "    print(i)\n",
    "    if a>0.70:\n",
    "        res=[a,p,r]\n",
    "        score=[str((flist[i])),a,p,r]\n",
    "    #if res is not None:\n",
    "        print(i,flist[i])\n",
    "        print(res)\n",
    "        \n",
    "        result.append(score)\n",
    "            "
   ]
  },
  {
   "cell_type": "markdown",
   "metadata": {},
   "source": [
    "res_df_pr=pd.DataFrame(result,columns=['Feature','Accuracy','Precision','Recall'])"
   ]
  },
  {
   "cell_type": "markdown",
   "metadata": {},
   "source": [
    "res_df_pr"
   ]
  },
  {
   "cell_type": "markdown",
   "metadata": {},
   "source": [
    "res_df_pr.to_csv(\"feature scores for prosody.csv\",index=True)"
   ]
  },
  {
   "cell_type": "markdown",
   "metadata": {},
   "source": [
    "df_train_upsampled.head()"
   ]
  },
  {
   "cell_type": "code",
   "execution_count": 185,
   "metadata": {},
   "outputs": [],
   "source": [
    "from sklearn.decomposition import PCA"
   ]
  },
  {
   "cell_type": "code",
   "execution_count": 186,
   "metadata": {},
   "outputs": [],
   "source": [
    "pca=PCA(n_components=7)"
   ]
  },
  {
   "cell_type": "code",
   "execution_count": 187,
   "metadata": {},
   "outputs": [],
   "source": [
    "x_trainpca=pca.fit_transform(X)\n",
    "x_testpca=pca.transform(X_test)"
   ]
  },
  {
   "cell_type": "code",
   "execution_count": 193,
   "metadata": {},
   "outputs": [],
   "source": [
    "p=df_train['subject']"
   ]
  },
  {
   "cell_type": "code",
   "execution_count": 196,
   "metadata": {},
   "outputs": [
    {
     "data": {
      "text/html": [
       "<div>\n",
       "<style scoped>\n",
       "    .dataframe tbody tr th:only-of-type {\n",
       "        vertical-align: middle;\n",
       "    }\n",
       "\n",
       "    .dataframe tbody tr th {\n",
       "        vertical-align: top;\n",
       "    }\n",
       "\n",
       "    .dataframe thead th {\n",
       "        text-align: right;\n",
       "    }\n",
       "</style>\n",
       "<table border=\"1\" class=\"dataframe\">\n",
       "  <thead>\n",
       "    <tr style=\"text-align: right;\">\n",
       "      <th></th>\n",
       "      <th>PCA1</th>\n",
       "      <th>PCA2</th>\n",
       "      <th>PCA3</th>\n",
       "      <th>PCA4</th>\n",
       "      <th>PCA5</th>\n",
       "      <th>PCA6</th>\n",
       "      <th>PCA7</th>\n",
       "    </tr>\n",
       "  </thead>\n",
       "  <tbody>\n",
       "    <tr>\n",
       "      <th>0</th>\n",
       "      <td>-0.341421</td>\n",
       "      <td>3.714983</td>\n",
       "      <td>1.610782</td>\n",
       "      <td>0.257786</td>\n",
       "      <td>-1.658443</td>\n",
       "      <td>-1.421525</td>\n",
       "      <td>-3.075615</td>\n",
       "    </tr>\n",
       "    <tr>\n",
       "      <th>1</th>\n",
       "      <td>-8.471369</td>\n",
       "      <td>9.837467</td>\n",
       "      <td>1.491239</td>\n",
       "      <td>1.816696</td>\n",
       "      <td>-0.014503</td>\n",
       "      <td>-1.809848</td>\n",
       "      <td>0.541951</td>\n",
       "    </tr>\n",
       "    <tr>\n",
       "      <th>2</th>\n",
       "      <td>-5.993691</td>\n",
       "      <td>9.331194</td>\n",
       "      <td>2.695135</td>\n",
       "      <td>1.221735</td>\n",
       "      <td>-2.323967</td>\n",
       "      <td>1.166851</td>\n",
       "      <td>0.356857</td>\n",
       "    </tr>\n",
       "    <tr>\n",
       "      <th>3</th>\n",
       "      <td>6.210829</td>\n",
       "      <td>8.599817</td>\n",
       "      <td>3.383637</td>\n",
       "      <td>-1.326966</td>\n",
       "      <td>-2.583288</td>\n",
       "      <td>-1.606403</td>\n",
       "      <td>-1.034984</td>\n",
       "    </tr>\n",
       "    <tr>\n",
       "      <th>4</th>\n",
       "      <td>4.544794</td>\n",
       "      <td>5.133944</td>\n",
       "      <td>2.050825</td>\n",
       "      <td>0.725469</td>\n",
       "      <td>-1.101084</td>\n",
       "      <td>2.302023</td>\n",
       "      <td>-5.571868</td>\n",
       "    </tr>\n",
       "  </tbody>\n",
       "</table>\n",
       "</div>"
      ],
      "text/plain": [
       "       PCA1      PCA2      PCA3      PCA4      PCA5      PCA6      PCA7\n",
       "0 -0.341421  3.714983  1.610782  0.257786 -1.658443 -1.421525 -3.075615\n",
       "1 -8.471369  9.837467  1.491239  1.816696 -0.014503 -1.809848  0.541951\n",
       "2 -5.993691  9.331194  2.695135  1.221735 -2.323967  1.166851  0.356857\n",
       "3  6.210829  8.599817  3.383637 -1.326966 -2.583288 -1.606403 -1.034984\n",
       "4  4.544794  5.133944  2.050825  0.725469 -1.101084  2.302023 -5.571868"
      ]
     },
     "execution_count": 196,
     "metadata": {},
     "output_type": "execute_result"
    }
   ],
   "source": [
    "##convert principal components for each sample from numpy array to df:\n",
    "pca_df=pd.DataFrame(x_trainpca,columns=[\"PCA1\",\"PCA2\",\"PCA3\",\"PCA4\",\"PCA5\",\"PCA6\",\"PCA7\"])\n",
    "pca_df.head()"
   ]
  },
  {
   "cell_type": "code",
   "execution_count": 189,
   "metadata": {},
   "outputs": [
    {
     "name": "stdout",
     "output_type": "stream",
     "text": [
      "evr is [0.28305224 0.08053063 0.05866287 0.04674477 0.03333245 0.0268234\n",
      " 0.02179495]\n"
     ]
    }
   ],
   "source": [
    "print(\"evr is {}\".format(pca.explained_variance_ratio_))"
   ]
  },
  {
   "cell_type": "code",
   "execution_count": 190,
   "metadata": {},
   "outputs": [],
   "source": [
    "pca_df.to_csv('/home/vboxuser/VoiceFiles/articulation_pca.csv')"
   ]
  }
 ],
 "metadata": {
  "kernelspec": {
   "display_name": "Python 3 (ipykernel)",
   "language": "python",
   "name": "python3"
  },
  "language_info": {
   "codemirror_mode": {
    "name": "ipython",
    "version": 3
   },
   "file_extension": ".py",
   "mimetype": "text/x-python",
   "name": "python",
   "nbconvert_exporter": "python",
   "pygments_lexer": "ipython3",
   "version": "3.10.6"
  }
 },
 "nbformat": 4,
 "nbformat_minor": 2
}
