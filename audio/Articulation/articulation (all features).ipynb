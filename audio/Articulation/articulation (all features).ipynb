{
 "cells": [
  {
   "cell_type": "markdown",
   "id": "c096f9e0",
   "metadata": {},
   "source": [
    "### Importing the necessary dependencies:"
   ]
  },
  {
   "cell_type": "code",
   "execution_count": 1,
   "id": "04e937ca",
   "metadata": {},
   "outputs": [],
   "source": [
    "import pandas as pd\n",
    "import numpy as np"
   ]
  },
  {
   "cell_type": "code",
   "execution_count": 2,
   "id": "64b69531",
   "metadata": {},
   "outputs": [],
   "source": [
    "from sklearn.utils import resample\n",
    "from sklearn.preprocessing import StandardScaler\n",
    "from sklearn import metrics\n",
    "from sklearn.ensemble import RandomForestClassifier\n",
    "from sklearn.tree import DecisionTreeClassifier\n",
    "from sklearn.linear_model import LogisticRegression\n",
    "from sklearn.svm import SVC"
   ]
  },
  {
   "cell_type": "code",
   "execution_count": 3,
   "id": "353a473a",
   "metadata": {},
   "outputs": [],
   "source": [
    "articulation_train=pd.read_csv('/home/vboxuser/VoiceFiles/Voice4PD-MSA-Tool-global_V2/ArticulationData/articulationfeaturesst_seg_dev.csv')\n",
    "articulation_test=pd.read_csv('/home/vboxuser/VoiceFiles/Voice4PD-MSA-Tool-global_V2/ArticulationData/articulationfeaturesst_seg_test.csv')"
   ]
  },
  {
   "cell_type": "markdown",
   "id": "d796cf9e",
   "metadata": {},
   "source": [
    "### Preprocessing training data:"
   ]
  },
  {
   "cell_type": "code",
   "execution_count": 4,
   "id": "303d34b2",
   "metadata": {},
   "outputs": [
    {
     "data": {
      "text/html": [
       "<div>\n",
       "<style scoped>\n",
       "    .dataframe tbody tr th:only-of-type {\n",
       "        vertical-align: middle;\n",
       "    }\n",
       "\n",
       "    .dataframe tbody tr th {\n",
       "        vertical-align: top;\n",
       "    }\n",
       "\n",
       "    .dataframe thead th {\n",
       "        text-align: right;\n",
       "    }\n",
       "</style>\n",
       "<table border=\"1\" class=\"dataframe\">\n",
       "  <thead>\n",
       "    <tr style=\"text-align: right;\">\n",
       "      <th></th>\n",
       "      <th>subject</th>\n",
       "      <th>avg BBEon_1</th>\n",
       "      <th>avg BBEon_2</th>\n",
       "      <th>avg BBEon_3</th>\n",
       "      <th>avg BBEon_4</th>\n",
       "      <th>avg BBEon_5</th>\n",
       "      <th>avg BBEon_6</th>\n",
       "      <th>avg BBEon_7</th>\n",
       "      <th>avg BBEon_8</th>\n",
       "      <th>avg BBEon_9</th>\n",
       "      <th>...</th>\n",
       "      <th>kurtosis DDMFCCoff_10</th>\n",
       "      <th>kurtosis DDMFCCoff_11</th>\n",
       "      <th>kurtosis DDMFCCoff_12</th>\n",
       "      <th>kurtosis F1</th>\n",
       "      <th>kurtosis DF1</th>\n",
       "      <th>kurtosis DDF1</th>\n",
       "      <th>kurtosis F2</th>\n",
       "      <th>kurtosis DF2</th>\n",
       "      <th>kurtosis DDF2</th>\n",
       "      <th>Group</th>\n",
       "    </tr>\n",
       "  </thead>\n",
       "  <tbody>\n",
       "    <tr>\n",
       "      <th>0</th>\n",
       "      <td>300_P_0.wav</td>\n",
       "      <td>-1.236051</td>\n",
       "      <td>-1.141281</td>\n",
       "      <td>-1.401868</td>\n",
       "      <td>-2.007595</td>\n",
       "      <td>-2.151657</td>\n",
       "      <td>-2.313118</td>\n",
       "      <td>-2.741410</td>\n",
       "      <td>-3.021620</td>\n",
       "      <td>-3.317513</td>\n",
       "      <td>...</td>\n",
       "      <td>0.204765</td>\n",
       "      <td>-0.634935</td>\n",
       "      <td>-1.341562</td>\n",
       "      <td>1.619932</td>\n",
       "      <td>3.838965</td>\n",
       "      <td>3.611199</td>\n",
       "      <td>-0.823670</td>\n",
       "      <td>6.217124</td>\n",
       "      <td>4.769782</td>\n",
       "      <td>HC</td>\n",
       "    </tr>\n",
       "    <tr>\n",
       "      <th>1</th>\n",
       "      <td>300_P_1.wav</td>\n",
       "      <td>-0.094454</td>\n",
       "      <td>-0.378113</td>\n",
       "      <td>-0.758611</td>\n",
       "      <td>-1.256991</td>\n",
       "      <td>-1.342239</td>\n",
       "      <td>-1.376264</td>\n",
       "      <td>-1.561052</td>\n",
       "      <td>-1.530774</td>\n",
       "      <td>-2.029228</td>\n",
       "      <td>...</td>\n",
       "      <td>0.373218</td>\n",
       "      <td>-0.684170</td>\n",
       "      <td>-0.839666</td>\n",
       "      <td>1.249121</td>\n",
       "      <td>3.385462</td>\n",
       "      <td>3.629113</td>\n",
       "      <td>0.910676</td>\n",
       "      <td>5.565311</td>\n",
       "      <td>4.313787</td>\n",
       "      <td>HC</td>\n",
       "    </tr>\n",
       "    <tr>\n",
       "      <th>2</th>\n",
       "      <td>300_P_10.wav</td>\n",
       "      <td>-0.279615</td>\n",
       "      <td>-0.118771</td>\n",
       "      <td>-0.317394</td>\n",
       "      <td>-1.148637</td>\n",
       "      <td>-1.395024</td>\n",
       "      <td>-1.330388</td>\n",
       "      <td>-1.775505</td>\n",
       "      <td>-1.994570</td>\n",
       "      <td>-2.286245</td>\n",
       "      <td>...</td>\n",
       "      <td>1.121168</td>\n",
       "      <td>0.033208</td>\n",
       "      <td>-0.894862</td>\n",
       "      <td>1.845131</td>\n",
       "      <td>2.680086</td>\n",
       "      <td>2.076892</td>\n",
       "      <td>0.134500</td>\n",
       "      <td>4.527984</td>\n",
       "      <td>1.688521</td>\n",
       "      <td>HC</td>\n",
       "    </tr>\n",
       "  </tbody>\n",
       "</table>\n",
       "<p>3 rows × 490 columns</p>\n",
       "</div>"
      ],
      "text/plain": [
       "        subject  avg BBEon_1  avg BBEon_2  avg BBEon_3  avg BBEon_4  \\\n",
       "0   300_P_0.wav    -1.236051    -1.141281    -1.401868    -2.007595   \n",
       "1   300_P_1.wav    -0.094454    -0.378113    -0.758611    -1.256991   \n",
       "2  300_P_10.wav    -0.279615    -0.118771    -0.317394    -1.148637   \n",
       "\n",
       "   avg BBEon_5  avg BBEon_6  avg BBEon_7  avg BBEon_8  avg BBEon_9  ...  \\\n",
       "0    -2.151657    -2.313118    -2.741410    -3.021620    -3.317513  ...   \n",
       "1    -1.342239    -1.376264    -1.561052    -1.530774    -2.029228  ...   \n",
       "2    -1.395024    -1.330388    -1.775505    -1.994570    -2.286245  ...   \n",
       "\n",
       "   kurtosis DDMFCCoff_10  kurtosis DDMFCCoff_11  kurtosis DDMFCCoff_12  \\\n",
       "0               0.204765              -0.634935              -1.341562   \n",
       "1               0.373218              -0.684170              -0.839666   \n",
       "2               1.121168               0.033208              -0.894862   \n",
       "\n",
       "   kurtosis F1  kurtosis DF1  kurtosis DDF1  kurtosis F2  kurtosis DF2  \\\n",
       "0     1.619932      3.838965       3.611199    -0.823670      6.217124   \n",
       "1     1.249121      3.385462       3.629113     0.910676      5.565311   \n",
       "2     1.845131      2.680086       2.076892     0.134500      4.527984   \n",
       "\n",
       "   kurtosis DDF2  Group  \n",
       "0       4.769782     HC  \n",
       "1       4.313787     HC  \n",
       "2       1.688521     HC  \n",
       "\n",
       "[3 rows x 490 columns]"
      ]
     },
     "execution_count": 4,
     "metadata": {},
     "output_type": "execute_result"
    }
   ],
   "source": [
    "articulation_train.head(3)"
   ]
  },
  {
   "cell_type": "code",
   "execution_count": 5,
   "id": "4b310094",
   "metadata": {},
   "outputs": [
    {
     "data": {
      "text/plain": [
       "subject          0\n",
       "avg BBEon_1      0\n",
       "avg BBEon_2      0\n",
       "avg BBEon_3      0\n",
       "avg BBEon_4      0\n",
       "                ..\n",
       "kurtosis DDF1    0\n",
       "kurtosis F2      0\n",
       "kurtosis DF2     0\n",
       "kurtosis DDF2    0\n",
       "Group            0\n",
       "Length: 490, dtype: int64"
      ]
     },
     "execution_count": 5,
     "metadata": {},
     "output_type": "execute_result"
    }
   ],
   "source": [
    "articulation_train.isnull().sum()"
   ]
  },
  {
   "cell_type": "markdown",
   "id": "54ff98bd",
   "metadata": {},
   "source": [
    "__note: 30 columns: 490 features(X), 1 target label(Y) and no null values__"
   ]
  },
  {
   "cell_type": "markdown",
   "id": "8903c9a6",
   "metadata": {},
   "source": [
    "#### 1. Checking if the classes have a balanced amount of samples:"
   ]
  },
  {
   "cell_type": "code",
   "execution_count": 6,
   "id": "19253089",
   "metadata": {},
   "outputs": [],
   "source": [
    "#replace string values to 0s & 1s in target column\n",
    "articulation_train.replace({'Group':{\"HC\":0,\"DP\":1}},inplace=True)"
   ]
  },
  {
   "cell_type": "code",
   "execution_count": 7,
   "id": "b1d14e5e",
   "metadata": {},
   "outputs": [
    {
     "name": "stdout",
     "output_type": "stream",
     "text": [
      "Group\n",
      "0    3878\n",
      "1    1145\n",
      "Name: Group, dtype: int64\n"
     ]
    }
   ],
   "source": [
    "val_count=articulation_train.groupby(['Group'])['Group'].count()\n",
    "print(val_count)"
   ]
  },
  {
   "cell_type": "code",
   "execution_count": 8,
   "id": "1575292c",
   "metadata": {},
   "outputs": [],
   "source": [
    "df1=articulation_train[articulation_train['Group']==1]\n",
    "df2=articulation_train[articulation_train['Group']!=1]\n",
    "df_upsampled=resample(df1,random_state=42,n_samples=3878,replace=True)\n",
    "ar_train_upsampled=pd.concat([df_upsampled,df2])"
   ]
  },
  {
   "cell_type": "code",
   "execution_count": 9,
   "id": "6ef7588d",
   "metadata": {},
   "outputs": [
    {
     "name": "stdout",
     "output_type": "stream",
     "text": [
      "Group\n",
      "0    3878\n",
      "1    3878\n",
      "Name: Group, dtype: int64\n"
     ]
    }
   ],
   "source": [
    "val_count=ar_train_upsampled.groupby(['Group'])['Group'].count()\n",
    "print(val_count)"
   ]
  },
  {
   "cell_type": "markdown",
   "id": "45f8ca78",
   "metadata": {},
   "source": [
    "#### 2. Obtaining X & Y values:"
   ]
  },
  {
   "cell_type": "code",
   "execution_count": 10,
   "id": "5a73f7b4",
   "metadata": {},
   "outputs": [],
   "source": [
    "X=ar_train_upsampled.drop(['subject','Group'],axis=1)\n",
    "Y=ar_train_upsampled['Group']"
   ]
  },
  {
   "cell_type": "code",
   "execution_count": 11,
   "id": "a70d6f13",
   "metadata": {},
   "outputs": [
    {
     "data": {
      "text/html": [
       "<div>\n",
       "<style scoped>\n",
       "    .dataframe tbody tr th:only-of-type {\n",
       "        vertical-align: middle;\n",
       "    }\n",
       "\n",
       "    .dataframe tbody tr th {\n",
       "        vertical-align: top;\n",
       "    }\n",
       "\n",
       "    .dataframe thead th {\n",
       "        text-align: right;\n",
       "    }\n",
       "</style>\n",
       "<table border=\"1\" class=\"dataframe\">\n",
       "  <thead>\n",
       "    <tr style=\"text-align: right;\">\n",
       "      <th></th>\n",
       "      <th>avg BBEon_1</th>\n",
       "      <th>avg BBEon_2</th>\n",
       "      <th>avg BBEon_3</th>\n",
       "      <th>avg BBEon_4</th>\n",
       "      <th>avg BBEon_5</th>\n",
       "      <th>avg BBEon_6</th>\n",
       "      <th>avg BBEon_7</th>\n",
       "      <th>avg BBEon_8</th>\n",
       "      <th>avg BBEon_9</th>\n",
       "      <th>avg BBEon_10</th>\n",
       "      <th>...</th>\n",
       "      <th>kurtosis DDMFCCoff_9</th>\n",
       "      <th>kurtosis DDMFCCoff_10</th>\n",
       "      <th>kurtosis DDMFCCoff_11</th>\n",
       "      <th>kurtosis DDMFCCoff_12</th>\n",
       "      <th>kurtosis F1</th>\n",
       "      <th>kurtosis DF1</th>\n",
       "      <th>kurtosis DDF1</th>\n",
       "      <th>kurtosis F2</th>\n",
       "      <th>kurtosis DF2</th>\n",
       "      <th>kurtosis DDF2</th>\n",
       "    </tr>\n",
       "  </thead>\n",
       "  <tbody>\n",
       "    <tr>\n",
       "      <th>4956</th>\n",
       "      <td>-0.475175</td>\n",
       "      <td>-0.859556</td>\n",
       "      <td>-1.297662</td>\n",
       "      <td>-1.717759</td>\n",
       "      <td>-1.866748</td>\n",
       "      <td>-2.151923</td>\n",
       "      <td>-2.144907</td>\n",
       "      <td>-2.618861</td>\n",
       "      <td>-3.230052</td>\n",
       "      <td>-3.392544</td>\n",
       "      <td>...</td>\n",
       "      <td>0.358259</td>\n",
       "      <td>1.385686</td>\n",
       "      <td>1.010749</td>\n",
       "      <td>-0.162845</td>\n",
       "      <td>5.667800</td>\n",
       "      <td>8.230013</td>\n",
       "      <td>7.784058</td>\n",
       "      <td>1.121350</td>\n",
       "      <td>6.557898</td>\n",
       "      <td>6.224988</td>\n",
       "    </tr>\n",
       "    <tr>\n",
       "      <th>3968</th>\n",
       "      <td>0.231278</td>\n",
       "      <td>-0.069804</td>\n",
       "      <td>-0.499173</td>\n",
       "      <td>-0.421388</td>\n",
       "      <td>-0.836844</td>\n",
       "      <td>-1.303022</td>\n",
       "      <td>-1.253273</td>\n",
       "      <td>-1.801145</td>\n",
       "      <td>-2.170398</td>\n",
       "      <td>-2.335746</td>\n",
       "      <td>...</td>\n",
       "      <td>0.781580</td>\n",
       "      <td>1.391514</td>\n",
       "      <td>-0.503886</td>\n",
       "      <td>-0.235511</td>\n",
       "      <td>0.971578</td>\n",
       "      <td>4.701117</td>\n",
       "      <td>4.703937</td>\n",
       "      <td>1.004097</td>\n",
       "      <td>4.950843</td>\n",
       "      <td>4.069507</td>\n",
       "    </tr>\n",
       "    <tr>\n",
       "      <th>4960</th>\n",
       "      <td>-0.692121</td>\n",
       "      <td>-1.113524</td>\n",
       "      <td>-1.760829</td>\n",
       "      <td>-1.725387</td>\n",
       "      <td>-1.733169</td>\n",
       "      <td>-1.829505</td>\n",
       "      <td>-2.114013</td>\n",
       "      <td>-2.468663</td>\n",
       "      <td>-2.874081</td>\n",
       "      <td>-3.166756</td>\n",
       "      <td>...</td>\n",
       "      <td>0.176264</td>\n",
       "      <td>3.327044</td>\n",
       "      <td>-0.518708</td>\n",
       "      <td>-0.802192</td>\n",
       "      <td>1.581530</td>\n",
       "      <td>4.529301</td>\n",
       "      <td>4.935638</td>\n",
       "      <td>1.442199</td>\n",
       "      <td>4.375305</td>\n",
       "      <td>5.791429</td>\n",
       "    </tr>\n",
       "    <tr>\n",
       "      <th>4925</th>\n",
       "      <td>-1.131536</td>\n",
       "      <td>-1.267419</td>\n",
       "      <td>-1.541213</td>\n",
       "      <td>-1.855265</td>\n",
       "      <td>-1.839662</td>\n",
       "      <td>-2.006190</td>\n",
       "      <td>-2.132606</td>\n",
       "      <td>-2.599513</td>\n",
       "      <td>-2.861912</td>\n",
       "      <td>-2.757145</td>\n",
       "      <td>...</td>\n",
       "      <td>-0.386593</td>\n",
       "      <td>-1.218741</td>\n",
       "      <td>1.172943</td>\n",
       "      <td>1.512261</td>\n",
       "      <td>0.524117</td>\n",
       "      <td>7.787244</td>\n",
       "      <td>8.766577</td>\n",
       "      <td>-0.098337</td>\n",
       "      <td>12.643663</td>\n",
       "      <td>6.863167</td>\n",
       "    </tr>\n",
       "    <tr>\n",
       "      <th>4874</th>\n",
       "      <td>-0.650918</td>\n",
       "      <td>-1.012266</td>\n",
       "      <td>-1.530301</td>\n",
       "      <td>-1.644530</td>\n",
       "      <td>-1.885130</td>\n",
       "      <td>-2.319021</td>\n",
       "      <td>-2.440954</td>\n",
       "      <td>-2.743552</td>\n",
       "      <td>-2.967133</td>\n",
       "      <td>-3.027859</td>\n",
       "      <td>...</td>\n",
       "      <td>4.827190</td>\n",
       "      <td>1.249371</td>\n",
       "      <td>2.030302</td>\n",
       "      <td>-0.800158</td>\n",
       "      <td>3.093182</td>\n",
       "      <td>4.502417</td>\n",
       "      <td>3.367101</td>\n",
       "      <td>1.064401</td>\n",
       "      <td>3.252496</td>\n",
       "      <td>3.437303</td>\n",
       "    </tr>\n",
       "  </tbody>\n",
       "</table>\n",
       "<p>5 rows × 488 columns</p>\n",
       "</div>"
      ],
      "text/plain": [
       "      avg BBEon_1  avg BBEon_2  avg BBEon_3  avg BBEon_4  avg BBEon_5  \\\n",
       "4956    -0.475175    -0.859556    -1.297662    -1.717759    -1.866748   \n",
       "3968     0.231278    -0.069804    -0.499173    -0.421388    -0.836844   \n",
       "4960    -0.692121    -1.113524    -1.760829    -1.725387    -1.733169   \n",
       "4925    -1.131536    -1.267419    -1.541213    -1.855265    -1.839662   \n",
       "4874    -0.650918    -1.012266    -1.530301    -1.644530    -1.885130   \n",
       "\n",
       "      avg BBEon_6  avg BBEon_7  avg BBEon_8  avg BBEon_9  avg BBEon_10  ...  \\\n",
       "4956    -2.151923    -2.144907    -2.618861    -3.230052     -3.392544  ...   \n",
       "3968    -1.303022    -1.253273    -1.801145    -2.170398     -2.335746  ...   \n",
       "4960    -1.829505    -2.114013    -2.468663    -2.874081     -3.166756  ...   \n",
       "4925    -2.006190    -2.132606    -2.599513    -2.861912     -2.757145  ...   \n",
       "4874    -2.319021    -2.440954    -2.743552    -2.967133     -3.027859  ...   \n",
       "\n",
       "      kurtosis DDMFCCoff_9  kurtosis DDMFCCoff_10  kurtosis DDMFCCoff_11  \\\n",
       "4956              0.358259               1.385686               1.010749   \n",
       "3968              0.781580               1.391514              -0.503886   \n",
       "4960              0.176264               3.327044              -0.518708   \n",
       "4925             -0.386593              -1.218741               1.172943   \n",
       "4874              4.827190               1.249371               2.030302   \n",
       "\n",
       "      kurtosis DDMFCCoff_12  kurtosis F1  kurtosis DF1  kurtosis DDF1  \\\n",
       "4956              -0.162845     5.667800      8.230013       7.784058   \n",
       "3968              -0.235511     0.971578      4.701117       4.703937   \n",
       "4960              -0.802192     1.581530      4.529301       4.935638   \n",
       "4925               1.512261     0.524117      7.787244       8.766577   \n",
       "4874              -0.800158     3.093182      4.502417       3.367101   \n",
       "\n",
       "      kurtosis F2  kurtosis DF2  kurtosis DDF2  \n",
       "4956     1.121350      6.557898       6.224988  \n",
       "3968     1.004097      4.950843       4.069507  \n",
       "4960     1.442199      4.375305       5.791429  \n",
       "4925    -0.098337     12.643663       6.863167  \n",
       "4874     1.064401      3.252496       3.437303  \n",
       "\n",
       "[5 rows x 488 columns]"
      ]
     },
     "execution_count": 11,
     "metadata": {},
     "output_type": "execute_result"
    }
   ],
   "source": [
    "X.head()"
   ]
  },
  {
   "cell_type": "markdown",
   "id": "cea6da69",
   "metadata": {},
   "source": [
    "#### 3. Normalizing the data:"
   ]
  },
  {
   "cell_type": "code",
   "execution_count": 12,
   "id": "c8b942d2",
   "metadata": {},
   "outputs": [
    {
     "name": "stderr",
     "output_type": "stream",
     "text": [
      "/usr/local/lib/python3.10/dist-packages/numpy/core/fromnumeric.py:3430: FutureWarning: In a future version, DataFrame.mean(axis=None) will return a scalar mean over the entire DataFrame. To retain the old behavior, use 'frame.mean(axis=0)' or just 'frame.mean()'\n",
      "  return mean(axis=axis, dtype=dtype, out=out, **kwargs)\n"
     ]
    },
    {
     "name": "stdout",
     "output_type": "stream",
     "text": [
      "avg BBEon_1     -0.801600\n",
      "avg BBEon_2     -1.181056\n",
      "avg BBEon_3     -1.633905\n",
      "avg BBEon_4     -1.901343\n",
      "avg BBEon_5     -2.073679\n",
      "                   ...   \n",
      "kurtosis DF1     5.171507\n",
      "kurtosis DDF1    4.431384\n",
      "kurtosis F2      0.166724\n",
      "kurtosis DF2     4.264533\n",
      "kurtosis DDF2    3.310257\n",
      "Length: 488, dtype: float64\n"
     ]
    }
   ],
   "source": [
    "#checking if normalized data has a mean~0 & standard deviation~1:\n",
    "print(np.mean(X))\n",
    "print(np.std(X))"
   ]
  },
  {
   "cell_type": "code",
   "execution_count": 16,
   "id": "8f42356a",
   "metadata": {},
   "outputs": [],
   "source": [
    "import Normalization as n"
   ]
  },
  {
   "cell_type": "code",
   "execution_count": 17,
   "id": "8d2e739f",
   "metadata": {},
   "outputs": [],
   "source": [
    "X=n.normalize_train(X)"
   ]
  },
  {
   "cell_type": "code",
   "execution_count": 18,
   "id": "16ff2804",
   "metadata": {},
   "outputs": [
    {
     "name": "stdout",
     "output_type": "stream",
     "text": [
      "5.721995923295728e-18\n",
      "0.9999999999999999\n"
     ]
    }
   ],
   "source": [
    "print(np.mean(X))\n",
    "print(np.std(X))"
   ]
  },
  {
   "cell_type": "markdown",
   "id": "2390bf1d",
   "metadata": {},
   "source": [
    "### Preprocessing test data:"
   ]
  },
  {
   "cell_type": "code",
   "execution_count": 19,
   "id": "a5cb9245",
   "metadata": {},
   "outputs": [
    {
     "data": {
      "text/html": [
       "<div>\n",
       "<style scoped>\n",
       "    .dataframe tbody tr th:only-of-type {\n",
       "        vertical-align: middle;\n",
       "    }\n",
       "\n",
       "    .dataframe tbody tr th {\n",
       "        vertical-align: top;\n",
       "    }\n",
       "\n",
       "    .dataframe thead th {\n",
       "        text-align: right;\n",
       "    }\n",
       "</style>\n",
       "<table border=\"1\" class=\"dataframe\">\n",
       "  <thead>\n",
       "    <tr style=\"text-align: right;\">\n",
       "      <th></th>\n",
       "      <th>avg BBEon_1</th>\n",
       "      <th>avg BBEon_2</th>\n",
       "      <th>avg BBEon_3</th>\n",
       "      <th>avg BBEon_4</th>\n",
       "      <th>avg BBEon_5</th>\n",
       "      <th>avg BBEon_6</th>\n",
       "      <th>avg BBEon_7</th>\n",
       "      <th>avg BBEon_8</th>\n",
       "      <th>avg BBEon_9</th>\n",
       "      <th>avg BBEon_10</th>\n",
       "      <th>...</th>\n",
       "      <th>kurtosis DDMFCCoff_11</th>\n",
       "      <th>kurtosis DDMFCCoff_12</th>\n",
       "      <th>kurtosis F1</th>\n",
       "      <th>kurtosis DF1</th>\n",
       "      <th>kurtosis DDF1</th>\n",
       "      <th>kurtosis F2</th>\n",
       "      <th>kurtosis DF2</th>\n",
       "      <th>kurtosis DDF2</th>\n",
       "      <th>subject</th>\n",
       "      <th>Group</th>\n",
       "    </tr>\n",
       "  </thead>\n",
       "  <tbody>\n",
       "    <tr>\n",
       "      <th>0</th>\n",
       "      <td>-1.703007</td>\n",
       "      <td>-2.309823</td>\n",
       "      <td>-2.475417</td>\n",
       "      <td>-2.664827</td>\n",
       "      <td>-2.763410</td>\n",
       "      <td>-2.814644</td>\n",
       "      <td>-3.196568</td>\n",
       "      <td>-3.554883</td>\n",
       "      <td>-4.059189</td>\n",
       "      <td>-4.299266</td>\n",
       "      <td>...</td>\n",
       "      <td>-0.249404</td>\n",
       "      <td>-0.036873</td>\n",
       "      <td>11.851328</td>\n",
       "      <td>14.477019</td>\n",
       "      <td>9.393443</td>\n",
       "      <td>1.989389</td>\n",
       "      <td>6.540897</td>\n",
       "      <td>3.622540</td>\n",
       "      <td>600_AUDIO_0.wav</td>\n",
       "      <td>HC</td>\n",
       "    </tr>\n",
       "    <tr>\n",
       "      <th>1</th>\n",
       "      <td>-1.766605</td>\n",
       "      <td>-2.153507</td>\n",
       "      <td>-2.443244</td>\n",
       "      <td>-2.806753</td>\n",
       "      <td>-3.044377</td>\n",
       "      <td>-3.240641</td>\n",
       "      <td>-3.615207</td>\n",
       "      <td>-3.814603</td>\n",
       "      <td>-4.026244</td>\n",
       "      <td>-4.265777</td>\n",
       "      <td>...</td>\n",
       "      <td>-0.428055</td>\n",
       "      <td>-0.122785</td>\n",
       "      <td>1.518593</td>\n",
       "      <td>2.880770</td>\n",
       "      <td>1.509239</td>\n",
       "      <td>0.055550</td>\n",
       "      <td>1.513768</td>\n",
       "      <td>0.952246</td>\n",
       "      <td>600_AUDIO_1.wav</td>\n",
       "      <td>HC</td>\n",
       "    </tr>\n",
       "    <tr>\n",
       "      <th>2</th>\n",
       "      <td>-1.145307</td>\n",
       "      <td>-1.520910</td>\n",
       "      <td>-1.464773</td>\n",
       "      <td>-1.700818</td>\n",
       "      <td>-2.195170</td>\n",
       "      <td>-2.509134</td>\n",
       "      <td>-2.902016</td>\n",
       "      <td>-3.090786</td>\n",
       "      <td>-3.373614</td>\n",
       "      <td>-3.423954</td>\n",
       "      <td>...</td>\n",
       "      <td>-0.858743</td>\n",
       "      <td>-0.339214</td>\n",
       "      <td>0.869430</td>\n",
       "      <td>3.148013</td>\n",
       "      <td>3.679037</td>\n",
       "      <td>0.693122</td>\n",
       "      <td>2.969877</td>\n",
       "      <td>2.440902</td>\n",
       "      <td>600_AUDIO_10.wav</td>\n",
       "      <td>HC</td>\n",
       "    </tr>\n",
       "  </tbody>\n",
       "</table>\n",
       "<p>3 rows × 490 columns</p>\n",
       "</div>"
      ],
      "text/plain": [
       "   avg BBEon_1  avg BBEon_2  avg BBEon_3  avg BBEon_4  avg BBEon_5  \\\n",
       "0    -1.703007    -2.309823    -2.475417    -2.664827    -2.763410   \n",
       "1    -1.766605    -2.153507    -2.443244    -2.806753    -3.044377   \n",
       "2    -1.145307    -1.520910    -1.464773    -1.700818    -2.195170   \n",
       "\n",
       "   avg BBEon_6  avg BBEon_7  avg BBEon_8  avg BBEon_9  avg BBEon_10  ...  \\\n",
       "0    -2.814644    -3.196568    -3.554883    -4.059189     -4.299266  ...   \n",
       "1    -3.240641    -3.615207    -3.814603    -4.026244     -4.265777  ...   \n",
       "2    -2.509134    -2.902016    -3.090786    -3.373614     -3.423954  ...   \n",
       "\n",
       "   kurtosis DDMFCCoff_11  kurtosis DDMFCCoff_12  kurtosis F1  kurtosis DF1  \\\n",
       "0              -0.249404              -0.036873    11.851328     14.477019   \n",
       "1              -0.428055              -0.122785     1.518593      2.880770   \n",
       "2              -0.858743              -0.339214     0.869430      3.148013   \n",
       "\n",
       "   kurtosis DDF1  kurtosis F2  kurtosis DF2  kurtosis DDF2           subject  \\\n",
       "0       9.393443     1.989389      6.540897       3.622540   600_AUDIO_0.wav   \n",
       "1       1.509239     0.055550      1.513768       0.952246   600_AUDIO_1.wav   \n",
       "2       3.679037     0.693122      2.969877       2.440902  600_AUDIO_10.wav   \n",
       "\n",
       "   Group  \n",
       "0     HC  \n",
       "1     HC  \n",
       "2     HC  \n",
       "\n",
       "[3 rows x 490 columns]"
      ]
     },
     "execution_count": 19,
     "metadata": {},
     "output_type": "execute_result"
    }
   ],
   "source": [
    "articulation_test.head(3)"
   ]
  },
  {
   "cell_type": "code",
   "execution_count": 20,
   "id": "82a6ec52",
   "metadata": {},
   "outputs": [
    {
     "data": {
      "text/plain": [
       "avg BBEon_1      0\n",
       "avg BBEon_2      0\n",
       "avg BBEon_3      0\n",
       "avg BBEon_4      0\n",
       "avg BBEon_5      0\n",
       "                ..\n",
       "kurtosis F2      0\n",
       "kurtosis DF2     0\n",
       "kurtosis DDF2    0\n",
       "subject          0\n",
       "Group            0\n",
       "Length: 490, dtype: int64"
      ]
     },
     "execution_count": 20,
     "metadata": {},
     "output_type": "execute_result"
    }
   ],
   "source": [
    "articulation_test.isnull().sum()"
   ]
  },
  {
   "cell_type": "code",
   "execution_count": 21,
   "id": "c172316e",
   "metadata": {},
   "outputs": [],
   "source": [
    "#obtaining X & Y for test data:\n",
    "articulation_test.replace({'Group':{\"HC\":0,\"DP\":1}},inplace=True)\n",
    "X_test=articulation_test.drop(['subject','Group'],axis=1)\n",
    "Y_test=articulation_test['Group']"
   ]
  },
  {
   "cell_type": "code",
   "execution_count": 22,
   "id": "84ce11fc",
   "metadata": {},
   "outputs": [],
   "source": [
    "X_test=n.normalize_test(X_test)"
   ]
  },
  {
   "cell_type": "code",
   "execution_count": 23,
   "id": "e07be099",
   "metadata": {},
   "outputs": [
    {
     "name": "stdout",
     "output_type": "stream",
     "text": [
      "-0.010282629917583129\n",
      "1.0440515436666373\n"
     ]
    }
   ],
   "source": [
    "print(np.mean(X_test))\n",
    "print(np.std(X_test))"
   ]
  },
  {
   "cell_type": "markdown",
   "id": "ce88a8d5",
   "metadata": {},
   "source": [
    "### Finding Best Model:"
   ]
  },
  {
   "cell_type": "code",
   "execution_count": 26,
   "id": "b8ee0d7a",
   "metadata": {},
   "outputs": [],
   "source": [
    "import model "
   ]
  },
  {
   "cell_type": "code",
   "execution_count": 27,
   "id": "e61bad33",
   "metadata": {},
   "outputs": [],
   "source": [
    "obj=model.classification_models()"
   ]
  },
  {
   "cell_type": "markdown",
   "id": "f9f35d37",
   "metadata": {},
   "source": [
    "#### 1. Random Forest Classifier:"
   ]
  },
  {
   "cell_type": "code",
   "execution_count": 28,
   "id": "57e58be2",
   "metadata": {},
   "outputs": [
    {
     "name": "stdout",
     "output_type": "stream",
     "text": [
      "The RF model accuracy is given as :  0.6951965065502184\n",
      "              precision    recall  f1-score   support\n",
      "\n",
      "           0       0.72      0.95      0.82      3311\n",
      "           1       0.19      0.03      0.05      1269\n",
      "\n",
      "    accuracy                           0.70      4580\n",
      "   macro avg       0.45      0.49      0.44      4580\n",
      "weighted avg       0.57      0.70      0.61      4580\n",
      "\n"
     ]
    }
   ],
   "source": [
    "obj.RF_model(X,Y,X_test,Y_test)"
   ]
  },
  {
   "cell_type": "markdown",
   "id": "8b5cbf6e",
   "metadata": {},
   "source": [
    "#### 2. Decision Tree Classifier:"
   ]
  },
  {
   "cell_type": "code",
   "execution_count": 29,
   "id": "c43b4340",
   "metadata": {},
   "outputs": [
    {
     "name": "stdout",
     "output_type": "stream",
     "text": [
      "The DF model accuracy is given as :  0.518995633187773\n",
      "              precision    recall  f1-score   support\n",
      "\n",
      "           0       0.70      0.60      0.64      3311\n",
      "           1       0.23      0.32      0.27      1269\n",
      "\n",
      "    accuracy                           0.52      4580\n",
      "   macro avg       0.46      0.46      0.46      4580\n",
      "weighted avg       0.57      0.52      0.54      4580\n",
      "\n"
     ]
    }
   ],
   "source": [
    "obj.DF_model(X,Y,X_test,Y_test)"
   ]
  },
  {
   "cell_type": "markdown",
   "id": "a351a387",
   "metadata": {},
   "source": [
    "#### 3. Logistic Regression Model:"
   ]
  },
  {
   "cell_type": "code",
   "execution_count": 30,
   "id": "ee4d1855",
   "metadata": {},
   "outputs": [
    {
     "name": "stdout",
     "output_type": "stream",
     "text": [
      "The LR_model accuracy is given as :  0.5331877729257642\n",
      "              precision    recall  f1-score   support\n",
      "\n",
      "           0       0.70      0.63      0.66      3311\n",
      "           1       0.23      0.29      0.25      1269\n",
      "\n",
      "    accuracy                           0.53      4580\n",
      "   macro avg       0.46      0.46      0.46      4580\n",
      "weighted avg       0.57      0.53      0.55      4580\n",
      "\n"
     ]
    },
    {
     "name": "stderr",
     "output_type": "stream",
     "text": [
      "/usr/local/lib/python3.10/dist-packages/sklearn/linear_model/_logistic.py:458: ConvergenceWarning: lbfgs failed to converge (status=1):\n",
      "STOP: TOTAL NO. of ITERATIONS REACHED LIMIT.\n",
      "\n",
      "Increase the number of iterations (max_iter) or scale the data as shown in:\n",
      "    https://scikit-learn.org/stable/modules/preprocessing.html\n",
      "Please also refer to the documentation for alternative solver options:\n",
      "    https://scikit-learn.org/stable/modules/linear_model.html#logistic-regression\n",
      "  n_iter_i = _check_optimize_result(\n"
     ]
    }
   ],
   "source": [
    "obj.LR_model(X,Y,X_test,Y_test)"
   ]
  },
  {
   "cell_type": "markdown",
   "id": "42b4f419",
   "metadata": {},
   "source": [
    "#### 4. Support Vector Machine:"
   ]
  },
  {
   "cell_type": "code",
   "execution_count": 31,
   "id": "7a9c602e",
   "metadata": {},
   "outputs": [
    {
     "ename": "ModuleNotFoundError",
     "evalue": "No module named 'grid_search'",
     "output_type": "error",
     "traceback": [
      "\u001b[0;31m---------------------------------------------------------------------------\u001b[0m",
      "\u001b[0;31mModuleNotFoundError\u001b[0m                       Traceback (most recent call last)",
      "Cell \u001b[0;32mIn[31], line 1\u001b[0m\n\u001b[0;32m----> 1\u001b[0m \u001b[38;5;28;01mimport\u001b[39;00m \u001b[38;5;21;01mgrid_search\u001b[39;00m \u001b[38;5;28;01mas\u001b[39;00m \u001b[38;5;21;01mg\u001b[39;00m\n",
      "\u001b[0;31mModuleNotFoundError\u001b[0m: No module named 'grid_search'"
     ]
    }
   ],
   "source": [
    "#import grid_search as g"
   ]
  },
  {
   "cell_type": "code",
   "execution_count": null,
   "id": "d0970dc4",
   "metadata": {},
   "outputs": [],
   "source": [
    "#parameters=g.best_param(X,Y)"
   ]
  },
  {
   "cell_type": "code",
   "execution_count": 33,
   "id": "8fafc9a7",
   "metadata": {},
   "outputs": [
    {
     "data": {
      "text/html": [
       "<style>#sk-container-id-2 {color: black;background-color: white;}#sk-container-id-2 pre{padding: 0;}#sk-container-id-2 div.sk-toggleable {background-color: white;}#sk-container-id-2 label.sk-toggleable__label {cursor: pointer;display: block;width: 100%;margin-bottom: 0;padding: 0.3em;box-sizing: border-box;text-align: center;}#sk-container-id-2 label.sk-toggleable__label-arrow:before {content: \"▸\";float: left;margin-right: 0.25em;color: #696969;}#sk-container-id-2 label.sk-toggleable__label-arrow:hover:before {color: black;}#sk-container-id-2 div.sk-estimator:hover label.sk-toggleable__label-arrow:before {color: black;}#sk-container-id-2 div.sk-toggleable__content {max-height: 0;max-width: 0;overflow: hidden;text-align: left;background-color: #f0f8ff;}#sk-container-id-2 div.sk-toggleable__content pre {margin: 0.2em;color: black;border-radius: 0.25em;background-color: #f0f8ff;}#sk-container-id-2 input.sk-toggleable__control:checked~div.sk-toggleable__content {max-height: 200px;max-width: 100%;overflow: auto;}#sk-container-id-2 input.sk-toggleable__control:checked~label.sk-toggleable__label-arrow:before {content: \"▾\";}#sk-container-id-2 div.sk-estimator input.sk-toggleable__control:checked~label.sk-toggleable__label {background-color: #d4ebff;}#sk-container-id-2 div.sk-label input.sk-toggleable__control:checked~label.sk-toggleable__label {background-color: #d4ebff;}#sk-container-id-2 input.sk-hidden--visually {border: 0;clip: rect(1px 1px 1px 1px);clip: rect(1px, 1px, 1px, 1px);height: 1px;margin: -1px;overflow: hidden;padding: 0;position: absolute;width: 1px;}#sk-container-id-2 div.sk-estimator {font-family: monospace;background-color: #f0f8ff;border: 1px dotted black;border-radius: 0.25em;box-sizing: border-box;margin-bottom: 0.5em;}#sk-container-id-2 div.sk-estimator:hover {background-color: #d4ebff;}#sk-container-id-2 div.sk-parallel-item::after {content: \"\";width: 100%;border-bottom: 1px solid gray;flex-grow: 1;}#sk-container-id-2 div.sk-label:hover label.sk-toggleable__label {background-color: #d4ebff;}#sk-container-id-2 div.sk-serial::before {content: \"\";position: absolute;border-left: 1px solid gray;box-sizing: border-box;top: 0;bottom: 0;left: 50%;z-index: 0;}#sk-container-id-2 div.sk-serial {display: flex;flex-direction: column;align-items: center;background-color: white;padding-right: 0.2em;padding-left: 0.2em;position: relative;}#sk-container-id-2 div.sk-item {position: relative;z-index: 1;}#sk-container-id-2 div.sk-parallel {display: flex;align-items: stretch;justify-content: center;background-color: white;position: relative;}#sk-container-id-2 div.sk-item::before, #sk-container-id-2 div.sk-parallel-item::before {content: \"\";position: absolute;border-left: 1px solid gray;box-sizing: border-box;top: 0;bottom: 0;left: 50%;z-index: -1;}#sk-container-id-2 div.sk-parallel-item {display: flex;flex-direction: column;z-index: 1;position: relative;background-color: white;}#sk-container-id-2 div.sk-parallel-item:first-child::after {align-self: flex-end;width: 50%;}#sk-container-id-2 div.sk-parallel-item:last-child::after {align-self: flex-start;width: 50%;}#sk-container-id-2 div.sk-parallel-item:only-child::after {width: 0;}#sk-container-id-2 div.sk-dashed-wrapped {border: 1px dashed gray;margin: 0 0.4em 0.5em 0.4em;box-sizing: border-box;padding-bottom: 0.4em;background-color: white;}#sk-container-id-2 div.sk-label label {font-family: monospace;font-weight: bold;display: inline-block;line-height: 1.2em;}#sk-container-id-2 div.sk-label-container {text-align: center;}#sk-container-id-2 div.sk-container {/* jupyter's `normalize.less` sets `[hidden] { display: none; }` but bootstrap.min.css set `[hidden] { display: none !important; }` so we also need the `!important` here to be able to override the default hidden behavior on the sphinx rendered scikit-learn.org. See: https://github.com/scikit-learn/scikit-learn/issues/21755 */display: inline-block !important;position: relative;}#sk-container-id-2 div.sk-text-repr-fallback {display: none;}</style><div id=\"sk-container-id-2\" class=\"sk-top-container\"><div class=\"sk-text-repr-fallback\"><pre>SVC(C=10, class_weight=&#x27;balanced&#x27;, gamma=1)</pre><b>In a Jupyter environment, please rerun this cell to show the HTML representation or trust the notebook. <br />On GitHub, the HTML representation is unable to render, please try loading this page with nbviewer.org.</b></div><div class=\"sk-container\" hidden><div class=\"sk-item\"><div class=\"sk-estimator sk-toggleable\"><input class=\"sk-toggleable__control sk-hidden--visually\" id=\"sk-estimator-id-2\" type=\"checkbox\" checked><label for=\"sk-estimator-id-2\" class=\"sk-toggleable__label sk-toggleable__label-arrow\">SVC</label><div class=\"sk-toggleable__content\"><pre>SVC(C=10, class_weight=&#x27;balanced&#x27;, gamma=1)</pre></div></div></div></div></div>"
      ],
      "text/plain": [
       "SVC(C=10, class_weight='balanced', gamma=1)"
      ]
     },
     "execution_count": 33,
     "metadata": {},
     "output_type": "execute_result"
    }
   ],
   "source": [
    "SVM_model = SVC(kernel='rbf',C=10, gamma=1, class_weight='balanced')\n",
    "SVM_model.fit(X,Y)"
   ]
  },
  {
   "cell_type": "markdown",
   "id": "7c04e7b3",
   "metadata": {},
   "source": [
    "### Extracting Feature Importance:"
   ]
  },
  {
   "cell_type": "code",
   "execution_count": 34,
   "id": "b1d0710d",
   "metadata": {},
   "outputs": [],
   "source": [
    "from sklearn.inspection import permutation_importance\n",
    "from matplotlib import pyplot as plt"
   ]
  },
  {
   "cell_type": "code",
   "execution_count": 35,
   "id": "90500b1c",
   "metadata": {},
   "outputs": [],
   "source": [
    "r=ar_train_upsampled.drop(['subject','Group'],axis=1)\n",
    "feature_names=r.columns.tolist()\n",
    "features=np.array(feature_names)"
   ]
  },
  {
   "cell_type": "code",
   "execution_count": null,
   "id": "aa8a8a2b",
   "metadata": {},
   "outputs": [],
   "source": [
    "feat_imp_all=permutation_importance(SVM_model,X_test,Y_test)\n",
    "sorted_importance_all=feat_imp_all.importances_mean.argsort()\n",
    "f=features[sorted_importance_all]\n",
    "v=feat_imp_all.importances_mean[sorted_importance_all]\n",
    "plt.barh(f,v)\n",
    "plt.xlabel(\"Feature Importance for all Features\")"
   ]
  },
  {
   "cell_type": "code",
   "execution_count": null,
   "id": "cfadb5c7",
   "metadata": {},
   "outputs": [],
   "source": [
    "def feat_imp_all():\n",
    "    i=0\n",
    "    x=[]\n",
    "    for i in range (0,28):\n",
    "        if v[i] <-0.005 or v[i]>0.005:\n",
    "            x.append(f[i])\n",
    "    return x\n",
    "\n",
    "imp_features_all=feat_imp_all()\n",
    "print(type(imp_features_all))"
   ]
  }
 ],
 "metadata": {
  "kernelspec": {
   "display_name": "Python 3 (ipykernel)",
   "language": "python",
   "name": "python3"
  },
  "language_info": {
   "codemirror_mode": {
    "name": "ipython",
    "version": 3
   },
   "file_extension": ".py",
   "mimetype": "text/x-python",
   "name": "python",
   "nbconvert_exporter": "python",
   "pygments_lexer": "ipython3",
   "version": "3.10.6"
  }
 },
 "nbformat": 4,
 "nbformat_minor": 5
}
