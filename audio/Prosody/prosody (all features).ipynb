{
 "cells": [
  {
   "cell_type": "markdown",
   "id": "c096f9e0",
   "metadata": {},
   "source": [
    "### Importing the necessary dependencies:"
   ]
  },
  {
   "cell_type": "code",
   "execution_count": 1,
   "id": "04e937ca",
   "metadata": {},
   "outputs": [],
   "source": [
    "import pandas as pd\n",
    "import numpy as np"
   ]
  },
  {
   "cell_type": "code",
   "execution_count": 2,
   "id": "64b69531",
   "metadata": {},
   "outputs": [],
   "source": [
    "from sklearn.utils import resample\n",
    "from sklearn.preprocessing import StandardScaler\n",
    "from sklearn import metrics\n",
    "from sklearn.ensemble import RandomForestClassifier\n",
    "from sklearn.tree import DecisionTreeClassifier\n",
    "from sklearn.linear_model import LogisticRegression\n",
    "from sklearn.svm import SVC"
   ]
  },
  {
   "cell_type": "code",
   "execution_count": 3,
   "id": "353a473a",
   "metadata": {},
   "outputs": [],
   "source": [
    "prosody_train=pd.read_csv('/home/vboxuser/VoiceFiles/Voice4PD-MSA-Tool-global_V2/ProsodyData/prosodyfeaturesst_seg_train.csv')\n",
    "prosody_test=pd.read_csv('/home/vboxuser/VoiceFiles/Voice4PD-MSA-Tool-global_V2/ProsodyData/prosodyfeaturesst_seg_test.csv')"
   ]
  },
  {
   "cell_type": "markdown",
   "id": "d796cf9e",
   "metadata": {},
   "source": [
    "### Preprocessing training data:"
   ]
  },
  {
   "cell_type": "code",
   "execution_count": 4,
   "id": "303d34b2",
   "metadata": {},
   "outputs": [
    {
     "data": {
      "text/html": [
       "<div>\n",
       "<style scoped>\n",
       "    .dataframe tbody tr th:only-of-type {\n",
       "        vertical-align: middle;\n",
       "    }\n",
       "\n",
       "    .dataframe tbody tr th {\n",
       "        vertical-align: top;\n",
       "    }\n",
       "\n",
       "    .dataframe thead th {\n",
       "        text-align: right;\n",
       "    }\n",
       "</style>\n",
       "<table border=\"1\" class=\"dataframe\">\n",
       "  <thead>\n",
       "    <tr style=\"text-align: right;\">\n",
       "      <th></th>\n",
       "      <th>subject</th>\n",
       "      <th>F0avg</th>\n",
       "      <th>F0std</th>\n",
       "      <th>F0max</th>\n",
       "      <th>F0min</th>\n",
       "      <th>F0skew</th>\n",
       "      <th>F0kurt</th>\n",
       "      <th>F0tiltavg</th>\n",
       "      <th>F0mseavg</th>\n",
       "      <th>F0tiltstd</th>\n",
       "      <th>...</th>\n",
       "      <th>kurtosisdurpause</th>\n",
       "      <th>maxdurpause</th>\n",
       "      <th>mindurpause</th>\n",
       "      <th>PVU</th>\n",
       "      <th>PU</th>\n",
       "      <th>UVU</th>\n",
       "      <th>VVU</th>\n",
       "      <th>VP</th>\n",
       "      <th>UP</th>\n",
       "      <th>Group</th>\n",
       "    </tr>\n",
       "  </thead>\n",
       "  <tbody>\n",
       "    <tr>\n",
       "      <th>0</th>\n",
       "      <td>302_P_0.wav</td>\n",
       "      <td>205.149139</td>\n",
       "      <td>83.769669</td>\n",
       "      <td>327.514770</td>\n",
       "      <td>84.000198</td>\n",
       "      <td>-0.168400</td>\n",
       "      <td>-1.775526</td>\n",
       "      <td>-124.519433</td>\n",
       "      <td>56.990329</td>\n",
       "      <td>313.762164</td>\n",
       "      <td>...</td>\n",
       "      <td>-1.595486</td>\n",
       "      <td>0.420000</td>\n",
       "      <td>0.24</td>\n",
       "      <td>1.406408</td>\n",
       "      <td>7.372219</td>\n",
       "      <td>0.190771</td>\n",
       "      <td>0.809229</td>\n",
       "      <td>0.575387</td>\n",
       "      <td>0.135644</td>\n",
       "      <td>HC</td>\n",
       "    </tr>\n",
       "    <tr>\n",
       "      <th>1</th>\n",
       "      <td>302_P_1.wav</td>\n",
       "      <td>102.336777</td>\n",
       "      <td>12.758840</td>\n",
       "      <td>162.222671</td>\n",
       "      <td>84.562759</td>\n",
       "      <td>1.034953</td>\n",
       "      <td>1.608071</td>\n",
       "      <td>-68.756823</td>\n",
       "      <td>14.322919</td>\n",
       "      <td>134.003465</td>\n",
       "      <td>...</td>\n",
       "      <td>-1.093525</td>\n",
       "      <td>0.860000</td>\n",
       "      <td>0.26</td>\n",
       "      <td>1.573629</td>\n",
       "      <td>4.208813</td>\n",
       "      <td>0.373889</td>\n",
       "      <td>0.626111</td>\n",
       "      <td>0.397877</td>\n",
       "      <td>0.237597</td>\n",
       "      <td>HC</td>\n",
       "    </tr>\n",
       "    <tr>\n",
       "      <th>2</th>\n",
       "      <td>302_P_10.wav</td>\n",
       "      <td>100.019585</td>\n",
       "      <td>8.637549</td>\n",
       "      <td>128.070557</td>\n",
       "      <td>78.891289</td>\n",
       "      <td>0.045826</td>\n",
       "      <td>-0.090325</td>\n",
       "      <td>-52.007956</td>\n",
       "      <td>6.935584</td>\n",
       "      <td>55.938566</td>\n",
       "      <td>...</td>\n",
       "      <td>-1.510324</td>\n",
       "      <td>0.749977</td>\n",
       "      <td>0.16</td>\n",
       "      <td>1.157104</td>\n",
       "      <td>4.461451</td>\n",
       "      <td>0.259356</td>\n",
       "      <td>0.740644</td>\n",
       "      <td>0.640084</td>\n",
       "      <td>0.224142</td>\n",
       "      <td>HC</td>\n",
       "    </tr>\n",
       "  </tbody>\n",
       "</table>\n",
       "<p>3 rows × 105 columns</p>\n",
       "</div>"
      ],
      "text/plain": [
       "        subject       F0avg      F0std       F0max      F0min    F0skew  \\\n",
       "0   302_P_0.wav  205.149139  83.769669  327.514770  84.000198 -0.168400   \n",
       "1   302_P_1.wav  102.336777  12.758840  162.222671  84.562759  1.034953   \n",
       "2  302_P_10.wav  100.019585   8.637549  128.070557  78.891289  0.045826   \n",
       "\n",
       "     F0kurt   F0tiltavg   F0mseavg   F0tiltstd  ...  kurtosisdurpause  \\\n",
       "0 -1.775526 -124.519433  56.990329  313.762164  ...         -1.595486   \n",
       "1  1.608071  -68.756823  14.322919  134.003465  ...         -1.093525   \n",
       "2 -0.090325  -52.007956   6.935584   55.938566  ...         -1.510324   \n",
       "\n",
       "   maxdurpause  mindurpause       PVU        PU       UVU       VVU        VP  \\\n",
       "0     0.420000         0.24  1.406408  7.372219  0.190771  0.809229  0.575387   \n",
       "1     0.860000         0.26  1.573629  4.208813  0.373889  0.626111  0.397877   \n",
       "2     0.749977         0.16  1.157104  4.461451  0.259356  0.740644  0.640084   \n",
       "\n",
       "         UP  Group  \n",
       "0  0.135644     HC  \n",
       "1  0.237597     HC  \n",
       "2  0.224142     HC  \n",
       "\n",
       "[3 rows x 105 columns]"
      ]
     },
     "execution_count": 4,
     "metadata": {},
     "output_type": "execute_result"
    }
   ],
   "source": [
    "prosody_train.head(3)"
   ]
  },
  {
   "cell_type": "markdown",
   "id": "54ff98bd",
   "metadata": {},
   "source": [
    "__note: 30 columns: 103 features(X), 1 target label(Y) and no null values__"
   ]
  },
  {
   "cell_type": "markdown",
   "id": "8903c9a6",
   "metadata": {},
   "source": [
    "#### 1. Checking if the classes have a balanced amount of samples:"
   ]
  },
  {
   "cell_type": "code",
   "execution_count": 5,
   "id": "19253089",
   "metadata": {},
   "outputs": [],
   "source": [
    "#replace string values to 0s & 1s in target column\n",
    "prosody_train.replace({'Group':{\"HC\":0,\"DP\":1}},inplace=True)"
   ]
  },
  {
   "cell_type": "code",
   "execution_count": 6,
   "id": "b1d14e5e",
   "metadata": {},
   "outputs": [
    {
     "name": "stdout",
     "output_type": "stream",
     "text": [
      "Group\n",
      "0    13090\n",
      "1     3529\n",
      "Name: Group, dtype: int64\n"
     ]
    }
   ],
   "source": [
    "val_count=prosody_train.groupby(['Group'])['Group'].count()\n",
    "print(val_count)"
   ]
  },
  {
   "cell_type": "code",
   "execution_count": 7,
   "id": "1575292c",
   "metadata": {},
   "outputs": [],
   "source": [
    "df1=prosody_train[prosody_train['Group']==1]\n",
    "df2=prosody_train[prosody_train['Group']!=1]\n",
    "df_upsampled=resample(df1,random_state=42,n_samples=13090,replace=True)\n",
    "pr_train_upsampled=pd.concat([df_upsampled,df2])"
   ]
  },
  {
   "cell_type": "code",
   "execution_count": 8,
   "id": "6ef7588d",
   "metadata": {},
   "outputs": [
    {
     "name": "stdout",
     "output_type": "stream",
     "text": [
      "Group\n",
      "0    13090\n",
      "1    13090\n",
      "Name: Group, dtype: int64\n"
     ]
    }
   ],
   "source": [
    "val_count=pr_train_upsampled.groupby(['Group'])['Group'].count()\n",
    "print(val_count)"
   ]
  },
  {
   "cell_type": "markdown",
   "id": "45f8ca78",
   "metadata": {},
   "source": [
    "#### 2. Obtaining X & Y values:"
   ]
  },
  {
   "cell_type": "code",
   "execution_count": 9,
   "id": "5a73f7b4",
   "metadata": {},
   "outputs": [],
   "source": [
    "X=pr_train_upsampled.drop(['subject','Group'],axis=1)\n",
    "Y=pr_train_upsampled['Group']"
   ]
  },
  {
   "cell_type": "markdown",
   "id": "cea6da69",
   "metadata": {},
   "source": [
    "#### 3. Normalizing the data:"
   ]
  },
  {
   "cell_type": "code",
   "execution_count": 10,
   "id": "8f42356a",
   "metadata": {},
   "outputs": [],
   "source": [
    "import Normalization as n"
   ]
  },
  {
   "cell_type": "code",
   "execution_count": 11,
   "id": "8d2e739f",
   "metadata": {},
   "outputs": [],
   "source": [
    "X=n.normalize_train(X)"
   ]
  },
  {
   "cell_type": "code",
   "execution_count": 12,
   "id": "16ff2804",
   "metadata": {},
   "outputs": [
    {
     "name": "stdout",
     "output_type": "stream",
     "text": [
      "3.133561606228393e-17\n",
      "1.0000000000000002\n"
     ]
    }
   ],
   "source": [
    "print(np.mean(X))\n",
    "print(np.std(X))"
   ]
  },
  {
   "cell_type": "markdown",
   "id": "2390bf1d",
   "metadata": {},
   "source": [
    "### Preprocessing test data:"
   ]
  },
  {
   "cell_type": "code",
   "execution_count": 13,
   "id": "a5cb9245",
   "metadata": {},
   "outputs": [
    {
     "data": {
      "text/html": [
       "<div>\n",
       "<style scoped>\n",
       "    .dataframe tbody tr th:only-of-type {\n",
       "        vertical-align: middle;\n",
       "    }\n",
       "\n",
       "    .dataframe tbody tr th {\n",
       "        vertical-align: top;\n",
       "    }\n",
       "\n",
       "    .dataframe thead th {\n",
       "        text-align: right;\n",
       "    }\n",
       "</style>\n",
       "<table border=\"1\" class=\"dataframe\">\n",
       "  <thead>\n",
       "    <tr style=\"text-align: right;\">\n",
       "      <th></th>\n",
       "      <th>F0avg</th>\n",
       "      <th>F0std</th>\n",
       "      <th>F0max</th>\n",
       "      <th>F0min</th>\n",
       "      <th>F0skew</th>\n",
       "      <th>F0kurt</th>\n",
       "      <th>F0tiltavg</th>\n",
       "      <th>F0mseavg</th>\n",
       "      <th>F0tiltstd</th>\n",
       "      <th>F0msestd</th>\n",
       "      <th>...</th>\n",
       "      <th>maxdurpause</th>\n",
       "      <th>mindurpause</th>\n",
       "      <th>PVU</th>\n",
       "      <th>PU</th>\n",
       "      <th>UVU</th>\n",
       "      <th>VVU</th>\n",
       "      <th>VP</th>\n",
       "      <th>UP</th>\n",
       "      <th>subject</th>\n",
       "      <th>Group</th>\n",
       "    </tr>\n",
       "  </thead>\n",
       "  <tbody>\n",
       "    <tr>\n",
       "      <th>0</th>\n",
       "      <td>217.328567</td>\n",
       "      <td>43.345333</td>\n",
       "      <td>285.029968</td>\n",
       "      <td>103.759995</td>\n",
       "      <td>-1.099916</td>\n",
       "      <td>0.759685</td>\n",
       "      <td>-81.820570</td>\n",
       "      <td>84.405609</td>\n",
       "      <td>285.252458</td>\n",
       "      <td>205.829912</td>\n",
       "      <td>...</td>\n",
       "      <td>0.560000</td>\n",
       "      <td>0.229977</td>\n",
       "      <td>1.974597</td>\n",
       "      <td>5.086207</td>\n",
       "      <td>0.388226</td>\n",
       "      <td>0.611774</td>\n",
       "      <td>0.309822</td>\n",
       "      <td>0.196610</td>\n",
       "      <td>600_AUDIO_0.wav</td>\n",
       "      <td>HC</td>\n",
       "    </tr>\n",
       "    <tr>\n",
       "      <th>1</th>\n",
       "      <td>209.782654</td>\n",
       "      <td>19.156879</td>\n",
       "      <td>279.613312</td>\n",
       "      <td>175.599060</td>\n",
       "      <td>0.854379</td>\n",
       "      <td>0.991213</td>\n",
       "      <td>-457.414492</td>\n",
       "      <td>51.429299</td>\n",
       "      <td>745.770969</td>\n",
       "      <td>54.816928</td>\n",
       "      <td>...</td>\n",
       "      <td>0.450023</td>\n",
       "      <td>0.209977</td>\n",
       "      <td>1.332862</td>\n",
       "      <td>4.485377</td>\n",
       "      <td>0.297157</td>\n",
       "      <td>0.702843</td>\n",
       "      <td>0.527319</td>\n",
       "      <td>0.222947</td>\n",
       "      <td>600_AUDIO_1.wav</td>\n",
       "      <td>HC</td>\n",
       "    </tr>\n",
       "    <tr>\n",
       "      <th>2</th>\n",
       "      <td>212.537704</td>\n",
       "      <td>27.163887</td>\n",
       "      <td>331.514069</td>\n",
       "      <td>170.454742</td>\n",
       "      <td>1.845468</td>\n",
       "      <td>5.051382</td>\n",
       "      <td>-233.376614</td>\n",
       "      <td>60.062420</td>\n",
       "      <td>347.079622</td>\n",
       "      <td>49.608685</td>\n",
       "      <td>...</td>\n",
       "      <td>0.369977</td>\n",
       "      <td>0.220000</td>\n",
       "      <td>0.992319</td>\n",
       "      <td>3.777460</td>\n",
       "      <td>0.262695</td>\n",
       "      <td>0.737305</td>\n",
       "      <td>0.743012</td>\n",
       "      <td>0.264728</td>\n",
       "      <td>600_AUDIO_10.wav</td>\n",
       "      <td>HC</td>\n",
       "    </tr>\n",
       "  </tbody>\n",
       "</table>\n",
       "<p>3 rows × 105 columns</p>\n",
       "</div>"
      ],
      "text/plain": [
       "        F0avg      F0std       F0max       F0min    F0skew    F0kurt  \\\n",
       "0  217.328567  43.345333  285.029968  103.759995 -1.099916  0.759685   \n",
       "1  209.782654  19.156879  279.613312  175.599060  0.854379  0.991213   \n",
       "2  212.537704  27.163887  331.514069  170.454742  1.845468  5.051382   \n",
       "\n",
       "    F0tiltavg   F0mseavg   F0tiltstd    F0msestd  ...  maxdurpause  \\\n",
       "0  -81.820570  84.405609  285.252458  205.829912  ...     0.560000   \n",
       "1 -457.414492  51.429299  745.770969   54.816928  ...     0.450023   \n",
       "2 -233.376614  60.062420  347.079622   49.608685  ...     0.369977   \n",
       "\n",
       "   mindurpause       PVU        PU       UVU       VVU        VP        UP  \\\n",
       "0     0.229977  1.974597  5.086207  0.388226  0.611774  0.309822  0.196610   \n",
       "1     0.209977  1.332862  4.485377  0.297157  0.702843  0.527319  0.222947   \n",
       "2     0.220000  0.992319  3.777460  0.262695  0.737305  0.743012  0.264728   \n",
       "\n",
       "            subject  Group  \n",
       "0   600_AUDIO_0.wav     HC  \n",
       "1   600_AUDIO_1.wav     HC  \n",
       "2  600_AUDIO_10.wav     HC  \n",
       "\n",
       "[3 rows x 105 columns]"
      ]
     },
     "execution_count": 13,
     "metadata": {},
     "output_type": "execute_result"
    }
   ],
   "source": [
    "prosody_test.head(3)"
   ]
  },
  {
   "cell_type": "code",
   "execution_count": 14,
   "id": "82a6ec52",
   "metadata": {},
   "outputs": [
    {
     "data": {
      "text/plain": [
       "F0avg      0\n",
       "F0std      0\n",
       "F0max      0\n",
       "F0min      0\n",
       "F0skew     0\n",
       "          ..\n",
       "VVU        0\n",
       "VP         0\n",
       "UP         0\n",
       "subject    0\n",
       "Group      0\n",
       "Length: 105, dtype: int64"
      ]
     },
     "execution_count": 14,
     "metadata": {},
     "output_type": "execute_result"
    }
   ],
   "source": [
    "prosody_test.isnull().sum()"
   ]
  },
  {
   "cell_type": "code",
   "execution_count": 15,
   "id": "567cb067",
   "metadata": {},
   "outputs": [],
   "source": [
    "pr_test=prosody_test.fillna(0)"
   ]
  },
  {
   "cell_type": "code",
   "execution_count": 16,
   "id": "d009958b",
   "metadata": {},
   "outputs": [
    {
     "data": {
      "text/plain": [
       "F0avg      0\n",
       "F0std      0\n",
       "F0max      0\n",
       "F0min      0\n",
       "F0skew     0\n",
       "          ..\n",
       "VVU        0\n",
       "VP         0\n",
       "UP         0\n",
       "subject    0\n",
       "Group      0\n",
       "Length: 105, dtype: int64"
      ]
     },
     "execution_count": 16,
     "metadata": {},
     "output_type": "execute_result"
    }
   ],
   "source": [
    "pr_test.isnull().sum()"
   ]
  },
  {
   "cell_type": "code",
   "execution_count": 17,
   "id": "c172316e",
   "metadata": {},
   "outputs": [],
   "source": [
    "#obtaining X & Y for test data:\n",
    "pr_test.replace({'Group':{\"HC\":0,\"DP\":1}},inplace=True)\n",
    "X_test=pr_test.drop(['subject','Group'],axis=1)\n",
    "Y_test=pr_test['Group']"
   ]
  },
  {
   "cell_type": "code",
   "execution_count": 18,
   "id": "84ce11fc",
   "metadata": {},
   "outputs": [],
   "source": [
    "X_test=n.normalize_test(X_test)"
   ]
  },
  {
   "cell_type": "code",
   "execution_count": 19,
   "id": "e07be099",
   "metadata": {},
   "outputs": [
    {
     "name": "stdout",
     "output_type": "stream",
     "text": [
      "-0.07571469008695046\n",
      "1.0242422252747432\n"
     ]
    }
   ],
   "source": [
    "print(np.mean(X_test))\n",
    "print(np.std(X_test))"
   ]
  },
  {
   "cell_type": "markdown",
   "id": "ce88a8d5",
   "metadata": {},
   "source": [
    "### Finding Best Model:"
   ]
  },
  {
   "cell_type": "code",
   "execution_count": 20,
   "id": "b8ee0d7a",
   "metadata": {},
   "outputs": [],
   "source": [
    "import model "
   ]
  },
  {
   "cell_type": "code",
   "execution_count": 21,
   "id": "e61bad33",
   "metadata": {},
   "outputs": [],
   "source": [
    "obj=model.classification_models()"
   ]
  },
  {
   "cell_type": "markdown",
   "id": "f9f35d37",
   "metadata": {},
   "source": [
    "#### 1. Random Forest Classifier:"
   ]
  },
  {
   "cell_type": "code",
   "execution_count": 30,
   "id": "57e58be2",
   "metadata": {},
   "outputs": [
    {
     "name": "stdout",
     "output_type": "stream",
     "text": [
      "The RF model accuracy is given as :  0.7168122270742358\n",
      "              precision    recall  f1-score   support\n",
      "\n",
      "           0       0.72      0.99      0.83      3311\n",
      "           1       0.18      0.01      0.01      1269\n",
      "\n",
      "    accuracy                           0.72      4580\n",
      "   macro avg       0.45      0.50      0.42      4580\n",
      "weighted avg       0.57      0.72      0.61      4580\n",
      "\n"
     ]
    }
   ],
   "source": [
    "obj.RF_model(X,Y,X_test,Y_test)"
   ]
  },
  {
   "cell_type": "markdown",
   "id": "8b5cbf6e",
   "metadata": {},
   "source": [
    "#### 2. Decision Tree Classifier:"
   ]
  },
  {
   "cell_type": "code",
   "execution_count": 31,
   "id": "c43b4340",
   "metadata": {},
   "outputs": [
    {
     "name": "stdout",
     "output_type": "stream",
     "text": [
      "The DF model accuracy is given as :  0.6026200873362445\n",
      "              precision    recall  f1-score   support\n",
      "\n",
      "           0       0.74      0.70      0.72      3311\n",
      "           1       0.31      0.36      0.33      1269\n",
      "\n",
      "    accuracy                           0.60      4580\n",
      "   macro avg       0.52      0.53      0.52      4580\n",
      "weighted avg       0.62      0.60      0.61      4580\n",
      "\n"
     ]
    }
   ],
   "source": [
    "obj.DF_model(X,Y,X_test,Y_test)"
   ]
  },
  {
   "cell_type": "markdown",
   "id": "a351a387",
   "metadata": {},
   "source": [
    "#### 3. Logistic Regression Model:"
   ]
  },
  {
   "cell_type": "code",
   "execution_count": 32,
   "id": "ee4d1855",
   "metadata": {},
   "outputs": [
    {
     "name": "stdout",
     "output_type": "stream",
     "text": [
      "The LR_model accuracy is given as :  0.6576419213973799\n",
      "              precision    recall  f1-score   support\n",
      "\n",
      "           0       0.78      0.74      0.76      3311\n",
      "           1       0.39      0.44      0.41      1269\n",
      "\n",
      "    accuracy                           0.66      4580\n",
      "   macro avg       0.58      0.59      0.59      4580\n",
      "weighted avg       0.67      0.66      0.66      4580\n",
      "\n"
     ]
    },
    {
     "name": "stderr",
     "output_type": "stream",
     "text": [
      "/usr/local/lib/python3.10/dist-packages/sklearn/linear_model/_logistic.py:458: ConvergenceWarning: lbfgs failed to converge (status=1):\n",
      "STOP: TOTAL NO. of ITERATIONS REACHED LIMIT.\n",
      "\n",
      "Increase the number of iterations (max_iter) or scale the data as shown in:\n",
      "    https://scikit-learn.org/stable/modules/preprocessing.html\n",
      "Please also refer to the documentation for alternative solver options:\n",
      "    https://scikit-learn.org/stable/modules/linear_model.html#logistic-regression\n",
      "  n_iter_i = _check_optimize_result(\n"
     ]
    }
   ],
   "source": [
    "obj.LR_model(X,Y,X_test,Y_test)"
   ]
  },
  {
   "cell_type": "markdown",
   "id": "42b4f419",
   "metadata": {},
   "source": [
    "#### 4. Support Vector Machine:"
   ]
  },
  {
   "cell_type": "code",
   "execution_count": 1,
   "id": "7a9c602e",
   "metadata": {},
   "outputs": [],
   "source": [
    "#import grid_search as g"
   ]
  },
  {
   "cell_type": "code",
   "execution_count": null,
   "id": "d0970dc4",
   "metadata": {},
   "outputs": [],
   "source": [
    "#parameters=g.best_param(X,Y)"
   ]
  },
  {
   "cell_type": "code",
   "execution_count": null,
   "id": "8fafc9a7",
   "metadata": {},
   "outputs": [],
   "source": [
    "obj.SVM_model(X,Y,10,1,X_test,Y_test)"
   ]
  },
  {
   "cell_type": "markdown",
   "id": "7c04e7b3",
   "metadata": {},
   "source": [
    "### Extracting Feature Importance:"
   ]
  },
  {
   "cell_type": "code",
   "execution_count": 20,
   "id": "605d23fd",
   "metadata": {},
   "outputs": [],
   "source": [
    "from sklearn.inspection import permutation_importance\n",
    "from matplotlib import pyplot as plt"
   ]
  },
  {
   "cell_type": "code",
   "execution_count": null,
   "id": "47c6d9f6",
   "metadata": {},
   "outputs": [],
   "source": [
    "SVM_model = SVC(kernel='rbf',C=10, gamma=1, class_weight='balanced')\n",
    "SVM_model.fit(X,Y)"
   ]
  },
  {
   "cell_type": "code",
   "execution_count": 22,
   "id": "90500b1c",
   "metadata": {},
   "outputs": [],
   "source": [
    "r=pr_train_upsampled.drop(['subject','Group'],axis=1)\n",
    "feature_names=r.columns.tolist()\n",
    "features=np.array(feature_names)"
   ]
  },
  {
   "cell_type": "code",
   "execution_count": 22,
   "id": "2ff67822",
   "metadata": {},
   "outputs": [
    {
     "data": {
      "text/plain": [
       "26180"
      ]
     },
     "execution_count": 22,
     "metadata": {},
     "output_type": "execute_result"
    }
   ],
   "source": [
    "len(X)"
   ]
  },
  {
   "cell_type": "code",
   "execution_count": null,
   "id": "aa8a8a2b",
   "metadata": {},
   "outputs": [],
   "source": [
    "feat_imp_all=permutation_importance(SVM_model,X_test,Y_test)\n",
    "#sorted_importance_all=feat_imp_all.importances_mean.argsort()\n",
    "#f=features[sorted_importance_all]\n",
    "#v=feat_imp_all.importances_mean[sorted_importance_all]\n",
    "#plt.barh(f,v)\n",
    "#plt.xlabel(\"Feature Importance for all Features\")"
   ]
  },
  {
   "cell_type": "code",
   "execution_count": null,
   "id": "7d172868",
   "metadata": {},
   "outputs": [],
   "source": [
    "def feat_imp_all():\n",
    "    i=0\n",
    "    x=[]\n",
    "    for i in range (0,28):\n",
    "        if v[i] <-0.005 or v[i]>0.005:\n",
    "            x.append(f[i])\n",
    "    return x\n",
    "\n",
    "imp_features_all=feat_imp_all()\n",
    "print(type(imp_features_all))"
   ]
  },
  {
   "cell_type": "code",
   "execution_count": null,
   "id": "d7ae4314",
   "metadata": {},
   "outputs": [],
   "source": [
    "sorted_importance_all"
   ]
  }
 ],
 "metadata": {
  "kernelspec": {
   "display_name": "Python 3 (ipykernel)",
   "language": "python",
   "name": "python3"
  },
  "language_info": {
   "codemirror_mode": {
    "name": "ipython",
    "version": 3
   },
   "file_extension": ".py",
   "mimetype": "text/x-python",
   "name": "python",
   "nbconvert_exporter": "python",
   "pygments_lexer": "ipython3",
   "version": "3.10.6"
  }
 },
 "nbformat": 4,
 "nbformat_minor": 5
}
