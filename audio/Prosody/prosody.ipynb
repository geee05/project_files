{
 "cells": [
  {
   "cell_type": "markdown",
   "metadata": {},
   "source": [
    "### Importing the necessary dependencies:"
   ]
  },
  {
   "cell_type": "code",
   "execution_count": 1,
   "metadata": {
    "scrolled": true
   },
   "outputs": [],
   "source": [
    "import pandas as pd\n",
    "import numpy as np"
   ]
  },
  {
   "cell_type": "code",
   "execution_count": 2,
   "metadata": {
    "scrolled": true
   },
   "outputs": [],
   "source": [
    "from sklearn.utils import resample\n",
    "from sklearn import metrics\n",
    "from sklearn.ensemble import RandomForestClassifier\n",
    "from sklearn.tree import DecisionTreeClassifier\n",
    "from sklearn.linear_model import LogisticRegression\n",
    "from sklearn.svm import SVC\n",
    "from sklearn.preprocessing import StandardScaler\n",
    "from sklearn.metrics import confusion_matrix,classification_report,roc_auc_score\n",
    "import statistics\n",
    "from statistics import mode"
   ]
  },
  {
   "cell_type": "markdown",
   "metadata": {},
   "source": [
    "### Importing the data files:"
   ]
  },
  {
   "cell_type": "code",
   "execution_count": 123,
   "metadata": {
    "scrolled": true
   },
   "outputs": [],
   "source": [
    "#statistical analysis on features:\n",
    "df=pd.read_csv('/home/vboxuser/VoiceFiles/Voice4PD-MSA-Tool-global_V2/ProsodyData/stat_pr/prosodyfeaturesst_seg_train_stat.csv')\n",
    "#train and test data:\n",
    "df_train=pd.read_csv('/home/vboxuser/VoiceFiles/Voice4PD-MSA-Tool-global_V2/ProsodyData/prosodyfeaturesst_seg_dev.csv')\n",
    "df_test=pd.read_csv('/home/vboxuser/VoiceFiles/Voice4PD-MSA-Tool-global_V2/ProsodyData/prosodyfeaturesst_seg_test.csv')"
   ]
  },
  {
   "cell_type": "code",
   "execution_count": 4,
   "metadata": {},
   "outputs": [],
   "source": [
    "prosody_test=pd.read_csv('/home/vboxuser/VoiceFiles/Prosodyfeaturesst_test.csv')"
   ]
  },
  {
   "cell_type": "markdown",
   "metadata": {},
   "source": [
    "## Building a model with feature selection:"
   ]
  },
  {
   "cell_type": "markdown",
   "metadata": {},
   "source": [
    "### Preprocessing the data:"
   ]
  },
  {
   "cell_type": "markdown",
   "metadata": {},
   "source": [
    "#### 1. Extract the features that are a good discriminant:"
   ]
  },
  {
   "cell_type": "code",
   "execution_count": 5,
   "metadata": {
    "scrolled": true
   },
   "outputs": [
    {
     "data": {
      "text/html": [
       "<div>\n",
       "<style scoped>\n",
       "    .dataframe tbody tr th:only-of-type {\n",
       "        vertical-align: middle;\n",
       "    }\n",
       "\n",
       "    .dataframe tbody tr th {\n",
       "        vertical-align: top;\n",
       "    }\n",
       "\n",
       "    .dataframe thead th {\n",
       "        text-align: right;\n",
       "    }\n",
       "</style>\n",
       "<table border=\"1\" class=\"dataframe\">\n",
       "  <thead>\n",
       "    <tr style=\"text-align: right;\">\n",
       "      <th></th>\n",
       "      <th>Unnamed: 0</th>\n",
       "      <th>p_HC_DP</th>\n",
       "      <th>p_HC_DP.1</th>\n",
       "    </tr>\n",
       "  </thead>\n",
       "  <tbody>\n",
       "    <tr>\n",
       "      <th>0</th>\n",
       "      <td>F0avg</td>\n",
       "      <td>0.412638</td>\n",
       "      <td>0.022083</td>\n",
       "    </tr>\n",
       "    <tr>\n",
       "      <th>1</th>\n",
       "      <td>F0std</td>\n",
       "      <td>0.081670</td>\n",
       "      <td>-0.051671</td>\n",
       "    </tr>\n",
       "    <tr>\n",
       "      <th>2</th>\n",
       "      <td>F0max</td>\n",
       "      <td>0.003043</td>\n",
       "      <td>-0.057737</td>\n",
       "    </tr>\n",
       "    <tr>\n",
       "      <th>3</th>\n",
       "      <td>F0min</td>\n",
       "      <td>0.546466</td>\n",
       "      <td>0.004791</td>\n",
       "    </tr>\n",
       "    <tr>\n",
       "      <th>4</th>\n",
       "      <td>F0skew</td>\n",
       "      <td>0.000001</td>\n",
       "      <td>-0.091609</td>\n",
       "    </tr>\n",
       "  </tbody>\n",
       "</table>\n",
       "</div>"
      ],
      "text/plain": [
       "  Unnamed: 0   p_HC_DP  p_HC_DP.1\n",
       "0      F0avg  0.412638   0.022083\n",
       "1      F0std  0.081670  -0.051671\n",
       "2      F0max  0.003043  -0.057737\n",
       "3      F0min  0.546466   0.004791\n",
       "4     F0skew  0.000001  -0.091609"
      ]
     },
     "execution_count": 5,
     "metadata": {},
     "output_type": "execute_result"
    }
   ],
   "source": [
    "df.head()"
   ]
  },
  {
   "cell_type": "code",
   "execution_count": 6,
   "metadata": {
    "scrolled": true
   },
   "outputs": [],
   "source": [
    "#from the {ImageFolder..} file obtained earlier from feature_analysis we take those values that have p_val<0.05 and effect_size>|0.4|\n",
    "req_features=df[(df['p_HC_DP']<0.05) | (abs(df['p_HC_DP.1'])>0.4)]"
   ]
  },
  {
   "cell_type": "markdown",
   "metadata": {},
   "source": [
    "#### 2. Obtain the selected good features as a list:"
   ]
  },
  {
   "cell_type": "code",
   "execution_count": 7,
   "metadata": {
    "scrolled": true
   },
   "outputs": [
    {
     "name": "stdout",
     "output_type": "stream",
     "text": [
      "20\n"
     ]
    }
   ],
   "source": [
    "feature_list=req_features['Unnamed: 0'].tolist()\n",
    "print(len(feature_list))"
   ]
  },
  {
   "cell_type": "markdown",
   "metadata": {},
   "source": [
    "#### 3. Obtaining X_train & Y_train:"
   ]
  },
  {
   "cell_type": "code",
   "execution_count": 8,
   "metadata": {},
   "outputs": [
    {
     "data": {
      "text/html": [
       "<div>\n",
       "<style scoped>\n",
       "    .dataframe tbody tr th:only-of-type {\n",
       "        vertical-align: middle;\n",
       "    }\n",
       "\n",
       "    .dataframe tbody tr th {\n",
       "        vertical-align: top;\n",
       "    }\n",
       "\n",
       "    .dataframe thead th {\n",
       "        text-align: right;\n",
       "    }\n",
       "</style>\n",
       "<table border=\"1\" class=\"dataframe\">\n",
       "  <thead>\n",
       "    <tr style=\"text-align: right;\">\n",
       "      <th></th>\n",
       "      <th>subject</th>\n",
       "      <th>F0avg</th>\n",
       "      <th>F0std</th>\n",
       "      <th>F0max</th>\n",
       "      <th>F0min</th>\n",
       "      <th>F0skew</th>\n",
       "      <th>F0kurt</th>\n",
       "      <th>F0tiltavg</th>\n",
       "      <th>F0mseavg</th>\n",
       "      <th>F0tiltstd</th>\n",
       "      <th>...</th>\n",
       "      <th>kurtosisdurpause</th>\n",
       "      <th>maxdurpause</th>\n",
       "      <th>mindurpause</th>\n",
       "      <th>PVU</th>\n",
       "      <th>PU</th>\n",
       "      <th>UVU</th>\n",
       "      <th>VVU</th>\n",
       "      <th>VP</th>\n",
       "      <th>UP</th>\n",
       "      <th>Group</th>\n",
       "    </tr>\n",
       "  </thead>\n",
       "  <tbody>\n",
       "    <tr>\n",
       "      <th>0</th>\n",
       "      <td>300_P_0.wav</td>\n",
       "      <td>165.908508</td>\n",
       "      <td>38.275139</td>\n",
       "      <td>257.928467</td>\n",
       "      <td>94.493355</td>\n",
       "      <td>0.426894</td>\n",
       "      <td>-0.647107</td>\n",
       "      <td>-65.049128</td>\n",
       "      <td>324.063212</td>\n",
       "      <td>126.268062</td>\n",
       "      <td>...</td>\n",
       "      <td>-0.866593</td>\n",
       "      <td>0.340000</td>\n",
       "      <td>0.149977</td>\n",
       "      <td>0.525115</td>\n",
       "      <td>4.608241</td>\n",
       "      <td>0.113951</td>\n",
       "      <td>0.886049</td>\n",
       "      <td>1.687344</td>\n",
       "      <td>0.217003</td>\n",
       "      <td>HC</td>\n",
       "    </tr>\n",
       "    <tr>\n",
       "      <th>1</th>\n",
       "      <td>300_P_1.wav</td>\n",
       "      <td>120.528053</td>\n",
       "      <td>12.529911</td>\n",
       "      <td>146.793304</td>\n",
       "      <td>86.951614</td>\n",
       "      <td>-0.113077</td>\n",
       "      <td>-0.996979</td>\n",
       "      <td>-20.992859</td>\n",
       "      <td>13.360108</td>\n",
       "      <td>24.507299</td>\n",
       "      <td>...</td>\n",
       "      <td>-1.594899</td>\n",
       "      <td>0.600000</td>\n",
       "      <td>0.220000</td>\n",
       "      <td>0.000000</td>\n",
       "      <td>0.000000</td>\n",
       "      <td>0.000000</td>\n",
       "      <td>0.000000</td>\n",
       "      <td>0.000000</td>\n",
       "      <td>0.000000</td>\n",
       "      <td>HC</td>\n",
       "    </tr>\n",
       "    <tr>\n",
       "      <th>2</th>\n",
       "      <td>300_P_10.wav</td>\n",
       "      <td>133.895416</td>\n",
       "      <td>21.495996</td>\n",
       "      <td>205.637115</td>\n",
       "      <td>98.742012</td>\n",
       "      <td>2.033316</td>\n",
       "      <td>3.646668</td>\n",
       "      <td>-149.393324</td>\n",
       "      <td>33.461422</td>\n",
       "      <td>185.119105</td>\n",
       "      <td>...</td>\n",
       "      <td>-0.758323</td>\n",
       "      <td>0.560000</td>\n",
       "      <td>0.320000</td>\n",
       "      <td>0.693961</td>\n",
       "      <td>3.659039</td>\n",
       "      <td>0.189657</td>\n",
       "      <td>0.810343</td>\n",
       "      <td>1.167707</td>\n",
       "      <td>0.273296</td>\n",
       "      <td>HC</td>\n",
       "    </tr>\n",
       "    <tr>\n",
       "      <th>3</th>\n",
       "      <td>300_P_11.wav</td>\n",
       "      <td>144.578720</td>\n",
       "      <td>28.399199</td>\n",
       "      <td>238.035019</td>\n",
       "      <td>100.053619</td>\n",
       "      <td>1.236097</td>\n",
       "      <td>0.991367</td>\n",
       "      <td>-15.509460</td>\n",
       "      <td>188.202717</td>\n",
       "      <td>25.538555</td>\n",
       "      <td>...</td>\n",
       "      <td>-2.000000</td>\n",
       "      <td>0.300000</td>\n",
       "      <td>0.190023</td>\n",
       "      <td>0.439975</td>\n",
       "      <td>3.827760</td>\n",
       "      <td>0.114943</td>\n",
       "      <td>0.885057</td>\n",
       "      <td>2.011608</td>\n",
       "      <td>0.261249</td>\n",
       "      <td>HC</td>\n",
       "    </tr>\n",
       "    <tr>\n",
       "      <th>4</th>\n",
       "      <td>300_P_12.wav</td>\n",
       "      <td>141.704803</td>\n",
       "      <td>28.684387</td>\n",
       "      <td>214.766144</td>\n",
       "      <td>108.876251</td>\n",
       "      <td>1.277414</td>\n",
       "      <td>0.580108</td>\n",
       "      <td>-18.155109</td>\n",
       "      <td>74.524664</td>\n",
       "      <td>111.242072</td>\n",
       "      <td>...</td>\n",
       "      <td>-1.487127</td>\n",
       "      <td>0.540000</td>\n",
       "      <td>0.150023</td>\n",
       "      <td>0.767724</td>\n",
       "      <td>4.291161</td>\n",
       "      <td>0.178908</td>\n",
       "      <td>0.821092</td>\n",
       "      <td>1.069515</td>\n",
       "      <td>0.233037</td>\n",
       "      <td>HC</td>\n",
       "    </tr>\n",
       "    <tr>\n",
       "      <th>...</th>\n",
       "      <td>...</td>\n",
       "      <td>...</td>\n",
       "      <td>...</td>\n",
       "      <td>...</td>\n",
       "      <td>...</td>\n",
       "      <td>...</td>\n",
       "      <td>...</td>\n",
       "      <td>...</td>\n",
       "      <td>...</td>\n",
       "      <td>...</td>\n",
       "      <td>...</td>\n",
       "      <td>...</td>\n",
       "      <td>...</td>\n",
       "      <td>...</td>\n",
       "      <td>...</td>\n",
       "      <td>...</td>\n",
       "      <td>...</td>\n",
       "      <td>...</td>\n",
       "      <td>...</td>\n",
       "      <td>...</td>\n",
       "      <td>...</td>\n",
       "    </tr>\n",
       "    <tr>\n",
       "      <th>5018</th>\n",
       "      <td>713_P_5.wav</td>\n",
       "      <td>121.557548</td>\n",
       "      <td>36.611835</td>\n",
       "      <td>259.327454</td>\n",
       "      <td>66.125931</td>\n",
       "      <td>1.220141</td>\n",
       "      <td>1.760276</td>\n",
       "      <td>-8.349025</td>\n",
       "      <td>184.875451</td>\n",
       "      <td>123.734211</td>\n",
       "      <td>...</td>\n",
       "      <td>-0.474507</td>\n",
       "      <td>0.549977</td>\n",
       "      <td>0.160000</td>\n",
       "      <td>1.011893</td>\n",
       "      <td>6.071267</td>\n",
       "      <td>0.166669</td>\n",
       "      <td>0.833331</td>\n",
       "      <td>0.823537</td>\n",
       "      <td>0.164710</td>\n",
       "      <td>HC</td>\n",
       "    </tr>\n",
       "    <tr>\n",
       "      <th>5019</th>\n",
       "      <td>713_P_6.wav</td>\n",
       "      <td>98.142693</td>\n",
       "      <td>11.498760</td>\n",
       "      <td>151.283951</td>\n",
       "      <td>70.990318</td>\n",
       "      <td>1.337210</td>\n",
       "      <td>3.094978</td>\n",
       "      <td>-107.072079</td>\n",
       "      <td>36.489500</td>\n",
       "      <td>95.307558</td>\n",
       "      <td>...</td>\n",
       "      <td>-1.283715</td>\n",
       "      <td>0.989977</td>\n",
       "      <td>0.289977</td>\n",
       "      <td>1.545837</td>\n",
       "      <td>5.899887</td>\n",
       "      <td>0.262011</td>\n",
       "      <td>0.737989</td>\n",
       "      <td>0.477404</td>\n",
       "      <td>0.169495</td>\n",
       "      <td>HC</td>\n",
       "    </tr>\n",
       "    <tr>\n",
       "      <th>5020</th>\n",
       "      <td>713_P_7.wav</td>\n",
       "      <td>112.744049</td>\n",
       "      <td>50.676796</td>\n",
       "      <td>264.040283</td>\n",
       "      <td>67.474419</td>\n",
       "      <td>2.159553</td>\n",
       "      <td>3.558457</td>\n",
       "      <td>-55.952834</td>\n",
       "      <td>24.763987</td>\n",
       "      <td>92.611292</td>\n",
       "      <td>...</td>\n",
       "      <td>0.848076</td>\n",
       "      <td>1.200000</td>\n",
       "      <td>0.169977</td>\n",
       "      <td>0.000000</td>\n",
       "      <td>0.000000</td>\n",
       "      <td>0.000000</td>\n",
       "      <td>0.000000</td>\n",
       "      <td>0.000000</td>\n",
       "      <td>0.000000</td>\n",
       "      <td>HC</td>\n",
       "    </tr>\n",
       "    <tr>\n",
       "      <th>5021</th>\n",
       "      <td>713_P_8.wav</td>\n",
       "      <td>114.727715</td>\n",
       "      <td>21.992062</td>\n",
       "      <td>206.498825</td>\n",
       "      <td>74.076416</td>\n",
       "      <td>1.794884</td>\n",
       "      <td>4.758493</td>\n",
       "      <td>11.662198</td>\n",
       "      <td>51.707118</td>\n",
       "      <td>276.472244</td>\n",
       "      <td>...</td>\n",
       "      <td>-1.088540</td>\n",
       "      <td>0.520000</td>\n",
       "      <td>0.269977</td>\n",
       "      <td>1.363187</td>\n",
       "      <td>5.240970</td>\n",
       "      <td>0.260102</td>\n",
       "      <td>0.739898</td>\n",
       "      <td>0.542771</td>\n",
       "      <td>0.190804</td>\n",
       "      <td>HC</td>\n",
       "    </tr>\n",
       "    <tr>\n",
       "      <th>5022</th>\n",
       "      <td>713_P_9.wav</td>\n",
       "      <td>101.046761</td>\n",
       "      <td>15.628685</td>\n",
       "      <td>200.535446</td>\n",
       "      <td>78.203659</td>\n",
       "      <td>3.069009</td>\n",
       "      <td>14.005285</td>\n",
       "      <td>-32.388347</td>\n",
       "      <td>98.389580</td>\n",
       "      <td>78.047285</td>\n",
       "      <td>...</td>\n",
       "      <td>-1.516937</td>\n",
       "      <td>0.510023</td>\n",
       "      <td>0.160000</td>\n",
       "      <td>0.000000</td>\n",
       "      <td>0.000000</td>\n",
       "      <td>0.000000</td>\n",
       "      <td>0.000000</td>\n",
       "      <td>0.000000</td>\n",
       "      <td>0.000000</td>\n",
       "      <td>HC</td>\n",
       "    </tr>\n",
       "  </tbody>\n",
       "</table>\n",
       "<p>5023 rows × 105 columns</p>\n",
       "</div>"
      ],
      "text/plain": [
       "           subject       F0avg      F0std       F0max       F0min    F0skew  \\\n",
       "0      300_P_0.wav  165.908508  38.275139  257.928467   94.493355  0.426894   \n",
       "1      300_P_1.wav  120.528053  12.529911  146.793304   86.951614 -0.113077   \n",
       "2     300_P_10.wav  133.895416  21.495996  205.637115   98.742012  2.033316   \n",
       "3     300_P_11.wav  144.578720  28.399199  238.035019  100.053619  1.236097   \n",
       "4     300_P_12.wav  141.704803  28.684387  214.766144  108.876251  1.277414   \n",
       "...            ...         ...        ...         ...         ...       ...   \n",
       "5018   713_P_5.wav  121.557548  36.611835  259.327454   66.125931  1.220141   \n",
       "5019   713_P_6.wav   98.142693  11.498760  151.283951   70.990318  1.337210   \n",
       "5020   713_P_7.wav  112.744049  50.676796  264.040283   67.474419  2.159553   \n",
       "5021   713_P_8.wav  114.727715  21.992062  206.498825   74.076416  1.794884   \n",
       "5022   713_P_9.wav  101.046761  15.628685  200.535446   78.203659  3.069009   \n",
       "\n",
       "         F0kurt   F0tiltavg    F0mseavg   F0tiltstd  ...  kurtosisdurpause  \\\n",
       "0     -0.647107  -65.049128  324.063212  126.268062  ...         -0.866593   \n",
       "1     -0.996979  -20.992859   13.360108   24.507299  ...         -1.594899   \n",
       "2      3.646668 -149.393324   33.461422  185.119105  ...         -0.758323   \n",
       "3      0.991367  -15.509460  188.202717   25.538555  ...         -2.000000   \n",
       "4      0.580108  -18.155109   74.524664  111.242072  ...         -1.487127   \n",
       "...         ...         ...         ...         ...  ...               ...   \n",
       "5018   1.760276   -8.349025  184.875451  123.734211  ...         -0.474507   \n",
       "5019   3.094978 -107.072079   36.489500   95.307558  ...         -1.283715   \n",
       "5020   3.558457  -55.952834   24.763987   92.611292  ...          0.848076   \n",
       "5021   4.758493   11.662198   51.707118  276.472244  ...         -1.088540   \n",
       "5022  14.005285  -32.388347   98.389580   78.047285  ...         -1.516937   \n",
       "\n",
       "      maxdurpause  mindurpause       PVU        PU       UVU       VVU  \\\n",
       "0        0.340000     0.149977  0.525115  4.608241  0.113951  0.886049   \n",
       "1        0.600000     0.220000  0.000000  0.000000  0.000000  0.000000   \n",
       "2        0.560000     0.320000  0.693961  3.659039  0.189657  0.810343   \n",
       "3        0.300000     0.190023  0.439975  3.827760  0.114943  0.885057   \n",
       "4        0.540000     0.150023  0.767724  4.291161  0.178908  0.821092   \n",
       "...           ...          ...       ...       ...       ...       ...   \n",
       "5018     0.549977     0.160000  1.011893  6.071267  0.166669  0.833331   \n",
       "5019     0.989977     0.289977  1.545837  5.899887  0.262011  0.737989   \n",
       "5020     1.200000     0.169977  0.000000  0.000000  0.000000  0.000000   \n",
       "5021     0.520000     0.269977  1.363187  5.240970  0.260102  0.739898   \n",
       "5022     0.510023     0.160000  0.000000  0.000000  0.000000  0.000000   \n",
       "\n",
       "            VP        UP  Group  \n",
       "0     1.687344  0.217003     HC  \n",
       "1     0.000000  0.000000     HC  \n",
       "2     1.167707  0.273296     HC  \n",
       "3     2.011608  0.261249     HC  \n",
       "4     1.069515  0.233037     HC  \n",
       "...        ...       ...    ...  \n",
       "5018  0.823537  0.164710     HC  \n",
       "5019  0.477404  0.169495     HC  \n",
       "5020  0.000000  0.000000     HC  \n",
       "5021  0.542771  0.190804     HC  \n",
       "5022  0.000000  0.000000     HC  \n",
       "\n",
       "[5023 rows x 105 columns]"
      ]
     },
     "execution_count": 8,
     "metadata": {},
     "output_type": "execute_result"
    }
   ],
   "source": [
    "df_train"
   ]
  },
  {
   "cell_type": "code",
   "execution_count": 88,
   "metadata": {},
   "outputs": [
    {
     "data": {
      "text/plain": [
       "(5023, 105)"
      ]
     },
     "execution_count": 88,
     "metadata": {},
     "output_type": "execute_result"
    }
   ],
   "source": [
    "df_train.shape"
   ]
  },
  {
   "cell_type": "code",
   "execution_count": 9,
   "metadata": {},
   "outputs": [],
   "source": [
    "df_train=df_train.fillna(0)"
   ]
  },
  {
   "cell_type": "code",
   "execution_count": 10,
   "metadata": {
    "scrolled": true
   },
   "outputs": [
    {
     "data": {
      "text/html": [
       "<div>\n",
       "<style scoped>\n",
       "    .dataframe tbody tr th:only-of-type {\n",
       "        vertical-align: middle;\n",
       "    }\n",
       "\n",
       "    .dataframe tbody tr th {\n",
       "        vertical-align: top;\n",
       "    }\n",
       "\n",
       "    .dataframe thead th {\n",
       "        text-align: right;\n",
       "    }\n",
       "</style>\n",
       "<table border=\"1\" class=\"dataframe\">\n",
       "  <thead>\n",
       "    <tr style=\"text-align: right;\">\n",
       "      <th></th>\n",
       "      <th>F0max</th>\n",
       "      <th>F0skew</th>\n",
       "      <th>F0kurt</th>\n",
       "      <th>F0tiltmax</th>\n",
       "      <th>F0tiltskw</th>\n",
       "      <th>lastF0skw</th>\n",
       "      <th>stdEunvoiced</th>\n",
       "      <th>kurtosisEunvoiced</th>\n",
       "      <th>avgtiltEunvoiced</th>\n",
       "      <th>stdtiltEunvoiced</th>\n",
       "      <th>kurtosistiltEunvoiced</th>\n",
       "      <th>avgmseEunvoiced</th>\n",
       "      <th>stdmseEunvoiced</th>\n",
       "      <th>kurtosislastEunvoiced</th>\n",
       "      <th>avgdurunvoiced</th>\n",
       "      <th>maxdurunvoiced</th>\n",
       "      <th>mindurunvoiced</th>\n",
       "      <th>UVU</th>\n",
       "      <th>VP</th>\n",
       "      <th>UP</th>\n",
       "    </tr>\n",
       "  </thead>\n",
       "  <tbody>\n",
       "    <tr>\n",
       "      <th>0</th>\n",
       "      <td>257.928467</td>\n",
       "      <td>0.426894</td>\n",
       "      <td>-0.647107</td>\n",
       "      <td>74.352510</td>\n",
       "      <td>-0.830351</td>\n",
       "      <td>-0.174942</td>\n",
       "      <td>3.462240</td>\n",
       "      <td>-0.519780</td>\n",
       "      <td>182.713559</td>\n",
       "      <td>96.530219</td>\n",
       "      <td>-1.665308</td>\n",
       "      <td>7.781326</td>\n",
       "      <td>4.853874</td>\n",
       "      <td>0.922450</td>\n",
       "      <td>0.057506</td>\n",
       "      <td>0.08</td>\n",
       "      <td>0.040000</td>\n",
       "      <td>0.113951</td>\n",
       "      <td>1.687344</td>\n",
       "      <td>0.217003</td>\n",
       "    </tr>\n",
       "    <tr>\n",
       "      <th>1</th>\n",
       "      <td>146.793304</td>\n",
       "      <td>-0.113077</td>\n",
       "      <td>-0.996979</td>\n",
       "      <td>13.182021</td>\n",
       "      <td>-0.298006</td>\n",
       "      <td>0.693419</td>\n",
       "      <td>0.000000</td>\n",
       "      <td>0.000000</td>\n",
       "      <td>0.000000</td>\n",
       "      <td>0.000000</td>\n",
       "      <td>0.000000</td>\n",
       "      <td>0.000000</td>\n",
       "      <td>0.000000</td>\n",
       "      <td>0.000000</td>\n",
       "      <td>0.000000</td>\n",
       "      <td>0.00</td>\n",
       "      <td>0.000000</td>\n",
       "      <td>0.000000</td>\n",
       "      <td>0.000000</td>\n",
       "      <td>0.000000</td>\n",
       "    </tr>\n",
       "    <tr>\n",
       "      <th>2</th>\n",
       "      <td>205.637115</td>\n",
       "      <td>2.033316</td>\n",
       "      <td>3.646668</td>\n",
       "      <td>-4.268436</td>\n",
       "      <td>-0.724887</td>\n",
       "      <td>-0.362247</td>\n",
       "      <td>1.802530</td>\n",
       "      <td>-0.534848</td>\n",
       "      <td>-6.132327</td>\n",
       "      <td>7.029440</td>\n",
       "      <td>-2.000000</td>\n",
       "      <td>3.537560</td>\n",
       "      <td>2.085022</td>\n",
       "      <td>-0.142496</td>\n",
       "      <td>0.110000</td>\n",
       "      <td>0.14</td>\n",
       "      <td>0.080000</td>\n",
       "      <td>0.189657</td>\n",
       "      <td>1.167707</td>\n",
       "      <td>0.273296</td>\n",
       "    </tr>\n",
       "    <tr>\n",
       "      <th>3</th>\n",
       "      <td>238.035019</td>\n",
       "      <td>1.236097</td>\n",
       "      <td>0.991367</td>\n",
       "      <td>10.469975</td>\n",
       "      <td>-1.788203</td>\n",
       "      <td>2.754460</td>\n",
       "      <td>2.295546</td>\n",
       "      <td>-1.248517</td>\n",
       "      <td>93.336505</td>\n",
       "      <td>115.852091</td>\n",
       "      <td>-1.251864</td>\n",
       "      <td>3.867966</td>\n",
       "      <td>2.904425</td>\n",
       "      <td>-1.241448</td>\n",
       "      <td>0.064009</td>\n",
       "      <td>0.12</td>\n",
       "      <td>0.020000</td>\n",
       "      <td>0.114943</td>\n",
       "      <td>2.011608</td>\n",
       "      <td>0.261249</td>\n",
       "    </tr>\n",
       "    <tr>\n",
       "      <th>4</th>\n",
       "      <td>214.766144</td>\n",
       "      <td>1.277414</td>\n",
       "      <td>0.580108</td>\n",
       "      <td>188.020545</td>\n",
       "      <td>-0.035951</td>\n",
       "      <td>0.362130</td>\n",
       "      <td>2.136995</td>\n",
       "      <td>-1.156600</td>\n",
       "      <td>-21.273154</td>\n",
       "      <td>199.769803</td>\n",
       "      <td>-0.146805</td>\n",
       "      <td>1.844393</td>\n",
       "      <td>1.520252</td>\n",
       "      <td>-1.500000</td>\n",
       "      <td>0.071663</td>\n",
       "      <td>0.10</td>\n",
       "      <td>0.049977</td>\n",
       "      <td>0.178908</td>\n",
       "      <td>1.069515</td>\n",
       "      <td>0.233037</td>\n",
       "    </tr>\n",
       "  </tbody>\n",
       "</table>\n",
       "</div>"
      ],
      "text/plain": [
       "        F0max    F0skew    F0kurt   F0tiltmax  F0tiltskw  lastF0skw  \\\n",
       "0  257.928467  0.426894 -0.647107   74.352510  -0.830351  -0.174942   \n",
       "1  146.793304 -0.113077 -0.996979   13.182021  -0.298006   0.693419   \n",
       "2  205.637115  2.033316  3.646668   -4.268436  -0.724887  -0.362247   \n",
       "3  238.035019  1.236097  0.991367   10.469975  -1.788203   2.754460   \n",
       "4  214.766144  1.277414  0.580108  188.020545  -0.035951   0.362130   \n",
       "\n",
       "   stdEunvoiced  kurtosisEunvoiced  avgtiltEunvoiced  stdtiltEunvoiced  \\\n",
       "0      3.462240          -0.519780        182.713559         96.530219   \n",
       "1      0.000000           0.000000          0.000000          0.000000   \n",
       "2      1.802530          -0.534848         -6.132327          7.029440   \n",
       "3      2.295546          -1.248517         93.336505        115.852091   \n",
       "4      2.136995          -1.156600        -21.273154        199.769803   \n",
       "\n",
       "   kurtosistiltEunvoiced  avgmseEunvoiced  stdmseEunvoiced  \\\n",
       "0              -1.665308         7.781326         4.853874   \n",
       "1               0.000000         0.000000         0.000000   \n",
       "2              -2.000000         3.537560         2.085022   \n",
       "3              -1.251864         3.867966         2.904425   \n",
       "4              -0.146805         1.844393         1.520252   \n",
       "\n",
       "   kurtosislastEunvoiced  avgdurunvoiced  maxdurunvoiced  mindurunvoiced  \\\n",
       "0               0.922450        0.057506            0.08        0.040000   \n",
       "1               0.000000        0.000000            0.00        0.000000   \n",
       "2              -0.142496        0.110000            0.14        0.080000   \n",
       "3              -1.241448        0.064009            0.12        0.020000   \n",
       "4              -1.500000        0.071663            0.10        0.049977   \n",
       "\n",
       "        UVU        VP        UP  \n",
       "0  0.113951  1.687344  0.217003  \n",
       "1  0.000000  0.000000  0.000000  \n",
       "2  0.189657  1.167707  0.273296  \n",
       "3  0.114943  2.011608  0.261249  \n",
       "4  0.178908  1.069515  0.233037  "
      ]
     },
     "execution_count": 10,
     "metadata": {},
     "output_type": "execute_result"
    }
   ],
   "source": [
    "X_train=df_train[df_train.columns.intersection(feature_list)]\n",
    "X_train.head()"
   ]
  },
  {
   "cell_type": "code",
   "execution_count": 11,
   "metadata": {},
   "outputs": [
    {
     "data": {
      "text/plain": [
       "F0max                    0\n",
       "F0skew                   0\n",
       "F0kurt                   0\n",
       "F0tiltmax                0\n",
       "F0tiltskw                0\n",
       "lastF0skw                0\n",
       "stdEunvoiced             0\n",
       "kurtosisEunvoiced        0\n",
       "avgtiltEunvoiced         0\n",
       "stdtiltEunvoiced         0\n",
       "kurtosistiltEunvoiced    0\n",
       "avgmseEunvoiced          0\n",
       "stdmseEunvoiced          0\n",
       "kurtosislastEunvoiced    0\n",
       "avgdurunvoiced           0\n",
       "maxdurunvoiced           0\n",
       "mindurunvoiced           0\n",
       "UVU                      0\n",
       "VP                       0\n",
       "UP                       0\n",
       "dtype: int64"
      ]
     },
     "execution_count": 11,
     "metadata": {},
     "output_type": "execute_result"
    }
   ],
   "source": [
    "X_train.isnull().sum()"
   ]
  },
  {
   "cell_type": "code",
   "execution_count": 12,
   "metadata": {},
   "outputs": [
    {
     "data": {
      "text/plain": [
       "(5023, 20)"
      ]
     },
     "execution_count": 12,
     "metadata": {},
     "output_type": "execute_result"
    }
   ],
   "source": [
    "X_train.shape"
   ]
  },
  {
   "cell_type": "code",
   "execution_count": 13,
   "metadata": {
    "scrolled": true
   },
   "outputs": [],
   "source": [
    "#replace string values to 0s & 1s in target column\n",
    "df_train.replace({'Group':{\"HC\":0,\"DP\":1}},inplace=True)"
   ]
  },
  {
   "cell_type": "code",
   "execution_count": 14,
   "metadata": {
    "scrolled": true
   },
   "outputs": [
    {
     "data": {
      "text/plain": [
       "0    0\n",
       "1    0\n",
       "2    0\n",
       "3    0\n",
       "4    0\n",
       "Name: Group, dtype: int64"
      ]
     },
     "execution_count": 14,
     "metadata": {},
     "output_type": "execute_result"
    }
   ],
   "source": [
    "Y_train=df_train['Group']\n",
    "Y_train.head()"
   ]
  },
  {
   "cell_type": "markdown",
   "metadata": {},
   "source": [
    "#### 4. Resampling the data: "
   ]
  },
  {
   "cell_type": "code",
   "execution_count": 15,
   "metadata": {
    "scrolled": true
   },
   "outputs": [
    {
     "name": "stdout",
     "output_type": "stream",
     "text": [
      "Group\n",
      "0    3878\n",
      "1    1145\n",
      "Name: Group, dtype: int64\n"
     ]
    }
   ],
   "source": [
    "#we notice an imbalance in the data classes (close to a ratio of 1/3)\n",
    "val_count=df_train.groupby(['Group'])['Group'].count()\n",
    "print(val_count)"
   ]
  },
  {
   "cell_type": "markdown",
   "metadata": {},
   "source": [
    "##### 4.1. Upsampling the data"
   ]
  },
  {
   "cell_type": "markdown",
   "metadata": {
    "scrolled": true
   },
   "source": [
    "#hence we resample the data to obtain equal number of data points for each of the two classes:\n",
    "df_1=df_train[df_train['Group']==1]\n",
    "df_other=df_train[df_train['Group']!=1]\n",
    "df_upsampled=resample(df_1,random_state=42,n_samples=3878,replace=True)\n",
    "df_train_upsampled=pd.concat([df_upsampled,df_other])\n",
    "#df_train_upsampled.reset_index(inplace=True)\n",
    "#we upsample the minority class to the number of data points available for majority class"
   ]
  },
  {
   "cell_type": "code",
   "execution_count": 16,
   "metadata": {
    "scrolled": true
   },
   "outputs": [],
   "source": [
    "#df_train_upsampled=df_train_upsampled.fillna(0)"
   ]
  },
  {
   "cell_type": "code",
   "execution_count": 17,
   "metadata": {
    "scrolled": true
   },
   "outputs": [],
   "source": [
    "#X_train_resampled=df_train_upsampled[df_train_upsampled.columns.intersection(feature_list)]\n",
    "#Y_train_resampled=df_train_upsampled['Group']"
   ]
  },
  {
   "cell_type": "code",
   "execution_count": 18,
   "metadata": {
    "scrolled": true
   },
   "outputs": [],
   "source": [
    "#X_train_resampled.head()"
   ]
  },
  {
   "cell_type": "code",
   "execution_count": 19,
   "metadata": {},
   "outputs": [],
   "source": [
    "#X_train_resampled.isnull().sum()"
   ]
  },
  {
   "cell_type": "code",
   "execution_count": 20,
   "metadata": {},
   "outputs": [],
   "source": [
    "! pip install imblearn --quiet"
   ]
  },
  {
   "cell_type": "code",
   "execution_count": 21,
   "metadata": {},
   "outputs": [],
   "source": [
    "from imblearn.over_sampling import SMOTE\n",
    "\n",
    "sm = SMOTE(sampling_strategy='minority', random_state=42)\n",
    "\n",
    "X_train_resampled, Y_train_resampled = sm.fit_resample(X_train,Y_train)\n",
    "df_train_upsampled = pd.concat([pd.DataFrame(Y_train_resampled), pd.DataFrame(X_train_resampled)], axis=1)"
   ]
  },
  {
   "cell_type": "code",
   "execution_count": 22,
   "metadata": {},
   "outputs": [],
   "source": [
    "#val_count=c.groupby(['Group'])['Group'].count()\n",
    "#print(val_count)"
   ]
  },
  {
   "cell_type": "markdown",
   "metadata": {},
   "source": [
    "##### 4.2. Normalizing the data"
   ]
  },
  {
   "cell_type": "code",
   "execution_count": 103,
   "metadata": {},
   "outputs": [],
   "source": [
    "import Normalization as n"
   ]
  },
  {
   "cell_type": "code",
   "execution_count": 104,
   "metadata": {},
   "outputs": [],
   "source": [
    "X=n.normalize_train(X_train_resampled)"
   ]
  },
  {
   "cell_type": "code",
   "execution_count": 25,
   "metadata": {
    "scrolled": true
   },
   "outputs": [],
   "source": [
    "Y=Y_train_resampled"
   ]
  },
  {
   "cell_type": "code",
   "execution_count": 26,
   "metadata": {
    "scrolled": true
   },
   "outputs": [
    {
     "name": "stdout",
     "output_type": "stream",
     "text": [
      "-4.882920038165722e-17\n",
      "1.0\n"
     ]
    }
   ],
   "source": [
    "#checking if normalized data has a mean~0 & standard deviation~1:\n",
    "print(np.mean(X))\n",
    "print(np.std(X))"
   ]
  },
  {
   "cell_type": "code",
   "execution_count": 27,
   "metadata": {},
   "outputs": [
    {
     "data": {
      "text/plain": [
       "0    3878\n",
       "1    3878\n",
       "Name: Group, dtype: int64"
      ]
     },
     "execution_count": 27,
     "metadata": {},
     "output_type": "execute_result"
    }
   ],
   "source": [
    "df_train_upsampled['Group'].value_counts()"
   ]
  },
  {
   "cell_type": "code",
   "execution_count": 28,
   "metadata": {},
   "outputs": [
    {
     "data": {
      "text/plain": [
       "7756"
      ]
     },
     "execution_count": 28,
     "metadata": {},
     "output_type": "execute_result"
    }
   ],
   "source": [
    "len(X)"
   ]
  },
  {
   "cell_type": "markdown",
   "metadata": {},
   "source": [
    "### Building the model:"
   ]
  },
  {
   "cell_type": "markdown",
   "metadata": {},
   "source": [
    "#### 1.1  test data:"
   ]
  },
  {
   "cell_type": "markdown",
   "metadata": {},
   "source": [
    "#### 1. Random Forest Classifier:"
   ]
  },
  {
   "cell_type": "code",
   "execution_count": 29,
   "metadata": {
    "scrolled": true
   },
   "outputs": [],
   "source": [
    "RF_model=RandomForestClassifier(class_weight='balanced')"
   ]
  },
  {
   "cell_type": "code",
   "execution_count": 30,
   "metadata": {
    "scrolled": true
   },
   "outputs": [
    {
     "data": {
      "text/html": [
       "<style>#sk-container-id-1 {color: black;background-color: white;}#sk-container-id-1 pre{padding: 0;}#sk-container-id-1 div.sk-toggleable {background-color: white;}#sk-container-id-1 label.sk-toggleable__label {cursor: pointer;display: block;width: 100%;margin-bottom: 0;padding: 0.3em;box-sizing: border-box;text-align: center;}#sk-container-id-1 label.sk-toggleable__label-arrow:before {content: \"▸\";float: left;margin-right: 0.25em;color: #696969;}#sk-container-id-1 label.sk-toggleable__label-arrow:hover:before {color: black;}#sk-container-id-1 div.sk-estimator:hover label.sk-toggleable__label-arrow:before {color: black;}#sk-container-id-1 div.sk-toggleable__content {max-height: 0;max-width: 0;overflow: hidden;text-align: left;background-color: #f0f8ff;}#sk-container-id-1 div.sk-toggleable__content pre {margin: 0.2em;color: black;border-radius: 0.25em;background-color: #f0f8ff;}#sk-container-id-1 input.sk-toggleable__control:checked~div.sk-toggleable__content {max-height: 200px;max-width: 100%;overflow: auto;}#sk-container-id-1 input.sk-toggleable__control:checked~label.sk-toggleable__label-arrow:before {content: \"▾\";}#sk-container-id-1 div.sk-estimator input.sk-toggleable__control:checked~label.sk-toggleable__label {background-color: #d4ebff;}#sk-container-id-1 div.sk-label input.sk-toggleable__control:checked~label.sk-toggleable__label {background-color: #d4ebff;}#sk-container-id-1 input.sk-hidden--visually {border: 0;clip: rect(1px 1px 1px 1px);clip: rect(1px, 1px, 1px, 1px);height: 1px;margin: -1px;overflow: hidden;padding: 0;position: absolute;width: 1px;}#sk-container-id-1 div.sk-estimator {font-family: monospace;background-color: #f0f8ff;border: 1px dotted black;border-radius: 0.25em;box-sizing: border-box;margin-bottom: 0.5em;}#sk-container-id-1 div.sk-estimator:hover {background-color: #d4ebff;}#sk-container-id-1 div.sk-parallel-item::after {content: \"\";width: 100%;border-bottom: 1px solid gray;flex-grow: 1;}#sk-container-id-1 div.sk-label:hover label.sk-toggleable__label {background-color: #d4ebff;}#sk-container-id-1 div.sk-serial::before {content: \"\";position: absolute;border-left: 1px solid gray;box-sizing: border-box;top: 0;bottom: 0;left: 50%;z-index: 0;}#sk-container-id-1 div.sk-serial {display: flex;flex-direction: column;align-items: center;background-color: white;padding-right: 0.2em;padding-left: 0.2em;position: relative;}#sk-container-id-1 div.sk-item {position: relative;z-index: 1;}#sk-container-id-1 div.sk-parallel {display: flex;align-items: stretch;justify-content: center;background-color: white;position: relative;}#sk-container-id-1 div.sk-item::before, #sk-container-id-1 div.sk-parallel-item::before {content: \"\";position: absolute;border-left: 1px solid gray;box-sizing: border-box;top: 0;bottom: 0;left: 50%;z-index: -1;}#sk-container-id-1 div.sk-parallel-item {display: flex;flex-direction: column;z-index: 1;position: relative;background-color: white;}#sk-container-id-1 div.sk-parallel-item:first-child::after {align-self: flex-end;width: 50%;}#sk-container-id-1 div.sk-parallel-item:last-child::after {align-self: flex-start;width: 50%;}#sk-container-id-1 div.sk-parallel-item:only-child::after {width: 0;}#sk-container-id-1 div.sk-dashed-wrapped {border: 1px dashed gray;margin: 0 0.4em 0.5em 0.4em;box-sizing: border-box;padding-bottom: 0.4em;background-color: white;}#sk-container-id-1 div.sk-label label {font-family: monospace;font-weight: bold;display: inline-block;line-height: 1.2em;}#sk-container-id-1 div.sk-label-container {text-align: center;}#sk-container-id-1 div.sk-container {/* jupyter's `normalize.less` sets `[hidden] { display: none; }` but bootstrap.min.css set `[hidden] { display: none !important; }` so we also need the `!important` here to be able to override the default hidden behavior on the sphinx rendered scikit-learn.org. See: https://github.com/scikit-learn/scikit-learn/issues/21755 */display: inline-block !important;position: relative;}#sk-container-id-1 div.sk-text-repr-fallback {display: none;}</style><div id=\"sk-container-id-1\" class=\"sk-top-container\"><div class=\"sk-text-repr-fallback\"><pre>RandomForestClassifier(class_weight=&#x27;balanced&#x27;)</pre><b>In a Jupyter environment, please rerun this cell to show the HTML representation or trust the notebook. <br />On GitHub, the HTML representation is unable to render, please try loading this page with nbviewer.org.</b></div><div class=\"sk-container\" hidden><div class=\"sk-item\"><div class=\"sk-estimator sk-toggleable\"><input class=\"sk-toggleable__control sk-hidden--visually\" id=\"sk-estimator-id-1\" type=\"checkbox\" checked><label for=\"sk-estimator-id-1\" class=\"sk-toggleable__label sk-toggleable__label-arrow\">RandomForestClassifier</label><div class=\"sk-toggleable__content\"><pre>RandomForestClassifier(class_weight=&#x27;balanced&#x27;)</pre></div></div></div></div></div>"
      ],
      "text/plain": [
       "RandomForestClassifier(class_weight='balanced')"
      ]
     },
     "execution_count": 30,
     "metadata": {},
     "output_type": "execute_result"
    }
   ],
   "source": [
    "#for resampled data:\n",
    "RF_model.fit(X,Y)"
   ]
  },
  {
   "cell_type": "code",
   "execution_count": 124,
   "metadata": {
    "scrolled": true
   },
   "outputs": [],
   "source": [
    "df_test=df_test.fillna(0)"
   ]
  },
  {
   "cell_type": "code",
   "execution_count": 125,
   "metadata": {
    "scrolled": true
   },
   "outputs": [],
   "source": [
    "#obtaining X & Y for test data:\n",
    "df_test.replace({'Group':{\"HC\":0,\"DP\":1}},inplace=True)"
   ]
  },
  {
   "cell_type": "code",
   "execution_count": 33,
   "metadata": {},
   "outputs": [],
   "source": [
    "import itertools\n",
    "subject = df_test['subject']\n",
    "# empty list\n",
    "result = []\n",
    "\n",
    "iterator = itertools.groupby(subject, lambda string: string.split('_')[0])\n",
    "\n",
    "for element, group in iterator:\n",
    "   \n",
    "   result.append(list(group))\n"
   ]
  },
  {
   "cell_type": "markdown",
   "metadata": {},
   "source": [
    "__FOR SINGLE SPEAKER:__"
   ]
  },
  {
   "cell_type": "code",
   "execution_count": 34,
   "metadata": {},
   "outputs": [],
   "source": [
    "from collections import Counter"
   ]
  },
  {
   "cell_type": "code",
   "execution_count": 35,
   "metadata": {},
   "outputs": [],
   "source": [
    "test=df_test[df_test['subject'].isin(result[2])] \n",
    "X_test=test[test.columns.intersection(feature_list)]\n",
    "X_test=n.normalize_test(X_test)\n",
    "Y_test=test['Group']\n",
    "Y_predict_RF=RF_model.predict(X_test)\n",
    "\n",
    "op=Y_predict_RF"
   ]
  },
  {
   "cell_type": "code",
   "execution_count": 36,
   "metadata": {},
   "outputs": [
    {
     "data": {
      "text/html": [
       "<div>\n",
       "<style scoped>\n",
       "    .dataframe tbody tr th:only-of-type {\n",
       "        vertical-align: middle;\n",
       "    }\n",
       "\n",
       "    .dataframe tbody tr th {\n",
       "        vertical-align: top;\n",
       "    }\n",
       "\n",
       "    .dataframe thead th {\n",
       "        text-align: right;\n",
       "    }\n",
       "</style>\n",
       "<table border=\"1\" class=\"dataframe\">\n",
       "  <thead>\n",
       "    <tr style=\"text-align: right;\">\n",
       "      <th></th>\n",
       "      <th>subject</th>\n",
       "      <th>F0avg</th>\n",
       "      <th>F0std</th>\n",
       "      <th>F0max</th>\n",
       "      <th>F0min</th>\n",
       "      <th>F0skew</th>\n",
       "      <th>F0kurt</th>\n",
       "      <th>F0tiltavg</th>\n",
       "      <th>F0mseavg</th>\n",
       "      <th>F0tiltstd</th>\n",
       "      <th>...</th>\n",
       "      <th>kurtosisdurpause</th>\n",
       "      <th>maxdurpause</th>\n",
       "      <th>mindurpause</th>\n",
       "      <th>PVU</th>\n",
       "      <th>PU</th>\n",
       "      <th>UVU</th>\n",
       "      <th>VVU</th>\n",
       "      <th>VP</th>\n",
       "      <th>UP</th>\n",
       "      <th>Group</th>\n",
       "    </tr>\n",
       "  </thead>\n",
       "  <tbody>\n",
       "    <tr>\n",
       "      <th>167</th>\n",
       "      <td>304_P_0.wav</td>\n",
       "      <td>238.776520</td>\n",
       "      <td>22.418337</td>\n",
       "      <td>335.798554</td>\n",
       "      <td>194.374191</td>\n",
       "      <td>1.199766</td>\n",
       "      <td>3.263399</td>\n",
       "      <td>45.484587</td>\n",
       "      <td>75.997009</td>\n",
       "      <td>195.210220</td>\n",
       "      <td>...</td>\n",
       "      <td>0.669239</td>\n",
       "      <td>0.940000</td>\n",
       "      <td>0.200000</td>\n",
       "      <td>1.391813</td>\n",
       "      <td>6.611111</td>\n",
       "      <td>0.210526</td>\n",
       "      <td>0.789474</td>\n",
       "      <td>0.567227</td>\n",
       "      <td>0.151261</td>\n",
       "      <td>0</td>\n",
       "    </tr>\n",
       "    <tr>\n",
       "      <th>168</th>\n",
       "      <td>304_P_1.wav</td>\n",
       "      <td>230.716827</td>\n",
       "      <td>41.209209</td>\n",
       "      <td>321.039795</td>\n",
       "      <td>139.097275</td>\n",
       "      <td>0.255471</td>\n",
       "      <td>-0.950365</td>\n",
       "      <td>-28.187002</td>\n",
       "      <td>112.429095</td>\n",
       "      <td>168.644632</td>\n",
       "      <td>...</td>\n",
       "      <td>-0.705021</td>\n",
       "      <td>1.180000</td>\n",
       "      <td>0.160000</td>\n",
       "      <td>1.383497</td>\n",
       "      <td>6.200312</td>\n",
       "      <td>0.223133</td>\n",
       "      <td>0.776867</td>\n",
       "      <td>0.561524</td>\n",
       "      <td>0.161282</td>\n",
       "      <td>0</td>\n",
       "    </tr>\n",
       "    <tr>\n",
       "      <th>169</th>\n",
       "      <td>304_P_10.wav</td>\n",
       "      <td>214.714233</td>\n",
       "      <td>52.372883</td>\n",
       "      <td>335.946838</td>\n",
       "      <td>97.355995</td>\n",
       "      <td>0.619386</td>\n",
       "      <td>-0.717381</td>\n",
       "      <td>34.661162</td>\n",
       "      <td>167.272880</td>\n",
       "      <td>305.828418</td>\n",
       "      <td>...</td>\n",
       "      <td>-1.500000</td>\n",
       "      <td>0.749977</td>\n",
       "      <td>0.280000</td>\n",
       "      <td>1.637875</td>\n",
       "      <td>6.357994</td>\n",
       "      <td>0.257609</td>\n",
       "      <td>0.742391</td>\n",
       "      <td>0.453265</td>\n",
       "      <td>0.157282</td>\n",
       "      <td>0</td>\n",
       "    </tr>\n",
       "    <tr>\n",
       "      <th>170</th>\n",
       "      <td>304_P_11.wav</td>\n",
       "      <td>195.110168</td>\n",
       "      <td>34.979103</td>\n",
       "      <td>342.388489</td>\n",
       "      <td>91.369049</td>\n",
       "      <td>-0.326337</td>\n",
       "      <td>4.717763</td>\n",
       "      <td>-243.357490</td>\n",
       "      <td>584.482697</td>\n",
       "      <td>662.804342</td>\n",
       "      <td>...</td>\n",
       "      <td>0.067255</td>\n",
       "      <td>0.540000</td>\n",
       "      <td>0.150023</td>\n",
       "      <td>0.000000</td>\n",
       "      <td>0.000000</td>\n",
       "      <td>0.000000</td>\n",
       "      <td>0.000000</td>\n",
       "      <td>0.000000</td>\n",
       "      <td>0.000000</td>\n",
       "      <td>0</td>\n",
       "    </tr>\n",
       "    <tr>\n",
       "      <th>171</th>\n",
       "      <td>304_P_12.wav</td>\n",
       "      <td>184.861282</td>\n",
       "      <td>34.589745</td>\n",
       "      <td>305.514801</td>\n",
       "      <td>72.782288</td>\n",
       "      <td>-0.567350</td>\n",
       "      <td>2.339868</td>\n",
       "      <td>-104.329247</td>\n",
       "      <td>138.753687</td>\n",
       "      <td>198.791315</td>\n",
       "      <td>...</td>\n",
       "      <td>-1.500000</td>\n",
       "      <td>0.320000</td>\n",
       "      <td>0.229977</td>\n",
       "      <td>0.648635</td>\n",
       "      <td>3.857035</td>\n",
       "      <td>0.168169</td>\n",
       "      <td>0.831831</td>\n",
       "      <td>1.282433</td>\n",
       "      <td>0.259267</td>\n",
       "      <td>0</td>\n",
       "    </tr>\n",
       "    <tr>\n",
       "      <th>...</th>\n",
       "      <td>...</td>\n",
       "      <td>...</td>\n",
       "      <td>...</td>\n",
       "      <td>...</td>\n",
       "      <td>...</td>\n",
       "      <td>...</td>\n",
       "      <td>...</td>\n",
       "      <td>...</td>\n",
       "      <td>...</td>\n",
       "      <td>...</td>\n",
       "      <td>...</td>\n",
       "      <td>...</td>\n",
       "      <td>...</td>\n",
       "      <td>...</td>\n",
       "      <td>...</td>\n",
       "      <td>...</td>\n",
       "      <td>...</td>\n",
       "      <td>...</td>\n",
       "      <td>...</td>\n",
       "      <td>...</td>\n",
       "      <td>...</td>\n",
       "    </tr>\n",
       "    <tr>\n",
       "      <th>232</th>\n",
       "      <td>304_P_68.wav</td>\n",
       "      <td>184.246994</td>\n",
       "      <td>33.565880</td>\n",
       "      <td>256.341675</td>\n",
       "      <td>91.788773</td>\n",
       "      <td>-1.629691</td>\n",
       "      <td>2.128831</td>\n",
       "      <td>45.093026</td>\n",
       "      <td>424.067446</td>\n",
       "      <td>87.236839</td>\n",
       "      <td>...</td>\n",
       "      <td>0.000000</td>\n",
       "      <td>0.000000</td>\n",
       "      <td>0.000000</td>\n",
       "      <td>0.000000</td>\n",
       "      <td>0.000000</td>\n",
       "      <td>0.000000</td>\n",
       "      <td>0.000000</td>\n",
       "      <td>0.000000</td>\n",
       "      <td>0.000000</td>\n",
       "      <td>0</td>\n",
       "    </tr>\n",
       "    <tr>\n",
       "      <th>233</th>\n",
       "      <td>304_P_69.wav</td>\n",
       "      <td>183.517929</td>\n",
       "      <td>42.654972</td>\n",
       "      <td>264.124207</td>\n",
       "      <td>94.699394</td>\n",
       "      <td>-1.214785</td>\n",
       "      <td>-0.198181</td>\n",
       "      <td>122.300865</td>\n",
       "      <td>358.526148</td>\n",
       "      <td>412.311237</td>\n",
       "      <td>...</td>\n",
       "      <td>-1.453905</td>\n",
       "      <td>0.630023</td>\n",
       "      <td>0.190023</td>\n",
       "      <td>0.804659</td>\n",
       "      <td>4.748413</td>\n",
       "      <td>0.169459</td>\n",
       "      <td>0.830541</td>\n",
       "      <td>1.032165</td>\n",
       "      <td>0.210597</td>\n",
       "      <td>0</td>\n",
       "    </tr>\n",
       "    <tr>\n",
       "      <th>234</th>\n",
       "      <td>304_P_7.wav</td>\n",
       "      <td>201.288879</td>\n",
       "      <td>30.388536</td>\n",
       "      <td>247.579513</td>\n",
       "      <td>91.852432</td>\n",
       "      <td>-1.658560</td>\n",
       "      <td>4.590034</td>\n",
       "      <td>-35.080455</td>\n",
       "      <td>159.898049</td>\n",
       "      <td>152.301709</td>\n",
       "      <td>...</td>\n",
       "      <td>-1.500000</td>\n",
       "      <td>0.300000</td>\n",
       "      <td>0.240000</td>\n",
       "      <td>0.684212</td>\n",
       "      <td>4.183193</td>\n",
       "      <td>0.163562</td>\n",
       "      <td>0.836438</td>\n",
       "      <td>1.222483</td>\n",
       "      <td>0.239052</td>\n",
       "      <td>0</td>\n",
       "    </tr>\n",
       "    <tr>\n",
       "      <th>235</th>\n",
       "      <td>304_P_8.wav</td>\n",
       "      <td>237.612244</td>\n",
       "      <td>69.668617</td>\n",
       "      <td>346.309936</td>\n",
       "      <td>145.795685</td>\n",
       "      <td>0.178057</td>\n",
       "      <td>-1.721987</td>\n",
       "      <td>-165.713421</td>\n",
       "      <td>240.907360</td>\n",
       "      <td>206.945741</td>\n",
       "      <td>...</td>\n",
       "      <td>-1.215228</td>\n",
       "      <td>0.929977</td>\n",
       "      <td>0.249977</td>\n",
       "      <td>2.176980</td>\n",
       "      <td>7.774488</td>\n",
       "      <td>0.280016</td>\n",
       "      <td>0.719984</td>\n",
       "      <td>0.330726</td>\n",
       "      <td>0.128626</td>\n",
       "      <td>0</td>\n",
       "    </tr>\n",
       "    <tr>\n",
       "      <th>236</th>\n",
       "      <td>304_P_9.wav</td>\n",
       "      <td>218.578918</td>\n",
       "      <td>33.350075</td>\n",
       "      <td>340.080078</td>\n",
       "      <td>109.639397</td>\n",
       "      <td>0.064917</td>\n",
       "      <td>2.446646</td>\n",
       "      <td>10.773167</td>\n",
       "      <td>199.270071</td>\n",
       "      <td>417.919625</td>\n",
       "      <td>...</td>\n",
       "      <td>-1.258875</td>\n",
       "      <td>0.460000</td>\n",
       "      <td>0.160000</td>\n",
       "      <td>0.974425</td>\n",
       "      <td>8.370151</td>\n",
       "      <td>0.116417</td>\n",
       "      <td>0.883583</td>\n",
       "      <td>0.906774</td>\n",
       "      <td>0.119472</td>\n",
       "      <td>0</td>\n",
       "    </tr>\n",
       "  </tbody>\n",
       "</table>\n",
       "<p>70 rows × 105 columns</p>\n",
       "</div>"
      ],
      "text/plain": [
       "          subject       F0avg      F0std       F0max       F0min    F0skew  \\\n",
       "167   304_P_0.wav  238.776520  22.418337  335.798554  194.374191  1.199766   \n",
       "168   304_P_1.wav  230.716827  41.209209  321.039795  139.097275  0.255471   \n",
       "169  304_P_10.wav  214.714233  52.372883  335.946838   97.355995  0.619386   \n",
       "170  304_P_11.wav  195.110168  34.979103  342.388489   91.369049 -0.326337   \n",
       "171  304_P_12.wav  184.861282  34.589745  305.514801   72.782288 -0.567350   \n",
       "..            ...         ...        ...         ...         ...       ...   \n",
       "232  304_P_68.wav  184.246994  33.565880  256.341675   91.788773 -1.629691   \n",
       "233  304_P_69.wav  183.517929  42.654972  264.124207   94.699394 -1.214785   \n",
       "234   304_P_7.wav  201.288879  30.388536  247.579513   91.852432 -1.658560   \n",
       "235   304_P_8.wav  237.612244  69.668617  346.309936  145.795685  0.178057   \n",
       "236   304_P_9.wav  218.578918  33.350075  340.080078  109.639397  0.064917   \n",
       "\n",
       "       F0kurt   F0tiltavg    F0mseavg   F0tiltstd  ...  kurtosisdurpause  \\\n",
       "167  3.263399   45.484587   75.997009  195.210220  ...          0.669239   \n",
       "168 -0.950365  -28.187002  112.429095  168.644632  ...         -0.705021   \n",
       "169 -0.717381   34.661162  167.272880  305.828418  ...         -1.500000   \n",
       "170  4.717763 -243.357490  584.482697  662.804342  ...          0.067255   \n",
       "171  2.339868 -104.329247  138.753687  198.791315  ...         -1.500000   \n",
       "..        ...         ...         ...         ...  ...               ...   \n",
       "232  2.128831   45.093026  424.067446   87.236839  ...          0.000000   \n",
       "233 -0.198181  122.300865  358.526148  412.311237  ...         -1.453905   \n",
       "234  4.590034  -35.080455  159.898049  152.301709  ...         -1.500000   \n",
       "235 -1.721987 -165.713421  240.907360  206.945741  ...         -1.215228   \n",
       "236  2.446646   10.773167  199.270071  417.919625  ...         -1.258875   \n",
       "\n",
       "     maxdurpause  mindurpause       PVU        PU       UVU       VVU  \\\n",
       "167     0.940000     0.200000  1.391813  6.611111  0.210526  0.789474   \n",
       "168     1.180000     0.160000  1.383497  6.200312  0.223133  0.776867   \n",
       "169     0.749977     0.280000  1.637875  6.357994  0.257609  0.742391   \n",
       "170     0.540000     0.150023  0.000000  0.000000  0.000000  0.000000   \n",
       "171     0.320000     0.229977  0.648635  3.857035  0.168169  0.831831   \n",
       "..           ...          ...       ...       ...       ...       ...   \n",
       "232     0.000000     0.000000  0.000000  0.000000  0.000000  0.000000   \n",
       "233     0.630023     0.190023  0.804659  4.748413  0.169459  0.830541   \n",
       "234     0.300000     0.240000  0.684212  4.183193  0.163562  0.836438   \n",
       "235     0.929977     0.249977  2.176980  7.774488  0.280016  0.719984   \n",
       "236     0.460000     0.160000  0.974425  8.370151  0.116417  0.883583   \n",
       "\n",
       "           VP        UP  Group  \n",
       "167  0.567227  0.151261      0  \n",
       "168  0.561524  0.161282      0  \n",
       "169  0.453265  0.157282      0  \n",
       "170  0.000000  0.000000      0  \n",
       "171  1.282433  0.259267      0  \n",
       "..        ...       ...    ...  \n",
       "232  0.000000  0.000000      0  \n",
       "233  1.032165  0.210597      0  \n",
       "234  1.222483  0.239052      0  \n",
       "235  0.330726  0.128626      0  \n",
       "236  0.906774  0.119472      0  \n",
       "\n",
       "[70 rows x 105 columns]"
      ]
     },
     "execution_count": 36,
     "metadata": {},
     "output_type": "execute_result"
    }
   ],
   "source": [
    "test"
   ]
  },
  {
   "cell_type": "code",
   "execution_count": 37,
   "metadata": {},
   "outputs": [],
   "source": [
    "p=np.sum(Y_test==1)#/Y_predict_RF.shape[0]*100"
   ]
  },
  {
   "cell_type": "code",
   "execution_count": 38,
   "metadata": {},
   "outputs": [
    {
     "data": {
      "text/plain": [
       "0"
      ]
     },
     "execution_count": 38,
     "metadata": {},
     "output_type": "execute_result"
    }
   ],
   "source": [
    "p"
   ]
  },
  {
   "cell_type": "code",
   "execution_count": 39,
   "metadata": {},
   "outputs": [
    {
     "data": {
      "text/plain": [
       "0    70\n",
       "Name: Group, dtype: int64"
      ]
     },
     "execution_count": 39,
     "metadata": {},
     "output_type": "execute_result"
    }
   ],
   "source": [
    "Y_test.value_counts()"
   ]
  },
  {
   "cell_type": "code",
   "execution_count": 40,
   "metadata": {},
   "outputs": [
    {
     "name": "stdout",
     "output_type": "stream",
     "text": [
      "              precision    recall  f1-score   support\n",
      "\n",
      "           0       0.78      0.55      0.64       126\n",
      "           1       0.24      0.49      0.32        37\n",
      "\n",
      "    accuracy                           0.53       163\n",
      "   macro avg       0.51      0.52      0.48       163\n",
      "weighted avg       0.66      0.53      0.57       163\n",
      "\n",
      "0.5337423312883436\n",
      "[[69 57]\n",
      " [19 18]]\n"
     ]
    }
   ],
   "source": [
    "true_per=[]\n",
    "out_per=[]\n",
    "true_output=[]\n",
    "pred_output=[]\n",
    "count=[]\n",
    "true_count=[]\n",
    "\n",
    "\n",
    "for i in range (0,len(result)):\n",
    "    test=df_test[df_test['subject'].isin(result[i])] \n",
    "    X_test=test[test.columns.intersection(feature_list)]\n",
    "    X_test=n.normalize_test(X_test)\n",
    "    Y_test=test['Group']\n",
    "\n",
    "    Y_predict_RF=RF_model.predict(X_test)\n",
    "    \n",
    "    per_pred_dp=np.sum(Y_predict_RF==1)/Y_predict_RF.shape[0]*100\n",
    "    count_pred_dp=np.sum(Y_predict_RF==1)\n",
    "    count.append(count_pred_dp)\n",
    "    \n",
    "    if per_pred_dp>9:\n",
    "        y_=1\n",
    "    else:\n",
    "        y_=0\n",
    "    \n",
    "    y=mode(Y_test)\n",
    "    per=np.sum(Y_test==1)/Y_test.shape[0]*100\n",
    "    count_true_dp=np.sum(Y_test==1)\n",
    "    true_count.append(count_true_dp)\n",
    "    \n",
    "    \n",
    "    true_per.append(per)\n",
    "    out_per.append(per_pred_dp)\n",
    "    true_output.append(y)\n",
    "    pred_output.append(y_)\n",
    "    \n",
    "print(classification_report(true_output,pred_output))\n",
    "print(metrics.accuracy_score(true_output,pred_output))\n",
    "    \n",
    "print(confusion_matrix(true_output,pred_output))    "
   ]
  },
  {
   "cell_type": "code",
   "execution_count": 41,
   "metadata": {},
   "outputs": [],
   "source": [
    "check=pd.DataFrame({'person_id':result,'count of depression':count,'true_count':true_count,'predicted label':pred_output,'true_label':true_output})"
   ]
  },
  {
   "cell_type": "code",
   "execution_count": 42,
   "metadata": {},
   "outputs": [],
   "source": [
    "check.to_csv('/home/vboxuser/VoiceFiles/count_train_predicted.csv')"
   ]
  },
  {
   "cell_type": "code",
   "execution_count": 43,
   "metadata": {},
   "outputs": [
    {
     "data": {
      "text/html": [
       "<div>\n",
       "<style scoped>\n",
       "    .dataframe tbody tr th:only-of-type {\n",
       "        vertical-align: middle;\n",
       "    }\n",
       "\n",
       "    .dataframe tbody tr th {\n",
       "        vertical-align: top;\n",
       "    }\n",
       "\n",
       "    .dataframe thead th {\n",
       "        text-align: right;\n",
       "    }\n",
       "</style>\n",
       "<table border=\"1\" class=\"dataframe\">\n",
       "  <thead>\n",
       "    <tr style=\"text-align: right;\">\n",
       "      <th></th>\n",
       "      <th>person_id</th>\n",
       "      <th>count of depression</th>\n",
       "      <th>true_count</th>\n",
       "      <th>predicted label</th>\n",
       "      <th>true_label</th>\n",
       "    </tr>\n",
       "  </thead>\n",
       "  <tbody>\n",
       "    <tr>\n",
       "      <th>0</th>\n",
       "      <td>[302_P_0.wav, 302_P_1.wav, 302_P_10.wav, 302_P...</td>\n",
       "      <td>2</td>\n",
       "      <td>0</td>\n",
       "      <td>0</td>\n",
       "      <td>0</td>\n",
       "    </tr>\n",
       "    <tr>\n",
       "      <th>1</th>\n",
       "      <td>[303_P_0.wav, 303_P_1.wav, 303_P_10.wav, 303_P...</td>\n",
       "      <td>7</td>\n",
       "      <td>0</td>\n",
       "      <td>0</td>\n",
       "      <td>0</td>\n",
       "    </tr>\n",
       "    <tr>\n",
       "      <th>2</th>\n",
       "      <td>[304_P_0.wav, 304_P_1.wav, 304_P_10.wav, 304_P...</td>\n",
       "      <td>4</td>\n",
       "      <td>0</td>\n",
       "      <td>0</td>\n",
       "      <td>0</td>\n",
       "    </tr>\n",
       "    <tr>\n",
       "      <th>3</th>\n",
       "      <td>[305_P_0.wav, 305_P_1.wav, 305_P_10.wav, 305_P...</td>\n",
       "      <td>44</td>\n",
       "      <td>0</td>\n",
       "      <td>1</td>\n",
       "      <td>0</td>\n",
       "    </tr>\n",
       "    <tr>\n",
       "      <th>4</th>\n",
       "      <td>[307_P_0.wav, 307_P_1.wav, 307_P_10.wav, 307_P...</td>\n",
       "      <td>3</td>\n",
       "      <td>0</td>\n",
       "      <td>0</td>\n",
       "      <td>0</td>\n",
       "    </tr>\n",
       "    <tr>\n",
       "      <th>...</th>\n",
       "      <td>...</td>\n",
       "      <td>...</td>\n",
       "      <td>...</td>\n",
       "      <td>...</td>\n",
       "      <td>...</td>\n",
       "    </tr>\n",
       "    <tr>\n",
       "      <th>158</th>\n",
       "      <td>[695_P_0.wav, 695_P_1.wav, 695_P_10.wav, 695_P...</td>\n",
       "      <td>25</td>\n",
       "      <td>0</td>\n",
       "      <td>1</td>\n",
       "      <td>0</td>\n",
       "    </tr>\n",
       "    <tr>\n",
       "      <th>159</th>\n",
       "      <td>[697_P_0.wav, 697_P_1.wav, 697_P_10.wav, 697_P...</td>\n",
       "      <td>20</td>\n",
       "      <td>0</td>\n",
       "      <td>1</td>\n",
       "      <td>0</td>\n",
       "    </tr>\n",
       "    <tr>\n",
       "      <th>160</th>\n",
       "      <td>[702_P_0.wav, 702_P_1.wav, 702_P_10.wav, 702_P...</td>\n",
       "      <td>4</td>\n",
       "      <td>0</td>\n",
       "      <td>0</td>\n",
       "      <td>0</td>\n",
       "    </tr>\n",
       "    <tr>\n",
       "      <th>161</th>\n",
       "      <td>[703_P_0.wav, 703_P_1.wav, 703_P_10.wav, 703_P...</td>\n",
       "      <td>1</td>\n",
       "      <td>0</td>\n",
       "      <td>0</td>\n",
       "      <td>0</td>\n",
       "    </tr>\n",
       "    <tr>\n",
       "      <th>162</th>\n",
       "      <td>[707_P_0.wav, 707_P_1.wav, 707_P_10.wav, 707_P...</td>\n",
       "      <td>6</td>\n",
       "      <td>0</td>\n",
       "      <td>1</td>\n",
       "      <td>0</td>\n",
       "    </tr>\n",
       "  </tbody>\n",
       "</table>\n",
       "<p>163 rows × 5 columns</p>\n",
       "</div>"
      ],
      "text/plain": [
       "                                             person_id  count of depression  \\\n",
       "0    [302_P_0.wav, 302_P_1.wav, 302_P_10.wav, 302_P...                    2   \n",
       "1    [303_P_0.wav, 303_P_1.wav, 303_P_10.wav, 303_P...                    7   \n",
       "2    [304_P_0.wav, 304_P_1.wav, 304_P_10.wav, 304_P...                    4   \n",
       "3    [305_P_0.wav, 305_P_1.wav, 305_P_10.wav, 305_P...                   44   \n",
       "4    [307_P_0.wav, 307_P_1.wav, 307_P_10.wav, 307_P...                    3   \n",
       "..                                                 ...                  ...   \n",
       "158  [695_P_0.wav, 695_P_1.wav, 695_P_10.wav, 695_P...                   25   \n",
       "159  [697_P_0.wav, 697_P_1.wav, 697_P_10.wav, 697_P...                   20   \n",
       "160  [702_P_0.wav, 702_P_1.wav, 702_P_10.wav, 702_P...                    4   \n",
       "161  [703_P_0.wav, 703_P_1.wav, 703_P_10.wav, 703_P...                    1   \n",
       "162  [707_P_0.wav, 707_P_1.wav, 707_P_10.wav, 707_P...                    6   \n",
       "\n",
       "     true_count  predicted label  true_label  \n",
       "0             0                0           0  \n",
       "1             0                0           0  \n",
       "2             0                0           0  \n",
       "3             0                1           0  \n",
       "4             0                0           0  \n",
       "..          ...              ...         ...  \n",
       "158           0                1           0  \n",
       "159           0                1           0  \n",
       "160           0                0           0  \n",
       "161           0                0           0  \n",
       "162           0                1           0  \n",
       "\n",
       "[163 rows x 5 columns]"
      ]
     },
     "execution_count": 43,
     "metadata": {},
     "output_type": "execute_result"
    }
   ],
   "source": [
    "check"
   ]
  },
  {
   "cell_type": "code",
   "execution_count": 44,
   "metadata": {},
   "outputs": [],
   "source": [
    "df_pred=pd.DataFrame({'person_id':result,'count of depression':count, 'percentage of depression':out_per,'label':pred_output,'true_label':true_output})"
   ]
  },
  {
   "cell_type": "code",
   "execution_count": 45,
   "metadata": {},
   "outputs": [
    {
     "data": {
      "text/html": [
       "<div>\n",
       "<style scoped>\n",
       "    .dataframe tbody tr th:only-of-type {\n",
       "        vertical-align: middle;\n",
       "    }\n",
       "\n",
       "    .dataframe tbody tr th {\n",
       "        vertical-align: top;\n",
       "    }\n",
       "\n",
       "    .dataframe thead th {\n",
       "        text-align: right;\n",
       "    }\n",
       "</style>\n",
       "<table border=\"1\" class=\"dataframe\">\n",
       "  <thead>\n",
       "    <tr style=\"text-align: right;\">\n",
       "      <th></th>\n",
       "      <th>person_id</th>\n",
       "      <th>count of depression</th>\n",
       "      <th>percentage of depression</th>\n",
       "      <th>label</th>\n",
       "      <th>true_label</th>\n",
       "    </tr>\n",
       "  </thead>\n",
       "  <tbody>\n",
       "    <tr>\n",
       "      <th>158</th>\n",
       "      <td>[695_P_0.wav, 695_P_1.wav, 695_P_10.wav, 695_P...</td>\n",
       "      <td>25</td>\n",
       "      <td>22.727273</td>\n",
       "      <td>1</td>\n",
       "      <td>0</td>\n",
       "    </tr>\n",
       "    <tr>\n",
       "      <th>159</th>\n",
       "      <td>[697_P_0.wav, 697_P_1.wav, 697_P_10.wav, 697_P...</td>\n",
       "      <td>20</td>\n",
       "      <td>17.391304</td>\n",
       "      <td>1</td>\n",
       "      <td>0</td>\n",
       "    </tr>\n",
       "    <tr>\n",
       "      <th>160</th>\n",
       "      <td>[702_P_0.wav, 702_P_1.wav, 702_P_10.wav, 702_P...</td>\n",
       "      <td>4</td>\n",
       "      <td>8.510638</td>\n",
       "      <td>0</td>\n",
       "      <td>0</td>\n",
       "    </tr>\n",
       "    <tr>\n",
       "      <th>161</th>\n",
       "      <td>[703_P_0.wav, 703_P_1.wav, 703_P_10.wav, 703_P...</td>\n",
       "      <td>1</td>\n",
       "      <td>2.941176</td>\n",
       "      <td>0</td>\n",
       "      <td>0</td>\n",
       "    </tr>\n",
       "    <tr>\n",
       "      <th>162</th>\n",
       "      <td>[707_P_0.wav, 707_P_1.wav, 707_P_10.wav, 707_P...</td>\n",
       "      <td>6</td>\n",
       "      <td>9.836066</td>\n",
       "      <td>1</td>\n",
       "      <td>0</td>\n",
       "    </tr>\n",
       "  </tbody>\n",
       "</table>\n",
       "</div>"
      ],
      "text/plain": [
       "                                             person_id  count of depression  \\\n",
       "158  [695_P_0.wav, 695_P_1.wav, 695_P_10.wav, 695_P...                   25   \n",
       "159  [697_P_0.wav, 697_P_1.wav, 697_P_10.wav, 697_P...                   20   \n",
       "160  [702_P_0.wav, 702_P_1.wav, 702_P_10.wav, 702_P...                    4   \n",
       "161  [703_P_0.wav, 703_P_1.wav, 703_P_10.wav, 703_P...                    1   \n",
       "162  [707_P_0.wav, 707_P_1.wav, 707_P_10.wav, 707_P...                    6   \n",
       "\n",
       "     percentage of depression  label  true_label  \n",
       "158                 22.727273      1           0  \n",
       "159                 17.391304      1           0  \n",
       "160                  8.510638      0           0  \n",
       "161                  2.941176      0           0  \n",
       "162                  9.836066      1           0  "
      ]
     },
     "execution_count": 45,
     "metadata": {},
     "output_type": "execute_result"
    }
   ],
   "source": [
    "df_pred.tail() "
   ]
  },
  {
   "cell_type": "code",
   "execution_count": 46,
   "metadata": {},
   "outputs": [],
   "source": [
    "df_pred.to_csv('/home/vboxuser/VoiceFiles/count_predicted.csv')"
   ]
  },
  {
   "cell_type": "code",
   "execution_count": 47,
   "metadata": {},
   "outputs": [
    {
     "data": {
      "text/plain": [
       "<AxesSubplot: xlabel='percentage of depression', ylabel='true_label'>"
      ]
     },
     "execution_count": 47,
     "metadata": {},
     "output_type": "execute_result"
    },
    {
     "data": {
      "image/png": "[encoded data removed]",
      "text/plain": [
       "<Figure size 640x480 with 1 Axes>"
      ]
     },
     "metadata": {},
     "output_type": "display_data"
    }
   ],
   "source": [
    "import seaborn as sns\n",
    "\n",
    "sns.scatterplot(x='percentage of depression',y='true_label',data=df_pred,s=60,hue='true_label',palette=['green','red'])"
   ]
  },
  {
   "cell_type": "code",
   "execution_count": 48,
   "metadata": {},
   "outputs": [],
   "source": [
    "dp=[]\n",
    "for i in range (0,len(out_per)):\n",
    "    if out_per[i]>9:\n",
    "        dp.append(out_per[i])"
   ]
  },
  {
   "cell_type": "code",
   "execution_count": 49,
   "metadata": {},
   "outputs": [
    {
     "data": {
      "text/plain": [
       "75"
      ]
     },
     "execution_count": 49,
     "metadata": {},
     "output_type": "execute_result"
    }
   ],
   "source": [
    "len(dp) #includes true negative + false negative"
   ]
  },
  {
   "cell_type": "code",
   "execution_count": 50,
   "metadata": {},
   "outputs": [
    {
     "data": {
      "text/html": [
       "<div>\n",
       "<style scoped>\n",
       "    .dataframe tbody tr th:only-of-type {\n",
       "        vertical-align: middle;\n",
       "    }\n",
       "\n",
       "    .dataframe tbody tr th {\n",
       "        vertical-align: top;\n",
       "    }\n",
       "\n",
       "    .dataframe thead th {\n",
       "        text-align: right;\n",
       "    }\n",
       "</style>\n",
       "<table border=\"1\" class=\"dataframe\">\n",
       "  <thead>\n",
       "    <tr style=\"text-align: right;\">\n",
       "      <th></th>\n",
       "      <th>person_id</th>\n",
       "      <th>count of depression</th>\n",
       "      <th>percentage of depression</th>\n",
       "      <th>label</th>\n",
       "      <th>true_label</th>\n",
       "    </tr>\n",
       "  </thead>\n",
       "  <tbody>\n",
       "    <tr>\n",
       "      <th>0</th>\n",
       "      <td>[302_P_0.wav, 302_P_1.wav, 302_P_10.wav, 302_P...</td>\n",
       "      <td>2</td>\n",
       "      <td>4.545455</td>\n",
       "      <td>0</td>\n",
       "      <td>0</td>\n",
       "    </tr>\n",
       "    <tr>\n",
       "      <th>77</th>\n",
       "      <td>[403_P_0.wav, 403_P_1.wav, 403_P_10.wav, 403_P...</td>\n",
       "      <td>2</td>\n",
       "      <td>2.020202</td>\n",
       "      <td>0</td>\n",
       "      <td>0</td>\n",
       "    </tr>\n",
       "    <tr>\n",
       "      <th>131</th>\n",
       "      <td>[477_P_0.wav, 477_P_1.wav, 477_P_10.wav, 477_P...</td>\n",
       "      <td>8</td>\n",
       "      <td>4.848485</td>\n",
       "      <td>0</td>\n",
       "      <td>0</td>\n",
       "    </tr>\n",
       "    <tr>\n",
       "      <th>75</th>\n",
       "      <td>[399_P_0.wav, 399_P_1.wav, 399_P_10.wav, 399_P...</td>\n",
       "      <td>4</td>\n",
       "      <td>5.479452</td>\n",
       "      <td>0</td>\n",
       "      <td>0</td>\n",
       "    </tr>\n",
       "    <tr>\n",
       "      <th>132</th>\n",
       "      <td>[478_P_0.wav, 478_P_1.wav, 478_P_10.wav, 478_P...</td>\n",
       "      <td>1</td>\n",
       "      <td>1.204819</td>\n",
       "      <td>0</td>\n",
       "      <td>0</td>\n",
       "    </tr>\n",
       "    <tr>\n",
       "      <th>...</th>\n",
       "      <td>...</td>\n",
       "      <td>...</td>\n",
       "      <td>...</td>\n",
       "      <td>...</td>\n",
       "      <td>...</td>\n",
       "    </tr>\n",
       "    <tr>\n",
       "      <th>69</th>\n",
       "      <td>[390_P_0.wav, 390_P_1.wav, 390_P_10.wav, 390_P...</td>\n",
       "      <td>20</td>\n",
       "      <td>17.699115</td>\n",
       "      <td>1</td>\n",
       "      <td>0</td>\n",
       "    </tr>\n",
       "    <tr>\n",
       "      <th>68</th>\n",
       "      <td>[389_P_0.wav, 389_P_1.wav, 389_P_10.wav, 389_P...</td>\n",
       "      <td>6</td>\n",
       "      <td>14.285714</td>\n",
       "      <td>1</td>\n",
       "      <td>1</td>\n",
       "    </tr>\n",
       "    <tr>\n",
       "      <th>64</th>\n",
       "      <td>[384_P_0.wav, 384_P_1.wav, 384_P_10.wav, 384_P...</td>\n",
       "      <td>13</td>\n",
       "      <td>13.131313</td>\n",
       "      <td>1</td>\n",
       "      <td>1</td>\n",
       "    </tr>\n",
       "    <tr>\n",
       "      <th>57</th>\n",
       "      <td>[375_P_0.wav, 375_P_1.wav, 375_P_10.wav, 375_P...</td>\n",
       "      <td>6</td>\n",
       "      <td>17.142857</td>\n",
       "      <td>1</td>\n",
       "      <td>0</td>\n",
       "    </tr>\n",
       "    <tr>\n",
       "      <th>162</th>\n",
       "      <td>[707_P_0.wav, 707_P_1.wav, 707_P_10.wav, 707_P...</td>\n",
       "      <td>6</td>\n",
       "      <td>9.836066</td>\n",
       "      <td>1</td>\n",
       "      <td>0</td>\n",
       "    </tr>\n",
       "  </tbody>\n",
       "</table>\n",
       "<p>163 rows × 5 columns</p>\n",
       "</div>"
      ],
      "text/plain": [
       "                                             person_id  count of depression  \\\n",
       "0    [302_P_0.wav, 302_P_1.wav, 302_P_10.wav, 302_P...                    2   \n",
       "77   [403_P_0.wav, 403_P_1.wav, 403_P_10.wav, 403_P...                    2   \n",
       "131  [477_P_0.wav, 477_P_1.wav, 477_P_10.wav, 477_P...                    8   \n",
       "75   [399_P_0.wav, 399_P_1.wav, 399_P_10.wav, 399_P...                    4   \n",
       "132  [478_P_0.wav, 478_P_1.wav, 478_P_10.wav, 478_P...                    1   \n",
       "..                                                 ...                  ...   \n",
       "69   [390_P_0.wav, 390_P_1.wav, 390_P_10.wav, 390_P...                   20   \n",
       "68   [389_P_0.wav, 389_P_1.wav, 389_P_10.wav, 389_P...                    6   \n",
       "64   [384_P_0.wav, 384_P_1.wav, 384_P_10.wav, 384_P...                   13   \n",
       "57   [375_P_0.wav, 375_P_1.wav, 375_P_10.wav, 375_P...                    6   \n",
       "162  [707_P_0.wav, 707_P_1.wav, 707_P_10.wav, 707_P...                    6   \n",
       "\n",
       "     percentage of depression  label  true_label  \n",
       "0                    4.545455      0           0  \n",
       "77                   2.020202      0           0  \n",
       "131                  4.848485      0           0  \n",
       "75                   5.479452      0           0  \n",
       "132                  1.204819      0           0  \n",
       "..                        ...    ...         ...  \n",
       "69                  17.699115      1           0  \n",
       "68                  14.285714      1           1  \n",
       "64                  13.131313      1           1  \n",
       "57                  17.142857      1           0  \n",
       "162                  9.836066      1           0  \n",
       "\n",
       "[163 rows x 5 columns]"
      ]
     },
     "execution_count": 50,
     "metadata": {},
     "output_type": "execute_result"
    }
   ],
   "source": [
    "df_pred.sort_values(by=['label'])"
   ]
  },
  {
   "cell_type": "code",
   "execution_count": 51,
   "metadata": {},
   "outputs": [],
   "source": [
    "##################################################################"
   ]
  },
  {
   "cell_type": "code",
   "execution_count": 52,
   "metadata": {
    "scrolled": true
   },
   "outputs": [
    {
     "data": {
      "text/html": [
       "<style>#sk-container-id-2 {color: black;background-color: white;}#sk-container-id-2 pre{padding: 0;}#sk-container-id-2 div.sk-toggleable {background-color: white;}#sk-container-id-2 label.sk-toggleable__label {cursor: pointer;display: block;width: 100%;margin-bottom: 0;padding: 0.3em;box-sizing: border-box;text-align: center;}#sk-container-id-2 label.sk-toggleable__label-arrow:before {content: \"▸\";float: left;margin-right: 0.25em;color: #696969;}#sk-container-id-2 label.sk-toggleable__label-arrow:hover:before {color: black;}#sk-container-id-2 div.sk-estimator:hover label.sk-toggleable__label-arrow:before {color: black;}#sk-container-id-2 div.sk-toggleable__content {max-height: 0;max-width: 0;overflow: hidden;text-align: left;background-color: #f0f8ff;}#sk-container-id-2 div.sk-toggleable__content pre {margin: 0.2em;color: black;border-radius: 0.25em;background-color: #f0f8ff;}#sk-container-id-2 input.sk-toggleable__control:checked~div.sk-toggleable__content {max-height: 200px;max-width: 100%;overflow: auto;}#sk-container-id-2 input.sk-toggleable__control:checked~label.sk-toggleable__label-arrow:before {content: \"▾\";}#sk-container-id-2 div.sk-estimator input.sk-toggleable__control:checked~label.sk-toggleable__label {background-color: #d4ebff;}#sk-container-id-2 div.sk-label input.sk-toggleable__control:checked~label.sk-toggleable__label {background-color: #d4ebff;}#sk-container-id-2 input.sk-hidden--visually {border: 0;clip: rect(1px 1px 1px 1px);clip: rect(1px, 1px, 1px, 1px);height: 1px;margin: -1px;overflow: hidden;padding: 0;position: absolute;width: 1px;}#sk-container-id-2 div.sk-estimator {font-family: monospace;background-color: #f0f8ff;border: 1px dotted black;border-radius: 0.25em;box-sizing: border-box;margin-bottom: 0.5em;}#sk-container-id-2 div.sk-estimator:hover {background-color: #d4ebff;}#sk-container-id-2 div.sk-parallel-item::after {content: \"\";width: 100%;border-bottom: 1px solid gray;flex-grow: 1;}#sk-container-id-2 div.sk-label:hover label.sk-toggleable__label {background-color: #d4ebff;}#sk-container-id-2 div.sk-serial::before {content: \"\";position: absolute;border-left: 1px solid gray;box-sizing: border-box;top: 0;bottom: 0;left: 50%;z-index: 0;}#sk-container-id-2 div.sk-serial {display: flex;flex-direction: column;align-items: center;background-color: white;padding-right: 0.2em;padding-left: 0.2em;position: relative;}#sk-container-id-2 div.sk-item {position: relative;z-index: 1;}#sk-container-id-2 div.sk-parallel {display: flex;align-items: stretch;justify-content: center;background-color: white;position: relative;}#sk-container-id-2 div.sk-item::before, #sk-container-id-2 div.sk-parallel-item::before {content: \"\";position: absolute;border-left: 1px solid gray;box-sizing: border-box;top: 0;bottom: 0;left: 50%;z-index: -1;}#sk-container-id-2 div.sk-parallel-item {display: flex;flex-direction: column;z-index: 1;position: relative;background-color: white;}#sk-container-id-2 div.sk-parallel-item:first-child::after {align-self: flex-end;width: 50%;}#sk-container-id-2 div.sk-parallel-item:last-child::after {align-self: flex-start;width: 50%;}#sk-container-id-2 div.sk-parallel-item:only-child::after {width: 0;}#sk-container-id-2 div.sk-dashed-wrapped {border: 1px dashed gray;margin: 0 0.4em 0.5em 0.4em;box-sizing: border-box;padding-bottom: 0.4em;background-color: white;}#sk-container-id-2 div.sk-label label {font-family: monospace;font-weight: bold;display: inline-block;line-height: 1.2em;}#sk-container-id-2 div.sk-label-container {text-align: center;}#sk-container-id-2 div.sk-container {/* jupyter's `normalize.less` sets `[hidden] { display: none; }` but bootstrap.min.css set `[hidden] { display: none !important; }` so we also need the `!important` here to be able to override the default hidden behavior on the sphinx rendered scikit-learn.org. See: https://github.com/scikit-learn/scikit-learn/issues/21755 */display: inline-block !important;position: relative;}#sk-container-id-2 div.sk-text-repr-fallback {display: none;}</style><div id=\"sk-container-id-2\" class=\"sk-top-container\"><div class=\"sk-text-repr-fallback\"><pre>SVC(C=10, class_weight=&#x27;balanced&#x27;, gamma=1)</pre><b>In a Jupyter environment, please rerun this cell to show the HTML representation or trust the notebook. <br />On GitHub, the HTML representation is unable to render, please try loading this page with nbviewer.org.</b></div><div class=\"sk-container\" hidden><div class=\"sk-item\"><div class=\"sk-estimator sk-toggleable\"><input class=\"sk-toggleable__control sk-hidden--visually\" id=\"sk-estimator-id-2\" type=\"checkbox\" checked><label for=\"sk-estimator-id-2\" class=\"sk-toggleable__label sk-toggleable__label-arrow\">SVC</label><div class=\"sk-toggleable__content\"><pre>SVC(C=10, class_weight=&#x27;balanced&#x27;, gamma=1)</pre></div></div></div></div></div>"
      ],
      "text/plain": [
       "SVC(C=10, class_weight='balanced', gamma=1)"
      ]
     },
     "execution_count": 52,
     "metadata": {},
     "output_type": "execute_result"
    }
   ],
   "source": [
    "SVM_model = SVC(kernel='rbf',C=10, gamma=1, class_weight='balanced')\n",
    "\n",
    "SVM_model.fit(X,Y)"
   ]
  },
  {
   "cell_type": "code",
   "execution_count": 53,
   "metadata": {},
   "outputs": [
    {
     "name": "stdout",
     "output_type": "stream",
     "text": [
      "              precision    recall  f1-score   support\n",
      "\n",
      "           0       0.77      0.85      0.81       126\n",
      "           1       0.21      0.14      0.16        37\n",
      "\n",
      "    accuracy                           0.69       163\n",
      "   macro avg       0.49      0.49      0.49       163\n",
      "weighted avg       0.64      0.69      0.66       163\n",
      "\n",
      "0.6871165644171779\n"
     ]
    }
   ],
   "source": [
    "true_per=[]\n",
    "out_per=[]\n",
    "true_output=[]\n",
    "pred_output=[]\n",
    "\n",
    "for i in range (0,len(result)):\n",
    "    test=df_test[df_test['subject'].isin(result[i])] \n",
    "    X_test=test[test.columns.intersection(feature_list)]\n",
    "    X_test=n.normalize_test(X_test)\n",
    "    Y_test=test['Group']\n",
    "\n",
    "    Y_predict_SVM=SVM_model.predict(X_test)\n",
    "    \n",
    "    per_pred=np.sum(Y_predict_SVM==1)/Y_predict_SVM.shape[0]*100\n",
    "    if per_pred>6:\n",
    "        y_=1\n",
    "    else:\n",
    "        y_=0\n",
    "    \n",
    "    y=mode(Y_test)\n",
    "    per=np.sum(Y_test==1)/Y_test.shape[0]*100\n",
    "\n",
    "    true_per.append(per)\n",
    "    out_per.append(per_pred)\n",
    "    true_output.append(y)\n",
    "    pred_output.append(y_)\n",
    "\n",
    "print(classification_report(true_output,pred_output))\n",
    "print(metrics.accuracy_score(true_output,pred_output))\n",
    "    \n",
    "    "
   ]
  },
  {
   "cell_type": "code",
   "execution_count": 54,
   "metadata": {},
   "outputs": [],
   "source": [
    "df_pred_SVM=pd.DataFrame({'percentage of depression':true_per,'label':pred_output,'true_label':true_output})"
   ]
  },
  {
   "cell_type": "code",
   "execution_count": 55,
   "metadata": {},
   "outputs": [
    {
     "data": {
      "text/plain": [
       "<AxesSubplot: xlabel='percentage of depression', ylabel='true_label'>"
      ]
     },
     "execution_count": 55,
     "metadata": {},
     "output_type": "execute_result"
    },
    {
     "data": {
      "image/png": "[encoded data removed]",
      "text/plain": [
       "<Figure size 640x480 with 1 Axes>"
      ]
     },
     "metadata": {},
     "output_type": "display_data"
    }
   ],
   "source": [
    "import seaborn as sns\n",
    "\n",
    "sns.scatterplot(x='percentage of depression',y='true_label',data=df_pred_SVM,s=60,hue='true_label',palette=['green','red'])"
   ]
  },
  {
   "cell_type": "markdown",
   "metadata": {},
   "source": [
    "#### 1.2 Obtaining a Classification Report:"
   ]
  },
  {
   "cell_type": "code",
   "execution_count": 56,
   "metadata": {
    "scrolled": true
   },
   "outputs": [],
   "source": [
    "#from sklearn.metrics import classification_report"
   ]
  },
  {
   "cell_type": "code",
   "execution_count": 57,
   "metadata": {
    "scrolled": true
   },
   "outputs": [],
   "source": [
    "#print(classification_report(Y_test,Y_predict_RF))"
   ]
  },
  {
   "cell_type": "markdown",
   "metadata": {},
   "source": [
    "#### 2. Decision Tree Classifier:"
   ]
  },
  {
   "cell_type": "code",
   "execution_count": 58,
   "metadata": {
    "scrolled": true
   },
   "outputs": [],
   "source": [
    "#DF_model=DecisionTreeClassifier(max_depth=7,random_state=42,class_weight='balanced')"
   ]
  },
  {
   "cell_type": "code",
   "execution_count": 59,
   "metadata": {
    "scrolled": true
   },
   "outputs": [],
   "source": [
    "#DF_model.fit(X,Y)"
   ]
  },
  {
   "cell_type": "markdown",
   "metadata": {},
   "source": [
    "#### 2.1 Predicting the output on test data:"
   ]
  },
  {
   "cell_type": "code",
   "execution_count": 60,
   "metadata": {
    "scrolled": true
   },
   "outputs": [],
   "source": [
    "#predicting on test data:\n",
    "#Y_predict_DF=DF_model.predict(X_test)"
   ]
  },
  {
   "cell_type": "code",
   "execution_count": 61,
   "metadata": {
    "scrolled": true
   },
   "outputs": [],
   "source": [
    "#viewing accuracy score:\n",
    "#print(\"The DF_model accuracy is given as : \",metrics.accuracy_score(Y_test,Y_predict_DF))"
   ]
  },
  {
   "cell_type": "markdown",
   "metadata": {},
   "source": [
    "#### 2.2 Obtaining a Classification Report:"
   ]
  },
  {
   "cell_type": "code",
   "execution_count": 62,
   "metadata": {
    "scrolled": true
   },
   "outputs": [],
   "source": [
    "#print(classification_report(Y_test,Y_predict_DF))"
   ]
  },
  {
   "cell_type": "markdown",
   "metadata": {},
   "source": [
    "#### 3. Logistic Regression Model:"
   ]
  },
  {
   "cell_type": "code",
   "execution_count": 63,
   "metadata": {
    "scrolled": true
   },
   "outputs": [],
   "source": [
    "#LR_model=LogisticRegression(class_weight='balanced')"
   ]
  },
  {
   "cell_type": "code",
   "execution_count": 64,
   "metadata": {
    "scrolled": true
   },
   "outputs": [],
   "source": [
    "#LR_model.fit(X,Y)"
   ]
  },
  {
   "cell_type": "markdown",
   "metadata": {},
   "source": [
    "#### 3.1 Predicting the output on test data:"
   ]
  },
  {
   "cell_type": "code",
   "execution_count": 65,
   "metadata": {
    "scrolled": true
   },
   "outputs": [],
   "source": [
    "#predicting on test data:\n",
    "#Y_predict_LR=LR_model.predict(X_test)"
   ]
  },
  {
   "cell_type": "markdown",
   "metadata": {},
   "source": [
    "#### 3.2 Obtaining a Classification Report:"
   ]
  },
  {
   "cell_type": "code",
   "execution_count": 66,
   "metadata": {
    "scrolled": true
   },
   "outputs": [],
   "source": [
    "#viewing accuracy score:\n",
    "#print(\"The LR_model accuracy is given as : \",metrics.accuracy_score(Y_test,Y_predict_LR))"
   ]
  },
  {
   "cell_type": "code",
   "execution_count": 67,
   "metadata": {
    "scrolled": true
   },
   "outputs": [],
   "source": [
    "#print(classification_report(Y_test,Y_predict_LR))"
   ]
  },
  {
   "cell_type": "markdown",
   "metadata": {},
   "source": [
    "#### 4. Support Vector Machine Model:"
   ]
  },
  {
   "cell_type": "code",
   "execution_count": 68,
   "metadata": {
    "scrolled": true
   },
   "outputs": [],
   "source": [
    "#SVM_model.fit(X,Y)"
   ]
  },
  {
   "cell_type": "markdown",
   "metadata": {},
   "source": [
    "#### 4.1 Predicting the output on test data:"
   ]
  },
  {
   "cell_type": "code",
   "execution_count": 69,
   "metadata": {
    "scrolled": true
   },
   "outputs": [],
   "source": [
    "#predicting on test data:\n",
    "#Y_predict_SVM=SVM_model.predict(X_test)"
   ]
  },
  {
   "cell_type": "code",
   "execution_count": 70,
   "metadata": {
    "scrolled": true
   },
   "outputs": [],
   "source": [
    "#viewing accuracy score:\n",
    "#print(\"The SVM_accuracy is given as : \",metrics.accuracy_score(Y_test,Y_predict_SVM))"
   ]
  },
  {
   "cell_type": "markdown",
   "metadata": {},
   "source": [
    "#### 4.2 Obtaining a Classification Report:"
   ]
  },
  {
   "cell_type": "code",
   "execution_count": 71,
   "metadata": {
    "scrolled": true
   },
   "outputs": [],
   "source": [
    "#print(classification_report(Y_test,Y_predict_SVM))"
   ]
  },
  {
   "cell_type": "markdown",
   "metadata": {},
   "source": [
    "<font color=red>**C=10 & gamma=1 with resampled gives the best results**</font>"
   ]
  },
  {
   "cell_type": "markdown",
   "metadata": {},
   "source": [
    "### Feature Combination:"
   ]
  },
  {
   "cell_type": "markdown",
   "metadata": {},
   "source": [
    "#### PCA (on selected features):"
   ]
  },
  {
   "cell_type": "code",
   "execution_count": 72,
   "metadata": {
    "scrolled": true
   },
   "outputs": [],
   "source": [
    "from sklearn.decomposition import PCA"
   ]
  },
  {
   "cell_type": "code",
   "execution_count": 73,
   "metadata": {
    "scrolled": true
   },
   "outputs": [],
   "source": [
    "pca=PCA(n_components=10)"
   ]
  },
  {
   "cell_type": "code",
   "execution_count": 126,
   "metadata": {
    "scrolled": true
   },
   "outputs": [
    {
     "name": "stderr",
     "output_type": "stream",
     "text": [
      "/usr/local/lib/python3.10/dist-packages/sklearn/base.py:413: UserWarning: X has feature names, but PCA was fitted without feature names\n",
      "  warnings.warn(\n"
     ]
    },
    {
     "ename": "ValueError",
     "evalue": "X has 18 features, but PCA is expecting 20 features as input.",
     "output_type": "error",
     "traceback": [
      "\u001b[0;31m---------------------------------------------------------------------------\u001b[0m",
      "\u001b[0;31mValueError\u001b[0m                                Traceback (most recent call last)",
      "Cell \u001b[0;32mIn[126], line 2\u001b[0m\n\u001b[1;32m      1\u001b[0m x_trainpca\u001b[38;5;241m=\u001b[39mpca\u001b[38;5;241m.\u001b[39mfit_transform(X)\n\u001b[0;32m----> 2\u001b[0m x_testpca\u001b[38;5;241m=\u001b[39m\u001b[43mpca\u001b[49m\u001b[38;5;241;43m.\u001b[39;49m\u001b[43mtransform\u001b[49m\u001b[43m(\u001b[49m\u001b[43mX_test\u001b[49m\u001b[43m)\u001b[49m\n",
      "File \u001b[0;32m/usr/local/lib/python3.10/dist-packages/sklearn/utils/_set_output.py:142\u001b[0m, in \u001b[0;36m_wrap_method_output.<locals>.wrapped\u001b[0;34m(self, X, *args, **kwargs)\u001b[0m\n\u001b[1;32m    140\u001b[0m \u001b[38;5;129m@wraps\u001b[39m(f)\n\u001b[1;32m    141\u001b[0m \u001b[38;5;28;01mdef\u001b[39;00m \u001b[38;5;21mwrapped\u001b[39m(\u001b[38;5;28mself\u001b[39m, X, \u001b[38;5;241m*\u001b[39margs, \u001b[38;5;241m*\u001b[39m\u001b[38;5;241m*\u001b[39mkwargs):\n\u001b[0;32m--> 142\u001b[0m     data_to_wrap \u001b[38;5;241m=\u001b[39m \u001b[43mf\u001b[49m\u001b[43m(\u001b[49m\u001b[38;5;28;43mself\u001b[39;49m\u001b[43m,\u001b[49m\u001b[43m \u001b[49m\u001b[43mX\u001b[49m\u001b[43m,\u001b[49m\u001b[43m \u001b[49m\u001b[38;5;241;43m*\u001b[39;49m\u001b[43margs\u001b[49m\u001b[43m,\u001b[49m\u001b[43m \u001b[49m\u001b[38;5;241;43m*\u001b[39;49m\u001b[38;5;241;43m*\u001b[39;49m\u001b[43mkwargs\u001b[49m\u001b[43m)\u001b[49m\n\u001b[1;32m    143\u001b[0m     \u001b[38;5;28;01mif\u001b[39;00m \u001b[38;5;28misinstance\u001b[39m(data_to_wrap, \u001b[38;5;28mtuple\u001b[39m):\n\u001b[1;32m    144\u001b[0m         \u001b[38;5;66;03m# only wrap the first output for cross decomposition\u001b[39;00m\n\u001b[1;32m    145\u001b[0m         \u001b[38;5;28;01mreturn\u001b[39;00m (\n\u001b[1;32m    146\u001b[0m             _wrap_data_with_container(method, data_to_wrap[\u001b[38;5;241m0\u001b[39m], X, \u001b[38;5;28mself\u001b[39m),\n\u001b[1;32m    147\u001b[0m             \u001b[38;5;241m*\u001b[39mdata_to_wrap[\u001b[38;5;241m1\u001b[39m:],\n\u001b[1;32m    148\u001b[0m         )\n",
      "File \u001b[0;32m/usr/local/lib/python3.10/dist-packages/sklearn/decomposition/_base.py:120\u001b[0m, in \u001b[0;36m_BasePCA.transform\u001b[0;34m(self, X)\u001b[0m\n\u001b[1;32m    101\u001b[0m \u001b[38;5;250m\u001b[39m\u001b[38;5;124;03m\"\"\"Apply dimensionality reduction to X.\u001b[39;00m\n\u001b[1;32m    102\u001b[0m \n\u001b[1;32m    103\u001b[0m \u001b[38;5;124;03mX is projected on the first principal components previously extracted\u001b[39;00m\n\u001b[0;32m   (...)\u001b[0m\n\u001b[1;32m    116\u001b[0m \u001b[38;5;124;03m    is the number of samples and `n_components` is the number of the components.\u001b[39;00m\n\u001b[1;32m    117\u001b[0m \u001b[38;5;124;03m\"\"\"\u001b[39;00m\n\u001b[1;32m    118\u001b[0m check_is_fitted(\u001b[38;5;28mself\u001b[39m)\n\u001b[0;32m--> 120\u001b[0m X \u001b[38;5;241m=\u001b[39m \u001b[38;5;28;43mself\u001b[39;49m\u001b[38;5;241;43m.\u001b[39;49m\u001b[43m_validate_data\u001b[49m\u001b[43m(\u001b[49m\u001b[43mX\u001b[49m\u001b[43m,\u001b[49m\u001b[43m \u001b[49m\u001b[43mdtype\u001b[49m\u001b[38;5;241;43m=\u001b[39;49m\u001b[43m[\u001b[49m\u001b[43mnp\u001b[49m\u001b[38;5;241;43m.\u001b[39;49m\u001b[43mfloat64\u001b[49m\u001b[43m,\u001b[49m\u001b[43m \u001b[49m\u001b[43mnp\u001b[49m\u001b[38;5;241;43m.\u001b[39;49m\u001b[43mfloat32\u001b[49m\u001b[43m]\u001b[49m\u001b[43m,\u001b[49m\u001b[43m \u001b[49m\u001b[43mreset\u001b[49m\u001b[38;5;241;43m=\u001b[39;49m\u001b[38;5;28;43;01mFalse\u001b[39;49;00m\u001b[43m)\u001b[49m\n\u001b[1;32m    121\u001b[0m \u001b[38;5;28;01mif\u001b[39;00m \u001b[38;5;28mself\u001b[39m\u001b[38;5;241m.\u001b[39mmean_ \u001b[38;5;129;01mis\u001b[39;00m \u001b[38;5;129;01mnot\u001b[39;00m \u001b[38;5;28;01mNone\u001b[39;00m:\n\u001b[1;32m    122\u001b[0m     X \u001b[38;5;241m=\u001b[39m X \u001b[38;5;241m-\u001b[39m \u001b[38;5;28mself\u001b[39m\u001b[38;5;241m.\u001b[39mmean_\n",
      "File \u001b[0;32m/usr/local/lib/python3.10/dist-packages/sklearn/base.py:569\u001b[0m, in \u001b[0;36mBaseEstimator._validate_data\u001b[0;34m(self, X, y, reset, validate_separately, **check_params)\u001b[0m\n\u001b[1;32m    566\u001b[0m     out \u001b[38;5;241m=\u001b[39m X, y\n\u001b[1;32m    568\u001b[0m \u001b[38;5;28;01mif\u001b[39;00m \u001b[38;5;129;01mnot\u001b[39;00m no_val_X \u001b[38;5;129;01mand\u001b[39;00m check_params\u001b[38;5;241m.\u001b[39mget(\u001b[38;5;124m\"\u001b[39m\u001b[38;5;124mensure_2d\u001b[39m\u001b[38;5;124m\"\u001b[39m, \u001b[38;5;28;01mTrue\u001b[39;00m):\n\u001b[0;32m--> 569\u001b[0m     \u001b[38;5;28;43mself\u001b[39;49m\u001b[38;5;241;43m.\u001b[39;49m\u001b[43m_check_n_features\u001b[49m\u001b[43m(\u001b[49m\u001b[43mX\u001b[49m\u001b[43m,\u001b[49m\u001b[43m \u001b[49m\u001b[43mreset\u001b[49m\u001b[38;5;241;43m=\u001b[39;49m\u001b[43mreset\u001b[49m\u001b[43m)\u001b[49m\n\u001b[1;32m    571\u001b[0m \u001b[38;5;28;01mreturn\u001b[39;00m out\n",
      "File \u001b[0;32m/usr/local/lib/python3.10/dist-packages/sklearn/base.py:370\u001b[0m, in \u001b[0;36mBaseEstimator._check_n_features\u001b[0;34m(self, X, reset)\u001b[0m\n\u001b[1;32m    367\u001b[0m     \u001b[38;5;28;01mreturn\u001b[39;00m\n\u001b[1;32m    369\u001b[0m \u001b[38;5;28;01mif\u001b[39;00m n_features \u001b[38;5;241m!=\u001b[39m \u001b[38;5;28mself\u001b[39m\u001b[38;5;241m.\u001b[39mn_features_in_:\n\u001b[0;32m--> 370\u001b[0m     \u001b[38;5;28;01mraise\u001b[39;00m \u001b[38;5;167;01mValueError\u001b[39;00m(\n\u001b[1;32m    371\u001b[0m         \u001b[38;5;124mf\u001b[39m\u001b[38;5;124m\"\u001b[39m\u001b[38;5;124mX has \u001b[39m\u001b[38;5;132;01m{\u001b[39;00mn_features\u001b[38;5;132;01m}\u001b[39;00m\u001b[38;5;124m features, but \u001b[39m\u001b[38;5;132;01m{\u001b[39;00m\u001b[38;5;28mself\u001b[39m\u001b[38;5;241m.\u001b[39m\u001b[38;5;18m__class__\u001b[39m\u001b[38;5;241m.\u001b[39m\u001b[38;5;18m__name__\u001b[39m\u001b[38;5;132;01m}\u001b[39;00m\u001b[38;5;124m \u001b[39m\u001b[38;5;124m\"\u001b[39m\n\u001b[1;32m    372\u001b[0m         \u001b[38;5;124mf\u001b[39m\u001b[38;5;124m\"\u001b[39m\u001b[38;5;124mis expecting \u001b[39m\u001b[38;5;132;01m{\u001b[39;00m\u001b[38;5;28mself\u001b[39m\u001b[38;5;241m.\u001b[39mn_features_in_\u001b[38;5;132;01m}\u001b[39;00m\u001b[38;5;124m features as input.\u001b[39m\u001b[38;5;124m\"\u001b[39m\n\u001b[1;32m    373\u001b[0m     )\n",
      "\u001b[0;31mValueError\u001b[0m: X has 18 features, but PCA is expecting 20 features as input."
     ]
    }
   ],
   "source": [
    "x_trainpca=pca.fit_transform(X)\n",
    "x_testpca=pca.transform(X_test)"
   ]
  },
  {
   "cell_type": "code",
   "execution_count": 75,
   "metadata": {
    "scrolled": true
   },
   "outputs": [
    {
     "data": {
      "text/html": [
       "<div>\n",
       "<style scoped>\n",
       "    .dataframe tbody tr th:only-of-type {\n",
       "        vertical-align: middle;\n",
       "    }\n",
       "\n",
       "    .dataframe tbody tr th {\n",
       "        vertical-align: top;\n",
       "    }\n",
       "\n",
       "    .dataframe thead th {\n",
       "        text-align: right;\n",
       "    }\n",
       "</style>\n",
       "<table border=\"1\" class=\"dataframe\">\n",
       "  <thead>\n",
       "    <tr style=\"text-align: right;\">\n",
       "      <th></th>\n",
       "      <th>PCA1</th>\n",
       "      <th>PCA2</th>\n",
       "      <th>PCA3</th>\n",
       "      <th>PCA4</th>\n",
       "      <th>PCA5</th>\n",
       "      <th>PCA6</th>\n",
       "      <th>PCA7</th>\n",
       "      <th>PCA8</th>\n",
       "      <th>PCA9</th>\n",
       "      <th>PCA10</th>\n",
       "    </tr>\n",
       "  </thead>\n",
       "  <tbody>\n",
       "    <tr>\n",
       "      <th>7751</th>\n",
       "      <td>0.386461</td>\n",
       "      <td>-1.196920</td>\n",
       "      <td>-0.367822</td>\n",
       "      <td>-1.128620</td>\n",
       "      <td>0.530811</td>\n",
       "      <td>0.316912</td>\n",
       "      <td>-0.597617</td>\n",
       "      <td>0.423301</td>\n",
       "      <td>-0.997922</td>\n",
       "      <td>0.300466</td>\n",
       "    </tr>\n",
       "    <tr>\n",
       "      <th>7752</th>\n",
       "      <td>1.390539</td>\n",
       "      <td>1.499144</td>\n",
       "      <td>-1.539370</td>\n",
       "      <td>0.552440</td>\n",
       "      <td>1.244027</td>\n",
       "      <td>0.491231</td>\n",
       "      <td>-0.003076</td>\n",
       "      <td>-0.712125</td>\n",
       "      <td>0.337715</td>\n",
       "      <td>-0.466356</td>\n",
       "    </tr>\n",
       "    <tr>\n",
       "      <th>7753</th>\n",
       "      <td>-0.051424</td>\n",
       "      <td>-0.844637</td>\n",
       "      <td>-0.422334</td>\n",
       "      <td>-2.244356</td>\n",
       "      <td>1.017326</td>\n",
       "      <td>-0.620569</td>\n",
       "      <td>2.867247</td>\n",
       "      <td>0.375104</td>\n",
       "      <td>2.905656</td>\n",
       "      <td>0.281815</td>\n",
       "    </tr>\n",
       "    <tr>\n",
       "      <th>7754</th>\n",
       "      <td>1.909776</td>\n",
       "      <td>-0.977862</td>\n",
       "      <td>-1.166471</td>\n",
       "      <td>1.301416</td>\n",
       "      <td>0.401972</td>\n",
       "      <td>-0.201328</td>\n",
       "      <td>0.517248</td>\n",
       "      <td>-0.037203</td>\n",
       "      <td>0.101933</td>\n",
       "      <td>-0.162381</td>\n",
       "    </tr>\n",
       "    <tr>\n",
       "      <th>7755</th>\n",
       "      <td>0.534708</td>\n",
       "      <td>1.554023</td>\n",
       "      <td>-1.118510</td>\n",
       "      <td>-1.242974</td>\n",
       "      <td>0.107530</td>\n",
       "      <td>0.171300</td>\n",
       "      <td>0.859184</td>\n",
       "      <td>0.046079</td>\n",
       "      <td>-0.305126</td>\n",
       "      <td>-0.038370</td>\n",
       "    </tr>\n",
       "  </tbody>\n",
       "</table>\n",
       "</div>"
      ],
      "text/plain": [
       "          PCA1      PCA2      PCA3      PCA4      PCA5      PCA6      PCA7  \\\n",
       "7751  0.386461 -1.196920 -0.367822 -1.128620  0.530811  0.316912 -0.597617   \n",
       "7752  1.390539  1.499144 -1.539370  0.552440  1.244027  0.491231 -0.003076   \n",
       "7753 -0.051424 -0.844637 -0.422334 -2.244356  1.017326 -0.620569  2.867247   \n",
       "7754  1.909776 -0.977862 -1.166471  1.301416  0.401972 -0.201328  0.517248   \n",
       "7755  0.534708  1.554023 -1.118510 -1.242974  0.107530  0.171300  0.859184   \n",
       "\n",
       "          PCA8      PCA9     PCA10  \n",
       "7751  0.423301 -0.997922  0.300466  \n",
       "7752 -0.712125  0.337715 -0.466356  \n",
       "7753  0.375104  2.905656  0.281815  \n",
       "7754 -0.037203  0.101933 -0.162381  \n",
       "7755  0.046079 -0.305126 -0.038370  "
      ]
     },
     "execution_count": 75,
     "metadata": {},
     "output_type": "execute_result"
    }
   ],
   "source": [
    "##convert principal components for each sample from numpy array to df:\n",
    "pca_df=pd.DataFrame(x_trainpca,columns=[\"PCA1\",\"PCA2\",\"PCA3\",\"PCA4\",\"PCA5\",\"PCA6\",\"PCA7\",\"PCA8\",\"PCA9\",\"PCA10\"])\n",
    "#pca_df[\"y\"]=Y\n",
    "pca_df.tail()"
   ]
  },
  {
   "cell_type": "code",
   "execution_count": 76,
   "metadata": {
    "scrolled": true
   },
   "outputs": [
    {
     "name": "stdout",
     "output_type": "stream",
     "text": [
      "evr is [0.26107036 0.10719508 0.09237315 0.07841294 0.07228046 0.06359017\n",
      " 0.05304176 0.04933992 0.04820913 0.03761129]\n"
     ]
    }
   ],
   "source": [
    "#evr provides the amount of info or variance each principal component holds after projecting the data to a lower dimensional space:\n",
    "print(\"evr is {}\".format(pca.explained_variance_ratio_))"
   ]
  },
  {
   "cell_type": "markdown",
   "metadata": {},
   "source": [
    "__inference__: \n",
    "* principal component 1 holds 52.9%\n",
    "* principal component 2 holds 24.3%\n",
    "* principal component 3 holds 9.91%\n",
    "* principal component 4 holds 5.33% "
   ]
  },
  {
   "cell_type": "markdown",
   "metadata": {},
   "source": [
    "adding them all up we get over 92.4%(>90). Hence  we decide to take 4 components."
   ]
  },
  {
   "cell_type": "code",
   "execution_count": 77,
   "metadata": {},
   "outputs": [],
   "source": [
    "class classification_models:\n",
    "#Random Forest Classifier:\n",
    "    def RF_model(self,X,Y,X1,Y1):\n",
    "        self.X=X\n",
    "        self.Y=Y\n",
    "        self.X1=X1\n",
    "        self.Y1=Y1\n",
    "        RF_model=RandomForestClassifier(n_estimators=100,class_weight='balanced',random_state=4222)\n",
    "        RF_model.fit(X,Y)\n",
    "        Y_predict_RF=RF_model.predict(X1)\n",
    "        acc= metrics.accuracy_score(Y1,Y_predict_RF)\n",
    "        \n",
    "        tn,fp,fn,tp=confusion_matrix(Y1,Y_predict_RF).ravel()\n",
    "        P=tp/(tp+fp)\n",
    "        R=tp/(tp+fn)\n",
    "    #if acc>0.68:\n",
    "        return acc,P,R"
   ]
  },
  {
   "cell_type": "code",
   "execution_count": 78,
   "metadata": {},
   "outputs": [],
   "source": [
    "import itertools\n",
    "flist=[]\n",
    "for l in range(len(feature_list)):\n",
    "    for subset in itertools.combinations(feature_list, l):\n",
    "        flist.append(subset)"
   ]
  },
  {
   "cell_type": "code",
   "execution_count": 79,
   "metadata": {},
   "outputs": [
    {
     "data": {
      "text/plain": [
       "1048575"
      ]
     },
     "execution_count": 79,
     "metadata": {},
     "output_type": "execute_result"
    }
   ],
   "source": [
    "len(flist)"
   ]
  },
  {
   "cell_type": "code",
   "execution_count": 80,
   "metadata": {},
   "outputs": [
    {
     "name": "stderr",
     "output_type": "stream",
     "text": [
      "/tmp/ipykernel_32689/3261837632.py:15: RuntimeWarning: invalid value encountered in long_scalars\n",
      "  R=tp/(tp+fn)\n"
     ]
    }
   ],
   "source": [
    "obj=classification_models()\n",
    "a,p,r=obj.RF_model(X,Y,X_test,Y_test)"
   ]
  },
  {
   "cell_type": "code",
   "execution_count": 81,
   "metadata": {},
   "outputs": [
    {
     "name": "stdout",
     "output_type": "stream",
     "text": [
      "0.9180327868852459 0.0 nan\n"
     ]
    }
   ],
   "source": [
    "print(a,p,r)"
   ]
  },
  {
   "cell_type": "code",
   "execution_count": 82,
   "metadata": {
    "scrolled": true
   },
   "outputs": [
    {
     "ename": "ValueError",
     "evalue": "Found input variables with inconsistent numbers of samples: [61, 16619]",
     "output_type": "error",
     "traceback": [
      "\u001b[0;31m---------------------------------------------------------------------------\u001b[0m",
      "\u001b[0;31mValueError\u001b[0m                                Traceback (most recent call last)",
      "Cell \u001b[0;32mIn[82], line 13\u001b[0m\n\u001b[1;32m     11\u001b[0m Xf_test\u001b[38;5;241m=\u001b[39mn\u001b[38;5;241m.\u001b[39mnormalize_test(Xf_test)\n\u001b[1;32m     12\u001b[0m obj\u001b[38;5;241m=\u001b[39mclassification_models()\n\u001b[0;32m---> 13\u001b[0m a,p,r\u001b[38;5;241m=\u001b[39m\u001b[43mobj\u001b[49m\u001b[38;5;241;43m.\u001b[39;49m\u001b[43mRF_model\u001b[49m\u001b[43m(\u001b[49m\u001b[43mXf\u001b[49m\u001b[43m,\u001b[49m\u001b[43mY\u001b[49m\u001b[43m,\u001b[49m\u001b[43mXf_test\u001b[49m\u001b[43m,\u001b[49m\u001b[43mY_test\u001b[49m\u001b[43m)\u001b[49m\n\u001b[1;32m     14\u001b[0m \u001b[38;5;28mprint\u001b[39m(i)\n\u001b[1;32m     15\u001b[0m \u001b[38;5;28;01mif\u001b[39;00m a\u001b[38;5;241m>\u001b[39m\u001b[38;5;241m0.70\u001b[39m:\n",
      "Cell \u001b[0;32mIn[77], line 11\u001b[0m, in \u001b[0;36mclassification_models.RF_model\u001b[0;34m(self, X, Y, X1, Y1)\u001b[0m\n\u001b[1;32m      9\u001b[0m RF_model\u001b[38;5;241m.\u001b[39mfit(X,Y)\n\u001b[1;32m     10\u001b[0m Y_predict_RF\u001b[38;5;241m=\u001b[39mRF_model\u001b[38;5;241m.\u001b[39mpredict(X1)\n\u001b[0;32m---> 11\u001b[0m acc\u001b[38;5;241m=\u001b[39m \u001b[43mmetrics\u001b[49m\u001b[38;5;241;43m.\u001b[39;49m\u001b[43maccuracy_score\u001b[49m\u001b[43m(\u001b[49m\u001b[43mY1\u001b[49m\u001b[43m,\u001b[49m\u001b[43mY_predict_RF\u001b[49m\u001b[43m)\u001b[49m\n\u001b[1;32m     13\u001b[0m tn,fp,fn,tp\u001b[38;5;241m=\u001b[39mconfusion_matrix(Y1,Y_predict_RF)\u001b[38;5;241m.\u001b[39mravel()\n\u001b[1;32m     14\u001b[0m P\u001b[38;5;241m=\u001b[39mtp\u001b[38;5;241m/\u001b[39m(tp\u001b[38;5;241m+\u001b[39mfp)\n",
      "File \u001b[0;32m/usr/local/lib/python3.10/dist-packages/sklearn/utils/_param_validation.py:192\u001b[0m, in \u001b[0;36mvalidate_params.<locals>.decorator.<locals>.wrapper\u001b[0;34m(*args, **kwargs)\u001b[0m\n\u001b[1;32m    187\u001b[0m validate_parameter_constraints(\n\u001b[1;32m    188\u001b[0m     parameter_constraints, params, caller_name\u001b[38;5;241m=\u001b[39mfunc\u001b[38;5;241m.\u001b[39m\u001b[38;5;18m__qualname__\u001b[39m\n\u001b[1;32m    189\u001b[0m )\n\u001b[1;32m    191\u001b[0m \u001b[38;5;28;01mtry\u001b[39;00m:\n\u001b[0;32m--> 192\u001b[0m     \u001b[38;5;28;01mreturn\u001b[39;00m \u001b[43mfunc\u001b[49m\u001b[43m(\u001b[49m\u001b[38;5;241;43m*\u001b[39;49m\u001b[43margs\u001b[49m\u001b[43m,\u001b[49m\u001b[43m \u001b[49m\u001b[38;5;241;43m*\u001b[39;49m\u001b[38;5;241;43m*\u001b[39;49m\u001b[43mkwargs\u001b[49m\u001b[43m)\u001b[49m\n\u001b[1;32m    193\u001b[0m \u001b[38;5;28;01mexcept\u001b[39;00m InvalidParameterError \u001b[38;5;28;01mas\u001b[39;00m e:\n\u001b[1;32m    194\u001b[0m     \u001b[38;5;66;03m# When the function is just a wrapper around an estimator, we allow\u001b[39;00m\n\u001b[1;32m    195\u001b[0m     \u001b[38;5;66;03m# the function to delegate validation to the estimator, but we replace\u001b[39;00m\n\u001b[1;32m    196\u001b[0m     \u001b[38;5;66;03m# the name of the estimator by the name of the function in the error\u001b[39;00m\n\u001b[1;32m    197\u001b[0m     \u001b[38;5;66;03m# message to avoid confusion.\u001b[39;00m\n\u001b[1;32m    198\u001b[0m     msg \u001b[38;5;241m=\u001b[39m re\u001b[38;5;241m.\u001b[39msub(\n\u001b[1;32m    199\u001b[0m         \u001b[38;5;124mr\u001b[39m\u001b[38;5;124m\"\u001b[39m\u001b[38;5;124mparameter of \u001b[39m\u001b[38;5;124m\\\u001b[39m\u001b[38;5;124mw+ must be\u001b[39m\u001b[38;5;124m\"\u001b[39m,\n\u001b[1;32m    200\u001b[0m         \u001b[38;5;124mf\u001b[39m\u001b[38;5;124m\"\u001b[39m\u001b[38;5;124mparameter of \u001b[39m\u001b[38;5;132;01m{\u001b[39;00mfunc\u001b[38;5;241m.\u001b[39m\u001b[38;5;18m__qualname__\u001b[39m\u001b[38;5;132;01m}\u001b[39;00m\u001b[38;5;124m must be\u001b[39m\u001b[38;5;124m\"\u001b[39m,\n\u001b[1;32m    201\u001b[0m         \u001b[38;5;28mstr\u001b[39m(e),\n\u001b[1;32m    202\u001b[0m     )\n",
      "File \u001b[0;32m/usr/local/lib/python3.10/dist-packages/sklearn/metrics/_classification.py:221\u001b[0m, in \u001b[0;36maccuracy_score\u001b[0;34m(y_true, y_pred, normalize, sample_weight)\u001b[0m\n\u001b[1;32m    155\u001b[0m \u001b[38;5;250m\u001b[39m\u001b[38;5;124;03m\"\"\"Accuracy classification score.\u001b[39;00m\n\u001b[1;32m    156\u001b[0m \n\u001b[1;32m    157\u001b[0m \u001b[38;5;124;03mIn multilabel classification, this function computes subset accuracy:\u001b[39;00m\n\u001b[0;32m   (...)\u001b[0m\n\u001b[1;32m    217\u001b[0m \u001b[38;5;124;03m0.5\u001b[39;00m\n\u001b[1;32m    218\u001b[0m \u001b[38;5;124;03m\"\"\"\u001b[39;00m\n\u001b[1;32m    220\u001b[0m \u001b[38;5;66;03m# Compute accuracy for each possible representation\u001b[39;00m\n\u001b[0;32m--> 221\u001b[0m y_type, y_true, y_pred \u001b[38;5;241m=\u001b[39m \u001b[43m_check_targets\u001b[49m\u001b[43m(\u001b[49m\u001b[43my_true\u001b[49m\u001b[43m,\u001b[49m\u001b[43m \u001b[49m\u001b[43my_pred\u001b[49m\u001b[43m)\u001b[49m\n\u001b[1;32m    222\u001b[0m check_consistent_length(y_true, y_pred, sample_weight)\n\u001b[1;32m    223\u001b[0m \u001b[38;5;28;01mif\u001b[39;00m y_type\u001b[38;5;241m.\u001b[39mstartswith(\u001b[38;5;124m\"\u001b[39m\u001b[38;5;124mmultilabel\u001b[39m\u001b[38;5;124m\"\u001b[39m):\n",
      "File \u001b[0;32m/usr/local/lib/python3.10/dist-packages/sklearn/metrics/_classification.py:86\u001b[0m, in \u001b[0;36m_check_targets\u001b[0;34m(y_true, y_pred)\u001b[0m\n\u001b[1;32m     59\u001b[0m \u001b[38;5;28;01mdef\u001b[39;00m \u001b[38;5;21m_check_targets\u001b[39m(y_true, y_pred):\n\u001b[1;32m     60\u001b[0m \u001b[38;5;250m    \u001b[39m\u001b[38;5;124;03m\"\"\"Check that y_true and y_pred belong to the same classification task.\u001b[39;00m\n\u001b[1;32m     61\u001b[0m \n\u001b[1;32m     62\u001b[0m \u001b[38;5;124;03m    This converts multiclass or binary types to a common shape, and raises a\u001b[39;00m\n\u001b[0;32m   (...)\u001b[0m\n\u001b[1;32m     84\u001b[0m \u001b[38;5;124;03m    y_pred : array or indicator matrix\u001b[39;00m\n\u001b[1;32m     85\u001b[0m \u001b[38;5;124;03m    \"\"\"\u001b[39;00m\n\u001b[0;32m---> 86\u001b[0m     \u001b[43mcheck_consistent_length\u001b[49m\u001b[43m(\u001b[49m\u001b[43my_true\u001b[49m\u001b[43m,\u001b[49m\u001b[43m \u001b[49m\u001b[43my_pred\u001b[49m\u001b[43m)\u001b[49m\n\u001b[1;32m     87\u001b[0m     type_true \u001b[38;5;241m=\u001b[39m type_of_target(y_true, input_name\u001b[38;5;241m=\u001b[39m\u001b[38;5;124m\"\u001b[39m\u001b[38;5;124my_true\u001b[39m\u001b[38;5;124m\"\u001b[39m)\n\u001b[1;32m     88\u001b[0m     type_pred \u001b[38;5;241m=\u001b[39m type_of_target(y_pred, input_name\u001b[38;5;241m=\u001b[39m\u001b[38;5;124m\"\u001b[39m\u001b[38;5;124my_pred\u001b[39m\u001b[38;5;124m\"\u001b[39m)\n",
      "File \u001b[0;32m/usr/local/lib/python3.10/dist-packages/sklearn/utils/validation.py:397\u001b[0m, in \u001b[0;36mcheck_consistent_length\u001b[0;34m(*arrays)\u001b[0m\n\u001b[1;32m    395\u001b[0m uniques \u001b[38;5;241m=\u001b[39m np\u001b[38;5;241m.\u001b[39munique(lengths)\n\u001b[1;32m    396\u001b[0m \u001b[38;5;28;01mif\u001b[39;00m \u001b[38;5;28mlen\u001b[39m(uniques) \u001b[38;5;241m>\u001b[39m \u001b[38;5;241m1\u001b[39m:\n\u001b[0;32m--> 397\u001b[0m     \u001b[38;5;28;01mraise\u001b[39;00m \u001b[38;5;167;01mValueError\u001b[39;00m(\n\u001b[1;32m    398\u001b[0m         \u001b[38;5;124m\"\u001b[39m\u001b[38;5;124mFound input variables with inconsistent numbers of samples: \u001b[39m\u001b[38;5;132;01m%r\u001b[39;00m\u001b[38;5;124m\"\u001b[39m\n\u001b[1;32m    399\u001b[0m         \u001b[38;5;241m%\u001b[39m [\u001b[38;5;28mint\u001b[39m(l) \u001b[38;5;28;01mfor\u001b[39;00m l \u001b[38;5;129;01min\u001b[39;00m lengths]\n\u001b[1;32m    400\u001b[0m     )\n",
      "\u001b[0;31mValueError\u001b[0m: Found input variables with inconsistent numbers of samples: [61, 16619]"
     ]
    }
   ],
   "source": [
    "i=0\n",
    "score=[]\n",
    "result=[]\n",
    "\n",
    "for i in range(86000,len(flist)):\n",
    "        \n",
    "    \n",
    "    Xf_train_resampled=df_train_upsampled[df_train_upsampled.columns.intersection(flist[i])]\n",
    "    Xf=n.normalize_train(Xf_train_resampled)\n",
    "    Xf_test=df_test[df_test.columns.intersection(flist[i])]\n",
    "    Xf_test=n.normalize_test(Xf_test)\n",
    "    obj=classification_models()\n",
    "    a,p,r=obj.RF_model(Xf,Y,Xf_test,Y_test)\n",
    "    print(i)\n",
    "    if a>0.70:\n",
    "        res=[a,p,r]\n",
    "        score=[str((flist[i])),a,p,r]\n",
    "    #if res is not None:\n",
    "        print(i,flist[i])\n",
    "        print(res)\n",
    "        \n",
    "        result.append(score)\n",
    "            "
   ]
  },
  {
   "cell_type": "code",
   "execution_count": null,
   "metadata": {},
   "outputs": [],
   "source": [
    "res_df_pr=pd.DataFrame(result,columns=['Feature','Accuracy','Precision','Recall'])"
   ]
  },
  {
   "cell_type": "code",
   "execution_count": null,
   "metadata": {},
   "outputs": [],
   "source": [
    "res_df_pr"
   ]
  },
  {
   "cell_type": "code",
   "execution_count": null,
   "metadata": {},
   "outputs": [],
   "source": [
    "res_df_pr.to_csv(\"feature scores for prosody.csv\",index=True)"
   ]
  },
  {
   "cell_type": "code",
   "execution_count": null,
   "metadata": {},
   "outputs": [],
   "source": [
    "df_train_upsampled.head()"
   ]
  },
  {
   "cell_type": "code",
   "execution_count": 83,
   "metadata": {},
   "outputs": [],
   "source": [
    "from sklearn.decomposition import PCA"
   ]
  },
  {
   "cell_type": "code",
   "execution_count": 84,
   "metadata": {},
   "outputs": [],
   "source": [
    "pca=PCA(n_components=5)"
   ]
  },
  {
   "cell_type": "code",
   "execution_count": 115,
   "metadata": {},
   "outputs": [
    {
     "name": "stderr",
     "output_type": "stream",
     "text": [
      "/usr/local/lib/python3.10/dist-packages/numpy/core/fromnumeric.py:3571: FutureWarning: The default value of numeric_only in DataFrame.std is deprecated. In a future version, it will default to False. In addition, specifying 'numeric_only=None' is deprecated. Select only valid columns or specify the value of numeric_only to silence this warning.\n",
      "  return std(axis=axis, dtype=dtype, out=out, ddof=ddof, **kwargs)\n"
     ]
    },
    {
     "data": {
      "text/plain": [
       "F0avg     30.692413\n",
       "F0std     12.374244\n",
       "F0max     14.753585\n",
       "F0min      4.799717\n",
       "F0skew     1.414242\n",
       "            ...    \n",
       "PU         1.512539\n",
       "UVU        0.028538\n",
       "VVU        0.028538\n",
       "VP         0.114260\n",
       "UP         0.029641\n",
       "Length: 100, dtype: float64"
      ]
     },
     "execution_count": 115,
     "metadata": {},
     "output_type": "execute_result"
    }
   ],
   "source": [
    "np.std(prosody_test)"
   ]
  },
  {
   "cell_type": "code",
   "execution_count": 116,
   "metadata": {},
   "outputs": [],
   "source": [
    "prosody_test=prosody_test.fillna(0)"
   ]
  },
  {
   "cell_type": "code",
   "execution_count": 127,
   "metadata": {},
   "outputs": [],
   "source": [
    "X_test=df_test[df_test.columns.intersection(feature_list)]\n",
    "df_test.replace({'Group':{\"HC\":0,\"DP\":1}},inplace=True)\n",
    "X_test=n.normalize_test(X_test)\n",
    "Y_test=prosody_test['Group']"
   ]
  },
  {
   "cell_type": "code",
   "execution_count": 122,
   "metadata": {},
   "outputs": [
    {
     "data": {
      "text/html": [
       "<div>\n",
       "<style scoped>\n",
       "    .dataframe tbody tr th:only-of-type {\n",
       "        vertical-align: middle;\n",
       "    }\n",
       "\n",
       "    .dataframe tbody tr th {\n",
       "        vertical-align: top;\n",
       "    }\n",
       "\n",
       "    .dataframe thead th {\n",
       "        text-align: right;\n",
       "    }\n",
       "</style>\n",
       "<table border=\"1\" class=\"dataframe\">\n",
       "  <thead>\n",
       "    <tr style=\"text-align: right;\">\n",
       "      <th></th>\n",
       "      <th>subject</th>\n",
       "      <th>F0avg</th>\n",
       "      <th>F0std</th>\n",
       "      <th>F0max</th>\n",
       "      <th>F0min</th>\n",
       "      <th>F0skew</th>\n",
       "      <th>F0kurt</th>\n",
       "      <th>F0tiltavg</th>\n",
       "      <th>F0mseavg</th>\n",
       "      <th>F0tiltstd</th>\n",
       "      <th>...</th>\n",
       "      <th>kurtosisdurpause</th>\n",
       "      <th>maxdurpause</th>\n",
       "      <th>mindurpause</th>\n",
       "      <th>PVU</th>\n",
       "      <th>PU</th>\n",
       "      <th>UVU</th>\n",
       "      <th>VVU</th>\n",
       "      <th>VP</th>\n",
       "      <th>UP</th>\n",
       "      <th>Group</th>\n",
       "    </tr>\n",
       "  </thead>\n",
       "  <tbody>\n",
       "    <tr>\n",
       "      <th>0</th>\n",
       "      <td>302_P_0.wav</td>\n",
       "      <td>205.149139</td>\n",
       "      <td>83.769669</td>\n",
       "      <td>327.514770</td>\n",
       "      <td>84.000198</td>\n",
       "      <td>-0.168400</td>\n",
       "      <td>-1.775526</td>\n",
       "      <td>-124.519433</td>\n",
       "      <td>56.990329</td>\n",
       "      <td>313.762164</td>\n",
       "      <td>...</td>\n",
       "      <td>-1.595486</td>\n",
       "      <td>0.420000</td>\n",
       "      <td>0.240000</td>\n",
       "      <td>1.406408</td>\n",
       "      <td>7.372219</td>\n",
       "      <td>0.190771</td>\n",
       "      <td>0.809229</td>\n",
       "      <td>0.575387</td>\n",
       "      <td>0.135644</td>\n",
       "      <td>HC</td>\n",
       "    </tr>\n",
       "    <tr>\n",
       "      <th>1</th>\n",
       "      <td>302_P_1.wav</td>\n",
       "      <td>102.336777</td>\n",
       "      <td>12.758840</td>\n",
       "      <td>162.222671</td>\n",
       "      <td>84.562759</td>\n",
       "      <td>1.034953</td>\n",
       "      <td>1.608071</td>\n",
       "      <td>-68.756823</td>\n",
       "      <td>14.322919</td>\n",
       "      <td>134.003465</td>\n",
       "      <td>...</td>\n",
       "      <td>-1.093525</td>\n",
       "      <td>0.860000</td>\n",
       "      <td>0.260000</td>\n",
       "      <td>1.573629</td>\n",
       "      <td>4.208813</td>\n",
       "      <td>0.373889</td>\n",
       "      <td>0.626111</td>\n",
       "      <td>0.397877</td>\n",
       "      <td>0.237597</td>\n",
       "      <td>HC</td>\n",
       "    </tr>\n",
       "    <tr>\n",
       "      <th>2</th>\n",
       "      <td>302_P_10.wav</td>\n",
       "      <td>100.019585</td>\n",
       "      <td>8.637549</td>\n",
       "      <td>128.070557</td>\n",
       "      <td>78.891289</td>\n",
       "      <td>0.045826</td>\n",
       "      <td>-0.090325</td>\n",
       "      <td>-52.007956</td>\n",
       "      <td>6.935584</td>\n",
       "      <td>55.938566</td>\n",
       "      <td>...</td>\n",
       "      <td>-1.510324</td>\n",
       "      <td>0.749977</td>\n",
       "      <td>0.160000</td>\n",
       "      <td>1.157104</td>\n",
       "      <td>4.461451</td>\n",
       "      <td>0.259356</td>\n",
       "      <td>0.740644</td>\n",
       "      <td>0.640084</td>\n",
       "      <td>0.224142</td>\n",
       "      <td>HC</td>\n",
       "    </tr>\n",
       "    <tr>\n",
       "      <th>3</th>\n",
       "      <td>302_P_11.wav</td>\n",
       "      <td>95.671875</td>\n",
       "      <td>4.877093</td>\n",
       "      <td>115.493309</td>\n",
       "      <td>81.509888</td>\n",
       "      <td>0.144567</td>\n",
       "      <td>0.117584</td>\n",
       "      <td>-52.907011</td>\n",
       "      <td>5.970238</td>\n",
       "      <td>50.751226</td>\n",
       "      <td>...</td>\n",
       "      <td>-2.000000</td>\n",
       "      <td>0.380000</td>\n",
       "      <td>0.180000</td>\n",
       "      <td>0.707048</td>\n",
       "      <td>2.434663</td>\n",
       "      <td>0.290409</td>\n",
       "      <td>0.709591</td>\n",
       "      <td>1.003596</td>\n",
       "      <td>0.410735</td>\n",
       "      <td>HC</td>\n",
       "    </tr>\n",
       "    <tr>\n",
       "      <th>4</th>\n",
       "      <td>302_P_12.wav</td>\n",
       "      <td>103.323593</td>\n",
       "      <td>8.141882</td>\n",
       "      <td>138.229950</td>\n",
       "      <td>81.609138</td>\n",
       "      <td>1.031435</td>\n",
       "      <td>2.473339</td>\n",
       "      <td>-52.070606</td>\n",
       "      <td>12.869873</td>\n",
       "      <td>101.815253</td>\n",
       "      <td>...</td>\n",
       "      <td>-0.649662</td>\n",
       "      <td>0.530023</td>\n",
       "      <td>0.160000</td>\n",
       "      <td>0.980418</td>\n",
       "      <td>3.166818</td>\n",
       "      <td>0.309591</td>\n",
       "      <td>0.690409</td>\n",
       "      <td>0.704198</td>\n",
       "      <td>0.315774</td>\n",
       "      <td>HC</td>\n",
       "    </tr>\n",
       "    <tr>\n",
       "      <th>...</th>\n",
       "      <td>...</td>\n",
       "      <td>...</td>\n",
       "      <td>...</td>\n",
       "      <td>...</td>\n",
       "      <td>...</td>\n",
       "      <td>...</td>\n",
       "      <td>...</td>\n",
       "      <td>...</td>\n",
       "      <td>...</td>\n",
       "      <td>...</td>\n",
       "      <td>...</td>\n",
       "      <td>...</td>\n",
       "      <td>...</td>\n",
       "      <td>...</td>\n",
       "      <td>...</td>\n",
       "      <td>...</td>\n",
       "      <td>...</td>\n",
       "      <td>...</td>\n",
       "      <td>...</td>\n",
       "      <td>...</td>\n",
       "      <td>...</td>\n",
       "    </tr>\n",
       "    <tr>\n",
       "      <th>16614</th>\n",
       "      <td>707_P_6.wav</td>\n",
       "      <td>121.001251</td>\n",
       "      <td>52.669563</td>\n",
       "      <td>289.174377</td>\n",
       "      <td>65.895073</td>\n",
       "      <td>1.539568</td>\n",
       "      <td>1.082657</td>\n",
       "      <td>-65.027590</td>\n",
       "      <td>35.786118</td>\n",
       "      <td>201.842477</td>\n",
       "      <td>...</td>\n",
       "      <td>0.888730</td>\n",
       "      <td>0.809977</td>\n",
       "      <td>0.160000</td>\n",
       "      <td>0.978466</td>\n",
       "      <td>3.517817</td>\n",
       "      <td>0.278146</td>\n",
       "      <td>0.721854</td>\n",
       "      <td>0.737741</td>\n",
       "      <td>0.284267</td>\n",
       "      <td>HC</td>\n",
       "    </tr>\n",
       "    <tr>\n",
       "      <th>16615</th>\n",
       "      <td>707_P_60.wav</td>\n",
       "      <td>111.344917</td>\n",
       "      <td>45.712727</td>\n",
       "      <td>315.101868</td>\n",
       "      <td>75.407440</td>\n",
       "      <td>2.563784</td>\n",
       "      <td>6.238548</td>\n",
       "      <td>-51.918041</td>\n",
       "      <td>16.827485</td>\n",
       "      <td>66.173118</td>\n",
       "      <td>...</td>\n",
       "      <td>-1.500000</td>\n",
       "      <td>0.760000</td>\n",
       "      <td>0.230023</td>\n",
       "      <td>1.177477</td>\n",
       "      <td>5.028434</td>\n",
       "      <td>0.234164</td>\n",
       "      <td>0.765836</td>\n",
       "      <td>0.650405</td>\n",
       "      <td>0.198869</td>\n",
       "      <td>HC</td>\n",
       "    </tr>\n",
       "    <tr>\n",
       "      <th>16616</th>\n",
       "      <td>707_P_7.wav</td>\n",
       "      <td>134.930908</td>\n",
       "      <td>47.299625</td>\n",
       "      <td>290.065918</td>\n",
       "      <td>67.527214</td>\n",
       "      <td>1.308148</td>\n",
       "      <td>2.176564</td>\n",
       "      <td>-51.433785</td>\n",
       "      <td>23.661990</td>\n",
       "      <td>166.798960</td>\n",
       "      <td>...</td>\n",
       "      <td>-0.999846</td>\n",
       "      <td>0.460000</td>\n",
       "      <td>0.260000</td>\n",
       "      <td>0.845198</td>\n",
       "      <td>3.437707</td>\n",
       "      <td>0.245861</td>\n",
       "      <td>0.754139</td>\n",
       "      <td>0.892264</td>\n",
       "      <td>0.290892</td>\n",
       "      <td>HC</td>\n",
       "    </tr>\n",
       "    <tr>\n",
       "      <th>16617</th>\n",
       "      <td>707_P_8.wav</td>\n",
       "      <td>148.030609</td>\n",
       "      <td>67.229515</td>\n",
       "      <td>341.262604</td>\n",
       "      <td>78.143013</td>\n",
       "      <td>1.541197</td>\n",
       "      <td>1.110275</td>\n",
       "      <td>1.293095</td>\n",
       "      <td>227.568557</td>\n",
       "      <td>267.353188</td>\n",
       "      <td>...</td>\n",
       "      <td>-1.745858</td>\n",
       "      <td>0.390023</td>\n",
       "      <td>0.169977</td>\n",
       "      <td>0.708177</td>\n",
       "      <td>4.088546</td>\n",
       "      <td>0.173210</td>\n",
       "      <td>0.826790</td>\n",
       "      <td>1.167490</td>\n",
       "      <td>0.244586</td>\n",
       "      <td>HC</td>\n",
       "    </tr>\n",
       "    <tr>\n",
       "      <th>16618</th>\n",
       "      <td>707_P_9.wav</td>\n",
       "      <td>133.692856</td>\n",
       "      <td>54.435326</td>\n",
       "      <td>316.383240</td>\n",
       "      <td>70.773903</td>\n",
       "      <td>1.718409</td>\n",
       "      <td>2.652538</td>\n",
       "      <td>-104.576924</td>\n",
       "      <td>26.103895</td>\n",
       "      <td>285.875447</td>\n",
       "      <td>...</td>\n",
       "      <td>-0.083900</td>\n",
       "      <td>0.709977</td>\n",
       "      <td>0.180000</td>\n",
       "      <td>1.431214</td>\n",
       "      <td>5.463381</td>\n",
       "      <td>0.261965</td>\n",
       "      <td>0.738035</td>\n",
       "      <td>0.515671</td>\n",
       "      <td>0.183037</td>\n",
       "      <td>HC</td>\n",
       "    </tr>\n",
       "  </tbody>\n",
       "</table>\n",
       "<p>16619 rows × 105 columns</p>\n",
       "</div>"
      ],
      "text/plain": [
       "            subject       F0avg      F0std       F0max      F0min    F0skew  \\\n",
       "0       302_P_0.wav  205.149139  83.769669  327.514770  84.000198 -0.168400   \n",
       "1       302_P_1.wav  102.336777  12.758840  162.222671  84.562759  1.034953   \n",
       "2      302_P_10.wav  100.019585   8.637549  128.070557  78.891289  0.045826   \n",
       "3      302_P_11.wav   95.671875   4.877093  115.493309  81.509888  0.144567   \n",
       "4      302_P_12.wav  103.323593   8.141882  138.229950  81.609138  1.031435   \n",
       "...             ...         ...        ...         ...        ...       ...   \n",
       "16614   707_P_6.wav  121.001251  52.669563  289.174377  65.895073  1.539568   \n",
       "16615  707_P_60.wav  111.344917  45.712727  315.101868  75.407440  2.563784   \n",
       "16616   707_P_7.wav  134.930908  47.299625  290.065918  67.527214  1.308148   \n",
       "16617   707_P_8.wav  148.030609  67.229515  341.262604  78.143013  1.541197   \n",
       "16618   707_P_9.wav  133.692856  54.435326  316.383240  70.773903  1.718409   \n",
       "\n",
       "         F0kurt   F0tiltavg    F0mseavg   F0tiltstd  ...  kurtosisdurpause  \\\n",
       "0     -1.775526 -124.519433   56.990329  313.762164  ...         -1.595486   \n",
       "1      1.608071  -68.756823   14.322919  134.003465  ...         -1.093525   \n",
       "2     -0.090325  -52.007956    6.935584   55.938566  ...         -1.510324   \n",
       "3      0.117584  -52.907011    5.970238   50.751226  ...         -2.000000   \n",
       "4      2.473339  -52.070606   12.869873  101.815253  ...         -0.649662   \n",
       "...         ...         ...         ...         ...  ...               ...   \n",
       "16614  1.082657  -65.027590   35.786118  201.842477  ...          0.888730   \n",
       "16615  6.238548  -51.918041   16.827485   66.173118  ...         -1.500000   \n",
       "16616  2.176564  -51.433785   23.661990  166.798960  ...         -0.999846   \n",
       "16617  1.110275    1.293095  227.568557  267.353188  ...         -1.745858   \n",
       "16618  2.652538 -104.576924   26.103895  285.875447  ...         -0.083900   \n",
       "\n",
       "       maxdurpause  mindurpause       PVU        PU       UVU       VVU  \\\n",
       "0         0.420000     0.240000  1.406408  7.372219  0.190771  0.809229   \n",
       "1         0.860000     0.260000  1.573629  4.208813  0.373889  0.626111   \n",
       "2         0.749977     0.160000  1.157104  4.461451  0.259356  0.740644   \n",
       "3         0.380000     0.180000  0.707048  2.434663  0.290409  0.709591   \n",
       "4         0.530023     0.160000  0.980418  3.166818  0.309591  0.690409   \n",
       "...            ...          ...       ...       ...       ...       ...   \n",
       "16614     0.809977     0.160000  0.978466  3.517817  0.278146  0.721854   \n",
       "16615     0.760000     0.230023  1.177477  5.028434  0.234164  0.765836   \n",
       "16616     0.460000     0.260000  0.845198  3.437707  0.245861  0.754139   \n",
       "16617     0.390023     0.169977  0.708177  4.088546  0.173210  0.826790   \n",
       "16618     0.709977     0.180000  1.431214  5.463381  0.261965  0.738035   \n",
       "\n",
       "             VP        UP  Group  \n",
       "0      0.575387  0.135644     HC  \n",
       "1      0.397877  0.237597     HC  \n",
       "2      0.640084  0.224142     HC  \n",
       "3      1.003596  0.410735     HC  \n",
       "4      0.704198  0.315774     HC  \n",
       "...         ...       ...    ...  \n",
       "16614  0.737741  0.284267     HC  \n",
       "16615  0.650405  0.198869     HC  \n",
       "16616  0.892264  0.290892     HC  \n",
       "16617  1.167490  0.244586     HC  \n",
       "16618  0.515671  0.183037     HC  \n",
       "\n",
       "[16619 rows x 105 columns]"
      ]
     },
     "execution_count": 122,
     "metadata": {},
     "output_type": "execute_result"
    }
   ],
   "source": [
    "df_test"
   ]
  },
  {
   "cell_type": "code",
   "execution_count": 128,
   "metadata": {},
   "outputs": [],
   "source": [
    "x_trainpca=pca.fit_transform(X)\n",
    "x_testpca=pca.transform(X_test)"
   ]
  },
  {
   "cell_type": "code",
   "execution_count": 112,
   "metadata": {},
   "outputs": [
    {
     "data": {
      "text/html": [
       "<div>\n",
       "<style scoped>\n",
       "    .dataframe tbody tr th:only-of-type {\n",
       "        vertical-align: middle;\n",
       "    }\n",
       "\n",
       "    .dataframe tbody tr th {\n",
       "        vertical-align: top;\n",
       "    }\n",
       "\n",
       "    .dataframe thead th {\n",
       "        text-align: right;\n",
       "    }\n",
       "</style>\n",
       "<table border=\"1\" class=\"dataframe\">\n",
       "  <thead>\n",
       "    <tr style=\"text-align: right;\">\n",
       "      <th></th>\n",
       "      <th>PCA1</th>\n",
       "      <th>PCA2</th>\n",
       "      <th>PCA3</th>\n",
       "      <th>PCA4</th>\n",
       "      <th>PCA5</th>\n",
       "      <th>class</th>\n",
       "      <th>subject</th>\n",
       "    </tr>\n",
       "  </thead>\n",
       "  <tbody>\n",
       "    <tr>\n",
       "      <th>0</th>\n",
       "      <td>-0.092288</td>\n",
       "      <td>-0.450451</td>\n",
       "      <td>-0.531531</td>\n",
       "      <td>-0.268304</td>\n",
       "      <td>0.342860</td>\n",
       "      <td>0</td>\n",
       "      <td>300_P_0.wav</td>\n",
       "    </tr>\n",
       "    <tr>\n",
       "      <th>1</th>\n",
       "      <td>-6.267186</td>\n",
       "      <td>-0.377066</td>\n",
       "      <td>-1.201778</td>\n",
       "      <td>0.367445</td>\n",
       "      <td>-0.934426</td>\n",
       "      <td>0</td>\n",
       "      <td>300_P_1.wav</td>\n",
       "    </tr>\n",
       "    <tr>\n",
       "      <th>2</th>\n",
       "      <td>0.459630</td>\n",
       "      <td>-2.666841</td>\n",
       "      <td>1.688830</td>\n",
       "      <td>-0.656006</td>\n",
       "      <td>1.134425</td>\n",
       "      <td>0</td>\n",
       "      <td>300_P_10.wav</td>\n",
       "    </tr>\n",
       "    <tr>\n",
       "      <th>3</th>\n",
       "      <td>0.151109</td>\n",
       "      <td>-0.452128</td>\n",
       "      <td>-0.385028</td>\n",
       "      <td>-1.244176</td>\n",
       "      <td>2.713292</td>\n",
       "      <td>0</td>\n",
       "      <td>300_P_11.wav</td>\n",
       "    </tr>\n",
       "    <tr>\n",
       "      <th>4</th>\n",
       "      <td>-0.477250</td>\n",
       "      <td>0.178113</td>\n",
       "      <td>0.312742</td>\n",
       "      <td>-1.446450</td>\n",
       "      <td>1.184172</td>\n",
       "      <td>0</td>\n",
       "      <td>300_P_12.wav</td>\n",
       "    </tr>\n",
       "  </tbody>\n",
       "</table>\n",
       "</div>"
      ],
      "text/plain": [
       "       PCA1      PCA2      PCA3      PCA4      PCA5  class       subject\n",
       "0 -0.092288 -0.450451 -0.531531 -0.268304  0.342860      0   300_P_0.wav\n",
       "1 -6.267186 -0.377066 -1.201778  0.367445 -0.934426      0   300_P_1.wav\n",
       "2  0.459630 -2.666841  1.688830 -0.656006  1.134425      0  300_P_10.wav\n",
       "3  0.151109 -0.452128 -0.385028 -1.244176  2.713292      0  300_P_11.wav\n",
       "4 -0.477250  0.178113  0.312742 -1.446450  1.184172      0  300_P_12.wav"
      ]
     },
     "execution_count": 112,
     "metadata": {},
     "output_type": "execute_result"
    }
   ],
   "source": [
    "##convert principal components for each sample from numpy array to df:\n",
    "pca_df=pd.DataFrame(x_trainpca,columns=[\"PCA1\",\"PCA2\",\"PCA3\",\"PCA4\",\"PCA5\"])\n",
    "#pca_df['subject','class']=[df_train['subject'],Y]\n",
    "pca_df['class']=Y\n",
    "pca_df['subject']=df_train['subject']\n",
    "pca_df.head()"
   ]
  },
  {
   "cell_type": "code",
   "execution_count": null,
   "metadata": {},
   "outputs": [],
   "source": [
    "print(\"evr is {}\".format(pca.explained_variance_ratio_))"
   ]
  },
  {
   "cell_type": "code",
   "execution_count": 111,
   "metadata": {},
   "outputs": [],
   "source": [
    "pca_df.to_csv('/home/vboxuser/VoiceFiles/prosodytest_pca.csv')"
   ]
  }
 ],
 "metadata": {
  "kernelspec": {
   "display_name": "Python 3 (ipykernel)",
   "language": "python",
   "name": "python3"
  },
  "language_info": {
   "codemirror_mode": {
    "name": "ipython",
    "version": 3
   },
   "file_extension": ".py",
   "mimetype": "text/x-python",
   "name": "python",
   "nbconvert_exporter": "python",
   "pygments_lexer": "ipython3",
   "version": "3.10.6"
  }
 },
 "nbformat": 4,
 "nbformat_minor": 2
}
