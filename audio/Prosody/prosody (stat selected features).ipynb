{
 "cells": [
  {
   "cell_type": "markdown",
   "id": "c096f9e0",
   "metadata": {},
   "source": [
    "### Importing the necessary dependencies:"
   ]
  },
  {
   "cell_type": "code",
   "execution_count": 2,
   "id": "04e937ca",
   "metadata": {},
   "outputs": [],
   "source": [
    "import pandas as pd\n",
    "import numpy as np"
   ]
  },
  {
   "cell_type": "code",
   "execution_count": 3,
   "id": "64b69531",
   "metadata": {},
   "outputs": [],
   "source": [
    "from sklearn.utils import resample\n",
    "from sklearn.preprocessing import MinMaxScaler\n",
    "from sklearn import metrics\n",
    "from sklearn.ensemble import RandomForestClassifier\n",
    "from sklearn.tree import DecisionTreeClassifier\n",
    "from sklearn.linear_model import LogisticRegression\n",
    "from sklearn.svm import SVC"
   ]
  },
  {
   "cell_type": "code",
   "execution_count": 4,
   "id": "353a473a",
   "metadata": {},
   "outputs": [],
   "source": [
    "df=pd.read_csv('/home/vboxuser/VoiceFiles/pro_unseg_stat/prosodyfeaturesst_seg_dev_stat.csv')\n",
    "\n",
    "prosody_train=pd.read_csv('/home/vboxuser/VoiceFiles/prosodyfeaturesst_seg_dev.csv')\n",
    "prosody_test=pd.read_csv('/home/vboxuser/VoiceFiles/Prosodyfeaturesst_test.csv')"
   ]
  },
  {
   "cell_type": "markdown",
   "id": "d796cf9e",
   "metadata": {},
   "source": [
    "### Preprocessing training data:"
   ]
  },
  {
   "cell_type": "code",
   "execution_count": 5,
   "id": "303d34b2",
   "metadata": {},
   "outputs": [
    {
     "data": {
      "text/html": [
       "<div>\n",
       "<style scoped>\n",
       "    .dataframe tbody tr th:only-of-type {\n",
       "        vertical-align: middle;\n",
       "    }\n",
       "\n",
       "    .dataframe tbody tr th {\n",
       "        vertical-align: top;\n",
       "    }\n",
       "\n",
       "    .dataframe thead th {\n",
       "        text-align: right;\n",
       "    }\n",
       "</style>\n",
       "<table border=\"1\" class=\"dataframe\">\n",
       "  <thead>\n",
       "    <tr style=\"text-align: right;\">\n",
       "      <th></th>\n",
       "      <th>subject</th>\n",
       "      <th>F0avg</th>\n",
       "      <th>F0std</th>\n",
       "      <th>F0max</th>\n",
       "      <th>F0min</th>\n",
       "      <th>F0skew</th>\n",
       "      <th>F0kurt</th>\n",
       "      <th>F0tiltavg</th>\n",
       "      <th>F0mseavg</th>\n",
       "      <th>F0tiltstd</th>\n",
       "      <th>...</th>\n",
       "      <th>kurtosisdurpause</th>\n",
       "      <th>maxdurpause</th>\n",
       "      <th>mindurpause</th>\n",
       "      <th>PVU</th>\n",
       "      <th>PU</th>\n",
       "      <th>UVU</th>\n",
       "      <th>VVU</th>\n",
       "      <th>VP</th>\n",
       "      <th>UP</th>\n",
       "      <th>Group</th>\n",
       "    </tr>\n",
       "  </thead>\n",
       "  <tbody>\n",
       "    <tr>\n",
       "      <th>0</th>\n",
       "      <td>300_P_0.wav</td>\n",
       "      <td>165.908508</td>\n",
       "      <td>38.275139</td>\n",
       "      <td>257.928467</td>\n",
       "      <td>94.493355</td>\n",
       "      <td>0.426894</td>\n",
       "      <td>-0.647107</td>\n",
       "      <td>-65.049128</td>\n",
       "      <td>324.063212</td>\n",
       "      <td>126.268062</td>\n",
       "      <td>...</td>\n",
       "      <td>-0.866593</td>\n",
       "      <td>0.340000</td>\n",
       "      <td>0.149977</td>\n",
       "      <td>0.525115</td>\n",
       "      <td>4.608241</td>\n",
       "      <td>0.113951</td>\n",
       "      <td>0.886049</td>\n",
       "      <td>1.687344</td>\n",
       "      <td>0.217003</td>\n",
       "      <td>HC</td>\n",
       "    </tr>\n",
       "    <tr>\n",
       "      <th>1</th>\n",
       "      <td>300_P_1.wav</td>\n",
       "      <td>120.528053</td>\n",
       "      <td>12.529911</td>\n",
       "      <td>146.793304</td>\n",
       "      <td>86.951614</td>\n",
       "      <td>-0.113077</td>\n",
       "      <td>-0.996979</td>\n",
       "      <td>-20.992859</td>\n",
       "      <td>13.360108</td>\n",
       "      <td>24.507299</td>\n",
       "      <td>...</td>\n",
       "      <td>-1.594899</td>\n",
       "      <td>0.600000</td>\n",
       "      <td>0.220000</td>\n",
       "      <td>0.000000</td>\n",
       "      <td>0.000000</td>\n",
       "      <td>0.000000</td>\n",
       "      <td>0.000000</td>\n",
       "      <td>0.000000</td>\n",
       "      <td>0.000000</td>\n",
       "      <td>HC</td>\n",
       "    </tr>\n",
       "    <tr>\n",
       "      <th>2</th>\n",
       "      <td>300_P_10.wav</td>\n",
       "      <td>133.895416</td>\n",
       "      <td>21.495996</td>\n",
       "      <td>205.637115</td>\n",
       "      <td>98.742012</td>\n",
       "      <td>2.033316</td>\n",
       "      <td>3.646668</td>\n",
       "      <td>-149.393324</td>\n",
       "      <td>33.461422</td>\n",
       "      <td>185.119105</td>\n",
       "      <td>...</td>\n",
       "      <td>-0.758323</td>\n",
       "      <td>0.560000</td>\n",
       "      <td>0.320000</td>\n",
       "      <td>0.693961</td>\n",
       "      <td>3.659039</td>\n",
       "      <td>0.189657</td>\n",
       "      <td>0.810343</td>\n",
       "      <td>1.167707</td>\n",
       "      <td>0.273296</td>\n",
       "      <td>HC</td>\n",
       "    </tr>\n",
       "    <tr>\n",
       "      <th>3</th>\n",
       "      <td>300_P_11.wav</td>\n",
       "      <td>144.578720</td>\n",
       "      <td>28.399199</td>\n",
       "      <td>238.035019</td>\n",
       "      <td>100.053619</td>\n",
       "      <td>1.236097</td>\n",
       "      <td>0.991367</td>\n",
       "      <td>-15.509460</td>\n",
       "      <td>188.202717</td>\n",
       "      <td>25.538555</td>\n",
       "      <td>...</td>\n",
       "      <td>-2.000000</td>\n",
       "      <td>0.300000</td>\n",
       "      <td>0.190023</td>\n",
       "      <td>0.439975</td>\n",
       "      <td>3.827760</td>\n",
       "      <td>0.114943</td>\n",
       "      <td>0.885057</td>\n",
       "      <td>2.011608</td>\n",
       "      <td>0.261249</td>\n",
       "      <td>HC</td>\n",
       "    </tr>\n",
       "    <tr>\n",
       "      <th>4</th>\n",
       "      <td>300_P_12.wav</td>\n",
       "      <td>141.704803</td>\n",
       "      <td>28.684387</td>\n",
       "      <td>214.766144</td>\n",
       "      <td>108.876251</td>\n",
       "      <td>1.277414</td>\n",
       "      <td>0.580108</td>\n",
       "      <td>-18.155109</td>\n",
       "      <td>74.524664</td>\n",
       "      <td>111.242072</td>\n",
       "      <td>...</td>\n",
       "      <td>-1.487127</td>\n",
       "      <td>0.540000</td>\n",
       "      <td>0.150023</td>\n",
       "      <td>0.767724</td>\n",
       "      <td>4.291161</td>\n",
       "      <td>0.178908</td>\n",
       "      <td>0.821092</td>\n",
       "      <td>1.069515</td>\n",
       "      <td>0.233037</td>\n",
       "      <td>HC</td>\n",
       "    </tr>\n",
       "    <tr>\n",
       "      <th>...</th>\n",
       "      <td>...</td>\n",
       "      <td>...</td>\n",
       "      <td>...</td>\n",
       "      <td>...</td>\n",
       "      <td>...</td>\n",
       "      <td>...</td>\n",
       "      <td>...</td>\n",
       "      <td>...</td>\n",
       "      <td>...</td>\n",
       "      <td>...</td>\n",
       "      <td>...</td>\n",
       "      <td>...</td>\n",
       "      <td>...</td>\n",
       "      <td>...</td>\n",
       "      <td>...</td>\n",
       "      <td>...</td>\n",
       "      <td>...</td>\n",
       "      <td>...</td>\n",
       "      <td>...</td>\n",
       "      <td>...</td>\n",
       "      <td>...</td>\n",
       "    </tr>\n",
       "    <tr>\n",
       "      <th>5018</th>\n",
       "      <td>713_P_5.wav</td>\n",
       "      <td>121.557548</td>\n",
       "      <td>36.611835</td>\n",
       "      <td>259.327454</td>\n",
       "      <td>66.125931</td>\n",
       "      <td>1.220141</td>\n",
       "      <td>1.760276</td>\n",
       "      <td>-8.349025</td>\n",
       "      <td>184.875451</td>\n",
       "      <td>123.734211</td>\n",
       "      <td>...</td>\n",
       "      <td>-0.474507</td>\n",
       "      <td>0.549977</td>\n",
       "      <td>0.160000</td>\n",
       "      <td>1.011893</td>\n",
       "      <td>6.071267</td>\n",
       "      <td>0.166669</td>\n",
       "      <td>0.833331</td>\n",
       "      <td>0.823537</td>\n",
       "      <td>0.164710</td>\n",
       "      <td>HC</td>\n",
       "    </tr>\n",
       "    <tr>\n",
       "      <th>5019</th>\n",
       "      <td>713_P_6.wav</td>\n",
       "      <td>98.142693</td>\n",
       "      <td>11.498760</td>\n",
       "      <td>151.283951</td>\n",
       "      <td>70.990318</td>\n",
       "      <td>1.337210</td>\n",
       "      <td>3.094978</td>\n",
       "      <td>-107.072079</td>\n",
       "      <td>36.489500</td>\n",
       "      <td>95.307558</td>\n",
       "      <td>...</td>\n",
       "      <td>-1.283715</td>\n",
       "      <td>0.989977</td>\n",
       "      <td>0.289977</td>\n",
       "      <td>1.545837</td>\n",
       "      <td>5.899887</td>\n",
       "      <td>0.262011</td>\n",
       "      <td>0.737989</td>\n",
       "      <td>0.477404</td>\n",
       "      <td>0.169495</td>\n",
       "      <td>HC</td>\n",
       "    </tr>\n",
       "    <tr>\n",
       "      <th>5020</th>\n",
       "      <td>713_P_7.wav</td>\n",
       "      <td>112.744049</td>\n",
       "      <td>50.676796</td>\n",
       "      <td>264.040283</td>\n",
       "      <td>67.474419</td>\n",
       "      <td>2.159553</td>\n",
       "      <td>3.558457</td>\n",
       "      <td>-55.952834</td>\n",
       "      <td>24.763987</td>\n",
       "      <td>92.611292</td>\n",
       "      <td>...</td>\n",
       "      <td>0.848076</td>\n",
       "      <td>1.200000</td>\n",
       "      <td>0.169977</td>\n",
       "      <td>0.000000</td>\n",
       "      <td>0.000000</td>\n",
       "      <td>0.000000</td>\n",
       "      <td>0.000000</td>\n",
       "      <td>0.000000</td>\n",
       "      <td>0.000000</td>\n",
       "      <td>HC</td>\n",
       "    </tr>\n",
       "    <tr>\n",
       "      <th>5021</th>\n",
       "      <td>713_P_8.wav</td>\n",
       "      <td>114.727715</td>\n",
       "      <td>21.992062</td>\n",
       "      <td>206.498825</td>\n",
       "      <td>74.076416</td>\n",
       "      <td>1.794884</td>\n",
       "      <td>4.758493</td>\n",
       "      <td>11.662198</td>\n",
       "      <td>51.707118</td>\n",
       "      <td>276.472244</td>\n",
       "      <td>...</td>\n",
       "      <td>-1.088540</td>\n",
       "      <td>0.520000</td>\n",
       "      <td>0.269977</td>\n",
       "      <td>1.363187</td>\n",
       "      <td>5.240970</td>\n",
       "      <td>0.260102</td>\n",
       "      <td>0.739898</td>\n",
       "      <td>0.542771</td>\n",
       "      <td>0.190804</td>\n",
       "      <td>HC</td>\n",
       "    </tr>\n",
       "    <tr>\n",
       "      <th>5022</th>\n",
       "      <td>713_P_9.wav</td>\n",
       "      <td>101.046761</td>\n",
       "      <td>15.628685</td>\n",
       "      <td>200.535446</td>\n",
       "      <td>78.203659</td>\n",
       "      <td>3.069009</td>\n",
       "      <td>14.005285</td>\n",
       "      <td>-32.388347</td>\n",
       "      <td>98.389580</td>\n",
       "      <td>78.047285</td>\n",
       "      <td>...</td>\n",
       "      <td>-1.516937</td>\n",
       "      <td>0.510023</td>\n",
       "      <td>0.160000</td>\n",
       "      <td>0.000000</td>\n",
       "      <td>0.000000</td>\n",
       "      <td>0.000000</td>\n",
       "      <td>0.000000</td>\n",
       "      <td>0.000000</td>\n",
       "      <td>0.000000</td>\n",
       "      <td>HC</td>\n",
       "    </tr>\n",
       "  </tbody>\n",
       "</table>\n",
       "<p>5023 rows × 105 columns</p>\n",
       "</div>"
      ],
      "text/plain": [
       "           subject       F0avg      F0std       F0max       F0min    F0skew  \\\n",
       "0      300_P_0.wav  165.908508  38.275139  257.928467   94.493355  0.426894   \n",
       "1      300_P_1.wav  120.528053  12.529911  146.793304   86.951614 -0.113077   \n",
       "2     300_P_10.wav  133.895416  21.495996  205.637115   98.742012  2.033316   \n",
       "3     300_P_11.wav  144.578720  28.399199  238.035019  100.053619  1.236097   \n",
       "4     300_P_12.wav  141.704803  28.684387  214.766144  108.876251  1.277414   \n",
       "...            ...         ...        ...         ...         ...       ...   \n",
       "5018   713_P_5.wav  121.557548  36.611835  259.327454   66.125931  1.220141   \n",
       "5019   713_P_6.wav   98.142693  11.498760  151.283951   70.990318  1.337210   \n",
       "5020   713_P_7.wav  112.744049  50.676796  264.040283   67.474419  2.159553   \n",
       "5021   713_P_8.wav  114.727715  21.992062  206.498825   74.076416  1.794884   \n",
       "5022   713_P_9.wav  101.046761  15.628685  200.535446   78.203659  3.069009   \n",
       "\n",
       "         F0kurt   F0tiltavg    F0mseavg   F0tiltstd  ...  kurtosisdurpause  \\\n",
       "0     -0.647107  -65.049128  324.063212  126.268062  ...         -0.866593   \n",
       "1     -0.996979  -20.992859   13.360108   24.507299  ...         -1.594899   \n",
       "2      3.646668 -149.393324   33.461422  185.119105  ...         -0.758323   \n",
       "3      0.991367  -15.509460  188.202717   25.538555  ...         -2.000000   \n",
       "4      0.580108  -18.155109   74.524664  111.242072  ...         -1.487127   \n",
       "...         ...         ...         ...         ...  ...               ...   \n",
       "5018   1.760276   -8.349025  184.875451  123.734211  ...         -0.474507   \n",
       "5019   3.094978 -107.072079   36.489500   95.307558  ...         -1.283715   \n",
       "5020   3.558457  -55.952834   24.763987   92.611292  ...          0.848076   \n",
       "5021   4.758493   11.662198   51.707118  276.472244  ...         -1.088540   \n",
       "5022  14.005285  -32.388347   98.389580   78.047285  ...         -1.516937   \n",
       "\n",
       "      maxdurpause  mindurpause       PVU        PU       UVU       VVU  \\\n",
       "0        0.340000     0.149977  0.525115  4.608241  0.113951  0.886049   \n",
       "1        0.600000     0.220000  0.000000  0.000000  0.000000  0.000000   \n",
       "2        0.560000     0.320000  0.693961  3.659039  0.189657  0.810343   \n",
       "3        0.300000     0.190023  0.439975  3.827760  0.114943  0.885057   \n",
       "4        0.540000     0.150023  0.767724  4.291161  0.178908  0.821092   \n",
       "...           ...          ...       ...       ...       ...       ...   \n",
       "5018     0.549977     0.160000  1.011893  6.071267  0.166669  0.833331   \n",
       "5019     0.989977     0.289977  1.545837  5.899887  0.262011  0.737989   \n",
       "5020     1.200000     0.169977  0.000000  0.000000  0.000000  0.000000   \n",
       "5021     0.520000     0.269977  1.363187  5.240970  0.260102  0.739898   \n",
       "5022     0.510023     0.160000  0.000000  0.000000  0.000000  0.000000   \n",
       "\n",
       "            VP        UP  Group  \n",
       "0     1.687344  0.217003     HC  \n",
       "1     0.000000  0.000000     HC  \n",
       "2     1.167707  0.273296     HC  \n",
       "3     2.011608  0.261249     HC  \n",
       "4     1.069515  0.233037     HC  \n",
       "...        ...       ...    ...  \n",
       "5018  0.823537  0.164710     HC  \n",
       "5019  0.477404  0.169495     HC  \n",
       "5020  0.000000  0.000000     HC  \n",
       "5021  0.542771  0.190804     HC  \n",
       "5022  0.000000  0.000000     HC  \n",
       "\n",
       "[5023 rows x 105 columns]"
      ]
     },
     "execution_count": 5,
     "metadata": {},
     "output_type": "execute_result"
    }
   ],
   "source": [
    "prosody_train"
   ]
  },
  {
   "cell_type": "code",
   "execution_count": 61,
   "id": "a0a8a87b",
   "metadata": {},
   "outputs": [],
   "source": [
    "req_features=df[(df['p_HC_DP']<0.05) | (abs(df['p_HC_DP.1'])>0.4)]\n",
    "feature_list=req_features['Unnamed: 0'].tolist()"
   ]
  },
  {
   "cell_type": "code",
   "execution_count": 62,
   "id": "2022aa27",
   "metadata": {},
   "outputs": [
    {
     "name": "stderr",
     "output_type": "stream",
     "text": [
      "/tmp/ipykernel_5861/4214238325.py:2: SettingWithCopyWarning: \n",
      "A value is trying to be set on a copy of a slice from a DataFrame\n",
      "\n",
      "See the caveats in the documentation: https://pandas.pydata.org/pandas-docs/stable/user_guide/indexing.html#returning-a-view-versus-a-copy\n",
      "  X_train.drop(['maxdurunvoiced','mindurpause'],axis=1,inplace=True)\n"
     ]
    },
    {
     "data": {
      "text/html": [
       "<div>\n",
       "<style scoped>\n",
       "    .dataframe tbody tr th:only-of-type {\n",
       "        vertical-align: middle;\n",
       "    }\n",
       "\n",
       "    .dataframe tbody tr th {\n",
       "        vertical-align: top;\n",
       "    }\n",
       "\n",
       "    .dataframe thead th {\n",
       "        text-align: right;\n",
       "    }\n",
       "</style>\n",
       "<table border=\"1\" class=\"dataframe\">\n",
       "  <thead>\n",
       "    <tr style=\"text-align: right;\">\n",
       "      <th></th>\n",
       "      <th>F0min</th>\n",
       "      <th>F0skew</th>\n",
       "      <th>F0kurt</th>\n",
       "      <th>F0tiltavg</th>\n",
       "      <th>F0mseavg</th>\n",
       "      <th>F0tiltstd</th>\n",
       "      <th>F0msestd</th>\n",
       "      <th>F0tiltmax</th>\n",
       "      <th>F0msemax</th>\n",
       "      <th>F0tiltmin</th>\n",
       "      <th>...</th>\n",
       "      <th>skwdurvoiced</th>\n",
       "      <th>maxdurvoiced</th>\n",
       "      <th>mindurvoiced</th>\n",
       "      <th>stddurunvoiced</th>\n",
       "      <th>PVU</th>\n",
       "      <th>PU</th>\n",
       "      <th>UVU</th>\n",
       "      <th>VVU</th>\n",
       "      <th>VP</th>\n",
       "      <th>UP</th>\n",
       "    </tr>\n",
       "  </thead>\n",
       "  <tbody>\n",
       "    <tr>\n",
       "      <th>0</th>\n",
       "      <td>94.493355</td>\n",
       "      <td>0.426894</td>\n",
       "      <td>-0.647107</td>\n",
       "      <td>-65.049128</td>\n",
       "      <td>324.063212</td>\n",
       "      <td>126.268062</td>\n",
       "      <td>620.813173</td>\n",
       "      <td>74.352510</td>\n",
       "      <td>1921.324232</td>\n",
       "      <td>-323.113237</td>\n",
       "      <td>...</td>\n",
       "      <td>0.968927</td>\n",
       "      <td>1.130023</td>\n",
       "      <td>0.089977</td>\n",
       "      <td>0.014787</td>\n",
       "      <td>0.525115</td>\n",
       "      <td>4.608241</td>\n",
       "      <td>0.113951</td>\n",
       "      <td>0.886049</td>\n",
       "      <td>1.687344</td>\n",
       "      <td>0.217003</td>\n",
       "    </tr>\n",
       "    <tr>\n",
       "      <th>1</th>\n",
       "      <td>86.951614</td>\n",
       "      <td>-0.113077</td>\n",
       "      <td>-0.996979</td>\n",
       "      <td>-20.992859</td>\n",
       "      <td>13.360108</td>\n",
       "      <td>24.507299</td>\n",
       "      <td>9.612148</td>\n",
       "      <td>13.182021</td>\n",
       "      <td>29.342847</td>\n",
       "      <td>-57.977547</td>\n",
       "      <td>...</td>\n",
       "      <td>1.135397</td>\n",
       "      <td>0.870023</td>\n",
       "      <td>0.190023</td>\n",
       "      <td>0.000000</td>\n",
       "      <td>0.000000</td>\n",
       "      <td>0.000000</td>\n",
       "      <td>0.000000</td>\n",
       "      <td>0.000000</td>\n",
       "      <td>0.000000</td>\n",
       "      <td>0.000000</td>\n",
       "    </tr>\n",
       "    <tr>\n",
       "      <th>2</th>\n",
       "      <td>98.742012</td>\n",
       "      <td>2.033316</td>\n",
       "      <td>3.646668</td>\n",
       "      <td>-149.393324</td>\n",
       "      <td>33.461422</td>\n",
       "      <td>185.119105</td>\n",
       "      <td>28.008332</td>\n",
       "      <td>-4.268436</td>\n",
       "      <td>73.582442</td>\n",
       "      <td>-445.876374</td>\n",
       "      <td>...</td>\n",
       "      <td>0.610399</td>\n",
       "      <td>0.969977</td>\n",
       "      <td>0.170023</td>\n",
       "      <td>0.030000</td>\n",
       "      <td>0.693961</td>\n",
       "      <td>3.659039</td>\n",
       "      <td>0.189657</td>\n",
       "      <td>0.810343</td>\n",
       "      <td>1.167707</td>\n",
       "      <td>0.273296</td>\n",
       "    </tr>\n",
       "    <tr>\n",
       "      <th>3</th>\n",
       "      <td>100.053619</td>\n",
       "      <td>1.236097</td>\n",
       "      <td>0.991367</td>\n",
       "      <td>-15.509460</td>\n",
       "      <td>188.202717</td>\n",
       "      <td>25.538555</td>\n",
       "      <td>454.583120</td>\n",
       "      <td>10.469975</td>\n",
       "      <td>1390.725713</td>\n",
       "      <td>-79.340829</td>\n",
       "      <td>...</td>\n",
       "      <td>0.236980</td>\n",
       "      <td>0.900000</td>\n",
       "      <td>0.120000</td>\n",
       "      <td>0.036112</td>\n",
       "      <td>0.439975</td>\n",
       "      <td>3.827760</td>\n",
       "      <td>0.114943</td>\n",
       "      <td>0.885057</td>\n",
       "      <td>2.011608</td>\n",
       "      <td>0.261249</td>\n",
       "    </tr>\n",
       "    <tr>\n",
       "      <th>4</th>\n",
       "      <td>108.876251</td>\n",
       "      <td>1.277414</td>\n",
       "      <td>0.580108</td>\n",
       "      <td>-18.155109</td>\n",
       "      <td>74.524664</td>\n",
       "      <td>111.242072</td>\n",
       "      <td>126.965636</td>\n",
       "      <td>188.020545</td>\n",
       "      <td>374.338802</td>\n",
       "      <td>-220.148340</td>\n",
       "      <td>...</td>\n",
       "      <td>0.757423</td>\n",
       "      <td>0.700000</td>\n",
       "      <td>0.109977</td>\n",
       "      <td>0.021148</td>\n",
       "      <td>0.767724</td>\n",
       "      <td>4.291161</td>\n",
       "      <td>0.178908</td>\n",
       "      <td>0.821092</td>\n",
       "      <td>1.069515</td>\n",
       "      <td>0.233037</td>\n",
       "    </tr>\n",
       "  </tbody>\n",
       "</table>\n",
       "<p>5 rows × 51 columns</p>\n",
       "</div>"
      ],
      "text/plain": [
       "        F0min    F0skew    F0kurt   F0tiltavg    F0mseavg   F0tiltstd  \\\n",
       "0   94.493355  0.426894 -0.647107  -65.049128  324.063212  126.268062   \n",
       "1   86.951614 -0.113077 -0.996979  -20.992859   13.360108   24.507299   \n",
       "2   98.742012  2.033316  3.646668 -149.393324   33.461422  185.119105   \n",
       "3  100.053619  1.236097  0.991367  -15.509460  188.202717   25.538555   \n",
       "4  108.876251  1.277414  0.580108  -18.155109   74.524664  111.242072   \n",
       "\n",
       "     F0msestd   F0tiltmax     F0msemax   F0tiltmin  ...  skwdurvoiced  \\\n",
       "0  620.813173   74.352510  1921.324232 -323.113237  ...      0.968927   \n",
       "1    9.612148   13.182021    29.342847  -57.977547  ...      1.135397   \n",
       "2   28.008332   -4.268436    73.582442 -445.876374  ...      0.610399   \n",
       "3  454.583120   10.469975  1390.725713  -79.340829  ...      0.236980   \n",
       "4  126.965636  188.020545   374.338802 -220.148340  ...      0.757423   \n",
       "\n",
       "   maxdurvoiced  mindurvoiced  stddurunvoiced       PVU        PU       UVU  \\\n",
       "0      1.130023      0.089977        0.014787  0.525115  4.608241  0.113951   \n",
       "1      0.870023      0.190023        0.000000  0.000000  0.000000  0.000000   \n",
       "2      0.969977      0.170023        0.030000  0.693961  3.659039  0.189657   \n",
       "3      0.900000      0.120000        0.036112  0.439975  3.827760  0.114943   \n",
       "4      0.700000      0.109977        0.021148  0.767724  4.291161  0.178908   \n",
       "\n",
       "        VVU        VP        UP  \n",
       "0  0.886049  1.687344  0.217003  \n",
       "1  0.000000  0.000000  0.000000  \n",
       "2  0.810343  1.167707  0.273296  \n",
       "3  0.885057  2.011608  0.261249  \n",
       "4  0.821092  1.069515  0.233037  \n",
       "\n",
       "[5 rows x 51 columns]"
      ]
     },
     "execution_count": 62,
     "metadata": {},
     "output_type": "execute_result"
    }
   ],
   "source": [
    "X_train=prosody_train[prosody_train.columns.intersection(feature_list)]\n",
    "X_train.drop(['maxdurunvoiced','mindurpause'],axis=1,inplace=True)\n",
    "X_train.head()"
   ]
  },
  {
   "cell_type": "code",
   "execution_count": 63,
   "id": "4b310094",
   "metadata": {},
   "outputs": [
    {
     "data": {
      "text/plain": [
       "F0min                    0\n",
       "F0skew                   0\n",
       "F0kurt                   0\n",
       "F0tiltavg                0\n",
       "F0mseavg                 0\n",
       "F0tiltstd                0\n",
       "F0msestd                 0\n",
       "F0tiltmax                0\n",
       "F0msemax                 0\n",
       "F0tiltmin                0\n",
       "F0mseskw                 0\n",
       "F0tiltku                 0\n",
       "F0mseku                  0\n",
       "1F0mean                  0\n",
       "1F0min                   0\n",
       "1F0skw                   0\n",
       "lastF0std                0\n",
       "lastF0min                0\n",
       "stdEvoiced               0\n",
       "avgtiltEvoiced           0\n",
       "stdtiltEvoiced           0\n",
       "skwtiltEvoiced           0\n",
       "kurtosistiltEvoiced      0\n",
       "skwmseEvoiced            0\n",
       "avg1Evoiced              0\n",
       "avglastEvoiced           0\n",
       "stdlastEvoiced           0\n",
       "maxlastEvoiced           0\n",
       "minlastEvoiced           0\n",
       "avg1Eunvoiced            0\n",
       "std1Eunvoiced            0\n",
       "max1Eunvoiced            0\n",
       "min1Eunvoiced            0\n",
       "kurtosis1Eunvoiced       0\n",
       "avglastEunvoiced         0\n",
       "stdlastEunvoiced         0\n",
       "maxlastEunvoiced         0\n",
       "minlastEunvoiced         0\n",
       "kurtosislastEunvoiced    0\n",
       "Vrate                    0\n",
       "stddurvoiced             0\n",
       "skwdurvoiced             0\n",
       "maxdurvoiced             0\n",
       "mindurvoiced             0\n",
       "stddurunvoiced           0\n",
       "PVU                      0\n",
       "PU                       0\n",
       "UVU                      0\n",
       "VVU                      0\n",
       "VP                       0\n",
       "UP                       0\n",
       "dtype: int64"
      ]
     },
     "execution_count": 63,
     "metadata": {},
     "output_type": "execute_result"
    }
   ],
   "source": [
    "X_train.isnull().sum()"
   ]
  },
  {
   "cell_type": "markdown",
   "id": "8903c9a6",
   "metadata": {},
   "source": [
    "#### 1. Checking if the classes have a balanced amount of samples:"
   ]
  },
  {
   "cell_type": "code",
   "execution_count": 64,
   "id": "19253089",
   "metadata": {},
   "outputs": [],
   "source": [
    "#replace string values to 0s & 1s in target column\n",
    "prosody_train.replace({'Group':{\"HC\":0,\"DP\":1}},inplace=True)\n",
    "Y_train=prosody_train['Group']"
   ]
  },
  {
   "cell_type": "code",
   "execution_count": 65,
   "id": "b1d14e5e",
   "metadata": {},
   "outputs": [
    {
     "name": "stdout",
     "output_type": "stream",
     "text": [
      "Group\n",
      "0    3878\n",
      "1    1145\n",
      "Name: Group, dtype: int64\n"
     ]
    }
   ],
   "source": [
    "val_count=prosody_train.groupby(['Group'])['Group'].count()\n",
    "print(val_count)"
   ]
  },
  {
   "cell_type": "code",
   "execution_count": 66,
   "id": "1575292c",
   "metadata": {},
   "outputs": [],
   "source": [
    "! pip install imblearn --quiet\n",
    "\n",
    "from imblearn.over_sampling import SMOTE\n",
    "\n",
    "sm = SMOTE(sampling_strategy='minority', random_state=42)\n",
    "\n",
    "X_train_resampled, Y_train_resampled = sm.fit_resample(X_train,Y_train)\n",
    "pr_train_upsampled = pd.concat([pd.DataFrame(Y_train_resampled), pd.DataFrame(X_train_resampled)], axis=1)"
   ]
  },
  {
   "cell_type": "code",
   "execution_count": 67,
   "id": "98662ec0",
   "metadata": {},
   "outputs": [
    {
     "name": "stdout",
     "output_type": "stream",
     "text": [
      "Group\n",
      "0    3878\n",
      "1    3878\n",
      "Name: Group, dtype: int64\n"
     ]
    }
   ],
   "source": [
    "val_count=pr_train_upsampled.groupby(['Group'])['Group'].count()\n",
    "print(val_count)"
   ]
  },
  {
   "cell_type": "markdown",
   "id": "45f8ca78",
   "metadata": {},
   "source": [
    "#### 2. Obtaining X & Y values:"
   ]
  },
  {
   "cell_type": "markdown",
   "id": "cea6da69",
   "metadata": {},
   "source": [
    "#### 3. Normalizing the data:"
   ]
  },
  {
   "cell_type": "code",
   "execution_count": 68,
   "id": "8f42356a",
   "metadata": {},
   "outputs": [],
   "source": [
    "#import Normalization as n"
   ]
  },
  {
   "cell_type": "code",
   "execution_count": 69,
   "id": "480bfee1",
   "metadata": {},
   "outputs": [],
   "source": [
    "sc=MinMaxScaler()"
   ]
  },
  {
   "cell_type": "code",
   "execution_count": 70,
   "id": "ed4ab3c4",
   "metadata": {},
   "outputs": [],
   "source": [
    "X=sc.fit_transform(X_train_resampled)"
   ]
  },
  {
   "cell_type": "code",
   "execution_count": null,
   "id": "8d2e739f",
   "metadata": {},
   "outputs": [],
   "source": [
    "#X=n.normalize_train(X_train_resampled)\n",
    "Y=pr_train_upsampled['Group']"
   ]
  },
  {
   "cell_type": "code",
   "execution_count": 71,
   "id": "16ff2804",
   "metadata": {},
   "outputs": [
    {
     "name": "stdout",
     "output_type": "stream",
     "text": [
      "0.3467397077727825\n",
      "0.23367888810737109\n"
     ]
    }
   ],
   "source": [
    "print(np.mean(X))\n",
    "print(np.std(X))"
   ]
  },
  {
   "cell_type": "markdown",
   "id": "2390bf1d",
   "metadata": {},
   "source": [
    "### Preprocessing test data:"
   ]
  },
  {
   "cell_type": "code",
   "execution_count": 72,
   "id": "a5cb9245",
   "metadata": {},
   "outputs": [
    {
     "data": {
      "text/html": [
       "<div>\n",
       "<style scoped>\n",
       "    .dataframe tbody tr th:only-of-type {\n",
       "        vertical-align: middle;\n",
       "    }\n",
       "\n",
       "    .dataframe tbody tr th {\n",
       "        vertical-align: top;\n",
       "    }\n",
       "\n",
       "    .dataframe thead th {\n",
       "        text-align: right;\n",
       "    }\n",
       "</style>\n",
       "<table border=\"1\" class=\"dataframe\">\n",
       "  <thead>\n",
       "    <tr style=\"text-align: right;\">\n",
       "      <th></th>\n",
       "      <th>subject</th>\n",
       "      <th>F0avg</th>\n",
       "      <th>F0std</th>\n",
       "      <th>F0max</th>\n",
       "      <th>F0min</th>\n",
       "      <th>F0skew</th>\n",
       "      <th>F0kurt</th>\n",
       "      <th>F0tiltavg</th>\n",
       "      <th>F0mseavg</th>\n",
       "      <th>F0tiltstd</th>\n",
       "      <th>...</th>\n",
       "      <th>skwdurpause</th>\n",
       "      <th>kurtosisdurpause</th>\n",
       "      <th>maxdurpause</th>\n",
       "      <th>PVU</th>\n",
       "      <th>PU</th>\n",
       "      <th>UVU</th>\n",
       "      <th>VVU</th>\n",
       "      <th>VP</th>\n",
       "      <th>UP</th>\n",
       "      <th>Group</th>\n",
       "    </tr>\n",
       "  </thead>\n",
       "  <tbody>\n",
       "    <tr>\n",
       "      <th>0</th>\n",
       "      <td>600_AUDIO_patcomb.wav</td>\n",
       "      <td>202.345642</td>\n",
       "      <td>29.188663</td>\n",
       "      <td>332.912964</td>\n",
       "      <td>66.470856</td>\n",
       "      <td>-0.574745</td>\n",
       "      <td>3.575093</td>\n",
       "      <td>-90.397503</td>\n",
       "      <td>124.265354</td>\n",
       "      <td>301.737173</td>\n",
       "      <td>...</td>\n",
       "      <td>2.418669</td>\n",
       "      <td>5.856770</td>\n",
       "      <td>1.100000</td>\n",
       "      <td>1.044438</td>\n",
       "      <td>3.906563</td>\n",
       "      <td>0.267355</td>\n",
       "      <td>0.732645</td>\n",
       "      <td>0.701473</td>\n",
       "      <td>0.255980</td>\n",
       "      <td>HC</td>\n",
       "    </tr>\n",
       "    <tr>\n",
       "      <th>1</th>\n",
       "      <td>602_AUDIO_patcomb.wav</td>\n",
       "      <td>153.656647</td>\n",
       "      <td>20.377634</td>\n",
       "      <td>331.162720</td>\n",
       "      <td>66.267441</td>\n",
       "      <td>1.910137</td>\n",
       "      <td>11.193553</td>\n",
       "      <td>-95.629996</td>\n",
       "      <td>71.456519</td>\n",
       "      <td>225.551727</td>\n",
       "      <td>...</td>\n",
       "      <td>3.169202</td>\n",
       "      <td>20.469786</td>\n",
       "      <td>2.610023</td>\n",
       "      <td>1.383277</td>\n",
       "      <td>6.042579</td>\n",
       "      <td>0.228922</td>\n",
       "      <td>0.771078</td>\n",
       "      <td>0.557429</td>\n",
       "      <td>0.165492</td>\n",
       "      <td>DP</td>\n",
       "    </tr>\n",
       "    <tr>\n",
       "      <th>2</th>\n",
       "      <td>604_AUDIO_patcomb.wav</td>\n",
       "      <td>124.525162</td>\n",
       "      <td>48.486446</td>\n",
       "      <td>345.921814</td>\n",
       "      <td>65.332237</td>\n",
       "      <td>1.631245</td>\n",
       "      <td>2.545722</td>\n",
       "      <td>-77.961452</td>\n",
       "      <td>54.110385</td>\n",
       "      <td>271.135779</td>\n",
       "      <td>...</td>\n",
       "      <td>2.201472</td>\n",
       "      <td>6.762568</td>\n",
       "      <td>1.950023</td>\n",
       "      <td>1.543144</td>\n",
       "      <td>6.071628</td>\n",
       "      <td>0.254157</td>\n",
       "      <td>0.745843</td>\n",
       "      <td>0.483327</td>\n",
       "      <td>0.164700</td>\n",
       "      <td>DP</td>\n",
       "    </tr>\n",
       "  </tbody>\n",
       "</table>\n",
       "<p>3 rows × 102 columns</p>\n",
       "</div>"
      ],
      "text/plain": [
       "                 subject       F0avg      F0std       F0max      F0min  \\\n",
       "0  600_AUDIO_patcomb.wav  202.345642  29.188663  332.912964  66.470856   \n",
       "1  602_AUDIO_patcomb.wav  153.656647  20.377634  331.162720  66.267441   \n",
       "2  604_AUDIO_patcomb.wav  124.525162  48.486446  345.921814  65.332237   \n",
       "\n",
       "     F0skew     F0kurt  F0tiltavg    F0mseavg   F0tiltstd  ...  skwdurpause  \\\n",
       "0 -0.574745   3.575093 -90.397503  124.265354  301.737173  ...     2.418669   \n",
       "1  1.910137  11.193553 -95.629996   71.456519  225.551727  ...     3.169202   \n",
       "2  1.631245   2.545722 -77.961452   54.110385  271.135779  ...     2.201472   \n",
       "\n",
       "   kurtosisdurpause  maxdurpause       PVU        PU       UVU       VVU  \\\n",
       "0          5.856770     1.100000  1.044438  3.906563  0.267355  0.732645   \n",
       "1         20.469786     2.610023  1.383277  6.042579  0.228922  0.771078   \n",
       "2          6.762568     1.950023  1.543144  6.071628  0.254157  0.745843   \n",
       "\n",
       "         VP        UP  Group  \n",
       "0  0.701473  0.255980     HC  \n",
       "1  0.557429  0.165492     DP  \n",
       "2  0.483327  0.164700     DP  \n",
       "\n",
       "[3 rows x 102 columns]"
      ]
     },
     "execution_count": 72,
     "metadata": {},
     "output_type": "execute_result"
    }
   ],
   "source": [
    "prosody_test.head(3)"
   ]
  },
  {
   "cell_type": "code",
   "execution_count": 73,
   "id": "82a6ec52",
   "metadata": {},
   "outputs": [
    {
     "data": {
      "text/plain": [
       "subject    0\n",
       "F0avg      0\n",
       "F0std      0\n",
       "F0max      0\n",
       "F0min      0\n",
       "          ..\n",
       "UVU        0\n",
       "VVU        0\n",
       "VP         0\n",
       "UP         0\n",
       "Group      0\n",
       "Length: 102, dtype: int64"
      ]
     },
     "execution_count": 73,
     "metadata": {},
     "output_type": "execute_result"
    }
   ],
   "source": [
    "prosody_test.isnull().sum()"
   ]
  },
  {
   "cell_type": "code",
   "execution_count": 74,
   "id": "c172316e",
   "metadata": {},
   "outputs": [],
   "source": [
    "#obtaining X & Y for test data:\n",
    "prosody_test.replace({'Group':{\"HC\":0,\"DP\":1}},inplace=True)\n",
    "X_test=prosody_test[prosody_test.columns.intersection(feature_list)]\n",
    "Y_test=prosody_test['Group']"
   ]
  },
  {
   "cell_type": "code",
   "execution_count": 75,
   "id": "479081cd",
   "metadata": {},
   "outputs": [
    {
     "name": "stdout",
     "output_type": "stream",
     "text": [
      "Group\n",
      "0    39\n",
      "1    17\n",
      "Name: Group, dtype: int64\n"
     ]
    }
   ],
   "source": [
    "val_count_test=prosody_test.groupby(['Group'])['Group'].count()\n",
    "print(val_count_test)"
   ]
  },
  {
   "cell_type": "code",
   "execution_count": 76,
   "id": "84ce11fc",
   "metadata": {},
   "outputs": [],
   "source": [
    "#X_test=n.normalize_test(X_test)\n",
    "X_test=sc.transform(X_test)"
   ]
  },
  {
   "cell_type": "code",
   "execution_count": 77,
   "id": "e07be099",
   "metadata": {},
   "outputs": [
    {
     "name": "stdout",
     "output_type": "stream",
     "text": [
      "0.5795976814857178\n",
      "1.3237008898565714\n"
     ]
    }
   ],
   "source": [
    "print(np.mean(X_test))\n",
    "print(np.std(X_test))"
   ]
  },
  {
   "cell_type": "code",
   "execution_count": 27,
   "id": "7e4cc6c0",
   "metadata": {},
   "outputs": [
    {
     "data": {
      "text/plain": [
       "7756"
      ]
     },
     "execution_count": 27,
     "metadata": {},
     "output_type": "execute_result"
    }
   ],
   "source": [
    "len(X)"
   ]
  },
  {
   "cell_type": "markdown",
   "id": "ce88a8d5",
   "metadata": {},
   "source": [
    "### Finding Best Model:"
   ]
  },
  {
   "cell_type": "code",
   "execution_count": 79,
   "id": "b8ee0d7a",
   "metadata": {},
   "outputs": [],
   "source": [
    "import model "
   ]
  },
  {
   "cell_type": "code",
   "execution_count": 80,
   "id": "e61bad33",
   "metadata": {},
   "outputs": [],
   "source": [
    "obj=model.classification_models()"
   ]
  },
  {
   "cell_type": "markdown",
   "id": "f9f35d37",
   "metadata": {},
   "source": [
    "#### 1. Random Forest Classifier:"
   ]
  },
  {
   "cell_type": "code",
   "execution_count": 81,
   "id": "57e58be2",
   "metadata": {},
   "outputs": [
    {
     "name": "stdout",
     "output_type": "stream",
     "text": [
      "The RF model accuracy is given as :  0.6964285714285714\n",
      "              precision    recall  f1-score   support\n",
      "\n",
      "           0       0.70      1.00      0.82        39\n",
      "           1       0.00      0.00      0.00        17\n",
      "\n",
      "    accuracy                           0.70        56\n",
      "   macro avg       0.35      0.50      0.41        56\n",
      "weighted avg       0.49      0.70      0.57        56\n",
      "\n"
     ]
    },
    {
     "name": "stderr",
     "output_type": "stream",
     "text": [
      "/usr/local/lib/python3.10/dist-packages/sklearn/metrics/_classification.py:1344: UndefinedMetricWarning: Precision and F-score are ill-defined and being set to 0.0 in labels with no predicted samples. Use `zero_division` parameter to control this behavior.\n",
      "  _warn_prf(average, modifier, msg_start, len(result))\n",
      "/usr/local/lib/python3.10/dist-packages/sklearn/metrics/_classification.py:1344: UndefinedMetricWarning: Precision and F-score are ill-defined and being set to 0.0 in labels with no predicted samples. Use `zero_division` parameter to control this behavior.\n",
      "  _warn_prf(average, modifier, msg_start, len(result))\n",
      "/usr/local/lib/python3.10/dist-packages/sklearn/metrics/_classification.py:1344: UndefinedMetricWarning: Precision and F-score are ill-defined and being set to 0.0 in labels with no predicted samples. Use `zero_division` parameter to control this behavior.\n",
      "  _warn_prf(average, modifier, msg_start, len(result))\n"
     ]
    }
   ],
   "source": [
    "obj.RF_model(X,Y,X_test,Y_test)"
   ]
  },
  {
   "cell_type": "markdown",
   "id": "8b5cbf6e",
   "metadata": {},
   "source": [
    "#### 2. Decision Tree Classifier:"
   ]
  },
  {
   "cell_type": "code",
   "execution_count": 82,
   "id": "c43b4340",
   "metadata": {},
   "outputs": [
    {
     "name": "stdout",
     "output_type": "stream",
     "text": [
      "The DF model accuracy is given as :  0.5357142857142857\n",
      "              precision    recall  f1-score   support\n",
      "\n",
      "           0       0.72      0.54      0.62        39\n",
      "           1       0.33      0.53      0.41        17\n",
      "\n",
      "    accuracy                           0.54        56\n",
      "   macro avg       0.53      0.53      0.51        56\n",
      "weighted avg       0.61      0.54      0.55        56\n",
      "\n"
     ]
    }
   ],
   "source": [
    "obj.DF_model(X,Y,X_test,Y_test)"
   ]
  },
  {
   "cell_type": "markdown",
   "id": "a351a387",
   "metadata": {},
   "source": [
    "#### 3. Logistic Regression Model:"
   ]
  },
  {
   "cell_type": "code",
   "execution_count": 83,
   "id": "ee4d1855",
   "metadata": {},
   "outputs": [
    {
     "name": "stdout",
     "output_type": "stream",
     "text": [
      "The LR_model accuracy is given as :  0.6964285714285714\n",
      "              precision    recall  f1-score   support\n",
      "\n",
      "           0       0.70      1.00      0.82        39\n",
      "           1       0.00      0.00      0.00        17\n",
      "\n",
      "    accuracy                           0.70        56\n",
      "   macro avg       0.35      0.50      0.41        56\n",
      "weighted avg       0.49      0.70      0.57        56\n",
      "\n"
     ]
    },
    {
     "name": "stderr",
     "output_type": "stream",
     "text": [
      "/usr/local/lib/python3.10/dist-packages/sklearn/metrics/_classification.py:1344: UndefinedMetricWarning: Precision and F-score are ill-defined and being set to 0.0 in labels with no predicted samples. Use `zero_division` parameter to control this behavior.\n",
      "  _warn_prf(average, modifier, msg_start, len(result))\n",
      "/usr/local/lib/python3.10/dist-packages/sklearn/metrics/_classification.py:1344: UndefinedMetricWarning: Precision and F-score are ill-defined and being set to 0.0 in labels with no predicted samples. Use `zero_division` parameter to control this behavior.\n",
      "  _warn_prf(average, modifier, msg_start, len(result))\n",
      "/usr/local/lib/python3.10/dist-packages/sklearn/metrics/_classification.py:1344: UndefinedMetricWarning: Precision and F-score are ill-defined and being set to 0.0 in labels with no predicted samples. Use `zero_division` parameter to control this behavior.\n",
      "  _warn_prf(average, modifier, msg_start, len(result))\n"
     ]
    }
   ],
   "source": [
    "obj.LR_model(X,Y,X_test,Y_test)"
   ]
  },
  {
   "cell_type": "markdown",
   "id": "42b4f419",
   "metadata": {},
   "source": [
    "#### 4. Support Vector Machine:"
   ]
  },
  {
   "cell_type": "code",
   "execution_count": 84,
   "id": "7a9c602e",
   "metadata": {},
   "outputs": [
    {
     "ename": "ModuleNotFoundError",
     "evalue": "No module named 'grid_search'",
     "output_type": "error",
     "traceback": [
      "\u001b[0;31m---------------------------------------------------------------------------\u001b[0m",
      "\u001b[0;31mModuleNotFoundError\u001b[0m                       Traceback (most recent call last)",
      "Cell \u001b[0;32mIn[84], line 1\u001b[0m\n\u001b[0;32m----> 1\u001b[0m \u001b[38;5;28;01mimport\u001b[39;00m \u001b[38;5;21;01mgrid_search\u001b[39;00m \u001b[38;5;28;01mas\u001b[39;00m \u001b[38;5;21;01mg\u001b[39;00m\n",
      "\u001b[0;31mModuleNotFoundError\u001b[0m: No module named 'grid_search'"
     ]
    }
   ],
   "source": [
    "import grid_search as g"
   ]
  },
  {
   "cell_type": "code",
   "execution_count": null,
   "id": "d0970dc4",
   "metadata": {},
   "outputs": [],
   "source": [
    "#parameters=g.best_param(X,Y)"
   ]
  },
  {
   "cell_type": "code",
   "execution_count": 85,
   "id": "8fafc9a7",
   "metadata": {},
   "outputs": [
    {
     "name": "stdout",
     "output_type": "stream",
     "text": [
      "The SVM_accuracy is given as :  0.6964285714285714\n",
      "              precision    recall  f1-score   support\n",
      "\n",
      "           0       0.70      1.00      0.82        39\n",
      "           1       0.00      0.00      0.00        17\n",
      "\n",
      "    accuracy                           0.70        56\n",
      "   macro avg       0.35      0.50      0.41        56\n",
      "weighted avg       0.49      0.70      0.57        56\n",
      "\n"
     ]
    },
    {
     "name": "stderr",
     "output_type": "stream",
     "text": [
      "/usr/local/lib/python3.10/dist-packages/sklearn/metrics/_classification.py:1344: UndefinedMetricWarning: Precision and F-score are ill-defined and being set to 0.0 in labels with no predicted samples. Use `zero_division` parameter to control this behavior.\n",
      "  _warn_prf(average, modifier, msg_start, len(result))\n",
      "/usr/local/lib/python3.10/dist-packages/sklearn/metrics/_classification.py:1344: UndefinedMetricWarning: Precision and F-score are ill-defined and being set to 0.0 in labels with no predicted samples. Use `zero_division` parameter to control this behavior.\n",
      "  _warn_prf(average, modifier, msg_start, len(result))\n",
      "/usr/local/lib/python3.10/dist-packages/sklearn/metrics/_classification.py:1344: UndefinedMetricWarning: Precision and F-score are ill-defined and being set to 0.0 in labels with no predicted samples. Use `zero_division` parameter to control this behavior.\n",
      "  _warn_prf(average, modifier, msg_start, len(result))\n"
     ]
    }
   ],
   "source": [
    "obj.SVM_model(X,Y,10,1,X_test,Y_test)"
   ]
  }
 ],
 "metadata": {
  "kernelspec": {
   "display_name": "Python 3 (ipykernel)",
   "language": "python",
   "name": "python3"
  },
  "language_info": {
   "codemirror_mode": {
    "name": "ipython",
    "version": 3
   },
   "file_extension": ".py",
   "mimetype": "text/x-python",
   "name": "python",
   "nbconvert_exporter": "python",
   "pygments_lexer": "ipython3",
   "version": "3.10.6"
  }
 },
 "nbformat": 4,
 "nbformat_minor": 5
}
