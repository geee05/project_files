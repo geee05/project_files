{
 "cells": [
  {
   "cell_type": "code",
   "execution_count": 62,
   "id": "20f5aa53",
   "metadata": {},
   "outputs": [],
   "source": [
    "import pandas as pd\n",
    "import numpy as np\n",
    "import matplotlib.pyplot as plt\n",
    "import seaborn as sns\n",
    "from sklearn.decomposition import PCA"
   ]
  },
  {
   "cell_type": "code",
   "execution_count": 63,
   "id": "5d64c2fe",
   "metadata": {},
   "outputs": [],
   "source": [
    "#statistical analysis on features:\n",
    "df=pd.read_csv('/home/vboxuser/VoiceFiles/Voice4PD-MSA-Tool-global_V2/ProsodyData/stat_pr/prosodyfeaturesst_seg_train_stat.csv')\n",
    "#train and test data:\n",
    "df_train=pd.read_csv('/home/vboxuser/VoiceFiles/Voice4PD-MSA-Tool-global_V2/ProsodyData/prosodyfeaturesst_seg_dev.csv')\n",
    "df_test=pd.read_csv('/home/vboxuser/VoiceFiles/Voice4PD-MSA-Tool-global_V2/ProsodyData/prosodyfeaturesst_seg_test.csv')"
   ]
  },
  {
   "cell_type": "code",
   "execution_count": 64,
   "id": "53c89420",
   "metadata": {},
   "outputs": [],
   "source": [
    "req_features=df[(df['p_HC_DP']<0.05) | (abs(df['p_HC_DP.1'])>0.4)]\n",
    "feature_list=req_features['Unnamed: 0'].tolist()"
   ]
  },
  {
   "cell_type": "code",
   "execution_count": 65,
   "id": "10d34463",
   "metadata": {},
   "outputs": [],
   "source": [
    "df_train.replace({'Group':{\"HC\":0,\"DP\":1}},inplace=True)"
   ]
  },
  {
   "cell_type": "code",
   "execution_count": 66,
   "id": "e875d63d",
   "metadata": {},
   "outputs": [],
   "source": [
    "df_train=df_train.fillna(0)"
   ]
  },
  {
   "cell_type": "code",
   "execution_count": 67,
   "id": "17afff47",
   "metadata": {},
   "outputs": [
    {
     "data": {
      "text/plain": [
       "0"
      ]
     },
     "execution_count": 67,
     "metadata": {},
     "output_type": "execute_result"
    }
   ],
   "source": [
    "df_train.isnull().sum().sum()"
   ]
  },
  {
   "cell_type": "code",
   "execution_count": 68,
   "id": "df918e5e",
   "metadata": {},
   "outputs": [],
   "source": [
    "X_train=df_train[df_train.columns.intersection(feature_list)]"
   ]
  },
  {
   "cell_type": "code",
   "execution_count": 69,
   "id": "7c4408d9",
   "metadata": {},
   "outputs": [],
   "source": [
    "pca=PCA(n_components=4)"
   ]
  },
  {
   "cell_type": "code",
   "execution_count": 70,
   "id": "20f35203",
   "metadata": {},
   "outputs": [],
   "source": [
    "x_trainpca=pca.fit_transform(X_train)\n",
    "pca_df=pd.DataFrame(x_trainpca,columns=[\"PCA1\",\"PCA2\",\"PCA3\",\"PCA4\"])"
   ]
  },
  {
   "cell_type": "code",
   "execution_count": 71,
   "id": "c8378c71",
   "metadata": {},
   "outputs": [
    {
     "data": {
      "text/html": [
       "<div>\n",
       "<style scoped>\n",
       "    .dataframe tbody tr th:only-of-type {\n",
       "        vertical-align: middle;\n",
       "    }\n",
       "\n",
       "    .dataframe tbody tr th {\n",
       "        vertical-align: top;\n",
       "    }\n",
       "\n",
       "    .dataframe thead th {\n",
       "        text-align: right;\n",
       "    }\n",
       "</style>\n",
       "<table border=\"1\" class=\"dataframe\">\n",
       "  <thead>\n",
       "    <tr style=\"text-align: right;\">\n",
       "      <th></th>\n",
       "      <th>PCA1</th>\n",
       "      <th>PCA2</th>\n",
       "      <th>PCA3</th>\n",
       "      <th>PCA4</th>\n",
       "    </tr>\n",
       "  </thead>\n",
       "  <tbody>\n",
       "    <tr>\n",
       "      <th>0</th>\n",
       "      <td>-183.069937</td>\n",
       "      <td>73.670957</td>\n",
       "      <td>-26.088172</td>\n",
       "      <td>107.507505</td>\n",
       "    </tr>\n",
       "    <tr>\n",
       "      <th>1</th>\n",
       "      <td>-259.707025</td>\n",
       "      <td>-124.858959</td>\n",
       "      <td>46.123802</td>\n",
       "      <td>16.262024</td>\n",
       "    </tr>\n",
       "    <tr>\n",
       "      <th>2</th>\n",
       "      <td>-272.142858</td>\n",
       "      <td>-121.656023</td>\n",
       "      <td>-13.482786</td>\n",
       "      <td>27.787140</td>\n",
       "    </tr>\n",
       "    <tr>\n",
       "      <th>3</th>\n",
       "      <td>-249.395317</td>\n",
       "      <td>25.844186</td>\n",
       "      <td>-40.299040</td>\n",
       "      <td>30.368096</td>\n",
       "    </tr>\n",
       "    <tr>\n",
       "      <th>4</th>\n",
       "      <td>-73.925384</td>\n",
       "      <td>-3.831926</td>\n",
       "      <td>-52.990855</td>\n",
       "      <td>-112.467453</td>\n",
       "    </tr>\n",
       "  </tbody>\n",
       "</table>\n",
       "</div>"
      ],
      "text/plain": [
       "         PCA1        PCA2       PCA3        PCA4\n",
       "0 -183.069937   73.670957 -26.088172  107.507505\n",
       "1 -259.707025 -124.858959  46.123802   16.262024\n",
       "2 -272.142858 -121.656023 -13.482786   27.787140\n",
       "3 -249.395317   25.844186 -40.299040   30.368096\n",
       "4  -73.925384   -3.831926 -52.990855 -112.467453"
      ]
     },
     "execution_count": 71,
     "metadata": {},
     "output_type": "execute_result"
    }
   ],
   "source": [
    "pca_df.head()"
   ]
  },
  {
   "cell_type": "code",
   "execution_count": 72,
   "id": "5c3aa4c6",
   "metadata": {},
   "outputs": [],
   "source": [
    "Y_train=df_train['Group']"
   ]
  },
  {
   "cell_type": "code",
   "execution_count": 73,
   "id": "6b6e9eea",
   "metadata": {},
   "outputs": [
    {
     "name": "stdout",
     "output_type": "stream",
     "text": [
      "(5023, 4)\n",
      "(5023,)\n"
     ]
    }
   ],
   "source": [
    "print(pca_df.shape)\n",
    "print(Y_train.shape)"
   ]
  },
  {
   "cell_type": "code",
   "execution_count": 74,
   "id": "5e3406f5",
   "metadata": {},
   "outputs": [
    {
     "data": {
      "text/html": [
       "<style>#sk-container-id-2 {color: black;background-color: white;}#sk-container-id-2 pre{padding: 0;}#sk-container-id-2 div.sk-toggleable {background-color: white;}#sk-container-id-2 label.sk-toggleable__label {cursor: pointer;display: block;width: 100%;margin-bottom: 0;padding: 0.3em;box-sizing: border-box;text-align: center;}#sk-container-id-2 label.sk-toggleable__label-arrow:before {content: \"▸\";float: left;margin-right: 0.25em;color: #696969;}#sk-container-id-2 label.sk-toggleable__label-arrow:hover:before {color: black;}#sk-container-id-2 div.sk-estimator:hover label.sk-toggleable__label-arrow:before {color: black;}#sk-container-id-2 div.sk-toggleable__content {max-height: 0;max-width: 0;overflow: hidden;text-align: left;background-color: #f0f8ff;}#sk-container-id-2 div.sk-toggleable__content pre {margin: 0.2em;color: black;border-radius: 0.25em;background-color: #f0f8ff;}#sk-container-id-2 input.sk-toggleable__control:checked~div.sk-toggleable__content {max-height: 200px;max-width: 100%;overflow: auto;}#sk-container-id-2 input.sk-toggleable__control:checked~label.sk-toggleable__label-arrow:before {content: \"▾\";}#sk-container-id-2 div.sk-estimator input.sk-toggleable__control:checked~label.sk-toggleable__label {background-color: #d4ebff;}#sk-container-id-2 div.sk-label input.sk-toggleable__control:checked~label.sk-toggleable__label {background-color: #d4ebff;}#sk-container-id-2 input.sk-hidden--visually {border: 0;clip: rect(1px 1px 1px 1px);clip: rect(1px, 1px, 1px, 1px);height: 1px;margin: -1px;overflow: hidden;padding: 0;position: absolute;width: 1px;}#sk-container-id-2 div.sk-estimator {font-family: monospace;background-color: #f0f8ff;border: 1px dotted black;border-radius: 0.25em;box-sizing: border-box;margin-bottom: 0.5em;}#sk-container-id-2 div.sk-estimator:hover {background-color: #d4ebff;}#sk-container-id-2 div.sk-parallel-item::after {content: \"\";width: 100%;border-bottom: 1px solid gray;flex-grow: 1;}#sk-container-id-2 div.sk-label:hover label.sk-toggleable__label {background-color: #d4ebff;}#sk-container-id-2 div.sk-serial::before {content: \"\";position: absolute;border-left: 1px solid gray;box-sizing: border-box;top: 0;bottom: 0;left: 50%;z-index: 0;}#sk-container-id-2 div.sk-serial {display: flex;flex-direction: column;align-items: center;background-color: white;padding-right: 0.2em;padding-left: 0.2em;position: relative;}#sk-container-id-2 div.sk-item {position: relative;z-index: 1;}#sk-container-id-2 div.sk-parallel {display: flex;align-items: stretch;justify-content: center;background-color: white;position: relative;}#sk-container-id-2 div.sk-item::before, #sk-container-id-2 div.sk-parallel-item::before {content: \"\";position: absolute;border-left: 1px solid gray;box-sizing: border-box;top: 0;bottom: 0;left: 50%;z-index: -1;}#sk-container-id-2 div.sk-parallel-item {display: flex;flex-direction: column;z-index: 1;position: relative;background-color: white;}#sk-container-id-2 div.sk-parallel-item:first-child::after {align-self: flex-end;width: 50%;}#sk-container-id-2 div.sk-parallel-item:last-child::after {align-self: flex-start;width: 50%;}#sk-container-id-2 div.sk-parallel-item:only-child::after {width: 0;}#sk-container-id-2 div.sk-dashed-wrapped {border: 1px dashed gray;margin: 0 0.4em 0.5em 0.4em;box-sizing: border-box;padding-bottom: 0.4em;background-color: white;}#sk-container-id-2 div.sk-label label {font-family: monospace;font-weight: bold;display: inline-block;line-height: 1.2em;}#sk-container-id-2 div.sk-label-container {text-align: center;}#sk-container-id-2 div.sk-container {/* jupyter's `normalize.less` sets `[hidden] { display: none; }` but bootstrap.min.css set `[hidden] { display: none !important; }` so we also need the `!important` here to be able to override the default hidden behavior on the sphinx rendered scikit-learn.org. See: https://github.com/scikit-learn/scikit-learn/issues/21755 */display: inline-block !important;position: relative;}#sk-container-id-2 div.sk-text-repr-fallback {display: none;}</style><div id=\"sk-container-id-2\" class=\"sk-top-container\"><div class=\"sk-text-repr-fallback\"><pre>StandardScaler()</pre><b>In a Jupyter environment, please rerun this cell to show the HTML representation or trust the notebook. <br />On GitHub, the HTML representation is unable to render, please try loading this page with nbviewer.org.</b></div><div class=\"sk-container\" hidden><div class=\"sk-item\"><div class=\"sk-estimator sk-toggleable\"><input class=\"sk-toggleable__control sk-hidden--visually\" id=\"sk-estimator-id-2\" type=\"checkbox\" checked><label for=\"sk-estimator-id-2\" class=\"sk-toggleable__label sk-toggleable__label-arrow\">StandardScaler</label><div class=\"sk-toggleable__content\"><pre>StandardScaler()</pre></div></div></div></div></div>"
      ],
      "text/plain": [
       "StandardScaler()"
      ]
     },
     "execution_count": 74,
     "metadata": {},
     "output_type": "execute_result"
    }
   ],
   "source": [
    "from sklearn.preprocessing import StandardScaler\n",
    "std_Scaler=StandardScaler()\n",
    "std_Scaler"
   ]
  },
  {
   "cell_type": "code",
   "execution_count": 75,
   "id": "10ec7bfa",
   "metadata": {},
   "outputs": [],
   "source": [
    "X=std_Scaler.fit_transform(pca_df)"
   ]
  },
  {
   "cell_type": "code",
   "execution_count": 76,
   "id": "da09b7c2",
   "metadata": {},
   "outputs": [],
   "source": [
    "Y=Y_train"
   ]
  },
  {
   "cell_type": "code",
   "execution_count": 77,
   "id": "b304c1dd",
   "metadata": {},
   "outputs": [],
   "source": [
    "from sklearn.cluster import KMeans"
   ]
  },
  {
   "cell_type": "code",
   "execution_count": 78,
   "id": "aed2fbc0",
   "metadata": {},
   "outputs": [
    {
     "name": "stdout",
     "output_type": "stream",
     "text": [
      "Initialization complete\n",
      "Iteration 0, inertia 20422.36197916021.\n",
      "Iteration 1, inertia 16672.813392836295.\n",
      "Iteration 2, inertia 16474.622738433252.\n",
      "Iteration 3, inertia 16408.497288802304.\n",
      "Iteration 4, inertia 16374.947038199845.\n",
      "Iteration 5, inertia 16359.55860491741.\n",
      "Iteration 6, inertia 16350.820670871528.\n",
      "Iteration 7, inertia 16345.258327762229.\n",
      "Iteration 8, inertia 16342.961774395268.\n",
      "Iteration 9, inertia 16341.357342252199.\n",
      "Iteration 10, inertia 16340.102575329602.\n",
      "Iteration 11, inertia 16339.667784109752.\n",
      "Converged at iteration 11: center shift 7.346460806276645e-05 within tolerance 9.999999999999994e-05.\n",
      "Initialization complete\n",
      "Iteration 0, inertia 21498.41846586882.\n",
      "Iteration 1, inertia 16381.636091086115.\n",
      "Iteration 2, inertia 16359.305129645869.\n",
      "Iteration 3, inertia 16351.81451088196.\n",
      "Iteration 4, inertia 16347.512938319574.\n",
      "Iteration 5, inertia 16344.38075367704.\n",
      "Iteration 6, inertia 16342.821327609685.\n",
      "Iteration 7, inertia 16342.256885759803.\n",
      "Converged at iteration 7: center shift 8.09436577831561e-05 within tolerance 9.999999999999994e-05.\n",
      "Initialization complete\n",
      "Iteration 0, inertia 30557.910889870556.\n",
      "Iteration 1, inertia 16532.03189451078.\n",
      "Iteration 2, inertia 16446.225262628304.\n",
      "Iteration 3, inertia 16413.383568462057.\n",
      "Iteration 4, inertia 16395.206300009522.\n",
      "Iteration 5, inertia 16385.935836026147.\n",
      "Iteration 6, inertia 16379.440528514522.\n",
      "Iteration 7, inertia 16371.433773626499.\n",
      "Iteration 8, inertia 16362.681267836435.\n",
      "Iteration 9, inertia 16355.795112236623.\n",
      "Iteration 10, inertia 16352.604877554937.\n",
      "Iteration 11, inertia 16348.647255588592.\n",
      "Iteration 12, inertia 16345.860685012103.\n",
      "Iteration 13, inertia 16343.668430870726.\n",
      "Iteration 14, inertia 16342.425145227848.\n",
      "Iteration 15, inertia 16341.574853834722.\n",
      "Iteration 16, inertia 16341.104909289626.\n",
      "Converged at iteration 16: center shift 3.472435076513787e-05 within tolerance 9.999999999999994e-05.\n",
      "Initialization complete\n",
      "Iteration 0, inertia 26668.87995764345.\n",
      "Iteration 1, inertia 16975.529065983766.\n",
      "Iteration 2, inertia 16795.787252952257.\n",
      "Iteration 3, inertia 16591.431733782578.\n",
      "Iteration 4, inertia 16460.82390830424.\n",
      "Iteration 5, inertia 16391.23164839615.\n",
      "Iteration 6, inertia 16363.547096701135.\n",
      "Iteration 7, inertia 16354.065054359762.\n",
      "Iteration 8, inertia 16348.23575238009.\n",
      "Iteration 9, inertia 16345.341708462367.\n",
      "Iteration 10, inertia 16343.135975861382.\n",
      "Iteration 11, inertia 16342.385728052788.\n",
      "Iteration 12, inertia 16341.776300729358.\n",
      "Iteration 13, inertia 16341.352494018936.\n",
      "Iteration 14, inertia 16341.034795434196.\n",
      "Converged at iteration 14: center shift 2.1861037981821938e-05 within tolerance 9.999999999999994e-05.\n",
      "Initialization complete\n",
      "Iteration 0, inertia 19203.0026578252.\n",
      "Iteration 1, inertia 17526.17208421819.\n",
      "Iteration 2, inertia 17355.384480605077.\n",
      "Iteration 3, inertia 17223.81040683582.\n",
      "Iteration 4, inertia 17150.020006350693.\n",
      "Iteration 5, inertia 17119.8829173684.\n",
      "Iteration 6, inertia 17106.031011314084.\n",
      "Iteration 7, inertia 17096.08019214181.\n",
      "Iteration 8, inertia 17089.106051323564.\n",
      "Iteration 9, inertia 17083.70366089277.\n",
      "Iteration 10, inertia 17080.1212220244.\n",
      "Iteration 11, inertia 17076.388908029367.\n",
      "Iteration 12, inertia 17073.300927222786.\n",
      "Iteration 13, inertia 17071.341099453348.\n",
      "Iteration 14, inertia 17069.669321601334.\n",
      "Iteration 15, inertia 17068.403248183502.\n",
      "Iteration 16, inertia 17067.319218198772.\n",
      "Iteration 17, inertia 17066.303911150055.\n",
      "Iteration 18, inertia 17065.442084576247.\n",
      "Iteration 19, inertia 17064.811513391116.\n",
      "Iteration 20, inertia 17063.9544793524.\n",
      "Iteration 21, inertia 17062.753129664172.\n",
      "Iteration 22, inertia 17062.141137938135.\n",
      "Iteration 23, inertia 17061.75459251703.\n",
      "Converged at iteration 23: center shift 7.582637896747128e-05 within tolerance 9.999999999999994e-05.\n",
      "Initialization complete\n",
      "Iteration 0, inertia 29805.696178369402.\n",
      "Iteration 1, inertia 17171.234393328315.\n",
      "Iteration 2, inertia 17088.208332064398.\n",
      "Iteration 3, inertia 17047.15347264702.\n",
      "Iteration 4, inertia 17017.84776607511.\n",
      "Iteration 5, inertia 17002.59023924653.\n",
      "Iteration 6, inertia 16991.859353126554.\n",
      "Iteration 7, inertia 16985.196711234767.\n",
      "Iteration 8, inertia 16982.147425384097.\n",
      "Iteration 9, inertia 16979.541576176856.\n",
      "Iteration 10, inertia 16978.254810602022.\n",
      "Iteration 11, inertia 16977.72951933688.\n",
      "Iteration 12, inertia 16977.387187814507.\n",
      "Iteration 13, inertia 16977.270665285116.\n",
      "Converged at iteration 13: center shift 4.588141915321394e-05 within tolerance 9.999999999999994e-05.\n",
      "Initialization complete\n",
      "Iteration 0, inertia 21700.71799377499.\n",
      "Iteration 1, inertia 17047.110941376446.\n",
      "Iteration 2, inertia 16832.59698639933.\n",
      "Iteration 3, inertia 16617.419604591414.\n",
      "Iteration 4, inertia 16496.406697356684.\n",
      "Iteration 5, inertia 16428.758761325593.\n",
      "Iteration 6, inertia 16395.45654546935.\n",
      "Iteration 7, inertia 16376.937534021996.\n",
      "Iteration 8, inertia 16362.580097469801.\n",
      "Iteration 9, inertia 16356.082020214903.\n",
      "Iteration 10, inertia 16349.695922501729.\n",
      "Iteration 11, inertia 16345.190454666663.\n",
      "Iteration 12, inertia 16342.714470234352.\n",
      "Iteration 13, inertia 16341.568816654191.\n",
      "Iteration 14, inertia 16341.01787540705.\n",
      "Converged at iteration 14: center shift 4.867132878422995e-05 within tolerance 9.999999999999994e-05.\n",
      "Initialization complete\n",
      "Iteration 0, inertia 24712.35481614144.\n",
      "Iteration 1, inertia 17380.053921566363.\n",
      "Iteration 2, inertia 17265.186045797822.\n",
      "Iteration 3, inertia 17159.97906050197.\n",
      "Iteration 4, inertia 17051.565245168054.\n",
      "Iteration 5, inertia 16929.208484387356.\n",
      "Iteration 6, inertia 16805.562535311656.\n",
      "Iteration 7, inertia 16699.521099053516.\n",
      "Iteration 8, inertia 16620.766271002787.\n",
      "Iteration 9, inertia 16569.35215894059.\n",
      "Iteration 10, inertia 16529.942519694854.\n",
      "Iteration 11, inertia 16491.962710516644.\n",
      "Iteration 12, inertia 16462.351170212678.\n",
      "Iteration 13, inertia 16431.15378580462.\n",
      "Iteration 14, inertia 16401.744394239682.\n",
      "Iteration 15, inertia 16378.297044950205.\n",
      "Iteration 16, inertia 16362.223272008461.\n",
      "Iteration 17, inertia 16353.567714664505.\n",
      "Iteration 18, inertia 16347.596526278716.\n",
      "Iteration 19, inertia 16343.23218034354.\n",
      "Iteration 20, inertia 16340.350064766388.\n",
      "Iteration 21, inertia 16339.241144005397.\n",
      "Converged at iteration 21: center shift 8.529941779002806e-05 within tolerance 9.999999999999994e-05.\n",
      "Initialization complete\n",
      "Iteration 0, inertia 21908.584486920776.\n",
      "Iteration 1, inertia 17007.323062994714.\n",
      "Iteration 2, inertia 16866.75403857937.\n",
      "Iteration 3, inertia 16719.00558806517.\n",
      "Iteration 4, inertia 16618.846025852938.\n",
      "Iteration 5, inertia 16543.74705696938.\n",
      "Iteration 6, inertia 16484.051760716316.\n",
      "Iteration 7, inertia 16440.075955818418.\n",
      "Iteration 8, inertia 16415.860515428536.\n",
      "Iteration 9, inertia 16400.01244563564.\n",
      "Iteration 10, inertia 16383.092658064783.\n",
      "Iteration 11, inertia 16364.470788215798.\n",
      "Iteration 12, inertia 16355.922921690957.\n",
      "Iteration 13, inertia 16349.287446210641.\n",
      "Iteration 14, inertia 16344.252980670755.\n",
      "Iteration 15, inertia 16341.236844230556.\n",
      "Iteration 16, inertia 16339.542453397413.\n",
      "Iteration 17, inertia 16338.96070989148.\n",
      "Converged at iteration 17: center shift 4.886733835345943e-05 within tolerance 9.999999999999994e-05.\n",
      "Initialization complete\n",
      "Iteration 0, inertia 22236.741143116767.\n",
      "Iteration 1, inertia 17548.57982225221.\n",
      "Iteration 2, inertia 17263.807934734326.\n",
      "Iteration 3, inertia 17174.803675805033.\n",
      "Iteration 4, inertia 17132.803177718906.\n",
      "Iteration 5, inertia 17115.373587200607.\n",
      "Iteration 6, inertia 17104.486825073334.\n",
      "Iteration 7, inertia 17096.347191306842.\n",
      "Iteration 8, inertia 17088.836612290503.\n",
      "Iteration 9, inertia 17083.494882679046.\n",
      "Iteration 10, inertia 17080.595879573313.\n",
      "Iteration 11, inertia 17078.157330685277.\n",
      "Iteration 12, inertia 17076.586819128293.\n",
      "Iteration 13, inertia 17075.506153417857.\n",
      "Iteration 14, inertia 17074.40901237025.\n",
      "Iteration 15, inertia 17073.436669852887.\n",
      "Iteration 16, inertia 17072.25804455548.\n",
      "Iteration 17, inertia 17071.358505055072.\n",
      "Iteration 18, inertia 17070.86613318926.\n",
      "Iteration 19, inertia 17070.39660499982.\n",
      "Iteration 20, inertia 17070.067777619424.\n",
      "Converged at iteration 20: center shift 5.4915222217475315e-05 within tolerance 9.999999999999994e-05.\n"
     ]
    }
   ],
   "source": [
    "km1 = KMeans(algorithm='lloyd', copy_x=True, init='k-means++', max_iter=300,\n",
    "       n_clusters=2, n_init=10, random_state=66, tol=0.0001, verbose=2)\n",
    "\n",
    "y=km1.fit_predict(X)"
   ]
  },
  {
   "cell_type": "code",
   "execution_count": 79,
   "id": "c975dc65",
   "metadata": {},
   "outputs": [
    {
     "data": {
      "text/plain": [
       "5023"
      ]
     },
     "execution_count": 79,
     "metadata": {},
     "output_type": "execute_result"
    }
   ],
   "source": [
    "len(y)"
   ]
  },
  {
   "cell_type": "code",
   "execution_count": 80,
   "id": "0d09c0f0",
   "metadata": {},
   "outputs": [],
   "source": [
    "df_train['clusters']=y"
   ]
  },
  {
   "cell_type": "code",
   "execution_count": 81,
   "id": "ecd68d80",
   "metadata": {},
   "outputs": [],
   "source": [
    "cluster=df_train[['subject','Group','clusters']]"
   ]
  },
  {
   "cell_type": "code",
   "execution_count": 82,
   "id": "eb83b30c",
   "metadata": {},
   "outputs": [
    {
     "data": {
      "text/html": [
       "<div>\n",
       "<style scoped>\n",
       "    .dataframe tbody tr th:only-of-type {\n",
       "        vertical-align: middle;\n",
       "    }\n",
       "\n",
       "    .dataframe tbody tr th {\n",
       "        vertical-align: top;\n",
       "    }\n",
       "\n",
       "    .dataframe thead th {\n",
       "        text-align: right;\n",
       "    }\n",
       "</style>\n",
       "<table border=\"1\" class=\"dataframe\">\n",
       "  <thead>\n",
       "    <tr style=\"text-align: right;\">\n",
       "      <th></th>\n",
       "      <th>subject</th>\n",
       "      <th>Group</th>\n",
       "      <th>clusters</th>\n",
       "    </tr>\n",
       "  </thead>\n",
       "  <tbody>\n",
       "    <tr>\n",
       "      <th>0</th>\n",
       "      <td>300_P_0.wav</td>\n",
       "      <td>0</td>\n",
       "      <td>1</td>\n",
       "    </tr>\n",
       "    <tr>\n",
       "      <th>1</th>\n",
       "      <td>300_P_1.wav</td>\n",
       "      <td>0</td>\n",
       "      <td>0</td>\n",
       "    </tr>\n",
       "    <tr>\n",
       "      <th>2</th>\n",
       "      <td>300_P_10.wav</td>\n",
       "      <td>0</td>\n",
       "      <td>0</td>\n",
       "    </tr>\n",
       "    <tr>\n",
       "      <th>3</th>\n",
       "      <td>300_P_11.wav</td>\n",
       "      <td>0</td>\n",
       "      <td>1</td>\n",
       "    </tr>\n",
       "    <tr>\n",
       "      <th>4</th>\n",
       "      <td>300_P_12.wav</td>\n",
       "      <td>0</td>\n",
       "      <td>0</td>\n",
       "    </tr>\n",
       "    <tr>\n",
       "      <th>...</th>\n",
       "      <td>...</td>\n",
       "      <td>...</td>\n",
       "      <td>...</td>\n",
       "    </tr>\n",
       "    <tr>\n",
       "      <th>5018</th>\n",
       "      <td>713_P_5.wav</td>\n",
       "      <td>0</td>\n",
       "      <td>1</td>\n",
       "    </tr>\n",
       "    <tr>\n",
       "      <th>5019</th>\n",
       "      <td>713_P_6.wav</td>\n",
       "      <td>0</td>\n",
       "      <td>0</td>\n",
       "    </tr>\n",
       "    <tr>\n",
       "      <th>5020</th>\n",
       "      <td>713_P_7.wav</td>\n",
       "      <td>0</td>\n",
       "      <td>1</td>\n",
       "    </tr>\n",
       "    <tr>\n",
       "      <th>5021</th>\n",
       "      <td>713_P_8.wav</td>\n",
       "      <td>0</td>\n",
       "      <td>1</td>\n",
       "    </tr>\n",
       "    <tr>\n",
       "      <th>5022</th>\n",
       "      <td>713_P_9.wav</td>\n",
       "      <td>0</td>\n",
       "      <td>0</td>\n",
       "    </tr>\n",
       "  </tbody>\n",
       "</table>\n",
       "<p>5023 rows × 3 columns</p>\n",
       "</div>"
      ],
      "text/plain": [
       "           subject  Group  clusters\n",
       "0      300_P_0.wav      0         1\n",
       "1      300_P_1.wav      0         0\n",
       "2     300_P_10.wav      0         0\n",
       "3     300_P_11.wav      0         1\n",
       "4     300_P_12.wav      0         0\n",
       "...            ...    ...       ...\n",
       "5018   713_P_5.wav      0         1\n",
       "5019   713_P_6.wav      0         0\n",
       "5020   713_P_7.wav      0         1\n",
       "5021   713_P_8.wav      0         1\n",
       "5022   713_P_9.wav      0         0\n",
       "\n",
       "[5023 rows x 3 columns]"
      ]
     },
     "execution_count": 82,
     "metadata": {},
     "output_type": "execute_result"
    }
   ],
   "source": [
    "cluster"
   ]
  },
  {
   "cell_type": "code",
   "execution_count": 83,
   "id": "f033ccfe",
   "metadata": {},
   "outputs": [
    {
     "data": {
      "text/plain": [
       "0.5134381843519809"
      ]
     },
     "execution_count": 83,
     "metadata": {},
     "output_type": "execute_result"
    }
   ],
   "source": [
    "from sklearn import metrics\n",
    "metrics.accuracy_score(Y,y)"
   ]
  },
  {
   "cell_type": "code",
   "execution_count": 84,
   "id": "36533632",
   "metadata": {},
   "outputs": [
    {
     "name": "stdout",
     "output_type": "stream",
     "text": [
      "              precision    recall  f1-score   support\n",
      "\n",
      "           0       0.75      0.56      0.64      3878\n",
      "           1       0.19      0.35      0.25      1145\n",
      "\n",
      "    accuracy                           0.51      5023\n",
      "   macro avg       0.47      0.46      0.44      5023\n",
      "weighted avg       0.62      0.51      0.55      5023\n",
      "\n"
     ]
    }
   ],
   "source": [
    "from sklearn.metrics import classification_report\n",
    "print(classification_report(Y,y))"
   ]
  },
  {
   "cell_type": "code",
   "execution_count": 85,
   "id": "637408a7",
   "metadata": {
    "scrolled": true
   },
   "outputs": [
    {
     "data": {
      "image/png": "[encoded data removed]",
      "text/plain": [
       "<Figure size 640x480 with 1 Axes>"
      ]
     },
     "metadata": {},
     "output_type": "display_data"
    }
   ],
   "source": [
    "sns.scatterplot(x=\"PCA1\",y=\"PCA2\",hue=y,palette=['green','red'],data=pca_df)\n",
    "plt.title(\"K-means Clustering for for 2 Classes\")\n",
    "plt.show()"
   ]
  },
  {
   "cell_type": "code",
   "execution_count": 86,
   "id": "894241ff",
   "metadata": {},
   "outputs": [
    {
     "data": {
      "image/png": "[encoded data removed]",
      "text/plain": [
       "<Figure size 640x480 with 1 Axes>"
      ]
     },
     "metadata": {},
     "output_type": "display_data"
    }
   ],
   "source": [
    "sns.scatterplot(x=\"PCA1\",y=\"PCA2\",hue=Y,palette=['green','red'],data=pca_df)\n",
    "plt.title(\"K-means Clustering for for 2 Classes\")\n",
    "plt.show()"
   ]
  },
  {
   "cell_type": "code",
   "execution_count": 87,
   "id": "4088929b",
   "metadata": {},
   "outputs": [],
   "source": [
    "#cluster.to_csv('/home/vboxuser/VoiceFiles/kmeans.csv')"
   ]
  },
  {
   "cell_type": "code",
   "execution_count": 88,
   "id": "7f2b4923",
   "metadata": {},
   "outputs": [],
   "source": [
    "selection=cluster[cluster['Group']==cluster['clusters']]"
   ]
  },
  {
   "cell_type": "code",
   "execution_count": 89,
   "id": "cd8d7716",
   "metadata": {},
   "outputs": [
    {
     "data": {
      "text/plain": [
       "Group\n",
       "0    2180\n",
       "1     399\n",
       "Name: Group, dtype: int64"
      ]
     },
     "execution_count": 89,
     "metadata": {},
     "output_type": "execute_result"
    }
   ],
   "source": [
    "selection.groupby(['Group'])['Group'].count()"
   ]
  },
  {
   "cell_type": "markdown",
   "id": "d3fc810b",
   "metadata": {},
   "source": [
    "2180  correctly classified data points"
   ]
  },
  {
   "cell_type": "code",
   "execution_count": 90,
   "id": "e66dfc2a",
   "metadata": {},
   "outputs": [
    {
     "data": {
      "text/html": [
       "<div>\n",
       "<style scoped>\n",
       "    .dataframe tbody tr th:only-of-type {\n",
       "        vertical-align: middle;\n",
       "    }\n",
       "\n",
       "    .dataframe tbody tr th {\n",
       "        vertical-align: top;\n",
       "    }\n",
       "\n",
       "    .dataframe thead th {\n",
       "        text-align: right;\n",
       "    }\n",
       "</style>\n",
       "<table border=\"1\" class=\"dataframe\">\n",
       "  <thead>\n",
       "    <tr style=\"text-align: right;\">\n",
       "      <th></th>\n",
       "      <th>subject</th>\n",
       "      <th>Group</th>\n",
       "      <th>clusters</th>\n",
       "    </tr>\n",
       "  </thead>\n",
       "  <tbody>\n",
       "    <tr>\n",
       "      <th>1</th>\n",
       "      <td>300_P_1.wav</td>\n",
       "      <td>0</td>\n",
       "      <td>0</td>\n",
       "    </tr>\n",
       "    <tr>\n",
       "      <th>2</th>\n",
       "      <td>300_P_10.wav</td>\n",
       "      <td>0</td>\n",
       "      <td>0</td>\n",
       "    </tr>\n",
       "    <tr>\n",
       "      <th>4</th>\n",
       "      <td>300_P_12.wav</td>\n",
       "      <td>0</td>\n",
       "      <td>0</td>\n",
       "    </tr>\n",
       "    <tr>\n",
       "      <th>5</th>\n",
       "      <td>300_P_13.wav</td>\n",
       "      <td>0</td>\n",
       "      <td>0</td>\n",
       "    </tr>\n",
       "    <tr>\n",
       "      <th>9</th>\n",
       "      <td>300_P_17.wav</td>\n",
       "      <td>0</td>\n",
       "      <td>0</td>\n",
       "    </tr>\n",
       "    <tr>\n",
       "      <th>...</th>\n",
       "      <td>...</td>\n",
       "      <td>...</td>\n",
       "      <td>...</td>\n",
       "    </tr>\n",
       "    <tr>\n",
       "      <th>5009</th>\n",
       "      <td>713_P_4.wav</td>\n",
       "      <td>0</td>\n",
       "      <td>0</td>\n",
       "    </tr>\n",
       "    <tr>\n",
       "      <th>5010</th>\n",
       "      <td>713_P_40.wav</td>\n",
       "      <td>0</td>\n",
       "      <td>0</td>\n",
       "    </tr>\n",
       "    <tr>\n",
       "      <th>5016</th>\n",
       "      <td>713_P_46.wav</td>\n",
       "      <td>0</td>\n",
       "      <td>0</td>\n",
       "    </tr>\n",
       "    <tr>\n",
       "      <th>5019</th>\n",
       "      <td>713_P_6.wav</td>\n",
       "      <td>0</td>\n",
       "      <td>0</td>\n",
       "    </tr>\n",
       "    <tr>\n",
       "      <th>5022</th>\n",
       "      <td>713_P_9.wav</td>\n",
       "      <td>0</td>\n",
       "      <td>0</td>\n",
       "    </tr>\n",
       "  </tbody>\n",
       "</table>\n",
       "<p>2579 rows × 3 columns</p>\n",
       "</div>"
      ],
      "text/plain": [
       "           subject  Group  clusters\n",
       "1      300_P_1.wav      0         0\n",
       "2     300_P_10.wav      0         0\n",
       "4     300_P_12.wav      0         0\n",
       "5     300_P_13.wav      0         0\n",
       "9     300_P_17.wav      0         0\n",
       "...            ...    ...       ...\n",
       "5009   713_P_4.wav      0         0\n",
       "5010  713_P_40.wav      0         0\n",
       "5016  713_P_46.wav      0         0\n",
       "5019   713_P_6.wav      0         0\n",
       "5022   713_P_9.wav      0         0\n",
       "\n",
       "[2579 rows x 3 columns]"
      ]
     },
     "execution_count": 90,
     "metadata": {},
     "output_type": "execute_result"
    }
   ],
   "source": [
    "selection"
   ]
  },
  {
   "cell_type": "code",
   "execution_count": 91,
   "id": "179d4436",
   "metadata": {},
   "outputs": [],
   "source": [
    "new_df=df_train[df_train.index.isin(selection.index)]"
   ]
  },
  {
   "cell_type": "code",
   "execution_count": 92,
   "id": "f72ca0ca",
   "metadata": {},
   "outputs": [
    {
     "data": {
      "text/plain": [
       "(2579, 106)"
      ]
     },
     "execution_count": 92,
     "metadata": {},
     "output_type": "execute_result"
    }
   ],
   "source": [
    "new_df.shape"
   ]
  },
  {
   "cell_type": "code",
   "execution_count": 93,
   "id": "e8714076",
   "metadata": {},
   "outputs": [
    {
     "data": {
      "text/plain": [
       "Group\n",
       "0    2180\n",
       "1     399\n",
       "Name: Group, dtype: int64"
      ]
     },
     "execution_count": 93,
     "metadata": {},
     "output_type": "execute_result"
    }
   ],
   "source": [
    "new_df.groupby(['Group'])['Group'].count()"
   ]
  },
  {
   "cell_type": "code",
   "execution_count": 94,
   "id": "86fb5279",
   "metadata": {},
   "outputs": [],
   "source": [
    "X_train=new_df[new_df.columns.intersection(feature_list)]\n",
    "Y_train=new_df['Group']"
   ]
  },
  {
   "cell_type": "code",
   "execution_count": 95,
   "id": "b7e2e0df",
   "metadata": {},
   "outputs": [
    {
     "data": {
      "text/plain": [
       "(2579, 20)"
      ]
     },
     "execution_count": 95,
     "metadata": {},
     "output_type": "execute_result"
    }
   ],
   "source": [
    "X_train.shape"
   ]
  },
  {
   "cell_type": "code",
   "execution_count": 96,
   "id": "fbe46b70",
   "metadata": {},
   "outputs": [
    {
     "data": {
      "text/plain": [
       "(2579,)"
      ]
     },
     "execution_count": 96,
     "metadata": {},
     "output_type": "execute_result"
    }
   ],
   "source": [
    "Y_train.shape"
   ]
  },
  {
   "cell_type": "code",
   "execution_count": 97,
   "id": "fc9b258c",
   "metadata": {},
   "outputs": [],
   "source": [
    "! pip install imblearn --quiet\n",
    "\n",
    "from imblearn.over_sampling import SMOTE\n",
    "\n",
    "sm = SMOTE(sampling_strategy='minority', random_state=42)\n",
    "\n",
    "X_train_resampled, Y_train_resampled = sm.fit_resample(X_train,Y_train)\n",
    "df_train_upsampled = pd.concat([pd.DataFrame(Y_train_resampled), pd.DataFrame(X_train_resampled)], axis=1)"
   ]
  },
  {
   "cell_type": "markdown",
   "id": "132b2c15",
   "metadata": {},
   "source": [
    "from sklearn.utils import resample\n",
    "\n",
    "df_1=new_df[new_df['Group']==1]\n",
    "df_other=new_df[new_df['Group']!=1]\n",
    "df_upsampled=resample(df_1,random_state=42,n_samples=2228,replace=True)\n",
    "df_train_upsampled=pd.concat([df_upsampled,df_other])"
   ]
  },
  {
   "cell_type": "code",
   "execution_count": 98,
   "id": "d3a7c3ca",
   "metadata": {},
   "outputs": [
    {
     "data": {
      "text/plain": [
       "Group\n",
       "0    2180\n",
       "1    2180\n",
       "Name: Group, dtype: int64"
      ]
     },
     "execution_count": 98,
     "metadata": {},
     "output_type": "execute_result"
    }
   ],
   "source": [
    "df_train_upsampled.groupby(['Group'])['Group'].count()"
   ]
  },
  {
   "cell_type": "code",
   "execution_count": 99,
   "id": "f4f0d474",
   "metadata": {},
   "outputs": [
    {
     "data": {
      "text/html": [
       "<div>\n",
       "<style scoped>\n",
       "    .dataframe tbody tr th:only-of-type {\n",
       "        vertical-align: middle;\n",
       "    }\n",
       "\n",
       "    .dataframe tbody tr th {\n",
       "        vertical-align: top;\n",
       "    }\n",
       "\n",
       "    .dataframe thead th {\n",
       "        text-align: right;\n",
       "    }\n",
       "</style>\n",
       "<table border=\"1\" class=\"dataframe\">\n",
       "  <thead>\n",
       "    <tr style=\"text-align: right;\">\n",
       "      <th></th>\n",
       "      <th>Group</th>\n",
       "      <th>F0max</th>\n",
       "      <th>F0skew</th>\n",
       "      <th>F0kurt</th>\n",
       "      <th>F0tiltmax</th>\n",
       "      <th>F0tiltskw</th>\n",
       "      <th>lastF0skw</th>\n",
       "      <th>stdEunvoiced</th>\n",
       "      <th>kurtosisEunvoiced</th>\n",
       "      <th>avgtiltEunvoiced</th>\n",
       "      <th>...</th>\n",
       "      <th>kurtosistiltEunvoiced</th>\n",
       "      <th>avgmseEunvoiced</th>\n",
       "      <th>stdmseEunvoiced</th>\n",
       "      <th>kurtosislastEunvoiced</th>\n",
       "      <th>avgdurunvoiced</th>\n",
       "      <th>maxdurunvoiced</th>\n",
       "      <th>mindurunvoiced</th>\n",
       "      <th>UVU</th>\n",
       "      <th>VP</th>\n",
       "      <th>UP</th>\n",
       "    </tr>\n",
       "  </thead>\n",
       "  <tbody>\n",
       "    <tr>\n",
       "      <th>0</th>\n",
       "      <td>0</td>\n",
       "      <td>146.793304</td>\n",
       "      <td>-0.113077</td>\n",
       "      <td>-0.996979</td>\n",
       "      <td>13.182021</td>\n",
       "      <td>-0.298006</td>\n",
       "      <td>0.693419</td>\n",
       "      <td>0.000000</td>\n",
       "      <td>0.000000</td>\n",
       "      <td>0.000000</td>\n",
       "      <td>...</td>\n",
       "      <td>0.000000</td>\n",
       "      <td>0.000000</td>\n",
       "      <td>0.000000</td>\n",
       "      <td>0.000000</td>\n",
       "      <td>0.000000</td>\n",
       "      <td>0.000000</td>\n",
       "      <td>0.000000</td>\n",
       "      <td>0.000000</td>\n",
       "      <td>0.000000</td>\n",
       "      <td>0.000000</td>\n",
       "    </tr>\n",
       "    <tr>\n",
       "      <th>1</th>\n",
       "      <td>0</td>\n",
       "      <td>205.637115</td>\n",
       "      <td>2.033316</td>\n",
       "      <td>3.646668</td>\n",
       "      <td>-4.268436</td>\n",
       "      <td>-0.724887</td>\n",
       "      <td>-0.362247</td>\n",
       "      <td>1.802530</td>\n",
       "      <td>-0.534848</td>\n",
       "      <td>-6.132327</td>\n",
       "      <td>...</td>\n",
       "      <td>-2.000000</td>\n",
       "      <td>3.537560</td>\n",
       "      <td>2.085022</td>\n",
       "      <td>-0.142496</td>\n",
       "      <td>0.110000</td>\n",
       "      <td>0.140000</td>\n",
       "      <td>0.080000</td>\n",
       "      <td>0.189657</td>\n",
       "      <td>1.167707</td>\n",
       "      <td>0.273296</td>\n",
       "    </tr>\n",
       "    <tr>\n",
       "      <th>2</th>\n",
       "      <td>0</td>\n",
       "      <td>214.766144</td>\n",
       "      <td>1.277414</td>\n",
       "      <td>0.580108</td>\n",
       "      <td>188.020545</td>\n",
       "      <td>-0.035951</td>\n",
       "      <td>0.362130</td>\n",
       "      <td>2.136995</td>\n",
       "      <td>-1.156600</td>\n",
       "      <td>-21.273154</td>\n",
       "      <td>...</td>\n",
       "      <td>-0.146805</td>\n",
       "      <td>1.844393</td>\n",
       "      <td>1.520252</td>\n",
       "      <td>-1.500000</td>\n",
       "      <td>0.071663</td>\n",
       "      <td>0.100000</td>\n",
       "      <td>0.049977</td>\n",
       "      <td>0.178908</td>\n",
       "      <td>1.069515</td>\n",
       "      <td>0.233037</td>\n",
       "    </tr>\n",
       "    <tr>\n",
       "      <th>3</th>\n",
       "      <td>0</td>\n",
       "      <td>181.004791</td>\n",
       "      <td>1.564075</td>\n",
       "      <td>2.366360</td>\n",
       "      <td>64.425287</td>\n",
       "      <td>-0.308938</td>\n",
       "      <td>-0.085538</td>\n",
       "      <td>1.930065</td>\n",
       "      <td>0.319358</td>\n",
       "      <td>95.777751</td>\n",
       "      <td>...</td>\n",
       "      <td>-1.500000</td>\n",
       "      <td>2.306516</td>\n",
       "      <td>2.555852</td>\n",
       "      <td>-3.000000</td>\n",
       "      <td>0.062506</td>\n",
       "      <td>0.140000</td>\n",
       "      <td>0.020000</td>\n",
       "      <td>0.108906</td>\n",
       "      <td>2.130979</td>\n",
       "      <td>0.260440</td>\n",
       "    </tr>\n",
       "    <tr>\n",
       "      <th>4</th>\n",
       "      <td>0</td>\n",
       "      <td>212.089783</td>\n",
       "      <td>1.764558</td>\n",
       "      <td>2.003307</td>\n",
       "      <td>17.456528</td>\n",
       "      <td>-1.358917</td>\n",
       "      <td>0.352421</td>\n",
       "      <td>2.958026</td>\n",
       "      <td>0.040333</td>\n",
       "      <td>23.501687</td>\n",
       "      <td>...</td>\n",
       "      <td>-2.000000</td>\n",
       "      <td>7.249213</td>\n",
       "      <td>1.283350</td>\n",
       "      <td>1.422434</td>\n",
       "      <td>0.104989</td>\n",
       "      <td>0.109977</td>\n",
       "      <td>0.100000</td>\n",
       "      <td>0.175472</td>\n",
       "      <td>1.450980</td>\n",
       "      <td>0.308790</td>\n",
       "    </tr>\n",
       "    <tr>\n",
       "      <th>...</th>\n",
       "      <td>...</td>\n",
       "      <td>...</td>\n",
       "      <td>...</td>\n",
       "      <td>...</td>\n",
       "      <td>...</td>\n",
       "      <td>...</td>\n",
       "      <td>...</td>\n",
       "      <td>...</td>\n",
       "      <td>...</td>\n",
       "      <td>...</td>\n",
       "      <td>...</td>\n",
       "      <td>...</td>\n",
       "      <td>...</td>\n",
       "      <td>...</td>\n",
       "      <td>...</td>\n",
       "      <td>...</td>\n",
       "      <td>...</td>\n",
       "      <td>...</td>\n",
       "      <td>...</td>\n",
       "      <td>...</td>\n",
       "      <td>...</td>\n",
       "    </tr>\n",
       "    <tr>\n",
       "      <th>4355</th>\n",
       "      <td>1</td>\n",
       "      <td>267.353640</td>\n",
       "      <td>2.023349</td>\n",
       "      <td>4.890689</td>\n",
       "      <td>117.725817</td>\n",
       "      <td>-0.272927</td>\n",
       "      <td>-2.308182</td>\n",
       "      <td>3.361522</td>\n",
       "      <td>-0.920277</td>\n",
       "      <td>-4.510480</td>\n",
       "      <td>...</td>\n",
       "      <td>-0.986640</td>\n",
       "      <td>16.290897</td>\n",
       "      <td>18.458154</td>\n",
       "      <td>-0.934034</td>\n",
       "      <td>0.080842</td>\n",
       "      <td>0.110000</td>\n",
       "      <td>0.044489</td>\n",
       "      <td>0.265221</td>\n",
       "      <td>0.732702</td>\n",
       "      <td>0.244191</td>\n",
       "    </tr>\n",
       "    <tr>\n",
       "      <th>4356</th>\n",
       "      <td>1</td>\n",
       "      <td>268.395712</td>\n",
       "      <td>1.021097</td>\n",
       "      <td>2.071201</td>\n",
       "      <td>207.036711</td>\n",
       "      <td>-0.089490</td>\n",
       "      <td>0.466445</td>\n",
       "      <td>4.925504</td>\n",
       "      <td>-0.449681</td>\n",
       "      <td>113.262284</td>\n",
       "      <td>...</td>\n",
       "      <td>-1.204686</td>\n",
       "      <td>15.957953</td>\n",
       "      <td>5.696924</td>\n",
       "      <td>-1.294383</td>\n",
       "      <td>0.074480</td>\n",
       "      <td>0.140000</td>\n",
       "      <td>0.010023</td>\n",
       "      <td>0.207705</td>\n",
       "      <td>0.846594</td>\n",
       "      <td>0.221501</td>\n",
       "    </tr>\n",
       "    <tr>\n",
       "      <th>4357</th>\n",
       "      <td>1</td>\n",
       "      <td>246.039539</td>\n",
       "      <td>-1.613319</td>\n",
       "      <td>4.354294</td>\n",
       "      <td>428.939200</td>\n",
       "      <td>-1.260953</td>\n",
       "      <td>-0.700756</td>\n",
       "      <td>4.184073</td>\n",
       "      <td>-0.826370</td>\n",
       "      <td>91.489115</td>\n",
       "      <td>...</td>\n",
       "      <td>0.816889</td>\n",
       "      <td>13.275594</td>\n",
       "      <td>15.685188</td>\n",
       "      <td>0.758430</td>\n",
       "      <td>0.087514</td>\n",
       "      <td>0.140000</td>\n",
       "      <td>0.038762</td>\n",
       "      <td>0.292216</td>\n",
       "      <td>0.713231</td>\n",
       "      <td>0.286906</td>\n",
       "    </tr>\n",
       "    <tr>\n",
       "      <th>4358</th>\n",
       "      <td>1</td>\n",
       "      <td>233.286541</td>\n",
       "      <td>-0.218237</td>\n",
       "      <td>2.770056</td>\n",
       "      <td>57.381408</td>\n",
       "      <td>-0.487396</td>\n",
       "      <td>0.055405</td>\n",
       "      <td>2.835471</td>\n",
       "      <td>-0.812450</td>\n",
       "      <td>62.354103</td>\n",
       "      <td>...</td>\n",
       "      <td>-1.166623</td>\n",
       "      <td>4.136373</td>\n",
       "      <td>2.613343</td>\n",
       "      <td>-0.106354</td>\n",
       "      <td>0.066642</td>\n",
       "      <td>0.092137</td>\n",
       "      <td>0.033810</td>\n",
       "      <td>0.244381</td>\n",
       "      <td>0.486802</td>\n",
       "      <td>0.155765</td>\n",
       "    </tr>\n",
       "    <tr>\n",
       "      <th>4359</th>\n",
       "      <td>1</td>\n",
       "      <td>263.097188</td>\n",
       "      <td>-0.120787</td>\n",
       "      <td>-1.247301</td>\n",
       "      <td>37.421960</td>\n",
       "      <td>-1.944041</td>\n",
       "      <td>-1.091970</td>\n",
       "      <td>3.764008</td>\n",
       "      <td>-1.514931</td>\n",
       "      <td>87.910644</td>\n",
       "      <td>...</td>\n",
       "      <td>-1.988451</td>\n",
       "      <td>3.425128</td>\n",
       "      <td>1.005632</td>\n",
       "      <td>-1.482688</td>\n",
       "      <td>0.084937</td>\n",
       "      <td>0.129923</td>\n",
       "      <td>0.040099</td>\n",
       "      <td>0.193477</td>\n",
       "      <td>0.753333</td>\n",
       "      <td>0.182969</td>\n",
       "    </tr>\n",
       "  </tbody>\n",
       "</table>\n",
       "<p>4360 rows × 21 columns</p>\n",
       "</div>"
      ],
      "text/plain": [
       "      Group       F0max    F0skew    F0kurt   F0tiltmax  F0tiltskw  lastF0skw  \\\n",
       "0         0  146.793304 -0.113077 -0.996979   13.182021  -0.298006   0.693419   \n",
       "1         0  205.637115  2.033316  3.646668   -4.268436  -0.724887  -0.362247   \n",
       "2         0  214.766144  1.277414  0.580108  188.020545  -0.035951   0.362130   \n",
       "3         0  181.004791  1.564075  2.366360   64.425287  -0.308938  -0.085538   \n",
       "4         0  212.089783  1.764558  2.003307   17.456528  -1.358917   0.352421   \n",
       "...     ...         ...       ...       ...         ...        ...        ...   \n",
       "4355      1  267.353640  2.023349  4.890689  117.725817  -0.272927  -2.308182   \n",
       "4356      1  268.395712  1.021097  2.071201  207.036711  -0.089490   0.466445   \n",
       "4357      1  246.039539 -1.613319  4.354294  428.939200  -1.260953  -0.700756   \n",
       "4358      1  233.286541 -0.218237  2.770056   57.381408  -0.487396   0.055405   \n",
       "4359      1  263.097188 -0.120787 -1.247301   37.421960  -1.944041  -1.091970   \n",
       "\n",
       "      stdEunvoiced  kurtosisEunvoiced  avgtiltEunvoiced  ...  \\\n",
       "0         0.000000           0.000000          0.000000  ...   \n",
       "1         1.802530          -0.534848         -6.132327  ...   \n",
       "2         2.136995          -1.156600        -21.273154  ...   \n",
       "3         1.930065           0.319358         95.777751  ...   \n",
       "4         2.958026           0.040333         23.501687  ...   \n",
       "...            ...                ...               ...  ...   \n",
       "4355      3.361522          -0.920277         -4.510480  ...   \n",
       "4356      4.925504          -0.449681        113.262284  ...   \n",
       "4357      4.184073          -0.826370         91.489115  ...   \n",
       "4358      2.835471          -0.812450         62.354103  ...   \n",
       "4359      3.764008          -1.514931         87.910644  ...   \n",
       "\n",
       "      kurtosistiltEunvoiced  avgmseEunvoiced  stdmseEunvoiced  \\\n",
       "0                  0.000000         0.000000         0.000000   \n",
       "1                 -2.000000         3.537560         2.085022   \n",
       "2                 -0.146805         1.844393         1.520252   \n",
       "3                 -1.500000         2.306516         2.555852   \n",
       "4                 -2.000000         7.249213         1.283350   \n",
       "...                     ...              ...              ...   \n",
       "4355              -0.986640        16.290897        18.458154   \n",
       "4356              -1.204686        15.957953         5.696924   \n",
       "4357               0.816889        13.275594        15.685188   \n",
       "4358              -1.166623         4.136373         2.613343   \n",
       "4359              -1.988451         3.425128         1.005632   \n",
       "\n",
       "      kurtosislastEunvoiced  avgdurunvoiced  maxdurunvoiced  mindurunvoiced  \\\n",
       "0                  0.000000        0.000000        0.000000        0.000000   \n",
       "1                 -0.142496        0.110000        0.140000        0.080000   \n",
       "2                 -1.500000        0.071663        0.100000        0.049977   \n",
       "3                 -3.000000        0.062506        0.140000        0.020000   \n",
       "4                  1.422434        0.104989        0.109977        0.100000   \n",
       "...                     ...             ...             ...             ...   \n",
       "4355              -0.934034        0.080842        0.110000        0.044489   \n",
       "4356              -1.294383        0.074480        0.140000        0.010023   \n",
       "4357               0.758430        0.087514        0.140000        0.038762   \n",
       "4358              -0.106354        0.066642        0.092137        0.033810   \n",
       "4359              -1.482688        0.084937        0.129923        0.040099   \n",
       "\n",
       "           UVU        VP        UP  \n",
       "0     0.000000  0.000000  0.000000  \n",
       "1     0.189657  1.167707  0.273296  \n",
       "2     0.178908  1.069515  0.233037  \n",
       "3     0.108906  2.130979  0.260440  \n",
       "4     0.175472  1.450980  0.308790  \n",
       "...        ...       ...       ...  \n",
       "4355  0.265221  0.732702  0.244191  \n",
       "4356  0.207705  0.846594  0.221501  \n",
       "4357  0.292216  0.713231  0.286906  \n",
       "4358  0.244381  0.486802  0.155765  \n",
       "4359  0.193477  0.753333  0.182969  \n",
       "\n",
       "[4360 rows x 21 columns]"
      ]
     },
     "execution_count": 99,
     "metadata": {},
     "output_type": "execute_result"
    }
   ],
   "source": [
    "df_train_upsampled"
   ]
  },
  {
   "cell_type": "code",
   "execution_count": 100,
   "id": "cbff6951",
   "metadata": {},
   "outputs": [],
   "source": [
    "X_train_resampled=df_train_upsampled.drop(['Group'],axis=1)\n",
    "Y_train_resampled=df_train_upsampled['Group']"
   ]
  },
  {
   "cell_type": "code",
   "execution_count": 101,
   "id": "95eaaec5",
   "metadata": {},
   "outputs": [
    {
     "data": {
      "text/plain": [
       "(4360, 20)"
      ]
     },
     "execution_count": 101,
     "metadata": {},
     "output_type": "execute_result"
    }
   ],
   "source": [
    "X_train_resampled.shape"
   ]
  },
  {
   "cell_type": "code",
   "execution_count": 102,
   "id": "171f23c8",
   "metadata": {},
   "outputs": [],
   "source": [
    "import Normalization as n\n",
    "X=n.normalize_train(X_train_resampled)"
   ]
  },
  {
   "cell_type": "code",
   "execution_count": 103,
   "id": "03b96419",
   "metadata": {},
   "outputs": [],
   "source": [
    "Y=Y_train_resampled"
   ]
  },
  {
   "cell_type": "code",
   "execution_count": 104,
   "id": "43800463",
   "metadata": {},
   "outputs": [],
   "source": [
    "df_test=df_test.fillna(0)"
   ]
  },
  {
   "cell_type": "code",
   "execution_count": 105,
   "id": "eae04045",
   "metadata": {},
   "outputs": [],
   "source": [
    "#X_test=df_test[df_test.columns.intersection(feature_list)]\n",
    "#df_test[df_test.index.isin(selection.index)]\n",
    "df_test.replace({'Group':{\"HC\":0,\"DP\":1}},inplace=True)\n",
    "#Y_test=df_test['Group']"
   ]
  },
  {
   "cell_type": "code",
   "execution_count": 106,
   "id": "1c5abe86",
   "metadata": {},
   "outputs": [],
   "source": [
    "import itertools\n",
    "subject = df_test['subject']\n",
    "# empty list\n",
    "result = []\n",
    "\n",
    "iterator = itertools.groupby(subject, lambda string: string.split('_')[0])\n",
    "\n",
    "for element, group in iterator:\n",
    "   \n",
    "   result.append(list(group))"
   ]
  },
  {
   "cell_type": "code",
   "execution_count": 107,
   "id": "6d917258",
   "metadata": {},
   "outputs": [
    {
     "data": {
      "text/plain": [
       "56"
      ]
     },
     "execution_count": 107,
     "metadata": {},
     "output_type": "execute_result"
    }
   ],
   "source": [
    "len(result)"
   ]
  },
  {
   "cell_type": "code",
   "execution_count": 108,
   "id": "56c0843c",
   "metadata": {},
   "outputs": [],
   "source": [
    "from sklearn.svm import SVC"
   ]
  },
  {
   "cell_type": "code",
   "execution_count": 109,
   "id": "a9e69903",
   "metadata": {},
   "outputs": [],
   "source": [
    "X_test=df_test[df_test.columns.intersection(feature_list)]\n",
    "X_test=n.normalize_test(X_test)\n",
    "Y_test=df_test['Group']"
   ]
  },
  {
   "cell_type": "code",
   "execution_count": 110,
   "id": "3b081c33",
   "metadata": {},
   "outputs": [
    {
     "data": {
      "text/plain": [
       "(4580,)"
      ]
     },
     "execution_count": 110,
     "metadata": {},
     "output_type": "execute_result"
    }
   ],
   "source": [
    "Y_test.shape"
   ]
  },
  {
   "cell_type": "code",
   "execution_count": 111,
   "id": "ccd87d4f",
   "metadata": {},
   "outputs": [],
   "source": [
    "SVM_model = SVC(kernel='rbf',C=1,gamma=0.1, class_weight='balanced')\n",
    "SVM_model.fit(X,Y)\n",
    "Y_predict_SVM=SVM_model.predict(X_test)\n",
    "acc= metrics.accuracy_score(Y_test,Y_predict_SVM)"
   ]
  },
  {
   "cell_type": "code",
   "execution_count": 112,
   "id": "77176c84",
   "metadata": {},
   "outputs": [
    {
     "data": {
      "text/plain": [
       "0.6246724890829695"
      ]
     },
     "execution_count": 112,
     "metadata": {},
     "output_type": "execute_result"
    }
   ],
   "source": [
    "acc"
   ]
  },
  {
   "cell_type": "code",
   "execution_count": 113,
   "id": "1822c952",
   "metadata": {},
   "outputs": [],
   "source": [
    "param_grid= {'C':[0.1,1],\n",
    "             'gamma':[1,0.1,0.01],\n",
    "             'kernel':['rbf']\n",
    "            }"
   ]
  },
  {
   "cell_type": "code",
   "execution_count": 114,
   "id": "9db4b0ab",
   "metadata": {},
   "outputs": [
    {
     "name": "stdout",
     "output_type": "stream",
     "text": [
      "Fitting 5 folds for each of 6 candidates, totalling 30 fits\n",
      "[CV 1/5] END ........C=0.1, gamma=1, kernel=rbf;, score=0.524 total time=   4.4s\n",
      "[CV 2/5] END ........C=0.1, gamma=1, kernel=rbf;, score=0.514 total time=   6.5s\n",
      "[CV 3/5] END ........C=0.1, gamma=1, kernel=rbf;, score=0.546 total time=   3.0s\n",
      "[CV 4/5] END ........C=0.1, gamma=1, kernel=rbf;, score=0.509 total time=   4.3s\n",
      "[CV 5/5] END ........C=0.1, gamma=1, kernel=rbf;, score=0.581 total time=   3.5s\n",
      "[CV 1/5] END ......C=0.1, gamma=0.1, kernel=rbf;, score=0.919 total time=   3.0s\n",
      "[CV 2/5] END ......C=0.1, gamma=0.1, kernel=rbf;, score=0.969 total time=   1.9s\n",
      "[CV 3/5] END ......C=0.1, gamma=0.1, kernel=rbf;, score=0.950 total time=   1.6s\n",
      "[CV 4/5] END ......C=0.1, gamma=0.1, kernel=rbf;, score=0.943 total time=   2.7s\n",
      "[CV 5/5] END ......C=0.1, gamma=0.1, kernel=rbf;, score=0.970 total time=   1.7s\n",
      "[CV 1/5] END .....C=0.1, gamma=0.01, kernel=rbf;, score=0.956 total time=   2.1s\n",
      "[CV 2/5] END .....C=0.1, gamma=0.01, kernel=rbf;, score=0.959 total time=   1.7s\n",
      "[CV 3/5] END .....C=0.1, gamma=0.01, kernel=rbf;, score=0.927 total time=   1.0s\n",
      "[CV 4/5] END .....C=0.1, gamma=0.01, kernel=rbf;, score=0.937 total time=   1.0s\n",
      "[CV 5/5] END .....C=0.1, gamma=0.01, kernel=rbf;, score=0.972 total time=   1.1s\n",
      "[CV 1/5] END ..........C=1, gamma=1, kernel=rbf;, score=0.939 total time=   2.9s\n",
      "[CV 2/5] END ..........C=1, gamma=1, kernel=rbf;, score=0.911 total time=   3.3s\n",
      "[CV 3/5] END ..........C=1, gamma=1, kernel=rbf;, score=0.909 total time=   3.5s\n",
      "[CV 4/5] END ..........C=1, gamma=1, kernel=rbf;, score=0.908 total time=   2.7s\n",
      "[CV 5/5] END ..........C=1, gamma=1, kernel=rbf;, score=0.909 total time=   2.6s\n",
      "[CV 1/5] END ........C=1, gamma=0.1, kernel=rbf;, score=0.982 total time=   0.6s\n",
      "[CV 2/5] END ........C=1, gamma=0.1, kernel=rbf;, score=0.991 total time=   0.7s\n",
      "[CV 3/5] END ........C=1, gamma=0.1, kernel=rbf;, score=0.983 total time=   0.7s\n",
      "[CV 4/5] END ........C=1, gamma=0.1, kernel=rbf;, score=0.982 total time=   0.7s\n",
      "[CV 5/5] END ........C=1, gamma=0.1, kernel=rbf;, score=0.992 total time=   0.7s\n",
      "[CV 1/5] END .......C=1, gamma=0.01, kernel=rbf;, score=0.987 total time=   0.6s\n",
      "[CV 2/5] END .......C=1, gamma=0.01, kernel=rbf;, score=0.982 total time=   0.6s\n",
      "[CV 3/5] END .......C=1, gamma=0.01, kernel=rbf;, score=0.967 total time=   0.6s\n",
      "[CV 4/5] END .......C=1, gamma=0.01, kernel=rbf;, score=0.982 total time=   0.5s\n",
      "[CV 5/5] END .......C=1, gamma=0.01, kernel=rbf;, score=0.987 total time=   0.6s\n",
      "{'C': 1, 'gamma': 0.1, 'kernel': 'rbf'}\n"
     ]
    }
   ],
   "source": [
    "from sklearn.model_selection import GridSearchCV\n",
    "grid1= GridSearchCV(SVC(),param_grid=param_grid,refit=True,verbose=3)\n",
    "grid1.fit(X,Y)\n",
    "print(grid1.best_params_)"
   ]
  },
  {
   "cell_type": "code",
   "execution_count": 115,
   "id": "b0b8b6ba",
   "metadata": {},
   "outputs": [
    {
     "name": "stdout",
     "output_type": "stream",
     "text": [
      "              precision    recall  f1-score   support\n",
      "\n",
      "           0       0.76      0.70      0.73      3311\n",
      "           1       0.35      0.42      0.38      1269\n",
      "\n",
      "    accuracy                           0.62      4580\n",
      "   macro avg       0.55      0.56      0.56      4580\n",
      "weighted avg       0.65      0.62      0.63      4580\n",
      "\n"
     ]
    }
   ],
   "source": [
    "from sklearn.metrics import confusion_matrix,classification_report\n",
    "print(classification_report(Y_test,Y_predict_SVM))"
   ]
  },
  {
   "cell_type": "code",
   "execution_count": 116,
   "id": "13f098ca",
   "metadata": {},
   "outputs": [],
   "source": [
    "from statistics import mode"
   ]
  },
  {
   "cell_type": "code",
   "execution_count": 117,
   "id": "d147967c",
   "metadata": {},
   "outputs": [
    {
     "name": "stdout",
     "output_type": "stream",
     "text": [
      "              precision    recall  f1-score   support\n",
      "\n",
      "           0       0.76      0.74      0.75        39\n",
      "           1       0.44      0.47      0.46        17\n",
      "\n",
      "    accuracy                           0.66        56\n",
      "   macro avg       0.60      0.61      0.61        56\n",
      "weighted avg       0.67      0.66      0.66        56\n",
      "\n",
      "0.6607142857142857\n",
      "[[29 10]\n",
      " [ 9  8]]\n"
     ]
    }
   ],
   "source": [
    "true_per=[] #true percentage\n",
    "out_per=[] #predicted percentage\n",
    "true_output=[]\n",
    "pred_output=[]\n",
    "true_count=[] #true count\n",
    "count=[] #predicted count\n",
    "\n",
    "for i in range (0,len(result)):\n",
    "    test=df_test[df_test['subject'].isin(result[i])] \n",
    "    X_test=test[test.columns.intersection(feature_list)]\n",
    "    X_test=n.normalize_test(X_test)\n",
    "    Y_test=test['Group']\n",
    "\n",
    "    Y_predict=SVM_model.predict(X_test)\n",
    "    \n",
    "    per_pred_dp=np.sum(Y_predict==1)/Y_predict.shape[0]*100\n",
    "    count_pred_dp=np.sum(Y_predict==1)\n",
    "    count.append(count_pred_dp)\n",
    "    \n",
    "    \n",
    "    if per_pred_dp>50:\n",
    "        y_=1\n",
    "    else:\n",
    "        y_=0\n",
    "    \n",
    "    y=mode(Y_test)\n",
    "    per=np.sum(Y_test==1)/Y_test.shape[0]*100\n",
    "    count_true_dp=np.sum(Y_test==1)\n",
    "    true_count.append(count_true_dp)\n",
    "    \n",
    "    \n",
    "    true_per.append(per)\n",
    "    out_per.append(per_pred_dp)\n",
    "    true_output.append(y)\n",
    "    pred_output.append(y_)\n",
    "    \n",
    "print(classification_report(true_output,pred_output))\n",
    "print(metrics.accuracy_score(true_output,pred_output))\n",
    "    \n",
    "print(confusion_matrix(true_output,pred_output))    "
   ]
  },
  {
   "cell_type": "code",
   "execution_count": 118,
   "id": "adf4e678",
   "metadata": {},
   "outputs": [],
   "source": [
    "df_pred=pd.DataFrame({'percentage of depression':out_per,'label':pred_output,'true_label':true_output})"
   ]
  },
  {
   "cell_type": "code",
   "execution_count": 119,
   "id": "24fc4e10",
   "metadata": {},
   "outputs": [
    {
     "data": {
      "text/html": [
       "<div>\n",
       "<style scoped>\n",
       "    .dataframe tbody tr th:only-of-type {\n",
       "        vertical-align: middle;\n",
       "    }\n",
       "\n",
       "    .dataframe tbody tr th {\n",
       "        vertical-align: top;\n",
       "    }\n",
       "\n",
       "    .dataframe thead th {\n",
       "        text-align: right;\n",
       "    }\n",
       "</style>\n",
       "<table border=\"1\" class=\"dataframe\">\n",
       "  <thead>\n",
       "    <tr style=\"text-align: right;\">\n",
       "      <th></th>\n",
       "      <th>percentage of depression</th>\n",
       "      <th>label</th>\n",
       "      <th>true_label</th>\n",
       "    </tr>\n",
       "  </thead>\n",
       "  <tbody>\n",
       "    <tr>\n",
       "      <th>5</th>\n",
       "      <td>95.348837</td>\n",
       "      <td>1</td>\n",
       "      <td>0</td>\n",
       "    </tr>\n",
       "    <tr>\n",
       "      <th>17</th>\n",
       "      <td>92.857143</td>\n",
       "      <td>1</td>\n",
       "      <td>0</td>\n",
       "    </tr>\n",
       "    <tr>\n",
       "      <th>0</th>\n",
       "      <td>78.947368</td>\n",
       "      <td>1</td>\n",
       "      <td>0</td>\n",
       "    </tr>\n",
       "    <tr>\n",
       "      <th>4</th>\n",
       "      <td>75.000000</td>\n",
       "      <td>1</td>\n",
       "      <td>0</td>\n",
       "    </tr>\n",
       "    <tr>\n",
       "      <th>19</th>\n",
       "      <td>75.000000</td>\n",
       "      <td>1</td>\n",
       "      <td>0</td>\n",
       "    </tr>\n",
       "    <tr>\n",
       "      <th>26</th>\n",
       "      <td>71.428571</td>\n",
       "      <td>1</td>\n",
       "      <td>0</td>\n",
       "    </tr>\n",
       "    <tr>\n",
       "      <th>37</th>\n",
       "      <td>70.370370</td>\n",
       "      <td>1</td>\n",
       "      <td>0</td>\n",
       "    </tr>\n",
       "    <tr>\n",
       "      <th>9</th>\n",
       "      <td>68.468468</td>\n",
       "      <td>1</td>\n",
       "      <td>0</td>\n",
       "    </tr>\n",
       "    <tr>\n",
       "      <th>39</th>\n",
       "      <td>66.666667</td>\n",
       "      <td>1</td>\n",
       "      <td>0</td>\n",
       "    </tr>\n",
       "    <tr>\n",
       "      <th>18</th>\n",
       "      <td>52.000000</td>\n",
       "      <td>1</td>\n",
       "      <td>0</td>\n",
       "    </tr>\n",
       "    <tr>\n",
       "      <th>27</th>\n",
       "      <td>47.887324</td>\n",
       "      <td>0</td>\n",
       "      <td>0</td>\n",
       "    </tr>\n",
       "    <tr>\n",
       "      <th>29</th>\n",
       "      <td>47.540984</td>\n",
       "      <td>0</td>\n",
       "      <td>0</td>\n",
       "    </tr>\n",
       "    <tr>\n",
       "      <th>44</th>\n",
       "      <td>46.875000</td>\n",
       "      <td>0</td>\n",
       "      <td>0</td>\n",
       "    </tr>\n",
       "    <tr>\n",
       "      <th>11</th>\n",
       "      <td>45.312500</td>\n",
       "      <td>0</td>\n",
       "      <td>0</td>\n",
       "    </tr>\n",
       "    <tr>\n",
       "      <th>15</th>\n",
       "      <td>41.176471</td>\n",
       "      <td>0</td>\n",
       "      <td>0</td>\n",
       "    </tr>\n",
       "    <tr>\n",
       "      <th>45</th>\n",
       "      <td>40.000000</td>\n",
       "      <td>0</td>\n",
       "      <td>0</td>\n",
       "    </tr>\n",
       "    <tr>\n",
       "      <th>40</th>\n",
       "      <td>39.200000</td>\n",
       "      <td>0</td>\n",
       "      <td>0</td>\n",
       "    </tr>\n",
       "    <tr>\n",
       "      <th>33</th>\n",
       "      <td>38.333333</td>\n",
       "      <td>0</td>\n",
       "      <td>0</td>\n",
       "    </tr>\n",
       "    <tr>\n",
       "      <th>10</th>\n",
       "      <td>37.179487</td>\n",
       "      <td>0</td>\n",
       "      <td>0</td>\n",
       "    </tr>\n",
       "    <tr>\n",
       "      <th>25</th>\n",
       "      <td>36.144578</td>\n",
       "      <td>0</td>\n",
       "      <td>0</td>\n",
       "    </tr>\n",
       "    <tr>\n",
       "      <th>49</th>\n",
       "      <td>34.000000</td>\n",
       "      <td>0</td>\n",
       "      <td>0</td>\n",
       "    </tr>\n",
       "    <tr>\n",
       "      <th>50</th>\n",
       "      <td>32.812500</td>\n",
       "      <td>0</td>\n",
       "      <td>0</td>\n",
       "    </tr>\n",
       "    <tr>\n",
       "      <th>3</th>\n",
       "      <td>31.707317</td>\n",
       "      <td>0</td>\n",
       "      <td>0</td>\n",
       "    </tr>\n",
       "    <tr>\n",
       "      <th>48</th>\n",
       "      <td>31.460674</td>\n",
       "      <td>0</td>\n",
       "      <td>0</td>\n",
       "    </tr>\n",
       "    <tr>\n",
       "      <th>6</th>\n",
       "      <td>31.292517</td>\n",
       "      <td>0</td>\n",
       "      <td>0</td>\n",
       "    </tr>\n",
       "    <tr>\n",
       "      <th>14</th>\n",
       "      <td>28.181818</td>\n",
       "      <td>0</td>\n",
       "      <td>0</td>\n",
       "    </tr>\n",
       "    <tr>\n",
       "      <th>35</th>\n",
       "      <td>25.600000</td>\n",
       "      <td>0</td>\n",
       "      <td>0</td>\n",
       "    </tr>\n",
       "    <tr>\n",
       "      <th>52</th>\n",
       "      <td>23.664122</td>\n",
       "      <td>0</td>\n",
       "      <td>0</td>\n",
       "    </tr>\n",
       "    <tr>\n",
       "      <th>38</th>\n",
       "      <td>23.510972</td>\n",
       "      <td>0</td>\n",
       "      <td>0</td>\n",
       "    </tr>\n",
       "    <tr>\n",
       "      <th>43</th>\n",
       "      <td>21.897810</td>\n",
       "      <td>0</td>\n",
       "      <td>0</td>\n",
       "    </tr>\n",
       "    <tr>\n",
       "      <th>36</th>\n",
       "      <td>21.621622</td>\n",
       "      <td>0</td>\n",
       "      <td>0</td>\n",
       "    </tr>\n",
       "    <tr>\n",
       "      <th>8</th>\n",
       "      <td>18.518519</td>\n",
       "      <td>0</td>\n",
       "      <td>0</td>\n",
       "    </tr>\n",
       "    <tr>\n",
       "      <th>34</th>\n",
       "      <td>18.248175</td>\n",
       "      <td>0</td>\n",
       "      <td>0</td>\n",
       "    </tr>\n",
       "    <tr>\n",
       "      <th>54</th>\n",
       "      <td>16.037736</td>\n",
       "      <td>0</td>\n",
       "      <td>0</td>\n",
       "    </tr>\n",
       "    <tr>\n",
       "      <th>51</th>\n",
       "      <td>12.592593</td>\n",
       "      <td>0</td>\n",
       "      <td>0</td>\n",
       "    </tr>\n",
       "    <tr>\n",
       "      <th>55</th>\n",
       "      <td>10.322581</td>\n",
       "      <td>0</td>\n",
       "      <td>0</td>\n",
       "    </tr>\n",
       "    <tr>\n",
       "      <th>7</th>\n",
       "      <td>9.649123</td>\n",
       "      <td>0</td>\n",
       "      <td>0</td>\n",
       "    </tr>\n",
       "    <tr>\n",
       "      <th>16</th>\n",
       "      <td>8.163265</td>\n",
       "      <td>0</td>\n",
       "      <td>0</td>\n",
       "    </tr>\n",
       "    <tr>\n",
       "      <th>12</th>\n",
       "      <td>6.206897</td>\n",
       "      <td>0</td>\n",
       "      <td>0</td>\n",
       "    </tr>\n",
       "  </tbody>\n",
       "</table>\n",
       "</div>"
      ],
      "text/plain": [
       "    percentage of depression  label  true_label\n",
       "5                  95.348837      1           0\n",
       "17                 92.857143      1           0\n",
       "0                  78.947368      1           0\n",
       "4                  75.000000      1           0\n",
       "19                 75.000000      1           0\n",
       "26                 71.428571      1           0\n",
       "37                 70.370370      1           0\n",
       "9                  68.468468      1           0\n",
       "39                 66.666667      1           0\n",
       "18                 52.000000      1           0\n",
       "27                 47.887324      0           0\n",
       "29                 47.540984      0           0\n",
       "44                 46.875000      0           0\n",
       "11                 45.312500      0           0\n",
       "15                 41.176471      0           0\n",
       "45                 40.000000      0           0\n",
       "40                 39.200000      0           0\n",
       "33                 38.333333      0           0\n",
       "10                 37.179487      0           0\n",
       "25                 36.144578      0           0\n",
       "49                 34.000000      0           0\n",
       "50                 32.812500      0           0\n",
       "3                  31.707317      0           0\n",
       "48                 31.460674      0           0\n",
       "6                  31.292517      0           0\n",
       "14                 28.181818      0           0\n",
       "35                 25.600000      0           0\n",
       "52                 23.664122      0           0\n",
       "38                 23.510972      0           0\n",
       "43                 21.897810      0           0\n",
       "36                 21.621622      0           0\n",
       "8                  18.518519      0           0\n",
       "34                 18.248175      0           0\n",
       "54                 16.037736      0           0\n",
       "51                 12.592593      0           0\n",
       "55                 10.322581      0           0\n",
       "7                   9.649123      0           0\n",
       "16                  8.163265      0           0\n",
       "12                  6.206897      0           0"
      ]
     },
     "execution_count": 119,
     "metadata": {},
     "output_type": "execute_result"
    }
   ],
   "source": [
    "df_pred_hc=df_pred.loc[df_pred['true_label']==0]\n",
    "df_pred_hc.sort_values(by=['percentage of depression'],ascending=False)"
   ]
  },
  {
   "cell_type": "code",
   "execution_count": 120,
   "id": "2399e7ad",
   "metadata": {},
   "outputs": [
    {
     "data": {
      "text/plain": [
       "(39, 3)"
      ]
     },
     "execution_count": 120,
     "metadata": {},
     "output_type": "execute_result"
    }
   ],
   "source": [
    "df_pred_hc.shape"
   ]
  },
  {
   "cell_type": "code",
   "execution_count": 121,
   "id": "af8ac46f",
   "metadata": {},
   "outputs": [
    {
     "data": {
      "text/plain": [
       "<AxesSubplot: xlabel='percentage of depression', ylabel='true_label'>"
      ]
     },
     "execution_count": 121,
     "metadata": {},
     "output_type": "execute_result"
    },
    {
     "data": {
      "image/png": "[encoded data removed]",
      "text/plain": [
       "<Figure size 640x480 with 1 Axes>"
      ]
     },
     "metadata": {},
     "output_type": "display_data"
    }
   ],
   "source": [
    "import seaborn as sns\n",
    "\n",
    "sns.scatterplot(x='percentage of depression',y='true_label',data=df_pred,s=60,hue='true_label',palette=['green','red'])"
   ]
  },
  {
   "cell_type": "markdown",
   "id": "c4d2ba6f",
   "metadata": {},
   "source": [
    "-------------------- REFERENCE --------------------"
   ]
  },
  {
   "cell_type": "code",
   "execution_count": 122,
   "id": "e64f0942",
   "metadata": {},
   "outputs": [
    {
     "data": {
      "text/plain": [
       "72"
      ]
     },
     "execution_count": 122,
     "metadata": {},
     "output_type": "execute_result"
    }
   ],
   "source": [
    "len(result[24])"
   ]
  },
  {
   "cell_type": "code",
   "execution_count": 123,
   "id": "aaefda9b",
   "metadata": {},
   "outputs": [],
   "source": [
    "test=df_test[df_test['subject'].isin(result[24])] \n",
    "X_test=test[test.columns.intersection(feature_list)]\n",
    "X_test=n.normalize_test(X_test)\n",
    "Y_test=test['Group']\n",
    "Y_predict_SVM=SVM_model.predict(X_test)"
   ]
  },
  {
   "cell_type": "code",
   "execution_count": 124,
   "id": "270811c1",
   "metadata": {},
   "outputs": [
    {
     "data": {
      "text/plain": [
       "(72, 20)"
      ]
     },
     "execution_count": 124,
     "metadata": {},
     "output_type": "execute_result"
    }
   ],
   "source": [
    "X_test.shape"
   ]
  },
  {
   "cell_type": "code",
   "execution_count": 125,
   "id": "77bf539c",
   "metadata": {},
   "outputs": [
    {
     "data": {
      "text/plain": [
       "array([1, 1, 1, 0, 0, 1, 0, 0, 0, 0, 1, 1, 1, 0, 0, 0, 0, 0, 0, 0, 0, 1,\n",
       "       0, 0, 0, 0, 0, 0, 0, 0, 0, 0, 0, 0, 0, 0, 0, 0, 1, 0, 0, 0, 0, 0,\n",
       "       0, 0, 0, 1, 1, 0, 0, 0, 0, 1, 0, 0, 0, 0, 0, 0, 0, 0, 1, 0, 0, 0,\n",
       "       1, 0, 1, 1, 0, 0])"
      ]
     },
     "execution_count": 125,
     "metadata": {},
     "output_type": "execute_result"
    }
   ],
   "source": [
    "(Y_predict_SVM)"
   ]
  },
  {
   "cell_type": "code",
   "execution_count": 126,
   "id": "22d71b45",
   "metadata": {},
   "outputs": [
    {
     "data": {
      "text/plain": [
       "array([1, 1, 1, 1, 1, 1, 1, 1, 1, 1, 1, 1, 1, 1, 1, 1, 1, 1, 1, 1, 1, 1,\n",
       "       1, 1, 1, 1, 1, 1, 1, 1, 1, 1, 1, 1, 1, 1, 1, 1, 1, 1, 1, 1, 1, 1,\n",
       "       1, 1, 1, 1, 1, 1, 1, 1, 1, 1, 1, 1, 1, 1, 1, 1, 1, 1, 1, 1, 1, 1,\n",
       "       1, 1, 1, 1, 1, 1])"
      ]
     },
     "execution_count": 126,
     "metadata": {},
     "output_type": "execute_result"
    }
   ],
   "source": [
    "np.array(Y_test)"
   ]
  }
 ],
 "metadata": {
  "kernelspec": {
   "display_name": "Python 3 (ipykernel)",
   "language": "python",
   "name": "python3"
  },
  "language_info": {
   "codemirror_mode": {
    "name": "ipython",
    "version": 3
   },
   "file_extension": ".py",
   "mimetype": "text/x-python",
   "name": "python",
   "nbconvert_exporter": "python",
   "pygments_lexer": "ipython3",
   "version": "3.10.6"
  }
 },
 "nbformat": 4,
 "nbformat_minor": 5
}
