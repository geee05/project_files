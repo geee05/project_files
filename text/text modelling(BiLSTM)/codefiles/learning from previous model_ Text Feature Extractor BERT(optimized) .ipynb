{
 "cells": [
  {
   "cell_type": "code",
   "execution_count": 1,
   "id": "2f05acf8",
   "metadata": {},
   "outputs": [
    {
     "name": "stderr",
     "output_type": "stream",
     "text": [
      "Some weights of the model checkpoint at bert-base-uncased were not used when initializing BertModel: ['cls.predictions.transform.dense.weight', 'cls.predictions.bias', 'cls.predictions.decoder.weight', 'cls.predictions.transform.dense.bias', 'cls.predictions.transform.LayerNorm.weight', 'cls.seq_relationship.weight', 'cls.seq_relationship.bias', 'cls.predictions.transform.LayerNorm.bias']\n",
      "- This IS expected if you are initializing BertModel from the checkpoint of a model trained on another task or with another architecture (e.g. initializing a BertForSequenceClassification model from a BertForPreTraining model).\n",
      "- This IS NOT expected if you are initializing BertModel from the checkpoint of a model that you expect to be exactly identical (initializing a BertForSequenceClassification model from a BertForSequenceClassification model).\n"
     ]
    },
    {
     "name": "stdout",
     "output_type": "stream",
     "text": [
      "Done data loading\n"
     ]
    }
   ],
   "source": [
    "import torch\n",
    "import torch.nn as nn\n",
    "import torch.optim as optim\n",
    "from torch.utils.data import Dataset, DataLoader\n",
    "from transformers import BertTokenizer, BertModel\n",
    "import pandas as pd\n",
    "import librosa\n",
    "import numpy as np\n",
    "from tqdm import tqdm\n",
    "from sklearn.metrics import classification_report, confusion_matrix\n",
    "import random\n",
    "from sklearn.utils import resample\n",
    "import openl3\n",
    "\n",
    "train=pd.read_csv(\"C:/Users/Administrator/Downloads/DAIC_train_3sp_sampled.csv\")\n",
    "test=pd.read_csv(\"C:/Users/Administrator/Downloads/DAIC_test_3sp.csv\")\n",
    "\n",
    "class TextFeatureExtractor:\n",
    "    def __init__(self):\n",
    "        self.tokenizer = BertTokenizer.from_pretrained('bert-base-uncased')\n",
    "        self.model = BertModel.from_pretrained('bert-base-uncased')\n",
    "        self.device = torch.device('cuda' if torch.cuda.is_available() else 'cpu')\n",
    "\n",
    "    def extract_features(self, texts):\n",
    "        # Tokenize input texts\n",
    "        tokenized_texts = self.tokenizer.batch_encode_plus(\n",
    "            texts,\n",
    "            padding='max_length',\n",
    "            #padding=True,\n",
    "            truncation=True,\n",
    "            max_length=512,\n",
    "            return_tensors='pt'\n",
    "        )\n",
    "\n",
    "        # Move tensors to the appropriate device\n",
    "        input_ids = tokenized_texts['input_ids'].to(self.device)\n",
    "        attention_mask = tokenized_texts['attention_mask'].to(self.device)\n",
    "        #print(input_ids.shape)\n",
    "        # Extract text features from BERT model\n",
    "        #with torch.no_grad():\n",
    "            #outputs = self.model(input_ids, attention_mask=attention_mask)\n",
    "            #print(type(outputs))\n",
    "           #text_features = outputs[0][:, 0, :].cpu().numpy()  # Use the [CLS] token embedding\n",
    "        #print(\"Text feat dim:\"+str(text_features))\n",
    "        return input_ids\n",
    "\n",
    "    \n",
    "class MultimodalDataset(Dataset):\n",
    "        def __init__(self, data_fr, transform_text=None):\n",
    "            self.data_fr = data_fr\n",
    "            self.transform_text = transform_text\n",
    "\n",
    "        def __len__(self):\n",
    "            return len(self.data_fr)\n",
    "\n",
    "        def __getitem__(self, index):\n",
    "        #print(audio_file)\n",
    "            text_p =  self.data_fr.loc[index, \"text\"]\n",
    "            class_id = self.data_fr.loc[index, \"Group\"]\n",
    "        #audio_file = self.audio_files[index]\n",
    "        #text = self.texts[index]\n",
    "\n",
    "\n",
    "        # Extract text features\n",
    "            text_features = self.transform_text.extract_features([text_p])[0]\n",
    "\n",
    "            return text_features, class_id\n",
    "\n",
    "    \n",
    "    \n",
    "batch_size = 32\n",
    "\n",
    "# Initialize feature extractor\n",
    "\n",
    "text_feature_extractor = TextFeatureExtractor()\n",
    "# Create dataset\n",
    "dataset_tr = MultimodalDataset(train, transform_text=text_feature_extractor)\n",
    "dataset_ts = MultimodalDataset(test, transform_text=text_feature_extractor)\n",
    "\n",
    "# Create dataloader\n",
    "tr_dataloader = DataLoader(dataset_tr, batch_size=batch_size, shuffle=True)\n",
    "ts_dataloader = DataLoader(dataset_ts, batch_size=batch_size, shuffle=True)\n",
    "\n",
    "print(\"Done data loading\")\n"
   ]
  },
  {
   "cell_type": "code",
   "execution_count": 5,
   "id": "55899239",
   "metadata": {},
   "outputs": [
    {
     "name": "stdout",
     "output_type": "stream",
     "text": [
      "cpu\n",
      "[INFO] Epoch: 1\n"
     ]
    },
    {
     "name": "stderr",
     "output_type": "stream",
     "text": [
      "100%|████████████████████████████████████████████████████████████████████████████████| 321/321 [00:41<00:00,  7.80it/s]\n",
      "100%|██████████████████████████████████████████████████████████████████████████████████| 60/60 [00:06<00:00,  9.69it/s]\n"
     ]
    },
    {
     "name": "stdout",
     "output_type": "stream",
     "text": [
      "              precision    recall  f1-score   support\n",
      "\n",
      "           0       0.71      0.78      0.74      1349\n",
      "           1       0.31      0.24      0.27       565\n",
      "\n",
      "    accuracy                           0.62      1914\n",
      "   macro avg       0.51      0.51      0.51      1914\n",
      "weighted avg       0.59      0.62      0.60      1914\n",
      "\n",
      "Train loss: 0.6964, Train accuracy:  0.5279\n",
      "Validation loss: 0.6676, Validation accuracy:  0.6186\n",
      "[INFO] Epoch: 2\n"
     ]
    },
    {
     "name": "stderr",
     "output_type": "stream",
     "text": [
      "100%|████████████████████████████████████████████████████████████████████████████████| 321/321 [00:38<00:00,  8.42it/s]\n",
      "100%|██████████████████████████████████████████████████████████████████████████████████| 60/60 [00:05<00:00, 10.46it/s]\n"
     ]
    },
    {
     "name": "stdout",
     "output_type": "stream",
     "text": [
      "              precision    recall  f1-score   support\n",
      "\n",
      "           0       0.71      0.64      0.67      1349\n",
      "           1       0.31      0.38      0.34       565\n",
      "\n",
      "    accuracy                           0.56      1914\n",
      "   macro avg       0.51      0.51      0.51      1914\n",
      "weighted avg       0.59      0.56      0.58      1914\n",
      "\n",
      "Train loss: 0.6948, Train accuracy:  0.5225\n",
      "Validation loss: 0.6813, Validation accuracy:  0.5643\n",
      "[INFO] Epoch: 3\n"
     ]
    },
    {
     "name": "stderr",
     "output_type": "stream",
     "text": [
      "100%|████████████████████████████████████████████████████████████████████████████████| 321/321 [00:44<00:00,  7.28it/s]\n",
      "100%|██████████████████████████████████████████████████████████████████████████████████| 60/60 [00:06<00:00,  9.48it/s]\n"
     ]
    },
    {
     "name": "stdout",
     "output_type": "stream",
     "text": [
      "              precision    recall  f1-score   support\n",
      "\n",
      "           0       0.71      1.00      0.83      1349\n",
      "           1       1.00      0.00      0.00       565\n",
      "\n",
      "    accuracy                           0.71      1914\n",
      "   macro avg       0.85      0.50      0.42      1914\n",
      "weighted avg       0.79      0.71      0.58      1914\n",
      "\n",
      "Train loss: 0.6921, Train accuracy:  0.5253\n",
      "Validation loss: 0.6249, Validation accuracy:  0.7053\n",
      "[INFO] Epoch: 4\n"
     ]
    },
    {
     "name": "stderr",
     "output_type": "stream",
     "text": [
      "100%|████████████████████████████████████████████████████████████████████████████████| 321/321 [01:15<00:00,  4.27it/s]\n",
      "100%|██████████████████████████████████████████████████████████████████████████████████| 60/60 [00:12<00:00,  4.94it/s]\n"
     ]
    },
    {
     "name": "stdout",
     "output_type": "stream",
     "text": [
      "              precision    recall  f1-score   support\n",
      "\n",
      "           0       0.64      0.03      0.06      1349\n",
      "           1       0.29      0.96      0.45       565\n",
      "\n",
      "    accuracy                           0.30      1914\n",
      "   macro avg       0.47      0.49      0.25      1914\n",
      "weighted avg       0.54      0.30      0.17      1914\n",
      "\n",
      "Train loss: 0.6935, Train accuracy:  0.5268\n",
      "Validation loss: 0.7776, Validation accuracy:  0.3046\n",
      "[INFO] Epoch: 5\n"
     ]
    },
    {
     "name": "stderr",
     "output_type": "stream",
     "text": [
      "100%|████████████████████████████████████████████████████████████████████████████████| 321/321 [01:12<00:00,  4.40it/s]\n",
      "100%|██████████████████████████████████████████████████████████████████████████████████| 60/60 [00:11<00:00,  5.35it/s]\n"
     ]
    },
    {
     "name": "stdout",
     "output_type": "stream",
     "text": [
      "              precision    recall  f1-score   support\n",
      "\n",
      "           0       0.71      0.95      0.81      1349\n",
      "           1       0.40      0.07      0.12       565\n",
      "\n",
      "    accuracy                           0.69      1914\n",
      "   macro avg       0.55      0.51      0.47      1914\n",
      "weighted avg       0.62      0.69      0.61      1914\n",
      "\n",
      "Train loss: 0.6940, Train accuracy:  0.5194\n",
      "Validation loss: 0.6499, Validation accuracy:  0.6938\n",
      "[INFO] Epoch: 6\n"
     ]
    },
    {
     "name": "stderr",
     "output_type": "stream",
     "text": [
      "100%|████████████████████████████████████████████████████████████████████████████████| 321/321 [01:14<00:00,  4.29it/s]\n",
      "100%|██████████████████████████████████████████████████████████████████████████████████| 60/60 [00:11<00:00,  5.14it/s]\n"
     ]
    },
    {
     "name": "stdout",
     "output_type": "stream",
     "text": [
      "              precision    recall  f1-score   support\n",
      "\n",
      "           0       0.71      1.00      0.83      1349\n",
      "           1       1.00      0.00      0.00       565\n",
      "\n",
      "    accuracy                           0.71      1914\n",
      "   macro avg       0.85      0.50      0.42      1914\n",
      "weighted avg       0.79      0.71      0.58      1914\n",
      "\n",
      "Train loss: 0.6953, Train accuracy:  0.5217\n",
      "Validation loss: 0.6311, Validation accuracy:  0.7053\n",
      "[INFO] Epoch: 7\n"
     ]
    },
    {
     "name": "stderr",
     "output_type": "stream",
     "text": [
      "100%|████████████████████████████████████████████████████████████████████████████████| 321/321 [01:14<00:00,  4.34it/s]\n",
      "100%|██████████████████████████████████████████████████████████████████████████████████| 60/60 [00:09<00:00,  6.12it/s]\n"
     ]
    },
    {
     "name": "stdout",
     "output_type": "stream",
     "text": [
      "              precision    recall  f1-score   support\n",
      "\n",
      "           0       0.71      1.00      0.83      1349\n",
      "           1       1.00      0.00      0.00       565\n",
      "\n",
      "    accuracy                           0.71      1914\n",
      "   macro avg       0.85      0.50      0.42      1914\n",
      "weighted avg       0.79      0.71      0.58      1914\n",
      "\n",
      "Train loss: 0.6934, Train accuracy:  0.5154\n",
      "Validation loss: 0.6164, Validation accuracy:  0.7053\n",
      "[INFO] Epoch: 8\n"
     ]
    },
    {
     "name": "stderr",
     "output_type": "stream",
     "text": [
      "100%|████████████████████████████████████████████████████████████████████████████████| 321/321 [01:10<00:00,  4.58it/s]\n",
      "100%|██████████████████████████████████████████████████████████████████████████████████| 60/60 [00:09<00:00,  6.38it/s]\n"
     ]
    },
    {
     "name": "stdout",
     "output_type": "stream",
     "text": [
      "              precision    recall  f1-score   support\n",
      "\n",
      "           0       0.69      0.09      0.16      1349\n",
      "           1       0.29      0.90      0.44       565\n",
      "\n",
      "    accuracy                           0.33      1914\n",
      "   macro avg       0.49      0.50      0.30      1914\n",
      "weighted avg       0.57      0.33      0.24      1914\n",
      "\n",
      "Train loss: 0.6999, Train accuracy:  0.5218\n",
      "Validation loss: 0.7113, Validation accuracy:  0.3292\n",
      "[INFO] Epoch: 9\n"
     ]
    },
    {
     "name": "stderr",
     "output_type": "stream",
     "text": [
      "100%|████████████████████████████████████████████████████████████████████████████████| 321/321 [00:59<00:00,  5.41it/s]\n",
      "100%|██████████████████████████████████████████████████████████████████████████████████| 60/60 [00:07<00:00,  7.92it/s]\n"
     ]
    },
    {
     "name": "stdout",
     "output_type": "stream",
     "text": [
      "              precision    recall  f1-score   support\n",
      "\n",
      "           0       0.65      0.08      0.15      1349\n",
      "           1       0.29      0.89      0.44       565\n",
      "\n",
      "    accuracy                           0.32      1914\n",
      "   macro avg       0.47      0.49      0.29      1914\n",
      "weighted avg       0.54      0.32      0.23      1914\n",
      "\n",
      "Train loss: 0.6919, Train accuracy:  0.5192\n",
      "Validation loss: 0.7135, Validation accuracy:  0.3224\n",
      "[INFO] Epoch: 10\n"
     ]
    },
    {
     "name": "stderr",
     "output_type": "stream",
     "text": [
      "100%|████████████████████████████████████████████████████████████████████████████████| 321/321 [00:49<00:00,  6.44it/s]\n",
      "100%|██████████████████████████████████████████████████████████████████████████████████| 60/60 [00:07<00:00,  8.15it/s]\n"
     ]
    },
    {
     "name": "stdout",
     "output_type": "stream",
     "text": [
      "              precision    recall  f1-score   support\n",
      "\n",
      "           0       0.65      0.07      0.13      1349\n",
      "           1       0.29      0.91      0.44       565\n",
      "\n",
      "    accuracy                           0.32      1914\n",
      "   macro avg       0.47      0.49      0.28      1914\n",
      "weighted avg       0.55      0.32      0.22      1914\n",
      "\n",
      "Train loss: 0.6925, Train accuracy:  0.5263\n",
      "Validation loss: 0.7210, Validation accuracy:  0.3182\n",
      "[INFO] Epoch: 11\n"
     ]
    },
    {
     "name": "stderr",
     "output_type": "stream",
     "text": [
      "100%|████████████████████████████████████████████████████████████████████████████████| 321/321 [00:50<00:00,  6.32it/s]\n",
      "100%|██████████████████████████████████████████████████████████████████████████████████| 60/60 [00:07<00:00,  8.01it/s]\n"
     ]
    },
    {
     "name": "stdout",
     "output_type": "stream",
     "text": [
      "              precision    recall  f1-score   support\n",
      "\n",
      "           0       0.70      0.97      0.82      1349\n",
      "           1       0.29      0.03      0.06       565\n",
      "\n",
      "    accuracy                           0.69      1914\n",
      "   macro avg       0.50      0.50      0.44      1914\n",
      "weighted avg       0.58      0.69      0.59      1914\n",
      "\n",
      "Train loss: 0.6928, Train accuracy:  0.5140\n",
      "Validation loss: 0.6613, Validation accuracy:  0.6912\n",
      "[INFO] Epoch: 12\n"
     ]
    },
    {
     "name": "stderr",
     "output_type": "stream",
     "text": [
      "100%|████████████████████████████████████████████████████████████████████████████████| 321/321 [00:48<00:00,  6.63it/s]\n",
      "100%|██████████████████████████████████████████████████████████████████████████████████| 60/60 [00:07<00:00,  8.29it/s]\n"
     ]
    },
    {
     "name": "stdout",
     "output_type": "stream",
     "text": [
      "              precision    recall  f1-score   support\n",
      "\n",
      "           0       0.72      0.54      0.62      1349\n",
      "           1       0.32      0.50      0.39       565\n",
      "\n",
      "    accuracy                           0.53      1914\n",
      "   macro avg       0.52      0.52      0.51      1914\n",
      "weighted avg       0.60      0.53      0.55      1914\n",
      "\n",
      "Train loss: 0.6931, Train accuracy:  0.5223\n",
      "Validation loss: 0.7004, Validation accuracy:  0.5329\n",
      "[INFO] Epoch: 13\n"
     ]
    },
    {
     "name": "stderr",
     "output_type": "stream",
     "text": [
      "100%|████████████████████████████████████████████████████████████████████████████████| 321/321 [00:48<00:00,  6.55it/s]\n",
      "100%|██████████████████████████████████████████████████████████████████████████████████| 60/60 [00:07<00:00,  8.02it/s]\n"
     ]
    },
    {
     "name": "stdout",
     "output_type": "stream",
     "text": [
      "              precision    recall  f1-score   support\n",
      "\n",
      "           0       0.66      0.07      0.12      1349\n",
      "           1       0.29      0.92      0.44       565\n",
      "\n",
      "    accuracy                           0.32      1914\n",
      "   macro avg       0.48      0.49      0.28      1914\n",
      "weighted avg       0.55      0.32      0.22      1914\n",
      "\n",
      "Train loss: 0.6902, Train accuracy:  0.5182\n",
      "Validation loss: 0.7414, Validation accuracy:  0.3182\n",
      "[INFO] Epoch: 14\n"
     ]
    },
    {
     "name": "stderr",
     "output_type": "stream",
     "text": [
      "100%|████████████████████████████████████████████████████████████████████████████████| 321/321 [01:01<00:00,  5.25it/s]\n",
      "100%|██████████████████████████████████████████████████████████████████████████████████| 60/60 [00:08<00:00,  7.48it/s]\n"
     ]
    },
    {
     "name": "stdout",
     "output_type": "stream",
     "text": [
      "              precision    recall  f1-score   support\n",
      "\n",
      "           0       0.73      0.57      0.64      1349\n",
      "           1       0.32      0.49      0.39       565\n",
      "\n",
      "    accuracy                           0.55      1914\n",
      "   macro avg       0.53      0.53      0.51      1914\n",
      "weighted avg       0.61      0.55      0.56      1914\n",
      "\n",
      "Train loss: 0.6944, Train accuracy:  0.5185\n",
      "Validation loss: 0.6951, Validation accuracy:  0.5455\n",
      "[INFO] Epoch: 15\n"
     ]
    },
    {
     "name": "stderr",
     "output_type": "stream",
     "text": [
      "100%|████████████████████████████████████████████████████████████████████████████████| 321/321 [00:51<00:00,  6.24it/s]\n",
      "100%|██████████████████████████████████████████████████████████████████████████████████| 60/60 [00:08<00:00,  6.95it/s]\n"
     ]
    },
    {
     "name": "stdout",
     "output_type": "stream",
     "text": [
      "              precision    recall  f1-score   support\n",
      "\n",
      "           0       0.73      0.57      0.64      1349\n",
      "           1       0.32      0.48      0.39       565\n",
      "\n",
      "    accuracy                           0.55      1914\n",
      "   macro avg       0.52      0.53      0.51      1914\n",
      "weighted avg       0.61      0.55      0.57      1914\n",
      "\n",
      "Train loss: 0.6934, Train accuracy:  0.5227\n",
      "Validation loss: 0.6999, Validation accuracy:  0.5465\n",
      "[INFO] Epoch: 16\n"
     ]
    },
    {
     "name": "stderr",
     "output_type": "stream",
     "text": [
      "100%|████████████████████████████████████████████████████████████████████████████████| 321/321 [00:54<00:00,  5.93it/s]\n",
      "100%|██████████████████████████████████████████████████████████████████████████████████| 60/60 [00:08<00:00,  6.94it/s]\n"
     ]
    },
    {
     "name": "stdout",
     "output_type": "stream",
     "text": [
      "              precision    recall  f1-score   support\n",
      "\n",
      "           0       0.70      0.97      0.82      1349\n",
      "           1       0.25      0.02      0.04       565\n",
      "\n",
      "    accuracy                           0.69      1914\n",
      "   macro avg       0.48      0.50      0.43      1914\n",
      "weighted avg       0.57      0.69      0.59      1914\n",
      "\n",
      "Train loss: 0.6919, Train accuracy:  0.5195\n",
      "Validation loss: 0.6658, Validation accuracy:  0.6912\n",
      "[INFO] Epoch: 17\n"
     ]
    },
    {
     "name": "stderr",
     "output_type": "stream",
     "text": [
      "100%|████████████████████████████████████████████████████████████████████████████████| 321/321 [00:54<00:00,  5.86it/s]\n",
      "100%|██████████████████████████████████████████████████████████████████████████████████| 60/60 [00:08<00:00,  7.02it/s]\n"
     ]
    },
    {
     "name": "stdout",
     "output_type": "stream",
     "text": [
      "              precision    recall  f1-score   support\n",
      "\n",
      "           0       0.71      0.23      0.35      1349\n",
      "           1       0.30      0.77      0.43       565\n",
      "\n",
      "    accuracy                           0.39      1914\n",
      "   macro avg       0.50      0.50      0.39      1914\n",
      "weighted avg       0.58      0.39      0.37      1914\n",
      "\n",
      "Train loss: 0.6882, Train accuracy:  0.5284\n",
      "Validation loss: 0.7112, Validation accuracy:  0.3903\n",
      "[INFO] Epoch: 18\n"
     ]
    },
    {
     "name": "stderr",
     "output_type": "stream",
     "text": [
      "100%|████████████████████████████████████████████████████████████████████████████████| 321/321 [01:03<00:00,  5.04it/s]\n",
      "100%|██████████████████████████████████████████████████████████████████████████████████| 60/60 [00:09<00:00,  6.02it/s]\n"
     ]
    },
    {
     "name": "stdout",
     "output_type": "stream",
     "text": [
      "              precision    recall  f1-score   support\n",
      "\n",
      "           0       0.66      0.06      0.12      1349\n",
      "           1       0.29      0.92      0.44       565\n",
      "\n",
      "    accuracy                           0.32      1914\n",
      "   macro avg       0.48      0.49      0.28      1914\n",
      "weighted avg       0.55      0.32      0.21      1914\n",
      "\n",
      "Train loss: 0.6894, Train accuracy:  0.5286\n",
      "Validation loss: 0.7455, Validation accuracy:  0.3171\n",
      "[INFO] Epoch: 19\n"
     ]
    },
    {
     "name": "stderr",
     "output_type": "stream",
     "text": [
      "100%|████████████████████████████████████████████████████████████████████████████████| 321/321 [00:59<00:00,  5.41it/s]\n",
      "100%|██████████████████████████████████████████████████████████████████████████████████| 60/60 [00:10<00:00,  5.95it/s]\n"
     ]
    },
    {
     "name": "stdout",
     "output_type": "stream",
     "text": [
      "              precision    recall  f1-score   support\n",
      "\n",
      "           0       0.65      0.07      0.13      1349\n",
      "           1       0.29      0.90      0.44       565\n",
      "\n",
      "    accuracy                           0.32      1914\n",
      "   macro avg       0.47      0.49      0.29      1914\n",
      "weighted avg       0.54      0.32      0.22      1914\n",
      "\n",
      "Train loss: 0.6935, Train accuracy:  0.5235\n",
      "Validation loss: 0.7226, Validation accuracy:  0.3192\n",
      "[INFO] Epoch: 20\n"
     ]
    },
    {
     "name": "stderr",
     "output_type": "stream",
     "text": [
      "100%|████████████████████████████████████████████████████████████████████████████████| 321/321 [01:01<00:00,  5.25it/s]\n",
      "100%|██████████████████████████████████████████████████████████████████████████████████| 60/60 [00:09<00:00,  6.60it/s]\n"
     ]
    },
    {
     "name": "stdout",
     "output_type": "stream",
     "text": [
      "              precision    recall  f1-score   support\n",
      "\n",
      "           0       0.71      0.98      0.82      1349\n",
      "           1       0.33      0.02      0.05       565\n",
      "\n",
      "    accuracy                           0.70      1914\n",
      "   macro avg       0.52      0.50      0.43      1914\n",
      "weighted avg       0.60      0.70      0.59      1914\n",
      "\n",
      "Train loss: 0.6923, Train accuracy:  0.5244\n",
      "Validation loss: 0.6572, Validation accuracy:  0.6975\n",
      "[INFO] Epoch: 21\n"
     ]
    },
    {
     "name": "stderr",
     "output_type": "stream",
     "text": [
      "100%|████████████████████████████████████████████████████████████████████████████████| 321/321 [00:57<00:00,  5.54it/s]\n",
      "100%|██████████████████████████████████████████████████████████████████████████████████| 60/60 [00:08<00:00,  7.15it/s]\n"
     ]
    },
    {
     "name": "stdout",
     "output_type": "stream",
     "text": [
      "              precision    recall  f1-score   support\n",
      "\n",
      "           0       0.67      0.07      0.12      1349\n",
      "           1       0.29      0.92      0.44       565\n",
      "\n",
      "    accuracy                           0.32      1914\n",
      "   macro avg       0.48      0.49      0.28      1914\n",
      "weighted avg       0.56      0.32      0.21      1914\n",
      "\n",
      "Train loss: 0.6954, Train accuracy:  0.5193\n",
      "Validation loss: 0.7567, Validation accuracy:  0.3182\n",
      "[INFO] Epoch: 22\n"
     ]
    },
    {
     "name": "stderr",
     "output_type": "stream",
     "text": [
      "100%|████████████████████████████████████████████████████████████████████████████████| 321/321 [01:00<00:00,  5.27it/s]\n",
      "100%|██████████████████████████████████████████████████████████████████████████████████| 60/60 [00:09<00:00,  6.61it/s]\n"
     ]
    },
    {
     "name": "stdout",
     "output_type": "stream",
     "text": [
      "              precision    recall  f1-score   support\n",
      "\n",
      "           0       0.71      0.94      0.81      1349\n",
      "           1       0.33      0.07      0.12       565\n",
      "\n",
      "    accuracy                           0.68      1914\n",
      "   macro avg       0.52      0.51      0.46      1914\n",
      "weighted avg       0.60      0.68      0.60      1914\n",
      "\n",
      "Train loss: 0.6907, Train accuracy:  0.5255\n",
      "Validation loss: 0.6798, Validation accuracy:  0.6823\n"
     ]
    }
   ],
   "source": [
    "#class LSTMClassifier(nn.Module):\n",
    "    #def __init__(self, input_size, hidden_size, num_classes):\n",
    "        #super(LSTMClassifier, self).__init__()\n",
    "        #self.hidden_size = hidden_size\n",
    "        #self.lstm = nn.LSTM(input_size, hidden_size, batch_first=True, bidirectional=True)\n",
    "        #self.fc = nn.Linear(hidden_size, num_classes)\n",
    "    \n",
    "    #def forward(self, x):\n",
    "        ##print(x.shape)\n",
    "        #x = torch.unsqueeze(x, 1)\n",
    "        ##print(\"After\")\n",
    "        ##print(x.shape)\n",
    "        #_, (h_n, _) = self.lstm(x)\n",
    "        #out = self.fc(h_n[-1])\n",
    "        #return out\n",
    "\n",
    "class AccuracyMetric:\n",
    "    def __init__(self):\n",
    "        self.correct, self.total = None, None\n",
    "        self.reset()\n",
    "\n",
    "    def update(self, y_pred, y_true):\n",
    "        self.correct += torch.sum(y_pred.argmax(-1) == y_true).item()\n",
    "        self.total += y_true.size(0)\n",
    "\n",
    "    def compute(self):\n",
    "        return self.correct / self.total\n",
    "\n",
    "    def reset(self):\n",
    "        self.correct = 0\n",
    "        self.total = 0    \n",
    "\n",
    "# Set the hyperparameters\n",
    "#input_size = embeddings.shape[1]\n",
    "hidden_size = 128\n",
    "num_classes = 2\n",
    "learning_rate = 0.001\n",
    "num_epochs = 10\n",
    "batch_size = 32\n",
    "\n",
    "model = torch.jit.load('model_depression_text_LSTM_best_bert.pt')\n",
    "device = torch.device(\"cuda:6\" if torch.cuda.is_available() else \"cpu\")\n",
    "print(device)\n",
    "\n",
    "model = model.to(device)\n",
    "next(model.parameters()).device\n",
    "\n",
    "criterion = torch.nn.CrossEntropyLoss()\n",
    "optimizer = torch.optim.SGD(model.parameters(), lr=0.01, momentum=0.9)\n",
    "epochs = 22\n",
    "\n",
    "# training loop\n",
    "train_loss_history = []\n",
    "train_accuracy_history = []\n",
    "\n",
    "valid_loss_history = []\n",
    "valid_accuracy_history = []\n",
    "\n",
    "accuracy = AccuracyMetric()\n",
    "best_acc=0\n",
    "\n",
    "\n",
    "\n",
    "\n",
    "#model = torch.jit.load('model_depression_text_LSTM_best_bert.pt')\n",
    "for epoch in range(1, epochs + 1):\n",
    "    \n",
    "    print(f\"[INFO] Epoch: {epoch}\")\n",
    "    model.train()\n",
    "\n",
    "    batch_train_loss = []\n",
    "    batch_valid_loss = []\n",
    "\n",
    "    predicted_label=[]\n",
    "\n",
    "    true_label=[]\n",
    "    \n",
    "    for osfeat, y_batch in tqdm(tr_dataloader):\n",
    "        # perform single training step\n",
    "        #print(X_batch.shape)\n",
    "        #print(osfeat.shape)\n",
    "        model.zero_grad()\n",
    "        #print(\"Before\")\n",
    "        \n",
    "        osfeat, y_batch = osfeat.to(device), y_batch.to(device)\n",
    "        y_predicted = model(osfeat.float())\n",
    "        #print(\"After Model call\")\n",
    "        loss = criterion(y_predicted, y_batch)\n",
    "        loss.backward()\n",
    "        optimizer.step()\n",
    "        \n",
    "        accuracy.update(y_predicted, y_batch)\n",
    "        batch_train_loss.append(loss.item())\n",
    "\n",
    "    mean_epoch_loss_train = np.mean(batch_train_loss)\n",
    "    train_accuracy = accuracy.compute()\n",
    "\n",
    "    train_loss_history.append(mean_epoch_loss_train)\n",
    "    train_accuracy_history.append(train_accuracy)\n",
    "    accuracy.reset()\n",
    "\n",
    "    model.eval()\n",
    "    with torch.no_grad():\n",
    "        for osfeat, y_batch in tqdm(ts_dataloader):\n",
    "            #print(X_batch.shape)\n",
    "            true_label+=list(y_batch.tolist())\n",
    "            osfeat, y_batch = osfeat.to(device), y_batch.to(device)\n",
    "\n",
    "            y_predicted = model(osfeat.float())\n",
    "            #print(y_predicted)\n",
    "            loss_val = criterion(y_predicted, y_batch)\n",
    "            predicted_label+=y_predicted.argmax(-1).tolist()\n",
    "            accuracy.update(y_predicted, y_batch)\n",
    "            batch_valid_loss.append(loss_val.item())\n",
    "\n",
    "    mean_epoch_loss_valid = np.mean(batch_valid_loss)\n",
    "    valid_accuracy = accuracy.compute()\n",
    "\n",
    "    if valid_accuracy > best_acc:\n",
    "        best_acc=valid_accuracy\n",
    "        model_depression_text_LSTM_final = torch.jit.script(model)\n",
    "        model_depression_text_LSTM_final.save('model_depression_text_LSTM_final.pt')\n",
    "        \n",
    "\n",
    "\n",
    "    valid_loss_history.append(mean_epoch_loss_valid)\n",
    "    valid_accuracy_history.append(valid_accuracy)\n",
    "    accuracy.reset()\n",
    "    print(classification_report(true_label, predicted_label))\n",
    "    print(\n",
    "        f\"Train loss: {mean_epoch_loss_train:0.4f}, Train accuracy: {train_accuracy: 0.4f}\"\n",
    "    )\n",
    "    print(\n",
    "        f\"Validation loss: {mean_epoch_loss_valid:0.4f}, Validation accuracy: {valid_accuracy: 0.4f}\"\n",
    "    )\n",
    "\n",
    "\n"
   ]
  }
 ],
 "metadata": {
  "kernelspec": {
   "display_name": "Python 3 (ipykernel)",
   "language": "python",
   "name": "python3"
  },
  "language_info": {
   "codemirror_mode": {
    "name": "ipython",
    "version": 3
   },
   "file_extension": ".py",
   "mimetype": "text/x-python",
   "name": "python",
   "nbconvert_exporter": "python",
   "pygments_lexer": "ipython3",
   "version": "3.9.13"
  }
 },
 "nbformat": 4,
 "nbformat_minor": 5
}
