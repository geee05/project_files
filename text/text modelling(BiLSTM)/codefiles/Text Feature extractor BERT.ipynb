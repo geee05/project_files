{
 "cells": [
  {
   "cell_type": "code",
   "execution_count": 1,
   "id": "9ca0249d",
   "metadata": {},
   "outputs": [
    {
     "name": "stderr",
     "output_type": "stream",
     "text": [
      "Some weights of the model checkpoint at bert-base-uncased were not used when initializing BertModel: ['cls.seq_relationship.weight', 'cls.predictions.bias', 'cls.predictions.transform.dense.weight', 'cls.predictions.transform.dense.bias', 'cls.seq_relationship.bias', 'cls.predictions.decoder.weight', 'cls.predictions.transform.LayerNorm.bias', 'cls.predictions.transform.LayerNorm.weight']\n",
      "- This IS expected if you are initializing BertModel from the checkpoint of a model trained on another task or with another architecture (e.g. initializing a BertForSequenceClassification model from a BertForPreTraining model).\n",
      "- This IS NOT expected if you are initializing BertModel from the checkpoint of a model that you expect to be exactly identical (initializing a BertForSequenceClassification model from a BertForSequenceClassification model).\n"
     ]
    },
    {
     "name": "stdout",
     "output_type": "stream",
     "text": [
      "Done data loading\n"
     ]
    }
   ],
   "source": [
    "import torch\n",
    "import torch.nn as nn\n",
    "import torch.optim as optim\n",
    "from torch.utils.data import Dataset, DataLoader\n",
    "from transformers import BertTokenizer, BertModel\n",
    "import pandas as pd\n",
    "import librosa\n",
    "import numpy as np\n",
    "from tqdm import tqdm\n",
    "from sklearn.metrics import classification_report, confusion_matrix\n",
    "import random\n",
    "from sklearn.utils import resample\n",
    "import openl3\n",
    "\n",
    "train=pd.read_csv(\"C:/Users/Administrator/Downloads/DAIC_train_3sp_sampled.csv\")\n",
    "test=pd.read_csv(\"C:/Users/Administrator/Downloads/DAIC_test_3sp.csv\")\n",
    "torch.manual_seed(101)\n",
    "\n",
    "class TextFeatureExtractor:\n",
    "    def __init__(self):\n",
    "        self.tokenizer = BertTokenizer.from_pretrained('bert-base-uncased')\n",
    "        self.model = BertModel.from_pretrained('bert-base-uncased')\n",
    "        self.device = torch.device('cuda' if torch.cuda.is_available() else 'cpu')\n",
    "\n",
    "    def extract_features(self, texts):\n",
    "        # Tokenize input texts\n",
    "        tokenized_texts = self.tokenizer.batch_encode_plus(\n",
    "            texts,\n",
    "            padding=True,\n",
    "            truncation=True,\n",
    "            max_length=512,\n",
    "            return_tensors='pt'\n",
    "        )\n",
    "\n",
    "        # Move tensors to the appropriate device\n",
    "        input_ids = tokenized_texts['input_ids'].to(self.device)\n",
    "        attention_mask = tokenized_texts['attention_mask'].to(self.device)\n",
    "        #print(input_ids.shape)\n",
    "        # Extract text features from BERT model\n",
    "        with torch.no_grad():\n",
    "            outputs = self.model(input_ids, attention_mask=attention_mask)\n",
    "            #print(type(outputs))\n",
    "            text_features = outputs[0][:, 0, :].cpu().numpy()  # Use the [CLS] token embedding\n",
    "        #print(\"Text feat dim:\"+str(text_features))\n",
    "        return text_features\n",
    "\n",
    "    \n",
    "class MultimodalDataset(Dataset):\n",
    "        def __init__(self, data_fr, transform_text=None):\n",
    "            self.data_fr = data_fr\n",
    "            self.transform_text = transform_text\n",
    "\n",
    "        def __len__(self):\n",
    "            return len(self.data_fr)\n",
    "\n",
    "        def __getitem__(self, index):\n",
    "        #print(audio_file)\n",
    "            text_p =  self.data_fr.loc[index, \"text\"]\n",
    "            class_id = self.data_fr.loc[index, \"Group\"]\n",
    "        #audio_file = self.audio_files[index]\n",
    "        #text = self.texts[index]\n",
    "\n",
    "\n",
    "        # Extract text features\n",
    "            text_features = self.transform_text.extract_features([text_p])[0]\n",
    "\n",
    "            return text_features, class_id\n",
    "\n",
    "    \n",
    "    \n",
    "batch_size = 32\n",
    "\n",
    "# Initialize feature extractor\n",
    "\n",
    "text_feature_extractor = TextFeatureExtractor()\n",
    "# Create dataset\n",
    "dataset_tr = MultimodalDataset(train, transform_text=text_feature_extractor)\n",
    "dataset_ts = MultimodalDataset(test, transform_text=text_feature_extractor)\n",
    "\n",
    "# Create dataloader\n",
    "tr_dataloader = DataLoader(dataset_tr, batch_size=batch_size, shuffle=True)\n",
    "ts_dataloader = DataLoader(dataset_ts, batch_size=batch_size, shuffle=True)\n",
    "\n",
    "print(\"Done data loading\")\n"
   ]
  },
  {
   "cell_type": "code",
   "execution_count": 2,
   "id": "ee5ffe57",
   "metadata": {},
   "outputs": [
    {
     "name": "stdout",
     "output_type": "stream",
     "text": [
      "cpu\n",
      "[INFO] Epoch: 1\n"
     ]
    },
    {
     "name": "stderr",
     "output_type": "stream",
     "text": [
      "100%|██████████████████████████████████████████████████████████████████████████████| 321/321 [1:53:14<00:00, 21.17s/it]\n",
      "100%|██████████████████████████████████████████████████████████████████████████████████| 60/60 [11:08<00:00, 11.14s/it]\n"
     ]
    },
    {
     "name": "stdout",
     "output_type": "stream",
     "text": [
      "              precision    recall  f1-score   support\n",
      "\n",
      "           0       0.76      0.42      0.55      1349\n",
      "           1       0.33      0.68      0.45       565\n",
      "\n",
      "    accuracy                           0.50      1914\n",
      "   macro avg       0.55      0.55      0.50      1914\n",
      "weighted avg       0.64      0.50      0.52      1914\n",
      "\n",
      "Train loss: 0.6836, Train accuracy:  0.5443\n",
      "Validation loss: 0.7037, Validation accuracy:  0.5010\n",
      "[INFO] Epoch: 2\n"
     ]
    },
    {
     "name": "stderr",
     "output_type": "stream",
     "text": [
      "100%|██████████████████████████████████████████████████████████████████████████████| 321/321 [2:43:21<00:00, 30.54s/it]\n",
      "100%|██████████████████████████████████████████████████████████████████████████████████| 60/60 [11:56<00:00, 11.95s/it]\n"
     ]
    },
    {
     "name": "stdout",
     "output_type": "stream",
     "text": [
      "              precision    recall  f1-score   support\n",
      "\n",
      "           0       0.73      0.62      0.67      1349\n",
      "           1       0.33      0.44      0.37       565\n",
      "\n",
      "    accuracy                           0.57      1914\n",
      "   macro avg       0.53      0.53      0.52      1914\n",
      "weighted avg       0.61      0.57      0.58      1914\n",
      "\n",
      "Train loss: 0.6699, Train accuracy:  0.5862\n",
      "Validation loss: 0.6819, Validation accuracy:  0.5674\n",
      "[INFO] Epoch: 3\n"
     ]
    },
    {
     "name": "stderr",
     "output_type": "stream",
     "text": [
      "100%|██████████████████████████████████████████████████████████████████████████████| 321/321 [1:09:44<00:00, 13.03s/it]\n",
      "100%|██████████████████████████████████████████████████████████████████████████████████| 60/60 [11:46<00:00, 11.77s/it]\n"
     ]
    },
    {
     "name": "stdout",
     "output_type": "stream",
     "text": [
      "              precision    recall  f1-score   support\n",
      "\n",
      "           0       0.76      0.33      0.46      1349\n",
      "           1       0.32      0.76      0.45       565\n",
      "\n",
      "    accuracy                           0.45      1914\n",
      "   macro avg       0.54      0.54      0.45      1914\n",
      "weighted avg       0.63      0.45      0.46      1914\n",
      "\n",
      "Train loss: 0.6572, Train accuracy:  0.6032\n",
      "Validation loss: 0.7570, Validation accuracy:  0.4545\n",
      "[INFO] Epoch: 4\n"
     ]
    },
    {
     "name": "stderr",
     "output_type": "stream",
     "text": [
      "100%|██████████████████████████████████████████████████████████████████████████████| 321/321 [1:07:22<00:00, 12.59s/it]\n",
      "100%|██████████████████████████████████████████████████████████████████████████████████| 60/60 [11:33<00:00, 11.56s/it]\n"
     ]
    },
    {
     "name": "stdout",
     "output_type": "stream",
     "text": [
      "              precision    recall  f1-score   support\n",
      "\n",
      "           0       0.75      0.32      0.45      1349\n",
      "           1       0.31      0.74      0.44       565\n",
      "\n",
      "    accuracy                           0.44      1914\n",
      "   macro avg       0.53      0.53      0.44      1914\n",
      "weighted avg       0.62      0.44      0.44      1914\n",
      "\n",
      "Train loss: 0.6518, Train accuracy:  0.6117\n",
      "Validation loss: 0.7764, Validation accuracy:  0.4436\n",
      "[INFO] Epoch: 5\n"
     ]
    },
    {
     "name": "stderr",
     "output_type": "stream",
     "text": [
      "100%|██████████████████████████████████████████████████████████████████████████████| 321/321 [1:12:56<00:00, 13.63s/it]\n",
      "100%|██████████████████████████████████████████████████████████████████████████████████| 60/60 [12:41<00:00, 12.69s/it]\n"
     ]
    },
    {
     "name": "stdout",
     "output_type": "stream",
     "text": [
      "              precision    recall  f1-score   support\n",
      "\n",
      "           0       0.72      0.76      0.74      1349\n",
      "           1       0.34      0.30      0.32       565\n",
      "\n",
      "    accuracy                           0.63      1914\n",
      "   macro avg       0.53      0.53      0.53      1914\n",
      "weighted avg       0.61      0.63      0.62      1914\n",
      "\n",
      "Train loss: 0.6431, Train accuracy:  0.6237\n",
      "Validation loss: 0.6490, Validation accuracy:  0.6254\n",
      "[INFO] Epoch: 6\n"
     ]
    },
    {
     "name": "stderr",
     "output_type": "stream",
     "text": [
      "100%|██████████████████████████████████████████████████████████████████████████████| 321/321 [1:10:35<00:00, 13.19s/it]\n",
      "100%|██████████████████████████████████████████████████████████████████████████████████| 60/60 [12:15<00:00, 12.26s/it]\n"
     ]
    },
    {
     "name": "stdout",
     "output_type": "stream",
     "text": [
      "              precision    recall  f1-score   support\n",
      "\n",
      "           0       0.73      0.51      0.60      1349\n",
      "           1       0.32      0.56      0.41       565\n",
      "\n",
      "    accuracy                           0.53      1914\n",
      "   macro avg       0.53      0.54      0.51      1914\n",
      "weighted avg       0.61      0.53      0.55      1914\n",
      "\n",
      "Train loss: 0.6390, Train accuracy:  0.6277\n",
      "Validation loss: 0.7210, Validation accuracy:  0.5251\n",
      "[INFO] Epoch: 7\n"
     ]
    },
    {
     "name": "stderr",
     "output_type": "stream",
     "text": [
      "100%|██████████████████████████████████████████████████████████████████████████████| 321/321 [1:11:46<00:00, 13.42s/it]\n",
      "100%|██████████████████████████████████████████████████████████████████████████████████| 60/60 [12:14<00:00, 12.24s/it]\n"
     ]
    },
    {
     "name": "stdout",
     "output_type": "stream",
     "text": [
      "              precision    recall  f1-score   support\n",
      "\n",
      "           0       0.72      0.49      0.58      1349\n",
      "           1       0.31      0.56      0.40       565\n",
      "\n",
      "    accuracy                           0.51      1914\n",
      "   macro avg       0.52      0.52      0.49      1914\n",
      "weighted avg       0.60      0.51      0.53      1914\n",
      "\n",
      "Train loss: 0.6265, Train accuracy:  0.6508\n",
      "Validation loss: 0.7329, Validation accuracy:  0.5084\n",
      "[INFO] Epoch: 8\n"
     ]
    },
    {
     "name": "stderr",
     "output_type": "stream",
     "text": [
      "100%|██████████████████████████████████████████████████████████████████████████████| 321/321 [1:13:34<00:00, 13.75s/it]\n",
      "100%|██████████████████████████████████████████████████████████████████████████████████| 60/60 [12:16<00:00, 12.27s/it]\n"
     ]
    },
    {
     "name": "stdout",
     "output_type": "stream",
     "text": [
      "              precision    recall  f1-score   support\n",
      "\n",
      "           0       0.72      0.66      0.69      1349\n",
      "           1       0.33      0.40      0.36       565\n",
      "\n",
      "    accuracy                           0.58      1914\n",
      "   macro avg       0.53      0.53      0.53      1914\n",
      "weighted avg       0.61      0.58      0.59      1914\n",
      "\n",
      "Train loss: 0.6203, Train accuracy:  0.6537\n",
      "Validation loss: 0.6811, Validation accuracy:  0.5810\n",
      "[INFO] Epoch: 9\n"
     ]
    },
    {
     "name": "stderr",
     "output_type": "stream",
     "text": [
      "100%|██████████████████████████████████████████████████████████████████████████████| 321/321 [1:12:33<00:00, 13.56s/it]\n",
      "100%|██████████████████████████████████████████████████████████████████████████████████| 60/60 [12:17<00:00, 12.29s/it]\n"
     ]
    },
    {
     "name": "stdout",
     "output_type": "stream",
     "text": [
      "              precision    recall  f1-score   support\n",
      "\n",
      "           0       0.73      0.27      0.39      1349\n",
      "           1       0.30      0.76      0.43       565\n",
      "\n",
      "    accuracy                           0.41      1914\n",
      "   macro avg       0.52      0.51      0.41      1914\n",
      "weighted avg       0.60      0.41      0.40      1914\n",
      "\n",
      "Train loss: 0.6112, Train accuracy:  0.6648\n",
      "Validation loss: 0.8641, Validation accuracy:  0.4133\n",
      "[INFO] Epoch: 10\n"
     ]
    },
    {
     "name": "stderr",
     "output_type": "stream",
     "text": [
      "100%|██████████████████████████████████████████████████████████████████████████████| 321/321 [1:11:59<00:00, 13.46s/it]\n",
      "100%|██████████████████████████████████████████████████████████████████████████████████| 60/60 [14:07<00:00, 14.13s/it]\n"
     ]
    },
    {
     "name": "stdout",
     "output_type": "stream",
     "text": [
      "              precision    recall  f1-score   support\n",
      "\n",
      "           0       0.71      0.93      0.80      1349\n",
      "           1       0.33      0.09      0.14       565\n",
      "\n",
      "    accuracy                           0.68      1914\n",
      "   macro avg       0.52      0.51      0.47      1914\n",
      "weighted avg       0.60      0.68      0.61      1914\n",
      "\n",
      "Train loss: 0.6018, Train accuracy:  0.6683\n",
      "Validation loss: 0.6588, Validation accuracy:  0.6776\n",
      "[INFO] Epoch: 11\n"
     ]
    },
    {
     "name": "stderr",
     "output_type": "stream",
     "text": [
      "100%|██████████████████████████████████████████████████████████████████████████████| 321/321 [1:11:36<00:00, 13.39s/it]\n",
      "100%|██████████████████████████████████████████████████████████████████████████████████| 60/60 [12:12<00:00, 12.21s/it]\n"
     ]
    },
    {
     "name": "stdout",
     "output_type": "stream",
     "text": [
      "              precision    recall  f1-score   support\n",
      "\n",
      "           0       0.70      0.42      0.52      1349\n",
      "           1       0.29      0.58      0.39       565\n",
      "\n",
      "    accuracy                           0.46      1914\n",
      "   macro avg       0.50      0.50      0.46      1914\n",
      "weighted avg       0.58      0.46      0.48      1914\n",
      "\n",
      "Train loss: 0.5988, Train accuracy:  0.6689\n",
      "Validation loss: 0.8048, Validation accuracy:  0.4650\n",
      "[INFO] Epoch: 12\n"
     ]
    },
    {
     "name": "stderr",
     "output_type": "stream",
     "text": [
      "100%|██████████████████████████████████████████████████████████████████████████████| 321/321 [1:12:53<00:00, 13.63s/it]\n",
      "100%|██████████████████████████████████████████████████████████████████████████████████| 60/60 [12:20<00:00, 12.34s/it]"
     ]
    },
    {
     "name": "stdout",
     "output_type": "stream",
     "text": [
      "              precision    recall  f1-score   support\n",
      "\n",
      "           0       0.72      0.74      0.73      1349\n",
      "           1       0.33      0.31      0.32       565\n",
      "\n",
      "    accuracy                           0.61      1914\n",
      "   macro avg       0.52      0.52      0.52      1914\n",
      "weighted avg       0.60      0.61      0.61      1914\n",
      "\n",
      "Train loss: 0.5798, Train accuracy:  0.6869\n",
      "Validation loss: 0.6756, Validation accuracy:  0.6118\n"
     ]
    },
    {
     "name": "stderr",
     "output_type": "stream",
     "text": [
      "\n"
     ]
    }
   ],
   "source": [
    "class LSTMClassifier(nn.Module):\n",
    "    def __init__(self, input_size, hidden_size, num_classes):\n",
    "        super(LSTMClassifier, self).__init__()\n",
    "        self.hidden_size = hidden_size\n",
    "        self.lstm = nn.LSTM(input_size, hidden_size, batch_first=True, bidirectional=True)\n",
    "        self.fc = nn.Linear(hidden_size, num_classes)\n",
    "    \n",
    "    def forward(self, x):\n",
    "        #print(x.shape)\n",
    "        x = torch.unsqueeze(x, 1)\n",
    "        #print(\"After\")\n",
    "        #print(x.shape)\n",
    "        _, (h_n, _) = self.lstm(x)\n",
    "        out = self.fc(h_n[-1])\n",
    "        return out\n",
    "\n",
    "class AccuracyMetric:\n",
    "    def __init__(self):\n",
    "        self.correct, self.total = None, None\n",
    "        self.reset()\n",
    "\n",
    "    def update(self, y_pred, y_true):\n",
    "        self.correct += torch.sum(y_pred.argmax(-1) == y_true).item()\n",
    "        self.total += y_true.size(0)\n",
    "\n",
    "    def compute(self):\n",
    "        return self.correct / self.total\n",
    "\n",
    "    def reset(self):\n",
    "        self.correct = 0\n",
    "        self.total = 0    \n",
    "\n",
    "# Set the hyperparameters\n",
    "#input_size = embeddings.shape[1]\n",
    "hidden_size = 128\n",
    "num_classes = 2\n",
    "learning_rate = 0.001\n",
    "num_epochs = 10\n",
    "batch_size = 32\n",
    "\n",
    "model = LSTMClassifier(768, hidden_size, num_classes)\n",
    "device = torch.device(\"cuda:6\" if torch.cuda.is_available() else \"cpu\")\n",
    "print(device)\n",
    "\n",
    "model = model.to(device)\n",
    "next(model.parameters()).device\n",
    "\n",
    "criterion = torch.nn.CrossEntropyLoss()\n",
    "optimizer = torch.optim.SGD(model.parameters(), lr=0.01, momentum=0.9)\n",
    "epochs = 12\n",
    "\n",
    "# training loop\n",
    "train_loss_history = []\n",
    "train_accuracy_history = []\n",
    "\n",
    "valid_loss_history = []\n",
    "valid_accuracy_history = []\n",
    "\n",
    "accuracy = AccuracyMetric()\n",
    "best_acc=0\n",
    "\n",
    "for epoch in range(1, epochs + 1):\n",
    "    print(f\"[INFO] Epoch: {epoch}\")\n",
    "    model.train()\n",
    "\n",
    "    batch_train_loss = []\n",
    "    batch_valid_loss = []\n",
    "\n",
    "    predicted_label=[]\n",
    "\n",
    "    true_label=[]\n",
    "    \n",
    "    for osfeat, y_batch in tqdm(tr_dataloader):\n",
    "        # perform single training step\n",
    "        #print(X_batch.shape)\n",
    "        #print(osfeat.shape)\n",
    "        model.zero_grad()\n",
    "        #print(\"Before\")\n",
    "        \n",
    "        osfeat, y_batch = osfeat.to(device), y_batch.to(device)\n",
    "        y_predicted = model(osfeat.float())\n",
    "        #print(\"After Model call\")\n",
    "        loss = criterion(y_predicted, y_batch)\n",
    "        loss.backward()\n",
    "        optimizer.step()\n",
    "        \n",
    "        accuracy.update(y_predicted, y_batch)\n",
    "        batch_train_loss.append(loss.item())\n",
    "\n",
    "    mean_epoch_loss_train = np.mean(batch_train_loss)\n",
    "    train_accuracy = accuracy.compute()\n",
    "\n",
    "    train_loss_history.append(mean_epoch_loss_train)\n",
    "    train_accuracy_history.append(train_accuracy)\n",
    "    accuracy.reset()\n",
    "\n",
    "    model.eval()\n",
    "    with torch.no_grad():\n",
    "        for osfeat, y_batch in tqdm(ts_dataloader):\n",
    "            #print(X_batch.shape)\n",
    "            true_label+=list(y_batch.tolist())\n",
    "            osfeat, y_batch = osfeat.to(device), y_batch.to(device)\n",
    "\n",
    "            y_predicted = model(osfeat.float())\n",
    "            #print(y_predicted)\n",
    "            loss_val = criterion(y_predicted, y_batch)\n",
    "            predicted_label+=y_predicted.argmax(-1).tolist()\n",
    "            accuracy.update(y_predicted, y_batch)\n",
    "            batch_valid_loss.append(loss_val.item())\n",
    "\n",
    "    mean_epoch_loss_valid = np.mean(batch_valid_loss)\n",
    "    valid_accuracy = accuracy.compute()\n",
    "\n",
    "    if valid_accuracy > best_acc:\n",
    "        best_acc=valid_accuracy\n",
    "        model_depression_text_LSTM_best = torch.jit.script(model)\n",
    "        model_depression_text_LSTM_best.save('model_depression_text_LSTM_best.pt')\n",
    "        \n",
    "\n",
    "\n",
    "    valid_loss_history.append(mean_epoch_loss_valid)\n",
    "    valid_accuracy_history.append(valid_accuracy)\n",
    "    accuracy.reset()\n",
    "    print(classification_report(true_label, predicted_label))\n",
    "    print(\n",
    "        f\"Train loss: {mean_epoch_loss_train:0.4f}, Train accuracy: {train_accuracy: 0.4f}\"\n",
    "    )\n",
    "    print(\n",
    "        f\"Validation loss: {mean_epoch_loss_valid:0.4f}, Validation accuracy: {valid_accuracy: 0.4f}\"\n",
    "    )\n"
   ]
  }
 ],
 "metadata": {
  "kernelspec": {
   "display_name": "Python 3 (ipykernel)",
   "language": "python",
   "name": "python3"
  },
  "language_info": {
   "codemirror_mode": {
    "name": "ipython",
    "version": 3
   },
   "file_extension": ".py",
   "mimetype": "text/x-python",
   "name": "python",
   "nbconvert_exporter": "python",
   "pygments_lexer": "ipython3",
   "version": "3.9.13"
  }
 },
 "nbformat": 4,
 "nbformat_minor": 5
}
